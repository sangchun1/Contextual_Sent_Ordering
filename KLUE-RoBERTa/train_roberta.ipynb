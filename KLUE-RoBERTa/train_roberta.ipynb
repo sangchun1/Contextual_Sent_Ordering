{
  "cells": [
    {
      "cell_type": "markdown",
      "metadata": {
        "id": "view-in-github",
        "colab_type": "text"
      },
      "source": [
        "<a href=\"https://colab.research.google.com/github/onewon1234/AI_DL_Project/blob/KLUE-RoBERTa/KLUE-RoBERTa/train.ipynb\" target=\"_parent\"><img src=\"https://colab.research.google.com/assets/colab-badge.svg\" alt=\"Open In Colab\"/></a>"
      ]
    },
    {
      "cell_type": "markdown",
      "metadata": {
        "id": "kJzsQ-0KrxPv"
      },
      "source": [
        "# 1. 데이터 전처리"
      ]
    },
    {
      "cell_type": "code",
      "execution_count": 38,
      "metadata": {
        "id": "y4V9YByVaNe0"
      },
      "outputs": [],
      "source": [
        "import pandas as pd\n",
        "import numpy as np\n",
        "import re\n",
        "from tqdm.auto import tqdm"
      ]
    },
    {
      "cell_type": "code",
      "execution_count": 2,
      "metadata": {
        "id": "Fip9pEz2aNfd"
      },
      "outputs": [],
      "source": [
        "import torch\n",
        "from torch.utils.data import Dataset\n",
        "import torch.nn as nn"
      ]
    },
    {
      "cell_type": "code",
      "execution_count": 3,
      "metadata": {
        "id": "rU1tmEtZqVMn"
      },
      "outputs": [],
      "source": [
        "from sklearn.model_selection import train_test_split\n",
        "from sklearn.metrics import accuracy_score, f1_score, precision_score, recall_score\n",
        "import itertools\n",
        "from itertools import permutations\n",
        "from transformers import (\n",
        "    AutoTokenizer,\n",
        "    AutoModel,\n",
        "    AutoModelForSequenceClassification,\n",
        "    Trainer,\n",
        "    TrainingArguments,\n",
        "    EarlyStoppingCallback\n",
        ")"
      ]
    },
    {
      "cell_type": "code",
      "execution_count": 4,
      "metadata": {
        "colab": {
          "base_uri": "https://localhost:8080/"
        },
        "id": "PNEZAXA_aNgo",
        "outputId": "13ca0602-dd0b-41cf-93c3-ce91ed8a320e"
      },
      "outputs": [
        {
          "output_type": "stream",
          "name": "stdout",
          "text": [
            "True\n"
          ]
        }
      ],
      "source": [
        "print(torch.cuda.is_available())"
      ]
    },
    {
      "cell_type": "code",
      "source": [
        "from google.colab import drive\n",
        "drive.mount('/content/drive')"
      ],
      "metadata": {
        "colab": {
          "base_uri": "https://localhost:8080/"
        },
        "id": "HJ69Z8DCySst",
        "outputId": "e7d70564-26b9-47eb-a7e8-756f827e1701"
      },
      "execution_count": 5,
      "outputs": [
        {
          "output_type": "stream",
          "name": "stdout",
          "text": [
            "Drive already mounted at /content/drive; to attempt to forcibly remount, call drive.mount(\"/content/drive\", force_remount=True).\n"
          ]
        }
      ]
    },
    {
      "cell_type": "code",
      "source": [
        "%cd /content/drive/MyDrive/강의/AI를 위한 딥러닝/AI_DL_Project/code"
      ],
      "metadata": {
        "colab": {
          "base_uri": "https://localhost:8080/"
        },
        "id": "MKnXfIEwydSM",
        "outputId": "ac05a832-4a5d-4daa-bae1-8d96dbc76856"
      },
      "execution_count": 6,
      "outputs": [
        {
          "output_type": "stream",
          "name": "stdout",
          "text": [
            "/content/drive/MyDrive/강의/AI를 위한 딥러닝/AI_DL_Project/code\n"
          ]
        }
      ]
    },
    {
      "cell_type": "code",
      "execution_count": 7,
      "metadata": {
        "id": "10MR7dN_qmEW"
      },
      "outputs": [],
      "source": [
        "# 데이터 로드\n",
        "train = pd.read_csv('../data/train.csv')\n",
        "test = pd.read_csv('../data/test.csv')\n",
        "submission = pd.read_csv('../data/sample_submission.csv')"
      ]
    },
    {
      "cell_type": "code",
      "execution_count": 8,
      "metadata": {
        "colab": {
          "base_uri": "https://localhost:8080/",
          "height": 678
        },
        "id": "_JdzkZintU3w",
        "outputId": "523186d8-6e47-4b69-ecc3-564f3b08f2ba"
      },
      "outputs": [
        {
          "output_type": "stream",
          "name": "stdout",
          "text": [
            "<class 'pandas.core.frame.DataFrame'>\n",
            "RangeIndex: 7351 entries, 0 to 7350\n",
            "Data columns (total 9 columns):\n",
            " #   Column      Non-Null Count  Dtype \n",
            "---  ------      --------------  ----- \n",
            " 0   ID          7351 non-null   object\n",
            " 1   sentence_0  7351 non-null   object\n",
            " 2   sentence_1  7351 non-null   object\n",
            " 3   sentence_2  7351 non-null   object\n",
            " 4   sentence_3  7351 non-null   object\n",
            " 5   answer_0    7351 non-null   int64 \n",
            " 6   answer_1    7351 non-null   int64 \n",
            " 7   answer_2    7351 non-null   int64 \n",
            " 8   answer_3    7351 non-null   int64 \n",
            "dtypes: int64(4), object(5)\n",
            "memory usage: 517.0+ KB\n"
          ]
        },
        {
          "output_type": "execute_result",
          "data": {
            "text/plain": [
              "           ID                                         sentence_0  \\\n",
              "0  TRAIN_0000                 블록체인 기술은 투표 과정의 투명성을 크게 향상시킬 수 있다.   \n",
              "1  TRAIN_0001  줄거리 자동 생성의 인공지능 알고리즘은 대량의 텍스트 데이터를 분석하여 핵심 정보를...   \n",
              "2  TRAIN_0002  마지막으로, 키친타올을 보관할 때는 쉽게 접근할 수 있는 곳에 두어 낭비를 방지하는...   \n",
              "3  TRAIN_0003   책의 페이지가 손상되지 않도록 수직으로 세워 두거나 평평하게 눕혀 보관하는 것이 좋다.   \n",
              "4  TRAIN_0004  인공지능 모델은 반복적인 실험을 통해 지속적으로 학습하며, 이를 통해 발견의 정확성...   \n",
              "\n",
              "                                          sentence_1  \\\n",
              "0  이러한 특성은 유권자들에게 신뢰를 제공하며, 민주적 참여를 촉진하는 데 기여할 수 있다.   \n",
              "1     결과적으로, 이러한 기술은 사용자에게 신속하고 효율적인 정보 전달을 가능하게 한다.   \n",
              "2          재사용 가능한 천이나 스펀지를 활용하면 키친타올의 필요성을 줄일 수 있다.   \n",
              "3      정기적으로 먼지를 털어내고, 곰팡이나 해충의 발생 여부를 점검하는 것이 중요하다.   \n",
              "4  인공지능은 대량의 데이터를 분석하여 숨겨진 패턴과 상관관계를 발견하는 데 강력한 도...   \n",
              "\n",
              "                                          sentence_2  \\\n",
              "0  결과적으로 블록체인 기반의 투표 시스템은 공정하고 신뢰할 수 있는 선거 환경을 조성...   \n",
              "1     생성된 줄거리는 원본 텍스트의 의미를 유지하면서도 간결하게 요약된 형태로 제공된다.   \n",
              "2               물기를 제거할 때는 가볍게 눌러주어 과도한 사용을 피할 수 있다.   \n",
              "3             종이책은 직사광선이 닿지 않는 서늘하고 건조한 장소에 보관해야 한다.   \n",
              "4  결국, 인공지능의 지원은 과학적 발견의 속도와 효율성을 혁신적으로 변화시킬 수 있는...   \n",
              "\n",
              "                                          sentence_3  answer_0  answer_1  \\\n",
              "0       각 투표는 변경 불가능한 기록으로 저장되어 조작의 가능성을 원천적으로 차단한다.         0         3   \n",
              "1  이 알고리즘은 자연어 처리 기술을 활용하여 문맥을 이해하고, 주요 사건과 등장인물을...         0         3   \n",
              "2                 키친타올을 절약하는 첫걸음은 필요한 양만큼만 사용하는 것이다.         3         2   \n",
              "3  필요할 경우, 책을 보호하기 위해 커버를 씌우거나 전용 보관함에 넣는 방법도 고려할...         2         0   \n",
              "4  이러한 분석 결과는 연구자들에게 새로운 가설을 제시하고 실험 설계를 개선하는 데 기...         1         3   \n",
              "\n",
              "   answer_2  answer_3  \n",
              "0         1         2  \n",
              "1         2         1  \n",
              "2         1         0  \n",
              "3         1         3  \n",
              "4         0         2  "
            ],
            "text/html": [
              "\n",
              "  <div id=\"df-28df7b83-6d14-470e-a95f-6191c3551ad9\" class=\"colab-df-container\">\n",
              "    <div>\n",
              "<style scoped>\n",
              "    .dataframe tbody tr th:only-of-type {\n",
              "        vertical-align: middle;\n",
              "    }\n",
              "\n",
              "    .dataframe tbody tr th {\n",
              "        vertical-align: top;\n",
              "    }\n",
              "\n",
              "    .dataframe thead th {\n",
              "        text-align: right;\n",
              "    }\n",
              "</style>\n",
              "<table border=\"1\" class=\"dataframe\">\n",
              "  <thead>\n",
              "    <tr style=\"text-align: right;\">\n",
              "      <th></th>\n",
              "      <th>ID</th>\n",
              "      <th>sentence_0</th>\n",
              "      <th>sentence_1</th>\n",
              "      <th>sentence_2</th>\n",
              "      <th>sentence_3</th>\n",
              "      <th>answer_0</th>\n",
              "      <th>answer_1</th>\n",
              "      <th>answer_2</th>\n",
              "      <th>answer_3</th>\n",
              "    </tr>\n",
              "  </thead>\n",
              "  <tbody>\n",
              "    <tr>\n",
              "      <th>0</th>\n",
              "      <td>TRAIN_0000</td>\n",
              "      <td>블록체인 기술은 투표 과정의 투명성을 크게 향상시킬 수 있다.</td>\n",
              "      <td>이러한 특성은 유권자들에게 신뢰를 제공하며, 민주적 참여를 촉진하는 데 기여할 수 있다.</td>\n",
              "      <td>결과적으로 블록체인 기반의 투표 시스템은 공정하고 신뢰할 수 있는 선거 환경을 조성...</td>\n",
              "      <td>각 투표는 변경 불가능한 기록으로 저장되어 조작의 가능성을 원천적으로 차단한다.</td>\n",
              "      <td>0</td>\n",
              "      <td>3</td>\n",
              "      <td>1</td>\n",
              "      <td>2</td>\n",
              "    </tr>\n",
              "    <tr>\n",
              "      <th>1</th>\n",
              "      <td>TRAIN_0001</td>\n",
              "      <td>줄거리 자동 생성의 인공지능 알고리즘은 대량의 텍스트 데이터를 분석하여 핵심 정보를...</td>\n",
              "      <td>결과적으로, 이러한 기술은 사용자에게 신속하고 효율적인 정보 전달을 가능하게 한다.</td>\n",
              "      <td>생성된 줄거리는 원본 텍스트의 의미를 유지하면서도 간결하게 요약된 형태로 제공된다.</td>\n",
              "      <td>이 알고리즘은 자연어 처리 기술을 활용하여 문맥을 이해하고, 주요 사건과 등장인물을...</td>\n",
              "      <td>0</td>\n",
              "      <td>3</td>\n",
              "      <td>2</td>\n",
              "      <td>1</td>\n",
              "    </tr>\n",
              "    <tr>\n",
              "      <th>2</th>\n",
              "      <td>TRAIN_0002</td>\n",
              "      <td>마지막으로, 키친타올을 보관할 때는 쉽게 접근할 수 있는 곳에 두어 낭비를 방지하는...</td>\n",
              "      <td>재사용 가능한 천이나 스펀지를 활용하면 키친타올의 필요성을 줄일 수 있다.</td>\n",
              "      <td>물기를 제거할 때는 가볍게 눌러주어 과도한 사용을 피할 수 있다.</td>\n",
              "      <td>키친타올을 절약하는 첫걸음은 필요한 양만큼만 사용하는 것이다.</td>\n",
              "      <td>3</td>\n",
              "      <td>2</td>\n",
              "      <td>1</td>\n",
              "      <td>0</td>\n",
              "    </tr>\n",
              "    <tr>\n",
              "      <th>3</th>\n",
              "      <td>TRAIN_0003</td>\n",
              "      <td>책의 페이지가 손상되지 않도록 수직으로 세워 두거나 평평하게 눕혀 보관하는 것이 좋다.</td>\n",
              "      <td>정기적으로 먼지를 털어내고, 곰팡이나 해충의 발생 여부를 점검하는 것이 중요하다.</td>\n",
              "      <td>종이책은 직사광선이 닿지 않는 서늘하고 건조한 장소에 보관해야 한다.</td>\n",
              "      <td>필요할 경우, 책을 보호하기 위해 커버를 씌우거나 전용 보관함에 넣는 방법도 고려할...</td>\n",
              "      <td>2</td>\n",
              "      <td>0</td>\n",
              "      <td>1</td>\n",
              "      <td>3</td>\n",
              "    </tr>\n",
              "    <tr>\n",
              "      <th>4</th>\n",
              "      <td>TRAIN_0004</td>\n",
              "      <td>인공지능 모델은 반복적인 실험을 통해 지속적으로 학습하며, 이를 통해 발견의 정확성...</td>\n",
              "      <td>인공지능은 대량의 데이터를 분석하여 숨겨진 패턴과 상관관계를 발견하는 데 강력한 도...</td>\n",
              "      <td>결국, 인공지능의 지원은 과학적 발견의 속도와 효율성을 혁신적으로 변화시킬 수 있는...</td>\n",
              "      <td>이러한 분석 결과는 연구자들에게 새로운 가설을 제시하고 실험 설계를 개선하는 데 기...</td>\n",
              "      <td>1</td>\n",
              "      <td>3</td>\n",
              "      <td>0</td>\n",
              "      <td>2</td>\n",
              "    </tr>\n",
              "  </tbody>\n",
              "</table>\n",
              "</div>\n",
              "    <div class=\"colab-df-buttons\">\n",
              "\n",
              "  <div class=\"colab-df-container\">\n",
              "    <button class=\"colab-df-convert\" onclick=\"convertToInteractive('df-28df7b83-6d14-470e-a95f-6191c3551ad9')\"\n",
              "            title=\"Convert this dataframe to an interactive table.\"\n",
              "            style=\"display:none;\">\n",
              "\n",
              "  <svg xmlns=\"http://www.w3.org/2000/svg\" height=\"24px\" viewBox=\"0 -960 960 960\">\n",
              "    <path d=\"M120-120v-720h720v720H120Zm60-500h600v-160H180v160Zm220 220h160v-160H400v160Zm0 220h160v-160H400v160ZM180-400h160v-160H180v160Zm440 0h160v-160H620v160ZM180-180h160v-160H180v160Zm440 0h160v-160H620v160Z\"/>\n",
              "  </svg>\n",
              "    </button>\n",
              "\n",
              "  <style>\n",
              "    .colab-df-container {\n",
              "      display:flex;\n",
              "      gap: 12px;\n",
              "    }\n",
              "\n",
              "    .colab-df-convert {\n",
              "      background-color: #E8F0FE;\n",
              "      border: none;\n",
              "      border-radius: 50%;\n",
              "      cursor: pointer;\n",
              "      display: none;\n",
              "      fill: #1967D2;\n",
              "      height: 32px;\n",
              "      padding: 0 0 0 0;\n",
              "      width: 32px;\n",
              "    }\n",
              "\n",
              "    .colab-df-convert:hover {\n",
              "      background-color: #E2EBFA;\n",
              "      box-shadow: 0px 1px 2px rgba(60, 64, 67, 0.3), 0px 1px 3px 1px rgba(60, 64, 67, 0.15);\n",
              "      fill: #174EA6;\n",
              "    }\n",
              "\n",
              "    .colab-df-buttons div {\n",
              "      margin-bottom: 4px;\n",
              "    }\n",
              "\n",
              "    [theme=dark] .colab-df-convert {\n",
              "      background-color: #3B4455;\n",
              "      fill: #D2E3FC;\n",
              "    }\n",
              "\n",
              "    [theme=dark] .colab-df-convert:hover {\n",
              "      background-color: #434B5C;\n",
              "      box-shadow: 0px 1px 3px 1px rgba(0, 0, 0, 0.15);\n",
              "      filter: drop-shadow(0px 1px 2px rgba(0, 0, 0, 0.3));\n",
              "      fill: #FFFFFF;\n",
              "    }\n",
              "  </style>\n",
              "\n",
              "    <script>\n",
              "      const buttonEl =\n",
              "        document.querySelector('#df-28df7b83-6d14-470e-a95f-6191c3551ad9 button.colab-df-convert');\n",
              "      buttonEl.style.display =\n",
              "        google.colab.kernel.accessAllowed ? 'block' : 'none';\n",
              "\n",
              "      async function convertToInteractive(key) {\n",
              "        const element = document.querySelector('#df-28df7b83-6d14-470e-a95f-6191c3551ad9');\n",
              "        const dataTable =\n",
              "          await google.colab.kernel.invokeFunction('convertToInteractive',\n",
              "                                                    [key], {});\n",
              "        if (!dataTable) return;\n",
              "\n",
              "        const docLinkHtml = 'Like what you see? Visit the ' +\n",
              "          '<a target=\"_blank\" href=https://colab.research.google.com/notebooks/data_table.ipynb>data table notebook</a>'\n",
              "          + ' to learn more about interactive tables.';\n",
              "        element.innerHTML = '';\n",
              "        dataTable['output_type'] = 'display_data';\n",
              "        await google.colab.output.renderOutput(dataTable, element);\n",
              "        const docLink = document.createElement('div');\n",
              "        docLink.innerHTML = docLinkHtml;\n",
              "        element.appendChild(docLink);\n",
              "      }\n",
              "    </script>\n",
              "  </div>\n",
              "\n",
              "\n",
              "    <div id=\"df-78e0c740-7113-4d44-a100-b84eabc50f23\">\n",
              "      <button class=\"colab-df-quickchart\" onclick=\"quickchart('df-78e0c740-7113-4d44-a100-b84eabc50f23')\"\n",
              "                title=\"Suggest charts\"\n",
              "                style=\"display:none;\">\n",
              "\n",
              "<svg xmlns=\"http://www.w3.org/2000/svg\" height=\"24px\"viewBox=\"0 0 24 24\"\n",
              "     width=\"24px\">\n",
              "    <g>\n",
              "        <path d=\"M19 3H5c-1.1 0-2 .9-2 2v14c0 1.1.9 2 2 2h14c1.1 0 2-.9 2-2V5c0-1.1-.9-2-2-2zM9 17H7v-7h2v7zm4 0h-2V7h2v10zm4 0h-2v-4h2v4z\"/>\n",
              "    </g>\n",
              "</svg>\n",
              "      </button>\n",
              "\n",
              "<style>\n",
              "  .colab-df-quickchart {\n",
              "      --bg-color: #E8F0FE;\n",
              "      --fill-color: #1967D2;\n",
              "      --hover-bg-color: #E2EBFA;\n",
              "      --hover-fill-color: #174EA6;\n",
              "      --disabled-fill-color: #AAA;\n",
              "      --disabled-bg-color: #DDD;\n",
              "  }\n",
              "\n",
              "  [theme=dark] .colab-df-quickchart {\n",
              "      --bg-color: #3B4455;\n",
              "      --fill-color: #D2E3FC;\n",
              "      --hover-bg-color: #434B5C;\n",
              "      --hover-fill-color: #FFFFFF;\n",
              "      --disabled-bg-color: #3B4455;\n",
              "      --disabled-fill-color: #666;\n",
              "  }\n",
              "\n",
              "  .colab-df-quickchart {\n",
              "    background-color: var(--bg-color);\n",
              "    border: none;\n",
              "    border-radius: 50%;\n",
              "    cursor: pointer;\n",
              "    display: none;\n",
              "    fill: var(--fill-color);\n",
              "    height: 32px;\n",
              "    padding: 0;\n",
              "    width: 32px;\n",
              "  }\n",
              "\n",
              "  .colab-df-quickchart:hover {\n",
              "    background-color: var(--hover-bg-color);\n",
              "    box-shadow: 0 1px 2px rgba(60, 64, 67, 0.3), 0 1px 3px 1px rgba(60, 64, 67, 0.15);\n",
              "    fill: var(--button-hover-fill-color);\n",
              "  }\n",
              "\n",
              "  .colab-df-quickchart-complete:disabled,\n",
              "  .colab-df-quickchart-complete:disabled:hover {\n",
              "    background-color: var(--disabled-bg-color);\n",
              "    fill: var(--disabled-fill-color);\n",
              "    box-shadow: none;\n",
              "  }\n",
              "\n",
              "  .colab-df-spinner {\n",
              "    border: 2px solid var(--fill-color);\n",
              "    border-color: transparent;\n",
              "    border-bottom-color: var(--fill-color);\n",
              "    animation:\n",
              "      spin 1s steps(1) infinite;\n",
              "  }\n",
              "\n",
              "  @keyframes spin {\n",
              "    0% {\n",
              "      border-color: transparent;\n",
              "      border-bottom-color: var(--fill-color);\n",
              "      border-left-color: var(--fill-color);\n",
              "    }\n",
              "    20% {\n",
              "      border-color: transparent;\n",
              "      border-left-color: var(--fill-color);\n",
              "      border-top-color: var(--fill-color);\n",
              "    }\n",
              "    30% {\n",
              "      border-color: transparent;\n",
              "      border-left-color: var(--fill-color);\n",
              "      border-top-color: var(--fill-color);\n",
              "      border-right-color: var(--fill-color);\n",
              "    }\n",
              "    40% {\n",
              "      border-color: transparent;\n",
              "      border-right-color: var(--fill-color);\n",
              "      border-top-color: var(--fill-color);\n",
              "    }\n",
              "    60% {\n",
              "      border-color: transparent;\n",
              "      border-right-color: var(--fill-color);\n",
              "    }\n",
              "    80% {\n",
              "      border-color: transparent;\n",
              "      border-right-color: var(--fill-color);\n",
              "      border-bottom-color: var(--fill-color);\n",
              "    }\n",
              "    90% {\n",
              "      border-color: transparent;\n",
              "      border-bottom-color: var(--fill-color);\n",
              "    }\n",
              "  }\n",
              "</style>\n",
              "\n",
              "      <script>\n",
              "        async function quickchart(key) {\n",
              "          const quickchartButtonEl =\n",
              "            document.querySelector('#' + key + ' button');\n",
              "          quickchartButtonEl.disabled = true;  // To prevent multiple clicks.\n",
              "          quickchartButtonEl.classList.add('colab-df-spinner');\n",
              "          try {\n",
              "            const charts = await google.colab.kernel.invokeFunction(\n",
              "                'suggestCharts', [key], {});\n",
              "          } catch (error) {\n",
              "            console.error('Error during call to suggestCharts:', error);\n",
              "          }\n",
              "          quickchartButtonEl.classList.remove('colab-df-spinner');\n",
              "          quickchartButtonEl.classList.add('colab-df-quickchart-complete');\n",
              "        }\n",
              "        (() => {\n",
              "          let quickchartButtonEl =\n",
              "            document.querySelector('#df-78e0c740-7113-4d44-a100-b84eabc50f23 button');\n",
              "          quickchartButtonEl.style.display =\n",
              "            google.colab.kernel.accessAllowed ? 'block' : 'none';\n",
              "        })();\n",
              "      </script>\n",
              "    </div>\n",
              "\n",
              "    </div>\n",
              "  </div>\n"
            ],
            "application/vnd.google.colaboratory.intrinsic+json": {
              "type": "dataframe",
              "variable_name": "train",
              "summary": "{\n  \"name\": \"train\",\n  \"rows\": 7351,\n  \"fields\": [\n    {\n      \"column\": \"ID\",\n      \"properties\": {\n        \"dtype\": \"string\",\n        \"num_unique_values\": 7351,\n        \"samples\": [\n          \"TRAIN_5955\",\n          \"TRAIN_1446\",\n          \"TRAIN_5994\"\n        ],\n        \"semantic_type\": \"\",\n        \"description\": \"\"\n      }\n    },\n    {\n      \"column\": \"sentence_0\",\n      \"properties\": {\n        \"dtype\": \"string\",\n        \"num_unique_values\": 7324,\n        \"samples\": [\n          \"\\uacb0\\uacfc\\uc801\\uc73c\\ub85c, \\uc804\\ud1b5 \\ubaa9\\uc695 \\uc758\\uc2dd\\uc740 \\uac1c\\uc778\\uc758 \\ub0b4\\uba74\\uc801 \\uc131\\uc7a5\\uacfc \\uc0ac\\ud68c\\uc801 \\uc5f0\\ub300\\uac10\\uc744 \\ub3d9\\uc2dc\\uc5d0 \\ucd09\\uc9c4\\ud558\\ub294 \\uc758\\ubbf8 \\uae4a\\uc740 \\uacfc\\uc815\\uc774\\ub2e4.\",\n          \"\\uacb0\\uacfc\\uc801\\uc73c\\ub85c, PCA\\ub294 \\ub370\\uc774\\ud130\\uc758 \\uc2dc\\uac01\\ud654\\uc640 \\ud574\\uc11d\\uc744 \\uc6a9\\uc774\\ud558\\uac8c \\ud55c\\ub2e4.\",\n          \"\\ud3ec\\uc7a5\\ub41c \\uc0c1\\ud0dc\\ub85c \\ubcf4\\uad00\\ud558\\uba74 \\uc218\\ubd84 \\uc190\\uc2e4\\uc744 \\uc904\\uc77c \\uc218 \\uc788\\ub2e4.\"\n        ],\n        \"semantic_type\": \"\",\n        \"description\": \"\"\n      }\n    },\n    {\n      \"column\": \"sentence_1\",\n      \"properties\": {\n        \"dtype\": \"string\",\n        \"num_unique_values\": 7338,\n        \"samples\": [\n          \"\\uc18c\\ud504\\ud2b8\\uc6e8\\uc5b4 \\uc815\\uc758 \\ub124\\ud2b8\\uc6cc\\ud0b9(SDN)\\uc740 \\ub124\\ud2b8\\uc6cc\\ud06c \\uad00\\ub9ac\\uc758 \\uc720\\uc5f0\\uc131\\uc744 \\uadf9\\ub300\\ud654\\ud558\\ub294 \\ud601\\uc2e0\\uc801\\uc778 \\uc811\\uadfc \\ubc29\\uc2dd\\uc774\\ub2e4.\",\n          \"\\uc774\\ub7ec\\ud55c \\ubc1c\\ud6a8 \\uacfc\\uc815\\uc740 \\uba54\\uc8fc\\uac00 \\ub41c\\uc7a5\\uc73c\\ub85c \\ubcc0\\ubaa8\\ud558\\ub294 \\ub370 \\ud544\\uc218\\uc801\\uc774\\uba70, \\uc774\\ub54c \\ub2e4\\uc591\\ud55c \\ud6a8\\uc18c\\uac00 \\uc0dd\\uc131\\ub41c\\ub2e4.\",\n          \"\\uacb0\\uacfc\\uc801\\uc73c\\ub85c, \\uc774\\ub7ec\\ud55c \\ud601\\uc2e0\\uc801\\uc778 \\uc124\\uacc4\\ub294 \\ub2e4\\uc591\\ud55c \\ud658\\uacbd\\uc5d0\\uc11c\\uc758 \\ube44\\ud589 \\uc131\\ub2a5\\uc744 \\uadf9\\ub300\\ud654\\ud558\\ub294 \\ub370 \\uae30\\uc5ec\\ud55c\\ub2e4.\"\n        ],\n        \"semantic_type\": \"\",\n        \"description\": \"\"\n      }\n    },\n    {\n      \"column\": \"sentence_2\",\n      \"properties\": {\n        \"dtype\": \"string\",\n        \"num_unique_values\": 7330,\n        \"samples\": [\n          \"\\uc801\\uc808\\ud55c \\uc7ac\\ub8cc \\uc120\\ud0dd\\uc740 \\uc5f4 \\ubc18\\uc0ac \\uc131\\ub2a5\\uc5d0 \\uc9c1\\uc811\\uc801\\uc778 \\uc601\\ud5a5\\uc744 \\ubbf8\\uce5c\\ub2e4.\",\n          \"\\uc790\\uc5f0 \\uac10\\uc0ac\\ub294 \\uc6b0\\ub9ac\\uac00 \\uc77c\\uc0c1\\uc5d0\\uc11c \\uc27d\\uac8c \\uac04\\uacfc\\ud558\\ub294 \\uc18c\\uc911\\ud55c \\uacbd\\ud5d8\\uc774\\ub2e4.\",\n          \"\\ud6a8\\uc728\\uc801\\uc778 \\uc5d0\\ub108\\uc9c0 \\ubd84\\ubc30\\ub97c \\ud1b5\\ud574 \\ube44\\uc6a9 \\uc808\\uac10\\uacfc \\ud658\\uacbd \\ubcf4\\ud638\\ub97c \\ub3d9\\uc2dc\\uc5d0 \\ucd94\\uad6c\\ud55c\\ub2e4.\"\n        ],\n        \"semantic_type\": \"\",\n        \"description\": \"\"\n      }\n    },\n    {\n      \"column\": \"sentence_3\",\n      \"properties\": {\n        \"dtype\": \"string\",\n        \"num_unique_values\": 7330,\n        \"samples\": [\n          \"\\uacb0\\uad6d \\uc778\\uc9c0 \\ud3b8\\ud5a5\\uc744 \\uc778\\uc2dd\\ud558\\uace0 \\uadf9\\ubcf5\\ud558\\ub294 \\ub178\\ub825\\uc774 \\ud544\\uc694\\ud558\\uba70, \\uc774\\ub294 \\ubcf4\\ub2e4 \\uac1d\\uad00\\uc801\\uc778 \\uc0ac\\uace0\\ub97c \\ucd09\\uc9c4\\ud560 \\uc218 \\uc788\\ub2e4.\",\n          \"\\ub530\\ub77c\\uc11c \\uc790\\uc5f0\\uc744 \\ubc14\\ub77c\\ubcf4\\uba70 \\uac10\\uc0ac\\ud558\\ub294 \\uc2dc\\uac04\\uc744 \\uac00\\uc9c0\\ub294 \\uac83\\uc740 \\ub9e4\\uc6b0 \\uc911\\uc694\\ud558\\ub2e4.\",\n          \"\\uacb0\\uacfc\\uc801\\uc73c\\ub85c, \\uc2a4\\ub9c8\\ud2b8 \\uadf8\\ub9ac\\ub4dc\\ub294 \\uc9c0\\uc18d \\uac00\\ub2a5\\ud55c \\uc5d0\\ub108\\uc9c0 \\ubbf8\\ub798\\ub97c \\uc704\\ud55c \\uc911\\uc694\\ud55c \\uae30\\ubc18\\uc774 \\ub41c\\ub2e4.\"\n        ],\n        \"semantic_type\": \"\",\n        \"description\": \"\"\n      }\n    },\n    {\n      \"column\": \"answer_0\",\n      \"properties\": {\n        \"dtype\": \"number\",\n        \"std\": 1,\n        \"min\": 0,\n        \"max\": 3,\n        \"num_unique_values\": 4,\n        \"samples\": [\n          3,\n          1,\n          0\n        ],\n        \"semantic_type\": \"\",\n        \"description\": \"\"\n      }\n    },\n    {\n      \"column\": \"answer_1\",\n      \"properties\": {\n        \"dtype\": \"number\",\n        \"std\": 1,\n        \"min\": 0,\n        \"max\": 3,\n        \"num_unique_values\": 4,\n        \"samples\": [\n          2,\n          1,\n          3\n        ],\n        \"semantic_type\": \"\",\n        \"description\": \"\"\n      }\n    },\n    {\n      \"column\": \"answer_2\",\n      \"properties\": {\n        \"dtype\": \"number\",\n        \"std\": 1,\n        \"min\": 0,\n        \"max\": 3,\n        \"num_unique_values\": 4,\n        \"samples\": [\n          2,\n          3,\n          1\n        ],\n        \"semantic_type\": \"\",\n        \"description\": \"\"\n      }\n    },\n    {\n      \"column\": \"answer_3\",\n      \"properties\": {\n        \"dtype\": \"number\",\n        \"std\": 1,\n        \"min\": 0,\n        \"max\": 3,\n        \"num_unique_values\": 4,\n        \"samples\": [\n          1,\n          3,\n          2\n        ],\n        \"semantic_type\": \"\",\n        \"description\": \"\"\n      }\n    }\n  ]\n}"
            }
          },
          "metadata": {},
          "execution_count": 8
        }
      ],
      "source": [
        "train.info()\n",
        "train.head()"
      ]
    },
    {
      "cell_type": "code",
      "execution_count": 9,
      "metadata": {
        "colab": {
          "base_uri": "https://localhost:8080/",
          "height": 517
        },
        "id": "qJ-WGUPdtZsk",
        "outputId": "6c7f299a-235e-4559-f8b0-e32551092d49"
      },
      "outputs": [
        {
          "output_type": "stream",
          "name": "stdout",
          "text": [
            "<class 'pandas.core.frame.DataFrame'>\n",
            "RangeIndex: 1780 entries, 0 to 1779\n",
            "Data columns (total 5 columns):\n",
            " #   Column      Non-Null Count  Dtype \n",
            "---  ------      --------------  ----- \n",
            " 0   ID          1780 non-null   object\n",
            " 1   sentence_0  1780 non-null   object\n",
            " 2   sentence_1  1780 non-null   object\n",
            " 3   sentence_2  1780 non-null   object\n",
            " 4   sentence_3  1780 non-null   object\n",
            "dtypes: object(5)\n",
            "memory usage: 69.7+ KB\n"
          ]
        },
        {
          "output_type": "execute_result",
          "data": {
            "text/plain": [
              "          ID                                         sentence_0  \\\n",
              "0  TEST_0000  자유 의지와 결정론은 서로 상충하는 개념으로 여겨지지만, 이 둘의 공존 가능성도 탐...   \n",
              "1  TEST_0001                  사회적 낙인은 개인의 자아 존중감에 부정적인 영향을 미친다.   \n",
              "2  TEST_0002                    글쓰기 능력을 키우기 위해서는 꾸준한 연습이 필수적이다.   \n",
              "3  TEST_0003             작은 공간에서도 효율적으로 사용할 수 있어 집안의 혼잡함을 줄여준다.   \n",
              "4  TEST_0004                  음악은 특정 문화의 가치와 전통을 반영하는 중요한 매체이다.   \n",
              "\n",
              "                                          sentence_1  \\\n",
              "0  결정론은 모든 사건이 원인과 결과의 연쇄에 의해 발생한다고 주장하며, 이는 인간의 ...   \n",
              "1  건강 불평등은 이러한 낙인으로 인해 더욱 심화되며, 특정 집단이 의료 서비스 접근에...   \n",
              "2  마지막으로, 독서를 통해 다른 작가들의 기법을 배우는 것은 창의력을 자극하는 데 도...   \n",
              "3                 정기적으로 내용을 점검하면 필요 없는 물건을 정리할 수 있다.   \n",
              "4                이러한 음악적 표현은 공동체의 소속감을 증진시키는 역할을 한다.   \n",
              "\n",
              "                                          sentence_2  \\\n",
              "0  그러나 인간의 인식과 선택 과정에서 나타나는 복잡성과 예측 불가능성은 자유 의지의 ...   \n",
              "1  결국, 사회적 낙인과 건강 불평등은 서로 연결되어 있으며, 이를 해결하기 위한 포괄...   \n",
              "2              피드백을 받는 과정은 글의 질을 향상시키는 중요한 요소로 작용한다.   \n",
              "3                  각 칸을 활용하여 카테고리별로 물건을 나누면 찾기 쉬워진다.   \n",
              "4               각 문화는 고유한 음악적 요소를 통해 정체성을 형성하고 강화한다.   \n",
              "\n",
              "                                          sentence_3  \n",
              "0  결국, 자유 의지와 결정론은 서로를 배제하기보다는, 인간 경험의 다양한 측면을 설명...  \n",
              "1  낙인으로 인해 사람들은 사회적 고립을 경험하고, 이는 정신적 및 신체적 건강에 악영...  \n",
              "2           다양한 주제에 대해 글을 써보면 자신의 스타일과 강점을 발견할 수 있다.  \n",
              "3                      다용도 수납함은 다양한 물건을 정리하는 데 유용하다.  \n",
              "4     결국, 음악은 개인과 집단의 문화적 정체성을 이해하는 데 필수적인 요소로 작용한다.  "
            ],
            "text/html": [
              "\n",
              "  <div id=\"df-ca1ef209-1bbb-4755-9b0a-55ee6240624c\" class=\"colab-df-container\">\n",
              "    <div>\n",
              "<style scoped>\n",
              "    .dataframe tbody tr th:only-of-type {\n",
              "        vertical-align: middle;\n",
              "    }\n",
              "\n",
              "    .dataframe tbody tr th {\n",
              "        vertical-align: top;\n",
              "    }\n",
              "\n",
              "    .dataframe thead th {\n",
              "        text-align: right;\n",
              "    }\n",
              "</style>\n",
              "<table border=\"1\" class=\"dataframe\">\n",
              "  <thead>\n",
              "    <tr style=\"text-align: right;\">\n",
              "      <th></th>\n",
              "      <th>ID</th>\n",
              "      <th>sentence_0</th>\n",
              "      <th>sentence_1</th>\n",
              "      <th>sentence_2</th>\n",
              "      <th>sentence_3</th>\n",
              "    </tr>\n",
              "  </thead>\n",
              "  <tbody>\n",
              "    <tr>\n",
              "      <th>0</th>\n",
              "      <td>TEST_0000</td>\n",
              "      <td>자유 의지와 결정론은 서로 상충하는 개념으로 여겨지지만, 이 둘의 공존 가능성도 탐...</td>\n",
              "      <td>결정론은 모든 사건이 원인과 결과의 연쇄에 의해 발생한다고 주장하며, 이는 인간의 ...</td>\n",
              "      <td>그러나 인간의 인식과 선택 과정에서 나타나는 복잡성과 예측 불가능성은 자유 의지의 ...</td>\n",
              "      <td>결국, 자유 의지와 결정론은 서로를 배제하기보다는, 인간 경험의 다양한 측면을 설명...</td>\n",
              "    </tr>\n",
              "    <tr>\n",
              "      <th>1</th>\n",
              "      <td>TEST_0001</td>\n",
              "      <td>사회적 낙인은 개인의 자아 존중감에 부정적인 영향을 미친다.</td>\n",
              "      <td>건강 불평등은 이러한 낙인으로 인해 더욱 심화되며, 특정 집단이 의료 서비스 접근에...</td>\n",
              "      <td>결국, 사회적 낙인과 건강 불평등은 서로 연결되어 있으며, 이를 해결하기 위한 포괄...</td>\n",
              "      <td>낙인으로 인해 사람들은 사회적 고립을 경험하고, 이는 정신적 및 신체적 건강에 악영...</td>\n",
              "    </tr>\n",
              "    <tr>\n",
              "      <th>2</th>\n",
              "      <td>TEST_0002</td>\n",
              "      <td>글쓰기 능력을 키우기 위해서는 꾸준한 연습이 필수적이다.</td>\n",
              "      <td>마지막으로, 독서를 통해 다른 작가들의 기법을 배우는 것은 창의력을 자극하는 데 도...</td>\n",
              "      <td>피드백을 받는 과정은 글의 질을 향상시키는 중요한 요소로 작용한다.</td>\n",
              "      <td>다양한 주제에 대해 글을 써보면 자신의 스타일과 강점을 발견할 수 있다.</td>\n",
              "    </tr>\n",
              "    <tr>\n",
              "      <th>3</th>\n",
              "      <td>TEST_0003</td>\n",
              "      <td>작은 공간에서도 효율적으로 사용할 수 있어 집안의 혼잡함을 줄여준다.</td>\n",
              "      <td>정기적으로 내용을 점검하면 필요 없는 물건을 정리할 수 있다.</td>\n",
              "      <td>각 칸을 활용하여 카테고리별로 물건을 나누면 찾기 쉬워진다.</td>\n",
              "      <td>다용도 수납함은 다양한 물건을 정리하는 데 유용하다.</td>\n",
              "    </tr>\n",
              "    <tr>\n",
              "      <th>4</th>\n",
              "      <td>TEST_0004</td>\n",
              "      <td>음악은 특정 문화의 가치와 전통을 반영하는 중요한 매체이다.</td>\n",
              "      <td>이러한 음악적 표현은 공동체의 소속감을 증진시키는 역할을 한다.</td>\n",
              "      <td>각 문화는 고유한 음악적 요소를 통해 정체성을 형성하고 강화한다.</td>\n",
              "      <td>결국, 음악은 개인과 집단의 문화적 정체성을 이해하는 데 필수적인 요소로 작용한다.</td>\n",
              "    </tr>\n",
              "  </tbody>\n",
              "</table>\n",
              "</div>\n",
              "    <div class=\"colab-df-buttons\">\n",
              "\n",
              "  <div class=\"colab-df-container\">\n",
              "    <button class=\"colab-df-convert\" onclick=\"convertToInteractive('df-ca1ef209-1bbb-4755-9b0a-55ee6240624c')\"\n",
              "            title=\"Convert this dataframe to an interactive table.\"\n",
              "            style=\"display:none;\">\n",
              "\n",
              "  <svg xmlns=\"http://www.w3.org/2000/svg\" height=\"24px\" viewBox=\"0 -960 960 960\">\n",
              "    <path d=\"M120-120v-720h720v720H120Zm60-500h600v-160H180v160Zm220 220h160v-160H400v160Zm0 220h160v-160H400v160ZM180-400h160v-160H180v160Zm440 0h160v-160H620v160ZM180-180h160v-160H180v160Zm440 0h160v-160H620v160Z\"/>\n",
              "  </svg>\n",
              "    </button>\n",
              "\n",
              "  <style>\n",
              "    .colab-df-container {\n",
              "      display:flex;\n",
              "      gap: 12px;\n",
              "    }\n",
              "\n",
              "    .colab-df-convert {\n",
              "      background-color: #E8F0FE;\n",
              "      border: none;\n",
              "      border-radius: 50%;\n",
              "      cursor: pointer;\n",
              "      display: none;\n",
              "      fill: #1967D2;\n",
              "      height: 32px;\n",
              "      padding: 0 0 0 0;\n",
              "      width: 32px;\n",
              "    }\n",
              "\n",
              "    .colab-df-convert:hover {\n",
              "      background-color: #E2EBFA;\n",
              "      box-shadow: 0px 1px 2px rgba(60, 64, 67, 0.3), 0px 1px 3px 1px rgba(60, 64, 67, 0.15);\n",
              "      fill: #174EA6;\n",
              "    }\n",
              "\n",
              "    .colab-df-buttons div {\n",
              "      margin-bottom: 4px;\n",
              "    }\n",
              "\n",
              "    [theme=dark] .colab-df-convert {\n",
              "      background-color: #3B4455;\n",
              "      fill: #D2E3FC;\n",
              "    }\n",
              "\n",
              "    [theme=dark] .colab-df-convert:hover {\n",
              "      background-color: #434B5C;\n",
              "      box-shadow: 0px 1px 3px 1px rgba(0, 0, 0, 0.15);\n",
              "      filter: drop-shadow(0px 1px 2px rgba(0, 0, 0, 0.3));\n",
              "      fill: #FFFFFF;\n",
              "    }\n",
              "  </style>\n",
              "\n",
              "    <script>\n",
              "      const buttonEl =\n",
              "        document.querySelector('#df-ca1ef209-1bbb-4755-9b0a-55ee6240624c button.colab-df-convert');\n",
              "      buttonEl.style.display =\n",
              "        google.colab.kernel.accessAllowed ? 'block' : 'none';\n",
              "\n",
              "      async function convertToInteractive(key) {\n",
              "        const element = document.querySelector('#df-ca1ef209-1bbb-4755-9b0a-55ee6240624c');\n",
              "        const dataTable =\n",
              "          await google.colab.kernel.invokeFunction('convertToInteractive',\n",
              "                                                    [key], {});\n",
              "        if (!dataTable) return;\n",
              "\n",
              "        const docLinkHtml = 'Like what you see? Visit the ' +\n",
              "          '<a target=\"_blank\" href=https://colab.research.google.com/notebooks/data_table.ipynb>data table notebook</a>'\n",
              "          + ' to learn more about interactive tables.';\n",
              "        element.innerHTML = '';\n",
              "        dataTable['output_type'] = 'display_data';\n",
              "        await google.colab.output.renderOutput(dataTable, element);\n",
              "        const docLink = document.createElement('div');\n",
              "        docLink.innerHTML = docLinkHtml;\n",
              "        element.appendChild(docLink);\n",
              "      }\n",
              "    </script>\n",
              "  </div>\n",
              "\n",
              "\n",
              "    <div id=\"df-d7971487-9a94-45c7-b3cb-6c4667eaff19\">\n",
              "      <button class=\"colab-df-quickchart\" onclick=\"quickchart('df-d7971487-9a94-45c7-b3cb-6c4667eaff19')\"\n",
              "                title=\"Suggest charts\"\n",
              "                style=\"display:none;\">\n",
              "\n",
              "<svg xmlns=\"http://www.w3.org/2000/svg\" height=\"24px\"viewBox=\"0 0 24 24\"\n",
              "     width=\"24px\">\n",
              "    <g>\n",
              "        <path d=\"M19 3H5c-1.1 0-2 .9-2 2v14c0 1.1.9 2 2 2h14c1.1 0 2-.9 2-2V5c0-1.1-.9-2-2-2zM9 17H7v-7h2v7zm4 0h-2V7h2v10zm4 0h-2v-4h2v4z\"/>\n",
              "    </g>\n",
              "</svg>\n",
              "      </button>\n",
              "\n",
              "<style>\n",
              "  .colab-df-quickchart {\n",
              "      --bg-color: #E8F0FE;\n",
              "      --fill-color: #1967D2;\n",
              "      --hover-bg-color: #E2EBFA;\n",
              "      --hover-fill-color: #174EA6;\n",
              "      --disabled-fill-color: #AAA;\n",
              "      --disabled-bg-color: #DDD;\n",
              "  }\n",
              "\n",
              "  [theme=dark] .colab-df-quickchart {\n",
              "      --bg-color: #3B4455;\n",
              "      --fill-color: #D2E3FC;\n",
              "      --hover-bg-color: #434B5C;\n",
              "      --hover-fill-color: #FFFFFF;\n",
              "      --disabled-bg-color: #3B4455;\n",
              "      --disabled-fill-color: #666;\n",
              "  }\n",
              "\n",
              "  .colab-df-quickchart {\n",
              "    background-color: var(--bg-color);\n",
              "    border: none;\n",
              "    border-radius: 50%;\n",
              "    cursor: pointer;\n",
              "    display: none;\n",
              "    fill: var(--fill-color);\n",
              "    height: 32px;\n",
              "    padding: 0;\n",
              "    width: 32px;\n",
              "  }\n",
              "\n",
              "  .colab-df-quickchart:hover {\n",
              "    background-color: var(--hover-bg-color);\n",
              "    box-shadow: 0 1px 2px rgba(60, 64, 67, 0.3), 0 1px 3px 1px rgba(60, 64, 67, 0.15);\n",
              "    fill: var(--button-hover-fill-color);\n",
              "  }\n",
              "\n",
              "  .colab-df-quickchart-complete:disabled,\n",
              "  .colab-df-quickchart-complete:disabled:hover {\n",
              "    background-color: var(--disabled-bg-color);\n",
              "    fill: var(--disabled-fill-color);\n",
              "    box-shadow: none;\n",
              "  }\n",
              "\n",
              "  .colab-df-spinner {\n",
              "    border: 2px solid var(--fill-color);\n",
              "    border-color: transparent;\n",
              "    border-bottom-color: var(--fill-color);\n",
              "    animation:\n",
              "      spin 1s steps(1) infinite;\n",
              "  }\n",
              "\n",
              "  @keyframes spin {\n",
              "    0% {\n",
              "      border-color: transparent;\n",
              "      border-bottom-color: var(--fill-color);\n",
              "      border-left-color: var(--fill-color);\n",
              "    }\n",
              "    20% {\n",
              "      border-color: transparent;\n",
              "      border-left-color: var(--fill-color);\n",
              "      border-top-color: var(--fill-color);\n",
              "    }\n",
              "    30% {\n",
              "      border-color: transparent;\n",
              "      border-left-color: var(--fill-color);\n",
              "      border-top-color: var(--fill-color);\n",
              "      border-right-color: var(--fill-color);\n",
              "    }\n",
              "    40% {\n",
              "      border-color: transparent;\n",
              "      border-right-color: var(--fill-color);\n",
              "      border-top-color: var(--fill-color);\n",
              "    }\n",
              "    60% {\n",
              "      border-color: transparent;\n",
              "      border-right-color: var(--fill-color);\n",
              "    }\n",
              "    80% {\n",
              "      border-color: transparent;\n",
              "      border-right-color: var(--fill-color);\n",
              "      border-bottom-color: var(--fill-color);\n",
              "    }\n",
              "    90% {\n",
              "      border-color: transparent;\n",
              "      border-bottom-color: var(--fill-color);\n",
              "    }\n",
              "  }\n",
              "</style>\n",
              "\n",
              "      <script>\n",
              "        async function quickchart(key) {\n",
              "          const quickchartButtonEl =\n",
              "            document.querySelector('#' + key + ' button');\n",
              "          quickchartButtonEl.disabled = true;  // To prevent multiple clicks.\n",
              "          quickchartButtonEl.classList.add('colab-df-spinner');\n",
              "          try {\n",
              "            const charts = await google.colab.kernel.invokeFunction(\n",
              "                'suggestCharts', [key], {});\n",
              "          } catch (error) {\n",
              "            console.error('Error during call to suggestCharts:', error);\n",
              "          }\n",
              "          quickchartButtonEl.classList.remove('colab-df-spinner');\n",
              "          quickchartButtonEl.classList.add('colab-df-quickchart-complete');\n",
              "        }\n",
              "        (() => {\n",
              "          let quickchartButtonEl =\n",
              "            document.querySelector('#df-d7971487-9a94-45c7-b3cb-6c4667eaff19 button');\n",
              "          quickchartButtonEl.style.display =\n",
              "            google.colab.kernel.accessAllowed ? 'block' : 'none';\n",
              "        })();\n",
              "      </script>\n",
              "    </div>\n",
              "\n",
              "    </div>\n",
              "  </div>\n"
            ],
            "application/vnd.google.colaboratory.intrinsic+json": {
              "type": "dataframe",
              "variable_name": "test",
              "summary": "{\n  \"name\": \"test\",\n  \"rows\": 1780,\n  \"fields\": [\n    {\n      \"column\": \"ID\",\n      \"properties\": {\n        \"dtype\": \"string\",\n        \"num_unique_values\": 1780,\n        \"samples\": [\n          \"TEST_1647\",\n          \"TEST_1301\",\n          \"TEST_0944\"\n        ],\n        \"semantic_type\": \"\",\n        \"description\": \"\"\n      }\n    },\n    {\n      \"column\": \"sentence_0\",\n      \"properties\": {\n        \"dtype\": \"string\",\n        \"num_unique_values\": 1780,\n        \"samples\": [\n          \"\\uc2dd\\ubb3c \\uc2ec\\ub9ac \\uce58\\ub8cc\\ub294 \\uc790\\uc5f0\\uacfc\\uc758 \\uc811\\ucd09\\uc744 \\ud1b5\\ud574 \\uc815\\uc2e0\\uc801 \\uc548\\uc815\\uac10\\uc744 \\uc81c\\uacf5\\ud55c\\ub2e4.\",\n          \"\\ub610\\ud55c, \\ub9cc\\uae30 \\uae30\\uac04\\uacfc \\uc911\\ub3c4 \\ud574\\uc9c0 \\uc870\\uac74\\uc744 \\ud655\\uc778\\ud558\\ub294 \\uac83\\uc774 \\ud544\\uc694\\ud558\\ub2e4.\",\n          \"\\ucd5c\\uc885\\uc801\\uc73c\\ub85c, \\uc218\\uc9d1\\ub41c \\uc99d\\uac70\\ub294 \\ubc95\\uc801 \\uc808\\ucc28\\uc5d0\\uc11c \\uc2e0\\ub8b0\\uc131\\uc744 \\ud655\\ubcf4\\ud558\\ub294 \\ub370 \\uc911\\uc694\\ud55c \\uc5ed\\ud560\\uc744 \\ud55c\\ub2e4.\"\n        ],\n        \"semantic_type\": \"\",\n        \"description\": \"\"\n      }\n    },\n    {\n      \"column\": \"sentence_1\",\n      \"properties\": {\n        \"dtype\": \"string\",\n        \"num_unique_values\": 1780,\n        \"samples\": [\n          \"\\uc2dd\\ubb3c\\uc758 \\uc0dd\\uba85\\ub825\\uc740 \\uc0ac\\ub78c\\ub4e4\\uc5d0\\uac8c \\uae0d\\uc815\\uc801\\uc778 \\uac10\\uc815\\uc744 \\ubd88\\ub7ec\\uc77c\\uc73c\\ud0a4\\uba70, \\uc2a4\\ud2b8\\ub808\\uc2a4 \\uac10\\uc18c\\uc5d0 \\uae30\\uc5ec\\ud55c\\ub2e4.\",\n          \"\\uc801\\uae08\\uc744 \\uc120\\ud0dd\\ud560 \\ub54c\\ub294 \\uc6b0\\uc120 \\uae08\\ub9ac\\ub97c \\ube44\\uad50\\ud558\\ub294 \\uac83\\uc774 \\uc911\\uc694\\ud558\\ub2e4.\",\n          \"\\ub514\\uc9c0\\ud138 \\ud3ec\\ub80c\\uc2dd\\uc758 \\uc99d\\uac70 \\uc218\\uc9d1\\uc740 \\uc0ac\\uac74\\uc758 \\uc9c4\\uc0c1\\uc744 \\uaddc\\uba85\\ud558\\ub294 \\ub370 \\ud544\\uc218\\uc801\\uc774\\ub2e4.\"\n        ],\n        \"semantic_type\": \"\",\n        \"description\": \"\"\n      }\n    },\n    {\n      \"column\": \"sentence_2\",\n      \"properties\": {\n        \"dtype\": \"string\",\n        \"num_unique_values\": 1780,\n        \"samples\": [\n          \"\\uc774\\ub7ec\\ud55c \\uce58\\ub8cc\\ubc95\\uc740 \\ud2b9\\ud788 \\uc6b0\\uc6b8\\uc99d\\uc774\\ub098 \\ubd88\\uc548 \\uc7a5\\uc560\\ub97c \\uacaa\\ub294 \\uc0ac\\ub78c\\ub4e4\\uc5d0\\uac8c \\ud6a8\\uacfc\\uc801\\uc774\\ub2e4.\",\n          \"\\uc774\\ub7ec\\ud55c \\uc694\\uc18c\\ub4e4\\uc744 \\uc885\\ud569\\uc801\\uc73c\\ub85c \\uace0\\ub824\\ud558\\uba74 \\uc790\\uc2e0\\uc5d0\\uac8c \\uac00\\uc7a5 \\uc801\\ud569\\ud55c \\uc801\\uae08 \\uc0c1\\ud488\\uc744 \\uc120\\ud0dd\\ud560 \\uc218 \\uc788\\ub2e4.\",\n          \"\\uc774 \\uacfc\\uc815\\uc5d0\\uc11c\\ub294 \\ub370\\uc774\\ud130\\uc758 \\ubb34\\uacb0\\uc131\\uc744 \\uc720\\uc9c0\\ud558\\uae30 \\uc704\\ud574 \\uc801\\uc808\\ud55c \\ub3c4\\uad6c\\uc640 \\uae30\\uc220\\uc774 \\uc0ac\\uc6a9\\ub41c\\ub2e4.\"\n        ],\n        \"semantic_type\": \"\",\n        \"description\": \"\"\n      }\n    },\n    {\n      \"column\": \"sentence_3\",\n      \"properties\": {\n        \"dtype\": \"string\",\n        \"num_unique_values\": 1780,\n        \"samples\": [\n          \"\\uacb0\\uacfc\\uc801\\uc73c\\ub85c, \\uc2dd\\ubb3c\\uacfc\\uc758 \\uc0c1\\ud638\\uc791\\uc6a9\\uc740 \\uc2ec\\ub9ac\\uc801 \\ud68c\\ubcf5\\uc744 \\ucd09\\uc9c4\\ud558\\ub294 \\uc911\\uc694\\ud55c \\uc694\\uc18c\\ub85c \\uc791\\uc6a9\\ud55c\\ub2e4.\",\n          \"\\uae08\\ub9ac\\uac00 \\ub192\\uc744\\uc218\\ub85d \\uc774\\uc790 \\uc218\\uc775\\uc774 \\uc99d\\uac00\\ud558\\ubbc0\\ub85c, \\ub2e4\\uc591\\ud55c \\uae08\\uc735\\uae30\\uad00\\uc758 \\uc0c1\\ud488\\uc744 \\uc870\\uc0ac\\ud574\\uc57c \\ud55c\\ub2e4.\",\n          \"\\uc99d\\uac70 \\uc218\\uc9d1 \\ud6c4\\uc5d0\\ub294 \\ubd84\\uc11d\\uacfc \\ubcf4\\uc874\\uc744 \\uc704\\ud55c \\uccb4\\uacc4\\uc801\\uc778 \\uc808\\ucc28\\uac00 \\ud544\\uc694\\ud558\\ub2e4.\"\n        ],\n        \"semantic_type\": \"\",\n        \"description\": \"\"\n      }\n    }\n  ]\n}"
            }
          },
          "metadata": {},
          "execution_count": 9
        }
      ],
      "source": [
        "test.info()\n",
        "test.head()"
      ]
    },
    {
      "cell_type": "code",
      "source": [
        "submission.info()\n",
        "submission.head()"
      ],
      "metadata": {
        "colab": {
          "base_uri": "https://localhost:8080/",
          "height": 430
        },
        "id": "lFsCUuwF-bVo",
        "outputId": "d0696336-e4f6-47e9-9f0e-172490f588fd"
      },
      "execution_count": 10,
      "outputs": [
        {
          "output_type": "stream",
          "name": "stdout",
          "text": [
            "<class 'pandas.core.frame.DataFrame'>\n",
            "RangeIndex: 1780 entries, 0 to 1779\n",
            "Data columns (total 5 columns):\n",
            " #   Column    Non-Null Count  Dtype \n",
            "---  ------    --------------  ----- \n",
            " 0   ID        1780 non-null   object\n",
            " 1   answer_0  1780 non-null   int64 \n",
            " 2   answer_1  1780 non-null   int64 \n",
            " 3   answer_2  1780 non-null   int64 \n",
            " 4   answer_3  1780 non-null   int64 \n",
            "dtypes: int64(4), object(1)\n",
            "memory usage: 69.7+ KB\n"
          ]
        },
        {
          "output_type": "execute_result",
          "data": {
            "text/plain": [
              "          ID  answer_0  answer_1  answer_2  answer_3\n",
              "0  TEST_0000         0         1         2         3\n",
              "1  TEST_0001         0         1         2         3\n",
              "2  TEST_0002         0         1         2         3\n",
              "3  TEST_0003         0         1         2         3\n",
              "4  TEST_0004         0         1         2         3"
            ],
            "text/html": [
              "\n",
              "  <div id=\"df-2cea48c2-c774-4194-b876-be948f571ae5\" class=\"colab-df-container\">\n",
              "    <div>\n",
              "<style scoped>\n",
              "    .dataframe tbody tr th:only-of-type {\n",
              "        vertical-align: middle;\n",
              "    }\n",
              "\n",
              "    .dataframe tbody tr th {\n",
              "        vertical-align: top;\n",
              "    }\n",
              "\n",
              "    .dataframe thead th {\n",
              "        text-align: right;\n",
              "    }\n",
              "</style>\n",
              "<table border=\"1\" class=\"dataframe\">\n",
              "  <thead>\n",
              "    <tr style=\"text-align: right;\">\n",
              "      <th></th>\n",
              "      <th>ID</th>\n",
              "      <th>answer_0</th>\n",
              "      <th>answer_1</th>\n",
              "      <th>answer_2</th>\n",
              "      <th>answer_3</th>\n",
              "    </tr>\n",
              "  </thead>\n",
              "  <tbody>\n",
              "    <tr>\n",
              "      <th>0</th>\n",
              "      <td>TEST_0000</td>\n",
              "      <td>0</td>\n",
              "      <td>1</td>\n",
              "      <td>2</td>\n",
              "      <td>3</td>\n",
              "    </tr>\n",
              "    <tr>\n",
              "      <th>1</th>\n",
              "      <td>TEST_0001</td>\n",
              "      <td>0</td>\n",
              "      <td>1</td>\n",
              "      <td>2</td>\n",
              "      <td>3</td>\n",
              "    </tr>\n",
              "    <tr>\n",
              "      <th>2</th>\n",
              "      <td>TEST_0002</td>\n",
              "      <td>0</td>\n",
              "      <td>1</td>\n",
              "      <td>2</td>\n",
              "      <td>3</td>\n",
              "    </tr>\n",
              "    <tr>\n",
              "      <th>3</th>\n",
              "      <td>TEST_0003</td>\n",
              "      <td>0</td>\n",
              "      <td>1</td>\n",
              "      <td>2</td>\n",
              "      <td>3</td>\n",
              "    </tr>\n",
              "    <tr>\n",
              "      <th>4</th>\n",
              "      <td>TEST_0004</td>\n",
              "      <td>0</td>\n",
              "      <td>1</td>\n",
              "      <td>2</td>\n",
              "      <td>3</td>\n",
              "    </tr>\n",
              "  </tbody>\n",
              "</table>\n",
              "</div>\n",
              "    <div class=\"colab-df-buttons\">\n",
              "\n",
              "  <div class=\"colab-df-container\">\n",
              "    <button class=\"colab-df-convert\" onclick=\"convertToInteractive('df-2cea48c2-c774-4194-b876-be948f571ae5')\"\n",
              "            title=\"Convert this dataframe to an interactive table.\"\n",
              "            style=\"display:none;\">\n",
              "\n",
              "  <svg xmlns=\"http://www.w3.org/2000/svg\" height=\"24px\" viewBox=\"0 -960 960 960\">\n",
              "    <path d=\"M120-120v-720h720v720H120Zm60-500h600v-160H180v160Zm220 220h160v-160H400v160Zm0 220h160v-160H400v160ZM180-400h160v-160H180v160Zm440 0h160v-160H620v160ZM180-180h160v-160H180v160Zm440 0h160v-160H620v160Z\"/>\n",
              "  </svg>\n",
              "    </button>\n",
              "\n",
              "  <style>\n",
              "    .colab-df-container {\n",
              "      display:flex;\n",
              "      gap: 12px;\n",
              "    }\n",
              "\n",
              "    .colab-df-convert {\n",
              "      background-color: #E8F0FE;\n",
              "      border: none;\n",
              "      border-radius: 50%;\n",
              "      cursor: pointer;\n",
              "      display: none;\n",
              "      fill: #1967D2;\n",
              "      height: 32px;\n",
              "      padding: 0 0 0 0;\n",
              "      width: 32px;\n",
              "    }\n",
              "\n",
              "    .colab-df-convert:hover {\n",
              "      background-color: #E2EBFA;\n",
              "      box-shadow: 0px 1px 2px rgba(60, 64, 67, 0.3), 0px 1px 3px 1px rgba(60, 64, 67, 0.15);\n",
              "      fill: #174EA6;\n",
              "    }\n",
              "\n",
              "    .colab-df-buttons div {\n",
              "      margin-bottom: 4px;\n",
              "    }\n",
              "\n",
              "    [theme=dark] .colab-df-convert {\n",
              "      background-color: #3B4455;\n",
              "      fill: #D2E3FC;\n",
              "    }\n",
              "\n",
              "    [theme=dark] .colab-df-convert:hover {\n",
              "      background-color: #434B5C;\n",
              "      box-shadow: 0px 1px 3px 1px rgba(0, 0, 0, 0.15);\n",
              "      filter: drop-shadow(0px 1px 2px rgba(0, 0, 0, 0.3));\n",
              "      fill: #FFFFFF;\n",
              "    }\n",
              "  </style>\n",
              "\n",
              "    <script>\n",
              "      const buttonEl =\n",
              "        document.querySelector('#df-2cea48c2-c774-4194-b876-be948f571ae5 button.colab-df-convert');\n",
              "      buttonEl.style.display =\n",
              "        google.colab.kernel.accessAllowed ? 'block' : 'none';\n",
              "\n",
              "      async function convertToInteractive(key) {\n",
              "        const element = document.querySelector('#df-2cea48c2-c774-4194-b876-be948f571ae5');\n",
              "        const dataTable =\n",
              "          await google.colab.kernel.invokeFunction('convertToInteractive',\n",
              "                                                    [key], {});\n",
              "        if (!dataTable) return;\n",
              "\n",
              "        const docLinkHtml = 'Like what you see? Visit the ' +\n",
              "          '<a target=\"_blank\" href=https://colab.research.google.com/notebooks/data_table.ipynb>data table notebook</a>'\n",
              "          + ' to learn more about interactive tables.';\n",
              "        element.innerHTML = '';\n",
              "        dataTable['output_type'] = 'display_data';\n",
              "        await google.colab.output.renderOutput(dataTable, element);\n",
              "        const docLink = document.createElement('div');\n",
              "        docLink.innerHTML = docLinkHtml;\n",
              "        element.appendChild(docLink);\n",
              "      }\n",
              "    </script>\n",
              "  </div>\n",
              "\n",
              "\n",
              "    <div id=\"df-f72d0134-948f-49a4-95f3-8cb1005285bd\">\n",
              "      <button class=\"colab-df-quickchart\" onclick=\"quickchart('df-f72d0134-948f-49a4-95f3-8cb1005285bd')\"\n",
              "                title=\"Suggest charts\"\n",
              "                style=\"display:none;\">\n",
              "\n",
              "<svg xmlns=\"http://www.w3.org/2000/svg\" height=\"24px\"viewBox=\"0 0 24 24\"\n",
              "     width=\"24px\">\n",
              "    <g>\n",
              "        <path d=\"M19 3H5c-1.1 0-2 .9-2 2v14c0 1.1.9 2 2 2h14c1.1 0 2-.9 2-2V5c0-1.1-.9-2-2-2zM9 17H7v-7h2v7zm4 0h-2V7h2v10zm4 0h-2v-4h2v4z\"/>\n",
              "    </g>\n",
              "</svg>\n",
              "      </button>\n",
              "\n",
              "<style>\n",
              "  .colab-df-quickchart {\n",
              "      --bg-color: #E8F0FE;\n",
              "      --fill-color: #1967D2;\n",
              "      --hover-bg-color: #E2EBFA;\n",
              "      --hover-fill-color: #174EA6;\n",
              "      --disabled-fill-color: #AAA;\n",
              "      --disabled-bg-color: #DDD;\n",
              "  }\n",
              "\n",
              "  [theme=dark] .colab-df-quickchart {\n",
              "      --bg-color: #3B4455;\n",
              "      --fill-color: #D2E3FC;\n",
              "      --hover-bg-color: #434B5C;\n",
              "      --hover-fill-color: #FFFFFF;\n",
              "      --disabled-bg-color: #3B4455;\n",
              "      --disabled-fill-color: #666;\n",
              "  }\n",
              "\n",
              "  .colab-df-quickchart {\n",
              "    background-color: var(--bg-color);\n",
              "    border: none;\n",
              "    border-radius: 50%;\n",
              "    cursor: pointer;\n",
              "    display: none;\n",
              "    fill: var(--fill-color);\n",
              "    height: 32px;\n",
              "    padding: 0;\n",
              "    width: 32px;\n",
              "  }\n",
              "\n",
              "  .colab-df-quickchart:hover {\n",
              "    background-color: var(--hover-bg-color);\n",
              "    box-shadow: 0 1px 2px rgba(60, 64, 67, 0.3), 0 1px 3px 1px rgba(60, 64, 67, 0.15);\n",
              "    fill: var(--button-hover-fill-color);\n",
              "  }\n",
              "\n",
              "  .colab-df-quickchart-complete:disabled,\n",
              "  .colab-df-quickchart-complete:disabled:hover {\n",
              "    background-color: var(--disabled-bg-color);\n",
              "    fill: var(--disabled-fill-color);\n",
              "    box-shadow: none;\n",
              "  }\n",
              "\n",
              "  .colab-df-spinner {\n",
              "    border: 2px solid var(--fill-color);\n",
              "    border-color: transparent;\n",
              "    border-bottom-color: var(--fill-color);\n",
              "    animation:\n",
              "      spin 1s steps(1) infinite;\n",
              "  }\n",
              "\n",
              "  @keyframes spin {\n",
              "    0% {\n",
              "      border-color: transparent;\n",
              "      border-bottom-color: var(--fill-color);\n",
              "      border-left-color: var(--fill-color);\n",
              "    }\n",
              "    20% {\n",
              "      border-color: transparent;\n",
              "      border-left-color: var(--fill-color);\n",
              "      border-top-color: var(--fill-color);\n",
              "    }\n",
              "    30% {\n",
              "      border-color: transparent;\n",
              "      border-left-color: var(--fill-color);\n",
              "      border-top-color: var(--fill-color);\n",
              "      border-right-color: var(--fill-color);\n",
              "    }\n",
              "    40% {\n",
              "      border-color: transparent;\n",
              "      border-right-color: var(--fill-color);\n",
              "      border-top-color: var(--fill-color);\n",
              "    }\n",
              "    60% {\n",
              "      border-color: transparent;\n",
              "      border-right-color: var(--fill-color);\n",
              "    }\n",
              "    80% {\n",
              "      border-color: transparent;\n",
              "      border-right-color: var(--fill-color);\n",
              "      border-bottom-color: var(--fill-color);\n",
              "    }\n",
              "    90% {\n",
              "      border-color: transparent;\n",
              "      border-bottom-color: var(--fill-color);\n",
              "    }\n",
              "  }\n",
              "</style>\n",
              "\n",
              "      <script>\n",
              "        async function quickchart(key) {\n",
              "          const quickchartButtonEl =\n",
              "            document.querySelector('#' + key + ' button');\n",
              "          quickchartButtonEl.disabled = true;  // To prevent multiple clicks.\n",
              "          quickchartButtonEl.classList.add('colab-df-spinner');\n",
              "          try {\n",
              "            const charts = await google.colab.kernel.invokeFunction(\n",
              "                'suggestCharts', [key], {});\n",
              "          } catch (error) {\n",
              "            console.error('Error during call to suggestCharts:', error);\n",
              "          }\n",
              "          quickchartButtonEl.classList.remove('colab-df-spinner');\n",
              "          quickchartButtonEl.classList.add('colab-df-quickchart-complete');\n",
              "        }\n",
              "        (() => {\n",
              "          let quickchartButtonEl =\n",
              "            document.querySelector('#df-f72d0134-948f-49a4-95f3-8cb1005285bd button');\n",
              "          quickchartButtonEl.style.display =\n",
              "            google.colab.kernel.accessAllowed ? 'block' : 'none';\n",
              "        })();\n",
              "      </script>\n",
              "    </div>\n",
              "\n",
              "    </div>\n",
              "  </div>\n"
            ],
            "application/vnd.google.colaboratory.intrinsic+json": {
              "type": "dataframe",
              "variable_name": "submission",
              "summary": "{\n  \"name\": \"submission\",\n  \"rows\": 1780,\n  \"fields\": [\n    {\n      \"column\": \"ID\",\n      \"properties\": {\n        \"dtype\": \"string\",\n        \"num_unique_values\": 1780,\n        \"samples\": [\n          \"TEST_1647\",\n          \"TEST_1301\",\n          \"TEST_0944\"\n        ],\n        \"semantic_type\": \"\",\n        \"description\": \"\"\n      }\n    },\n    {\n      \"column\": \"answer_0\",\n      \"properties\": {\n        \"dtype\": \"number\",\n        \"std\": 0,\n        \"min\": 0,\n        \"max\": 0,\n        \"num_unique_values\": 1,\n        \"samples\": [\n          0\n        ],\n        \"semantic_type\": \"\",\n        \"description\": \"\"\n      }\n    },\n    {\n      \"column\": \"answer_1\",\n      \"properties\": {\n        \"dtype\": \"number\",\n        \"std\": 0,\n        \"min\": 1,\n        \"max\": 1,\n        \"num_unique_values\": 1,\n        \"samples\": [\n          1\n        ],\n        \"semantic_type\": \"\",\n        \"description\": \"\"\n      }\n    },\n    {\n      \"column\": \"answer_2\",\n      \"properties\": {\n        \"dtype\": \"number\",\n        \"std\": 0,\n        \"min\": 2,\n        \"max\": 2,\n        \"num_unique_values\": 1,\n        \"samples\": [\n          2\n        ],\n        \"semantic_type\": \"\",\n        \"description\": \"\"\n      }\n    },\n    {\n      \"column\": \"answer_3\",\n      \"properties\": {\n        \"dtype\": \"number\",\n        \"std\": 0,\n        \"min\": 3,\n        \"max\": 3,\n        \"num_unique_values\": 1,\n        \"samples\": [\n          3\n        ],\n        \"semantic_type\": \"\",\n        \"description\": \"\"\n      }\n    }\n  ]\n}"
            }
          },
          "metadata": {},
          "execution_count": 10
        }
      ]
    },
    {
      "cell_type": "code",
      "execution_count": 11,
      "metadata": {
        "id": "zCrMc7Scqb_t"
      },
      "outputs": [],
      "source": [
        "# 텍스트 정제\n",
        "def clean_text(text):\n",
        "  # 특수문자 제거\n",
        "  text = re.sub(r'[^\\w\\s]', '', text)\n",
        "  # 소문자 변환: 한글에는 무의미\n",
        "  text = text.lower()\n",
        "  # 불필요한 공백 제거\n",
        "  text = ' '.join(text.split())\n",
        "  return text"
      ]
    },
    {
      "cell_type": "code",
      "execution_count": 12,
      "metadata": {
        "colab": {
          "base_uri": "https://localhost:8080/"
        },
        "id": "GAcRAsmKaNgy",
        "outputId": "163baa9c-aa4a-4029-8cdf-8fca633d5dc4"
      },
      "outputs": [
        {
          "output_type": "stream",
          "name": "stdout",
          "text": [
            "블록체인 기술은 투표 과정의 투명성을 크게 향상시킬 수 있다.\n",
            "자유 의지와 결정론은 서로 상충하는 개념으로 여겨지지만, 이 둘의 공존 가능성도 탐구할 가치가 있다.\n"
          ]
        }
      ],
      "source": [
        "# 정제 전\n",
        "print(train['sentence_0'][0])\n",
        "print(test['sentence_0'][0])"
      ]
    },
    {
      "cell_type": "code",
      "execution_count": 13,
      "metadata": {
        "id": "UFp3zlCPtUC1"
      },
      "outputs": [],
      "source": [
        "# 텍스트 정제\n",
        "for i in range(4):\n",
        "    train[f'sentence_{i}'] = train[f'sentence_{i}'].apply(clean_text)\n",
        "    test[f'sentence_{i}'] = test[f'sentence_{i}'].apply(clean_text)"
      ]
    },
    {
      "cell_type": "code",
      "execution_count": 14,
      "metadata": {
        "colab": {
          "base_uri": "https://localhost:8080/"
        },
        "id": "96145kX3aNg0",
        "outputId": "e4982ee9-c500-430c-eda2-66d215e259f2"
      },
      "outputs": [
        {
          "output_type": "stream",
          "name": "stdout",
          "text": [
            "블록체인 기술은 투표 과정의 투명성을 크게 향상시킬 수 있다\n",
            "자유 의지와 결정론은 서로 상충하는 개념으로 여겨지지만 이 둘의 공존 가능성도 탐구할 가치가 있다\n"
          ]
        }
      ],
      "source": [
        "# 정제 후\n",
        "print(train['sentence_0'][0])\n",
        "print(test['sentence_0'][0])"
      ]
    },
    {
      "cell_type": "code",
      "source": [
        "## ✅ Pairwise 전처리 함수\n",
        "def preprocess_pairwise(df):\n",
        "    data = []\n",
        "    for _, row in df.iterrows():\n",
        "        sentences = [row[f'sentence_{i}'] for i in range(4)]\n",
        "        answer = [row[f'answer_{i}'] for i in range(4)]\n",
        "        ordered = [sentences[i] for i in answer]\n",
        "        positive_pairs = [(ordered[i], ordered[i+1]) for i in range(3)]\n",
        "        all_pairs = list(itertools.permutations(sentences, 2))\n",
        "        for s1, s2 in all_pairs:\n",
        "            label = 1 if (s1, s2) in positive_pairs else 0\n",
        "            data.append({'sentence1': s1, 'sentence2': s2, 'label': label})\n",
        "    return pd.DataFrame(data)"
      ],
      "metadata": {
        "id": "eNVGI9EWa26q"
      },
      "execution_count": 15,
      "outputs": []
    },
    {
      "cell_type": "code",
      "execution_count": 16,
      "metadata": {
        "id": "RsCexE4LaNg1"
      },
      "outputs": [],
      "source": [
        "# 전처리 모듈 사용\n",
        "pairwise_df = preprocess_pairwise(train)"
      ]
    },
    {
      "cell_type": "code",
      "execution_count": 17,
      "metadata": {
        "colab": {
          "base_uri": "https://localhost:8080/",
          "height": 393
        },
        "id": "Ve4A0ejBaNg2",
        "outputId": "1b34b1d1-7d01-4d38-e0b0-17295c7d2018"
      },
      "outputs": [
        {
          "output_type": "stream",
          "name": "stdout",
          "text": [
            "<class 'pandas.core.frame.DataFrame'>\n",
            "RangeIndex: 88212 entries, 0 to 88211\n",
            "Data columns (total 3 columns):\n",
            " #   Column     Non-Null Count  Dtype \n",
            "---  ------     --------------  ----- \n",
            " 0   sentence1  88212 non-null  object\n",
            " 1   sentence2  88212 non-null  object\n",
            " 2   label      88212 non-null  int64 \n",
            "dtypes: int64(1), object(2)\n",
            "memory usage: 2.0+ MB\n"
          ]
        },
        {
          "output_type": "execute_result",
          "data": {
            "text/plain": [
              "                                         sentence1  \\\n",
              "0                블록체인 기술은 투표 과정의 투명성을 크게 향상시킬 수 있다   \n",
              "1                블록체인 기술은 투표 과정의 투명성을 크게 향상시킬 수 있다   \n",
              "2                블록체인 기술은 투표 과정의 투명성을 크게 향상시킬 수 있다   \n",
              "3  이러한 특성은 유권자들에게 신뢰를 제공하며 민주적 참여를 촉진하는 데 기여할 수 있다   \n",
              "4  이러한 특성은 유권자들에게 신뢰를 제공하며 민주적 참여를 촉진하는 데 기여할 수 있다   \n",
              "\n",
              "                                           sentence2  label  \n",
              "0    이러한 특성은 유권자들에게 신뢰를 제공하며 민주적 참여를 촉진하는 데 기여할 수 있다      0  \n",
              "1  결과적으로 블록체인 기반의 투표 시스템은 공정하고 신뢰할 수 있는 선거 환경을 조성...      0  \n",
              "2        각 투표는 변경 불가능한 기록으로 저장되어 조작의 가능성을 원천적으로 차단한다      1  \n",
              "3                  블록체인 기술은 투표 과정의 투명성을 크게 향상시킬 수 있다      0  \n",
              "4  결과적으로 블록체인 기반의 투표 시스템은 공정하고 신뢰할 수 있는 선거 환경을 조성...      1  "
            ],
            "text/html": [
              "\n",
              "  <div id=\"df-2688a752-a4c6-45e1-81e9-037ae9d44275\" class=\"colab-df-container\">\n",
              "    <div>\n",
              "<style scoped>\n",
              "    .dataframe tbody tr th:only-of-type {\n",
              "        vertical-align: middle;\n",
              "    }\n",
              "\n",
              "    .dataframe tbody tr th {\n",
              "        vertical-align: top;\n",
              "    }\n",
              "\n",
              "    .dataframe thead th {\n",
              "        text-align: right;\n",
              "    }\n",
              "</style>\n",
              "<table border=\"1\" class=\"dataframe\">\n",
              "  <thead>\n",
              "    <tr style=\"text-align: right;\">\n",
              "      <th></th>\n",
              "      <th>sentence1</th>\n",
              "      <th>sentence2</th>\n",
              "      <th>label</th>\n",
              "    </tr>\n",
              "  </thead>\n",
              "  <tbody>\n",
              "    <tr>\n",
              "      <th>0</th>\n",
              "      <td>블록체인 기술은 투표 과정의 투명성을 크게 향상시킬 수 있다</td>\n",
              "      <td>이러한 특성은 유권자들에게 신뢰를 제공하며 민주적 참여를 촉진하는 데 기여할 수 있다</td>\n",
              "      <td>0</td>\n",
              "    </tr>\n",
              "    <tr>\n",
              "      <th>1</th>\n",
              "      <td>블록체인 기술은 투표 과정의 투명성을 크게 향상시킬 수 있다</td>\n",
              "      <td>결과적으로 블록체인 기반의 투표 시스템은 공정하고 신뢰할 수 있는 선거 환경을 조성...</td>\n",
              "      <td>0</td>\n",
              "    </tr>\n",
              "    <tr>\n",
              "      <th>2</th>\n",
              "      <td>블록체인 기술은 투표 과정의 투명성을 크게 향상시킬 수 있다</td>\n",
              "      <td>각 투표는 변경 불가능한 기록으로 저장되어 조작의 가능성을 원천적으로 차단한다</td>\n",
              "      <td>1</td>\n",
              "    </tr>\n",
              "    <tr>\n",
              "      <th>3</th>\n",
              "      <td>이러한 특성은 유권자들에게 신뢰를 제공하며 민주적 참여를 촉진하는 데 기여할 수 있다</td>\n",
              "      <td>블록체인 기술은 투표 과정의 투명성을 크게 향상시킬 수 있다</td>\n",
              "      <td>0</td>\n",
              "    </tr>\n",
              "    <tr>\n",
              "      <th>4</th>\n",
              "      <td>이러한 특성은 유권자들에게 신뢰를 제공하며 민주적 참여를 촉진하는 데 기여할 수 있다</td>\n",
              "      <td>결과적으로 블록체인 기반의 투표 시스템은 공정하고 신뢰할 수 있는 선거 환경을 조성...</td>\n",
              "      <td>1</td>\n",
              "    </tr>\n",
              "  </tbody>\n",
              "</table>\n",
              "</div>\n",
              "    <div class=\"colab-df-buttons\">\n",
              "\n",
              "  <div class=\"colab-df-container\">\n",
              "    <button class=\"colab-df-convert\" onclick=\"convertToInteractive('df-2688a752-a4c6-45e1-81e9-037ae9d44275')\"\n",
              "            title=\"Convert this dataframe to an interactive table.\"\n",
              "            style=\"display:none;\">\n",
              "\n",
              "  <svg xmlns=\"http://www.w3.org/2000/svg\" height=\"24px\" viewBox=\"0 -960 960 960\">\n",
              "    <path d=\"M120-120v-720h720v720H120Zm60-500h600v-160H180v160Zm220 220h160v-160H400v160Zm0 220h160v-160H400v160ZM180-400h160v-160H180v160Zm440 0h160v-160H620v160ZM180-180h160v-160H180v160Zm440 0h160v-160H620v160Z\"/>\n",
              "  </svg>\n",
              "    </button>\n",
              "\n",
              "  <style>\n",
              "    .colab-df-container {\n",
              "      display:flex;\n",
              "      gap: 12px;\n",
              "    }\n",
              "\n",
              "    .colab-df-convert {\n",
              "      background-color: #E8F0FE;\n",
              "      border: none;\n",
              "      border-radius: 50%;\n",
              "      cursor: pointer;\n",
              "      display: none;\n",
              "      fill: #1967D2;\n",
              "      height: 32px;\n",
              "      padding: 0 0 0 0;\n",
              "      width: 32px;\n",
              "    }\n",
              "\n",
              "    .colab-df-convert:hover {\n",
              "      background-color: #E2EBFA;\n",
              "      box-shadow: 0px 1px 2px rgba(60, 64, 67, 0.3), 0px 1px 3px 1px rgba(60, 64, 67, 0.15);\n",
              "      fill: #174EA6;\n",
              "    }\n",
              "\n",
              "    .colab-df-buttons div {\n",
              "      margin-bottom: 4px;\n",
              "    }\n",
              "\n",
              "    [theme=dark] .colab-df-convert {\n",
              "      background-color: #3B4455;\n",
              "      fill: #D2E3FC;\n",
              "    }\n",
              "\n",
              "    [theme=dark] .colab-df-convert:hover {\n",
              "      background-color: #434B5C;\n",
              "      box-shadow: 0px 1px 3px 1px rgba(0, 0, 0, 0.15);\n",
              "      filter: drop-shadow(0px 1px 2px rgba(0, 0, 0, 0.3));\n",
              "      fill: #FFFFFF;\n",
              "    }\n",
              "  </style>\n",
              "\n",
              "    <script>\n",
              "      const buttonEl =\n",
              "        document.querySelector('#df-2688a752-a4c6-45e1-81e9-037ae9d44275 button.colab-df-convert');\n",
              "      buttonEl.style.display =\n",
              "        google.colab.kernel.accessAllowed ? 'block' : 'none';\n",
              "\n",
              "      async function convertToInteractive(key) {\n",
              "        const element = document.querySelector('#df-2688a752-a4c6-45e1-81e9-037ae9d44275');\n",
              "        const dataTable =\n",
              "          await google.colab.kernel.invokeFunction('convertToInteractive',\n",
              "                                                    [key], {});\n",
              "        if (!dataTable) return;\n",
              "\n",
              "        const docLinkHtml = 'Like what you see? Visit the ' +\n",
              "          '<a target=\"_blank\" href=https://colab.research.google.com/notebooks/data_table.ipynb>data table notebook</a>'\n",
              "          + ' to learn more about interactive tables.';\n",
              "        element.innerHTML = '';\n",
              "        dataTable['output_type'] = 'display_data';\n",
              "        await google.colab.output.renderOutput(dataTable, element);\n",
              "        const docLink = document.createElement('div');\n",
              "        docLink.innerHTML = docLinkHtml;\n",
              "        element.appendChild(docLink);\n",
              "      }\n",
              "    </script>\n",
              "  </div>\n",
              "\n",
              "\n",
              "    <div id=\"df-73082f71-dae6-4188-bc5c-762d720f3be4\">\n",
              "      <button class=\"colab-df-quickchart\" onclick=\"quickchart('df-73082f71-dae6-4188-bc5c-762d720f3be4')\"\n",
              "                title=\"Suggest charts\"\n",
              "                style=\"display:none;\">\n",
              "\n",
              "<svg xmlns=\"http://www.w3.org/2000/svg\" height=\"24px\"viewBox=\"0 0 24 24\"\n",
              "     width=\"24px\">\n",
              "    <g>\n",
              "        <path d=\"M19 3H5c-1.1 0-2 .9-2 2v14c0 1.1.9 2 2 2h14c1.1 0 2-.9 2-2V5c0-1.1-.9-2-2-2zM9 17H7v-7h2v7zm4 0h-2V7h2v10zm4 0h-2v-4h2v4z\"/>\n",
              "    </g>\n",
              "</svg>\n",
              "      </button>\n",
              "\n",
              "<style>\n",
              "  .colab-df-quickchart {\n",
              "      --bg-color: #E8F0FE;\n",
              "      --fill-color: #1967D2;\n",
              "      --hover-bg-color: #E2EBFA;\n",
              "      --hover-fill-color: #174EA6;\n",
              "      --disabled-fill-color: #AAA;\n",
              "      --disabled-bg-color: #DDD;\n",
              "  }\n",
              "\n",
              "  [theme=dark] .colab-df-quickchart {\n",
              "      --bg-color: #3B4455;\n",
              "      --fill-color: #D2E3FC;\n",
              "      --hover-bg-color: #434B5C;\n",
              "      --hover-fill-color: #FFFFFF;\n",
              "      --disabled-bg-color: #3B4455;\n",
              "      --disabled-fill-color: #666;\n",
              "  }\n",
              "\n",
              "  .colab-df-quickchart {\n",
              "    background-color: var(--bg-color);\n",
              "    border: none;\n",
              "    border-radius: 50%;\n",
              "    cursor: pointer;\n",
              "    display: none;\n",
              "    fill: var(--fill-color);\n",
              "    height: 32px;\n",
              "    padding: 0;\n",
              "    width: 32px;\n",
              "  }\n",
              "\n",
              "  .colab-df-quickchart:hover {\n",
              "    background-color: var(--hover-bg-color);\n",
              "    box-shadow: 0 1px 2px rgba(60, 64, 67, 0.3), 0 1px 3px 1px rgba(60, 64, 67, 0.15);\n",
              "    fill: var(--button-hover-fill-color);\n",
              "  }\n",
              "\n",
              "  .colab-df-quickchart-complete:disabled,\n",
              "  .colab-df-quickchart-complete:disabled:hover {\n",
              "    background-color: var(--disabled-bg-color);\n",
              "    fill: var(--disabled-fill-color);\n",
              "    box-shadow: none;\n",
              "  }\n",
              "\n",
              "  .colab-df-spinner {\n",
              "    border: 2px solid var(--fill-color);\n",
              "    border-color: transparent;\n",
              "    border-bottom-color: var(--fill-color);\n",
              "    animation:\n",
              "      spin 1s steps(1) infinite;\n",
              "  }\n",
              "\n",
              "  @keyframes spin {\n",
              "    0% {\n",
              "      border-color: transparent;\n",
              "      border-bottom-color: var(--fill-color);\n",
              "      border-left-color: var(--fill-color);\n",
              "    }\n",
              "    20% {\n",
              "      border-color: transparent;\n",
              "      border-left-color: var(--fill-color);\n",
              "      border-top-color: var(--fill-color);\n",
              "    }\n",
              "    30% {\n",
              "      border-color: transparent;\n",
              "      border-left-color: var(--fill-color);\n",
              "      border-top-color: var(--fill-color);\n",
              "      border-right-color: var(--fill-color);\n",
              "    }\n",
              "    40% {\n",
              "      border-color: transparent;\n",
              "      border-right-color: var(--fill-color);\n",
              "      border-top-color: var(--fill-color);\n",
              "    }\n",
              "    60% {\n",
              "      border-color: transparent;\n",
              "      border-right-color: var(--fill-color);\n",
              "    }\n",
              "    80% {\n",
              "      border-color: transparent;\n",
              "      border-right-color: var(--fill-color);\n",
              "      border-bottom-color: var(--fill-color);\n",
              "    }\n",
              "    90% {\n",
              "      border-color: transparent;\n",
              "      border-bottom-color: var(--fill-color);\n",
              "    }\n",
              "  }\n",
              "</style>\n",
              "\n",
              "      <script>\n",
              "        async function quickchart(key) {\n",
              "          const quickchartButtonEl =\n",
              "            document.querySelector('#' + key + ' button');\n",
              "          quickchartButtonEl.disabled = true;  // To prevent multiple clicks.\n",
              "          quickchartButtonEl.classList.add('colab-df-spinner');\n",
              "          try {\n",
              "            const charts = await google.colab.kernel.invokeFunction(\n",
              "                'suggestCharts', [key], {});\n",
              "          } catch (error) {\n",
              "            console.error('Error during call to suggestCharts:', error);\n",
              "          }\n",
              "          quickchartButtonEl.classList.remove('colab-df-spinner');\n",
              "          quickchartButtonEl.classList.add('colab-df-quickchart-complete');\n",
              "        }\n",
              "        (() => {\n",
              "          let quickchartButtonEl =\n",
              "            document.querySelector('#df-73082f71-dae6-4188-bc5c-762d720f3be4 button');\n",
              "          quickchartButtonEl.style.display =\n",
              "            google.colab.kernel.accessAllowed ? 'block' : 'none';\n",
              "        })();\n",
              "      </script>\n",
              "    </div>\n",
              "\n",
              "    </div>\n",
              "  </div>\n"
            ],
            "application/vnd.google.colaboratory.intrinsic+json": {
              "type": "dataframe",
              "variable_name": "pairwise_df",
              "summary": "{\n  \"name\": \"pairwise_df\",\n  \"rows\": 88212,\n  \"fields\": [\n    {\n      \"column\": \"sentence1\",\n      \"properties\": {\n        \"dtype\": \"category\",\n        \"num_unique_values\": 29131,\n        \"samples\": [\n          \"\\uc9c0\\uc18d \\uac00\\ub2a5\\ud55c \\uacbd\\uc601\\uc740 \\uc18c\\ube44\\uc790\\uc640 \\ud22c\\uc790\\uc790\\uc5d0\\uac8c \\uae0d\\uc815\\uc801\\uc778 \\uc774\\ubbf8\\uc9c0\\ub97c \\uad6c\\ucd95\\ud558\\ub294 \\ub370 \\uae30\\uc5ec\\ud55c\\ub2e4\",\n          \"\\uac74\\uc124\\uc801 \\ub300\\ud654\\ub294 \\uac10\\uc815\\uc801 \\ubc18\\uc751\\uc744 \\ucd5c\\uc18c\\ud654\\ud558\\uace0 \\uc0ac\\uc2e4\\uc5d0 \\uae30\\ubc18\\ud55c \\ub17c\\uc758\\ub97c \\ucd09\\uc9c4\\ud55c\\ub2e4\",\n          \"\\uad50\\uc721 \\ubd84\\uc57c\\uc758 \\uaddc\\uc81c\\ub294 \\uc885\\uc885 \\ud601\\uc2e0\\uacfc \\ubc1c\\uc804\\uc744 \\uc800\\ud574\\ud558\\ub294 \\uc694\\uc18c\\ub85c \\uc791\\uc6a9\\ud55c\\ub2e4\"\n        ],\n        \"semantic_type\": \"\",\n        \"description\": \"\"\n      }\n    },\n    {\n      \"column\": \"sentence2\",\n      \"properties\": {\n        \"dtype\": \"category\",\n        \"num_unique_values\": 29131,\n        \"samples\": [\n          \"\\uacb0\\uad6d \\ud658\\uacbd \\ucc45\\uc784\\uacfc \\uae30\\uc5c5 \\uc724\\ub9ac\\ub294 \\uc0c1\\ud638 \\uc5f0\\uacb0\\ub418\\uc5b4 \\uc788\\uc73c\\uba70 \\uc774\\ub97c \\ud1b5\\ud574 \\uae30\\uc5c5\\uc758 \\uc9c0\\uc18d \\uac00\\ub2a5\\uc131\\uc774 \\uac15\\ud654\\ub41c\\ub2e4\",\n          \"\\uacf5\\uc815\\ud55c \\ube44\\ud310\\uc740 \\uc0c1\\ub300\\ubc29\\uc758 \\uc758\\uacac\\uc744 \\uc874\\uc911\\ud558\\uba70 \\uc2dc\\uc791\\ub41c\\ub2e4\",\n          \"\\ub530\\ub77c\\uc11c \\uaddc\\uc81c \\uac1c\\ud601\\uc740 \\uad50\\uc721 \\uc2dc\\uc2a4\\ud15c\\uc758 \\ud6a8\\uc728\\uc131\\uacfc \\ud6a8\\uacfc\\uc131\\uc744 \\ub192\\uc774\\ub294 \\ub370 \\ud544\\uc218\\uc801\\uc774\\ub2e4\"\n        ],\n        \"semantic_type\": \"\",\n        \"description\": \"\"\n      }\n    },\n    {\n      \"column\": \"label\",\n      \"properties\": {\n        \"dtype\": \"number\",\n        \"std\": 0,\n        \"min\": 0,\n        \"max\": 1,\n        \"num_unique_values\": 2,\n        \"samples\": [\n          1,\n          0\n        ],\n        \"semantic_type\": \"\",\n        \"description\": \"\"\n      }\n    }\n  ]\n}"
            }
          },
          "metadata": {},
          "execution_count": 17
        }
      ],
      "source": [
        "pairwise_df.info()\n",
        "pairwise_df.head()"
      ]
    },
    {
      "cell_type": "code",
      "execution_count": 18,
      "metadata": {
        "colab": {
          "base_uri": "https://localhost:8080/",
          "height": 178
        },
        "id": "9RIT51pZaNg3",
        "outputId": "6139aa56-40e4-44b0-e0eb-a1e3cb66d961"
      },
      "outputs": [
        {
          "output_type": "execute_result",
          "data": {
            "text/plain": [
              "label\n",
              "0    66159\n",
              "1    22053\n",
              "Name: count, dtype: int64"
            ],
            "text/html": [
              "<div>\n",
              "<style scoped>\n",
              "    .dataframe tbody tr th:only-of-type {\n",
              "        vertical-align: middle;\n",
              "    }\n",
              "\n",
              "    .dataframe tbody tr th {\n",
              "        vertical-align: top;\n",
              "    }\n",
              "\n",
              "    .dataframe thead th {\n",
              "        text-align: right;\n",
              "    }\n",
              "</style>\n",
              "<table border=\"1\" class=\"dataframe\">\n",
              "  <thead>\n",
              "    <tr style=\"text-align: right;\">\n",
              "      <th></th>\n",
              "      <th>count</th>\n",
              "    </tr>\n",
              "    <tr>\n",
              "      <th>label</th>\n",
              "      <th></th>\n",
              "    </tr>\n",
              "  </thead>\n",
              "  <tbody>\n",
              "    <tr>\n",
              "      <th>0</th>\n",
              "      <td>66159</td>\n",
              "    </tr>\n",
              "    <tr>\n",
              "      <th>1</th>\n",
              "      <td>22053</td>\n",
              "    </tr>\n",
              "  </tbody>\n",
              "</table>\n",
              "</div><br><label><b>dtype:</b> int64</label>"
            ]
          },
          "metadata": {},
          "execution_count": 18
        }
      ],
      "source": [
        "# 클래스 균형 확인\n",
        "pairwise_df['label'].value_counts()"
      ]
    },
    {
      "cell_type": "code",
      "execution_count": 19,
      "metadata": {
        "colab": {
          "base_uri": "https://localhost:8080/"
        },
        "id": "xbBTegWeaNg6",
        "outputId": "11222682-5b1a-4e6e-ccdd-ac410f221030"
      },
      "outputs": [
        {
          "output_type": "stream",
          "name": "stdout",
          "text": [
            "Class Weights: tensor([0.6667, 2.0000])\n"
          ]
        }
      ],
      "source": [
        "# 클래스별 샘플 수\n",
        "num_zeros = pairwise_df['label'].value_counts()[0]\n",
        "num_ones = pairwise_df['label'].value_counts()[1]\n",
        "\n",
        "# 클래스 비율 기반 가중치 (클래스 1이 적으므로 더 큰 가중치)\n",
        "total = num_zeros + num_ones\n",
        "weight_for_0 = total / (2 * num_zeros)\n",
        "weight_for_1 = total / (2 * num_ones)\n",
        "\n",
        "class_weights = torch.tensor(\n",
        "    [weight_for_0, weight_for_1],\n",
        "    dtype=torch.float\n",
        ")\n",
        "print(\"Class Weights:\", class_weights)"
      ]
    },
    {
      "cell_type": "markdown",
      "metadata": {
        "id": "_Mv7ZWUxry0S"
      },
      "source": [
        "# 2. 데이터셋 구성"
      ]
    },
    {
      "cell_type": "code",
      "execution_count": 20,
      "metadata": {
        "id": "WoZAQYecaNh_"
      },
      "outputs": [],
      "source": [
        "MAX_TOKEN_LENGTH = 128"
      ]
    },
    {
      "cell_type": "code",
      "execution_count": 21,
      "metadata": {
        "id": "KDg85MFdrt5i"
      },
      "outputs": [],
      "source": [
        "# 데이터셋 클래스 정의\n",
        "class SentencePairDataset(Dataset):\n",
        "    \"\"\"\n",
        "    문장 쌍을 받아 BERT 입력 형식으로 변환하는 PyTorch Dataset 클래스\n",
        "\n",
        "    Args:\n",
        "        texts (List[Tuple[str, str]]): (문장1, 문장2) 형태의 튜플 리스트\n",
        "        labels (List[int]): 문장 순서가 맞는지 여부를 나타내는 정수 레이블 (예: 0 또는 1)\n",
        "        tokenizer (transformers.PreTrainedTokenizer): HuggingFace 토크나이저 객체\n",
        "        max_length (int): 토큰 최대 길이 (default=128)\n",
        "    \"\"\"\n",
        "    def __init__(self, dataframe, tokenizer, max_length=MAX_TOKEN_LENGTH):\n",
        "        self.data = dataframe\n",
        "        self.tokenizer = tokenizer\n",
        "        self.max_length = max_length\n",
        "\n",
        "    def __len__(self):\n",
        "        return len(self.data)\n",
        "\n",
        "    def __getitem__(self, idx):\n",
        "        row = self.data.iloc[idx]\n",
        "        encoding = self.tokenizer(\n",
        "            row['sentence1'],\n",
        "            row['sentence2'],\n",
        "            padding='max_length',\n",
        "            truncation=True,\n",
        "            max_length=self.max_length,\n",
        "            return_tensors='pt'\n",
        "        )\n",
        "\n",
        "        item = {\n",
        "            'input_ids': encoding['input_ids'][0],\n",
        "            'attention_mask': encoding['attention_mask'][0],\n",
        "            'labels': torch.tensor(row['label'], dtype=torch.long)\n",
        "        }\n",
        "\n",
        "        if 'token_type_ids' in encoding:\n",
        "            item['token_type_ids'] = encoding['token_type_ids'][0]\n",
        "\n",
        "        return item"
      ]
    },
    {
      "cell_type": "markdown",
      "metadata": {
        "id": "08CKaGEstwkh"
      },
      "source": [
        "# 3. 모델 아키텍쳐"
      ]
    },
    {
      "cell_type": "code",
      "execution_count": 22,
      "metadata": {
        "id": "bdW8qETUsekT"
      },
      "outputs": [],
      "source": [
        "class SentencePairModel(nn.Module):\n",
        "    def __init__(self, model_name, num_labels=2, class_weights=None):\n",
        "        super(SentencePairModel, self).__init__()\n",
        "        self.bert = AutoModel.from_pretrained(model_name)\n",
        "        self.dropout = nn.Dropout(0.1)\n",
        "        self.classifier = nn.Linear(self.bert.config.hidden_size, num_labels)\n",
        "        if class_weights is not None:\n",
        "            self.loss_fn = nn.CrossEntropyLoss(weight=class_weights)\n",
        "        else:\n",
        "            self.loss_fn = nn.CrossEntropyLoss()\n",
        "\n",
        "    def forward(self, input_ids, attention_mask=None, token_type_ids=None, labels=None):\n",
        "        outputs = self.bert(input_ids=input_ids,\n",
        "                            attention_mask=attention_mask,\n",
        "                            token_type_ids=token_type_ids,\n",
        "                            output_hidden_states=True,\n",
        "                            return_dict=True)\n",
        "\n",
        "        # 마지막 4개 hidden layer 평균\n",
        "        hidden_states = outputs.hidden_states  # Tuple of (layer_num, batch, seq_len, hidden)\n",
        "        last_four = torch.stack(hidden_states[-4:])     # shape: (4, batch, seq_len, hidden)\n",
        "        avg_hidden = torch.mean(last_four, dim=0)       # shape: (batch, seq_len, hidden)\n",
        "        cls_output = avg_hidden[:, 0]                   # [CLS] 위치만 추출\n",
        "\n",
        "        cls_output = self.dropout(cls_output)\n",
        "        logits = self.classifier(cls_output)\n",
        "\n",
        "        loss = None\n",
        "        if labels is not None:\n",
        "            loss = self.loss_fn(logits, labels)\n",
        "\n",
        "        return {'loss': loss, 'logits': logits}"
      ]
    },
    {
      "cell_type": "markdown",
      "metadata": {
        "id": "BGQ9BuV0aNjJ"
      },
      "source": [
        "# 4. 학습 코드"
      ]
    },
    {
      "cell_type": "code",
      "execution_count": 23,
      "metadata": {
        "colab": {
          "base_uri": "https://localhost:8080/"
        },
        "id": "9t4FfyC-aNjQ",
        "outputId": "4554ea82-028e-40a2-a053-bab03a5ef6e2"
      },
      "outputs": [
        {
          "output_type": "stream",
          "name": "stderr",
          "text": [
            "/usr/local/lib/python3.11/dist-packages/huggingface_hub/utils/_auth.py:94: UserWarning: \n",
            "The secret `HF_TOKEN` does not exist in your Colab secrets.\n",
            "To authenticate with the Hugging Face Hub, create a token in your settings tab (https://huggingface.co/settings/tokens), set it as secret in your Google Colab and restart your session.\n",
            "You will be able to reuse this secret in all of your notebooks.\n",
            "Please note that authentication is recommended but still optional to access public models or datasets.\n",
            "  warnings.warn(\n"
          ]
        }
      ],
      "source": [
        "# 토크나이저 초기화\n",
        "tokenizer = AutoTokenizer.from_pretrained('klue/roberta-base')"
      ]
    },
    {
      "cell_type": "code",
      "execution_count": 24,
      "metadata": {
        "id": "o5dvbfNUaNjR"
      },
      "outputs": [],
      "source": [
        "# 데이터 분할: 학습/검증 (예: 8:2)\n",
        "train_df, val_df = train_test_split(pairwise_df, test_size=0.2, stratify=pairwise_df['label'], random_state=42)\n",
        "\n",
        "# dataset 생성\n",
        "train_dataset = SentencePairDataset(train_df, tokenizer, max_length=MAX_TOKEN_LENGTH)\n",
        "val_dataset = SentencePairDataset(val_df, tokenizer, max_length=MAX_TOKEN_LENGTH)"
      ]
    },
    {
      "cell_type": "code",
      "execution_count": 25,
      "metadata": {
        "colab": {
          "base_uri": "https://localhost:8080/"
        },
        "id": "TAlhgMUnaNkV",
        "outputId": "39b59c82-ab6e-4eba-c6ba-1d7551006085"
      },
      "outputs": [
        {
          "output_type": "execute_result",
          "data": {
            "text/plain": [
              "{'input_ids': tensor([    0,  5268,  2470,  6881,  4392,  2259, 15259,  2079,  1754,  2522,\n",
              "          5035,  8309,  2170,  3653, 12462,     2,  6261,  2052,  5098,  2119,\n",
              "         11700,  2200, 14368,  6620,  2088,  1123,  2052,  5373,  2170,  5984,\n",
              "          2205,  2318,   822,  2227,  2275,  3605,     2,     1,     1,     1,\n",
              "             1,     1,     1,     1,     1,     1,     1,     1,     1,     1,\n",
              "             1,     1,     1,     1,     1,     1,     1,     1,     1,     1,\n",
              "             1,     1,     1,     1,     1,     1,     1,     1,     1,     1,\n",
              "             1,     1,     1,     1,     1,     1,     1,     1,     1,     1,\n",
              "             1,     1,     1,     1,     1,     1,     1,     1,     1,     1,\n",
              "             1,     1,     1,     1,     1,     1,     1,     1,     1,     1,\n",
              "             1,     1,     1,     1,     1,     1,     1,     1,     1,     1,\n",
              "             1,     1,     1,     1,     1,     1,     1,     1,     1,     1,\n",
              "             1,     1,     1,     1,     1,     1,     1,     1]),\n",
              " 'attention_mask': tensor([1, 1, 1, 1, 1, 1, 1, 1, 1, 1, 1, 1, 1, 1, 1, 1, 1, 1, 1, 1, 1, 1, 1, 1,\n",
              "         1, 1, 1, 1, 1, 1, 1, 1, 1, 1, 1, 1, 1, 0, 0, 0, 0, 0, 0, 0, 0, 0, 0, 0,\n",
              "         0, 0, 0, 0, 0, 0, 0, 0, 0, 0, 0, 0, 0, 0, 0, 0, 0, 0, 0, 0, 0, 0, 0, 0,\n",
              "         0, 0, 0, 0, 0, 0, 0, 0, 0, 0, 0, 0, 0, 0, 0, 0, 0, 0, 0, 0, 0, 0, 0, 0,\n",
              "         0, 0, 0, 0, 0, 0, 0, 0, 0, 0, 0, 0, 0, 0, 0, 0, 0, 0, 0, 0, 0, 0, 0, 0,\n",
              "         0, 0, 0, 0, 0, 0, 0, 0]),\n",
              " 'labels': tensor(1),\n",
              " 'token_type_ids': tensor([0, 0, 0, 0, 0, 0, 0, 0, 0, 0, 0, 0, 0, 0, 0, 0, 0, 0, 0, 0, 0, 0, 0, 0,\n",
              "         0, 0, 0, 0, 0, 0, 0, 0, 0, 0, 0, 0, 0, 0, 0, 0, 0, 0, 0, 0, 0, 0, 0, 0,\n",
              "         0, 0, 0, 0, 0, 0, 0, 0, 0, 0, 0, 0, 0, 0, 0, 0, 0, 0, 0, 0, 0, 0, 0, 0,\n",
              "         0, 0, 0, 0, 0, 0, 0, 0, 0, 0, 0, 0, 0, 0, 0, 0, 0, 0, 0, 0, 0, 0, 0, 0,\n",
              "         0, 0, 0, 0, 0, 0, 0, 0, 0, 0, 0, 0, 0, 0, 0, 0, 0, 0, 0, 0, 0, 0, 0, 0,\n",
              "         0, 0, 0, 0, 0, 0, 0, 0])}"
            ]
          },
          "metadata": {},
          "execution_count": 25
        }
      ],
      "source": [
        "train_dataset[0]"
      ]
    },
    {
      "cell_type": "code",
      "execution_count": 26,
      "metadata": {
        "colab": {
          "base_uri": "https://localhost:8080/"
        },
        "id": "ntpaZWHpaNkW",
        "outputId": "e0eabe34-2c7f-4e53-c75f-e805d0e7502a"
      },
      "outputs": [
        {
          "output_type": "execute_result",
          "data": {
            "text/plain": [
              "{'input_ids': tensor([    0,  3731, 11187,  3738,  2079,  5211,  3962,  2259,  3839,  2470,\n",
              "          5629,  2470,  5230,  2333,  2048,  2079, 11920,  2200,  8045,     2,\n",
              "         18772,  2266, 14486,  2073,  5211,  2079,  3962,  2522,  6747,  2138,\n",
              "          3923,  2205,  2259,   842,  5588, 31221,  4038,  3993, 28674,     2,\n",
              "             1,     1,     1,     1,     1,     1,     1,     1,     1,     1,\n",
              "             1,     1,     1,     1,     1,     1,     1,     1,     1,     1,\n",
              "             1,     1,     1,     1,     1,     1,     1,     1,     1,     1,\n",
              "             1,     1,     1,     1,     1,     1,     1,     1,     1,     1,\n",
              "             1,     1,     1,     1,     1,     1,     1,     1,     1,     1,\n",
              "             1,     1,     1,     1,     1,     1,     1,     1,     1,     1,\n",
              "             1,     1,     1,     1,     1,     1,     1,     1,     1,     1,\n",
              "             1,     1,     1,     1,     1,     1,     1,     1,     1,     1,\n",
              "             1,     1,     1,     1,     1,     1,     1,     1]),\n",
              " 'attention_mask': tensor([1, 1, 1, 1, 1, 1, 1, 1, 1, 1, 1, 1, 1, 1, 1, 1, 1, 1, 1, 1, 1, 1, 1, 1,\n",
              "         1, 1, 1, 1, 1, 1, 1, 1, 1, 1, 1, 1, 1, 1, 1, 1, 0, 0, 0, 0, 0, 0, 0, 0,\n",
              "         0, 0, 0, 0, 0, 0, 0, 0, 0, 0, 0, 0, 0, 0, 0, 0, 0, 0, 0, 0, 0, 0, 0, 0,\n",
              "         0, 0, 0, 0, 0, 0, 0, 0, 0, 0, 0, 0, 0, 0, 0, 0, 0, 0, 0, 0, 0, 0, 0, 0,\n",
              "         0, 0, 0, 0, 0, 0, 0, 0, 0, 0, 0, 0, 0, 0, 0, 0, 0, 0, 0, 0, 0, 0, 0, 0,\n",
              "         0, 0, 0, 0, 0, 0, 0, 0]),\n",
              " 'labels': tensor(0),\n",
              " 'token_type_ids': tensor([0, 0, 0, 0, 0, 0, 0, 0, 0, 0, 0, 0, 0, 0, 0, 0, 0, 0, 0, 0, 0, 0, 0, 0,\n",
              "         0, 0, 0, 0, 0, 0, 0, 0, 0, 0, 0, 0, 0, 0, 0, 0, 0, 0, 0, 0, 0, 0, 0, 0,\n",
              "         0, 0, 0, 0, 0, 0, 0, 0, 0, 0, 0, 0, 0, 0, 0, 0, 0, 0, 0, 0, 0, 0, 0, 0,\n",
              "         0, 0, 0, 0, 0, 0, 0, 0, 0, 0, 0, 0, 0, 0, 0, 0, 0, 0, 0, 0, 0, 0, 0, 0,\n",
              "         0, 0, 0, 0, 0, 0, 0, 0, 0, 0, 0, 0, 0, 0, 0, 0, 0, 0, 0, 0, 0, 0, 0, 0,\n",
              "         0, 0, 0, 0, 0, 0, 0, 0])}"
            ]
          },
          "metadata": {},
          "execution_count": 26
        }
      ],
      "source": [
        "val_dataset[0]"
      ]
    },
    {
      "cell_type": "code",
      "execution_count": 27,
      "metadata": {
        "colab": {
          "base_uri": "https://localhost:8080/"
        },
        "id": "LhAp3HZBaNld",
        "outputId": "0eec56b7-4f6e-4802-88c1-dfe4dc79513b"
      },
      "outputs": [
        {
          "output_type": "stream",
          "name": "stderr",
          "text": [
            "Some weights of RobertaModel were not initialized from the model checkpoint at klue/roberta-base and are newly initialized: ['pooler.dense.bias', 'pooler.dense.weight']\n",
            "You should probably TRAIN this model on a down-stream task to be able to use it for predictions and inference.\n"
          ]
        }
      ],
      "source": [
        "# GPU 사용 여부 확인\n",
        "device = torch.device('cuda' if torch.cuda.is_available() else 'cpu')\n",
        "\n",
        "# 가중치를 모델과 같은 device로 이동\n",
        "class_weights = class_weights.to(device)\n",
        "\n",
        "# 모델 인스턴스 생성\n",
        "model = SentencePairModel(\"klue/roberta-base\", class_weights=class_weights).to(device)"
      ]
    },
    {
      "cell_type": "code",
      "execution_count": 28,
      "metadata": {
        "id": "GE6CdCl6aNli"
      },
      "outputs": [],
      "source": [
        "def compute_metrics(pred):\n",
        "    logits, labels = pred\n",
        "    preds = logits.argmax(axis=1)\n",
        "\n",
        "    return {\n",
        "        'accuracy': accuracy_score(labels, preds),\n",
        "        'f1': f1_score(labels, preds),\n",
        "        'precision': precision_score(labels, preds),\n",
        "        'recall': recall_score(labels, preds)\n",
        "    }"
      ]
    },
    {
      "cell_type": "code",
      "execution_count": 29,
      "metadata": {
        "id": "WKFxdTH3seXe",
        "colab": {
          "base_uri": "https://localhost:8080/",
          "height": 573
        },
        "outputId": "7bfdf028-8f0b-4890-9402-fea828c47fc7"
      },
      "outputs": [
        {
          "metadata": {
            "tags": null
          },
          "name": "stderr",
          "output_type": "stream",
          "text": [
            "\u001b[34m\u001b[1mwandb\u001b[0m: \u001b[33mWARNING\u001b[0m The `run_name` is currently set to the same value as `TrainingArguments.output_dir`. If this was not intended, please specify a different run name by setting the `TrainingArguments.run_name` parameter.\n"
          ]
        },
        {
          "data": {
            "application/javascript": [
              "\n",
              "        window._wandbApiKey = new Promise((resolve, reject) => {\n",
              "            function loadScript(url) {\n",
              "            return new Promise(function(resolve, reject) {\n",
              "                let newScript = document.createElement(\"script\");\n",
              "                newScript.onerror = reject;\n",
              "                newScript.onload = resolve;\n",
              "                document.body.appendChild(newScript);\n",
              "                newScript.src = url;\n",
              "            });\n",
              "            }\n",
              "            loadScript(\"https://cdn.jsdelivr.net/npm/postmate/build/postmate.min.js\").then(() => {\n",
              "            const iframe = document.createElement('iframe')\n",
              "            iframe.style.cssText = \"width:0;height:0;border:none\"\n",
              "            document.body.appendChild(iframe)\n",
              "            const handshake = new Postmate({\n",
              "                container: iframe,\n",
              "                url: 'https://wandb.ai/authorize'\n",
              "            });\n",
              "            const timeout = setTimeout(() => reject(\"Couldn't auto authenticate\"), 5000)\n",
              "            handshake.then(function(child) {\n",
              "                child.on('authorize', data => {\n",
              "                    clearTimeout(timeout)\n",
              "                    resolve(data)\n",
              "                });\n",
              "            });\n",
              "            })\n",
              "        });\n",
              "    "
            ],
            "text/plain": [
              "<IPython.core.display.Javascript object>"
            ]
          },
          "metadata": {},
          "output_type": "display_data"
        },
        {
          "metadata": {
            "tags": null
          },
          "name": "stderr",
          "output_type": "stream",
          "text": [
            "\u001b[34m\u001b[1mwandb\u001b[0m: Logging into wandb.ai. (Learn how to deploy a W&B server locally: https://wandb.me/wandb-server)\n",
            "\u001b[34m\u001b[1mwandb\u001b[0m: You can find your API key in your browser here: https://wandb.ai/authorize?ref=models\n",
            "wandb: Paste an API key from your profile and hit enter:\u001b[34m\u001b[1mwandb\u001b[0m: \u001b[33mWARNING\u001b[0m If you're specifying your api key in code, ensure this code is not shared publicly.\n",
            "\u001b[34m\u001b[1mwandb\u001b[0m: \u001b[33mWARNING\u001b[0m Consider setting the WANDB_API_KEY environment variable, or running `wandb login` from the command line.\n",
            "\u001b[34m\u001b[1mwandb\u001b[0m: No netrc file found, creating one.\n",
            "\u001b[34m\u001b[1mwandb\u001b[0m: Appending key for api.wandb.ai to your netrc file: /root/.netrc\n",
            "\u001b[34m\u001b[1mwandb\u001b[0m: Currently logged in as: \u001b[33mviolay2002\u001b[0m (\u001b[33mviolay2002-chung-ang-university\u001b[0m) to \u001b[32mhttps://api.wandb.ai\u001b[0m. Use \u001b[1m`wandb login --relogin`\u001b[0m to force relogin\n"
          ]
        },
        {
          "data": {
            "text/html": [
              "Tracking run with wandb version 0.19.11"
            ],
            "text/plain": [
              "<IPython.core.display.HTML object>"
            ]
          },
          "metadata": {},
          "output_type": "display_data"
        },
        {
          "data": {
            "text/html": [
              "Run data is saved locally in <code>/content/drive/MyDrive/강의/AI를 위한 딥러닝/AI_DL_Project/code/wandb/run-20250516_024845-x1z6dzme</code>"
            ],
            "text/plain": [
              "<IPython.core.display.HTML object>"
            ]
          },
          "metadata": {},
          "output_type": "display_data"
        },
        {
          "data": {
            "text/html": [
              "Syncing run <strong><a href='https://wandb.ai/violay2002-chung-ang-university/huggingface/runs/x1z6dzme' target=\"_blank\">./results</a></strong> to <a href='https://wandb.ai/violay2002-chung-ang-university/huggingface' target=\"_blank\">Weights & Biases</a> (<a href='https://wandb.me/developer-guide' target=\"_blank\">docs</a>)<br>"
            ],
            "text/plain": [
              "<IPython.core.display.HTML object>"
            ]
          },
          "metadata": {},
          "output_type": "display_data"
        },
        {
          "data": {
            "text/html": [
              " View project at <a href='https://wandb.ai/violay2002-chung-ang-university/huggingface' target=\"_blank\">https://wandb.ai/violay2002-chung-ang-university/huggingface</a>"
            ],
            "text/plain": [
              "<IPython.core.display.HTML object>"
            ]
          },
          "metadata": {},
          "output_type": "display_data"
        },
        {
          "data": {
            "text/html": [
              " View run at <a href='https://wandb.ai/violay2002-chung-ang-university/huggingface/runs/x1z6dzme' target=\"_blank\">https://wandb.ai/violay2002-chung-ang-university/huggingface/runs/x1z6dzme</a>"
            ],
            "text/plain": [
              "<IPython.core.display.HTML object>"
            ]
          },
          "metadata": {},
          "output_type": "display_data"
        },
        {
          "data": {
            "text/html": [
              "\n",
              "    <div>\n",
              "      \n",
              "      <progress value='5533' max='13233' style='width:300px; height:20px; vertical-align: middle;'></progress>\n",
              "      [ 5533/13233 34:09 < 47:33, 2.70 it/s, Epoch 1.25/3]\n",
              "    </div>\n",
              "    <table border=\"1\" class=\"dataframe\">\n",
              "  <thead>\n",
              " <tr style=\"text-align: left;\">\n",
              "      <th>Epoch</th>\n",
              "      <th>Training Loss</th>\n",
              "      <th>Validation Loss</th>\n",
              "      <th>Accuracy</th>\n",
              "      <th>F1</th>\n",
              "      <th>Precision</th>\n",
              "      <th>Recall</th>\n",
              "    </tr>\n",
              "  </thead>\n",
              "  <tbody>\n",
              "    <tr>\n",
              "      <td>1</td>\n",
              "      <td>0.595100</td>\n",
              "      <td>0.572616</td>\n",
              "      <td>0.774812</td>\n",
              "      <td>0.625012</td>\n",
              "      <td>0.535414</td>\n",
              "      <td>0.750623</td>\n",
              "    </tr>\n",
              "  </tbody>\n",
              "</table><p>"
            ],
            "text/plain": [
              "<IPython.core.display.HTML object>"
            ]
          },
          "metadata": {},
          "output_type": "display_data"
        },
        {
          "output_type": "display_data",
          "data": {
            "text/plain": [
              "<IPython.core.display.HTML object>"
            ],
            "text/html": [
              "\n",
              "    <div>\n",
              "      \n",
              "      <progress value='13233' max='13233' style='width:300px; height:20px; vertical-align: middle;'></progress>\n",
              "      [13233/13233 1:23:02, Epoch 3/3]\n",
              "    </div>\n",
              "    <table border=\"1\" class=\"dataframe\">\n",
              "  <thead>\n",
              " <tr style=\"text-align: left;\">\n",
              "      <th>Epoch</th>\n",
              "      <th>Training Loss</th>\n",
              "      <th>Validation Loss</th>\n",
              "      <th>Accuracy</th>\n",
              "      <th>F1</th>\n",
              "      <th>Precision</th>\n",
              "      <th>Recall</th>\n",
              "    </tr>\n",
              "  </thead>\n",
              "  <tbody>\n",
              "    <tr>\n",
              "      <td>1</td>\n",
              "      <td>0.595100</td>\n",
              "      <td>0.572616</td>\n",
              "      <td>0.774812</td>\n",
              "      <td>0.625012</td>\n",
              "      <td>0.535414</td>\n",
              "      <td>0.750623</td>\n",
              "    </tr>\n",
              "    <tr>\n",
              "      <td>2</td>\n",
              "      <td>0.361500</td>\n",
              "      <td>0.420362</td>\n",
              "      <td>0.827920</td>\n",
              "      <td>0.702002</td>\n",
              "      <td>0.619006</td>\n",
              "      <td>0.810701</td>\n",
              "    </tr>\n",
              "    <tr>\n",
              "      <td>3</td>\n",
              "      <td>0.319400</td>\n",
              "      <td>0.438652</td>\n",
              "      <td>0.858357</td>\n",
              "      <td>0.733894</td>\n",
              "      <td>0.691968</td>\n",
              "      <td>0.781229</td>\n",
              "    </tr>\n",
              "  </tbody>\n",
              "</table><p>"
            ]
          },
          "metadata": {}
        },
        {
          "output_type": "execute_result",
          "data": {
            "text/plain": [
              "TrainOutput(global_step=13233, training_loss=0.44601002383969013, metrics={'train_runtime': 5022.2172, 'train_samples_per_second': 42.154, 'train_steps_per_second': 2.635, 'total_flos': 0.0, 'train_loss': 0.44601002383969013, 'epoch': 3.0})"
            ]
          },
          "metadata": {},
          "execution_count": 29
        }
      ],
      "source": [
        "# 학습 인자 설정\n",
        "training_args = TrainingArguments(\n",
        "    output_dir='./results',               # 체크포인트와 결과 저장 폴더\n",
        "    num_train_epochs=3,                   # 학습 epoch 수\n",
        "    per_device_train_batch_size=16,       # 학습 시 디바이스당 배치 사이즈\n",
        "    per_device_eval_batch_size=64,        # 검증 시 디바이스당 배치 사이즈\n",
        "    warmup_steps=500,                     # 워밍업 단계에서 학습률 선형 증가\n",
        "    weight_decay=0.01,                    # AdamW optimizer의 weight decay 값\n",
        "    logging_dir='./logs',                 # 로깅 파일 저장 경로\n",
        "    logging_steps=10,                     # 로그를 몇 스텝마다 남길지\n",
        "    save_strategy='epoch',                # epoch마다 체크포인트 저장\n",
        "    eval_strategy='epoch',\n",
        "\n",
        "    # EarlyStoppingCallback 필수 옵션\n",
        "    load_best_model_at_end=True,           # 학습이 끝난 뒤 최적 모델 불러오기\n",
        "    metric_for_best_model='accuracy',      # 대회 평가 산식 monitor\n",
        "    greater_is_better=True,                 # 메트릭이 클수록 좋은 경우 True\n",
        "    seed=42\n",
        ")\n",
        "\n",
        "# 트레이너 초기화\n",
        "trainer = Trainer(\n",
        "    model=model,\n",
        "    args=training_args,\n",
        "    train_dataset=train_dataset,\n",
        "    eval_dataset=val_dataset,\n",
        "    compute_metrics=compute_metrics,\n",
        "    callbacks=[EarlyStoppingCallback(early_stopping_patience=2)]\n",
        "   )\n",
        "\n",
        "# 학습 실행\n",
        "trainer.train()"
      ]
    },
    {
      "cell_type": "code",
      "execution_count": 30,
      "metadata": {
        "colab": {
          "base_uri": "https://localhost:8080/",
          "height": 77
        },
        "id": "bYUrxfhuaNlk",
        "outputId": "b298cd3e-81d2-468c-e9b9-e52572633ad4"
      },
      "outputs": [
        {
          "output_type": "display_data",
          "data": {
            "text/plain": [
              "<IPython.core.display.HTML object>"
            ],
            "text/html": [
              "\n",
              "    <div>\n",
              "      \n",
              "      <progress value='276' max='276' style='width:300px; height:20px; vertical-align: middle;'></progress>\n",
              "      [276/276 01:53]\n",
              "    </div>\n",
              "    "
            ]
          },
          "metadata": {}
        },
        {
          "output_type": "stream",
          "name": "stdout",
          "text": [
            "Validation Results: {'eval_loss': 0.43865206837654114, 'eval_accuracy': 0.8583574222071076, 'eval_f1': 0.7338941539772122, 'eval_precision': 0.6919678714859437, 'eval_recall': 0.7812287463160281, 'eval_runtime': 114.423, 'eval_samples_per_second': 154.191, 'eval_steps_per_second': 2.412, 'epoch': 3.0}\n"
          ]
        }
      ],
      "source": [
        "# epoch 마지막 또는 전체 학습 후 평가\n",
        "eval_results = trainer.evaluate()\n",
        "print(\"Validation Results:\", eval_results)"
      ]
    },
    {
      "cell_type": "code",
      "execution_count": null,
      "metadata": {
        "id": "rozOpzIaaNll"
      },
      "outputs": [],
      "source": [
        "# 모델 저장\n",
        "trainer.save_model(\"./results/final_model\")"
      ]
    },
    {
      "cell_type": "markdown",
      "metadata": {
        "id": "mK4J8InUaNln"
      },
      "source": [
        "# 5. 평가 및 추론"
      ]
    },
    {
      "cell_type": "code",
      "execution_count": 32,
      "metadata": {
        "id": "aa2a47e7s0RE"
      },
      "outputs": [],
      "source": [
        "def predict_order(sent1, sent2, model, tokenizer, device='cpu'):\n",
        "    model.eval()\n",
        "    inputs = tokenizer(\n",
        "        sent1,\n",
        "        sent2,\n",
        "        return_tensors='pt',\n",
        "        padding=True,\n",
        "        truncation=True,\n",
        "        max_length=MAX_TOKEN_LENGTH\n",
        "    )\n",
        "    inputs = {k: v.to(device) for k, v in inputs.items()}\n",
        "\n",
        "    with torch.no_grad():\n",
        "        outputs = model(**inputs)\n",
        "        predictions = torch.softmax(outputs['logits'], dim=1)\n",
        "\n",
        "    return predictions, predictions.argmax().item()"
      ]
    },
    {
      "cell_type": "markdown",
      "source": [
        "# 6. 페어와이즈 예측 함수"
      ],
      "metadata": {
        "id": "scoR4Ph6-H5r"
      }
    },
    {
      "cell_type": "code",
      "source": [
        "def pair_score(s1, s2):\n",
        "    probs, _ = predict_order(s1, s2, model, tokenizer, device)\n",
        "    return probs[0][1].item()  # label=1 확률"
      ],
      "metadata": {
        "id": "1tEouf7r-GkX"
      },
      "execution_count": 33,
      "outputs": []
    },
    {
      "cell_type": "markdown",
      "source": [
        "# 7. 순열별 점수 계산 후 최적 순서 선택"
      ],
      "metadata": {
        "id": "s68LbODo-MCz"
      }
    },
    {
      "cell_type": "code",
      "source": [
        "pred_orders = []\n",
        "pred_scores = []\n",
        "\n",
        "# 테스트 샘플 수 만큼 반복\n",
        "for idx, (_, row) in enumerate(tqdm(test.iterrows(),\n",
        "                                     total=len(test),\n",
        "                                     desc=\"문장 순서 예측\")):\n",
        "    sents = [row[f'sentence_{i}'] for i in range(4)]\n",
        "\n",
        "    best_perm, best_score = None, -1.0\n",
        "    # 24가지 순열 전부 탐색\n",
        "    for perm in permutations(range(4), 4):\n",
        "        # 인접 페어 3개의 점수 합산\n",
        "        score = sum(pair_score(sents[perm[i]], sents[perm[i+1]])\n",
        "                    for i in range(3))\n",
        "        if score > best_score:\n",
        "            best_score, best_perm = score, perm\n",
        "\n",
        "    pred_orders.append(best_perm)\n",
        "    pred_scores.append(best_score)\n",
        "\n",
        "    # 매 50개마다 로그 출력\n",
        "    if (idx + 1) % 50 == 0:\n",
        "        print(f\"[{idx+1}/{len(test)}] 현재까지 최고 평균 스코어: {np.mean(pred_scores):.4f}\")"
      ],
      "metadata": {
        "colab": {
          "base_uri": "https://localhost:8080/",
          "height": 703,
          "referenced_widgets": [
            "c4b8273e5ab74e4bb3099cbfb6bb5cf5",
            "8333fc73432c4a359063594c46c69d64",
            "97b856bf84e44b4883a59f74bbb1774b",
            "e11d54ca039f4463803ef1aa2ff7f130",
            "b1826f8ed7cb41d4a29c031908b915b3",
            "d10fb39b799848689546f8573fd0dff1",
            "bb0927d677ea4672bd595184a33aae45",
            "3cdb9a5be3794282b222ef36aadd69c7",
            "b22cf57457c840b5b8c3c6bc34bb876a",
            "eb7ebbd275b6426b8b088e09a51bef7a",
            "d47d8012ca7b4484a27ab9745e12a690"
          ]
        },
        "id": "nCBnV8gx-L1x",
        "outputId": "4c3f60d7-4581-4f7f-b063-ae8d36242fcd"
      },
      "execution_count": 39,
      "outputs": [
        {
          "output_type": "display_data",
          "data": {
            "text/plain": [
              "문장 순서 예측:   0%|          | 0/1780 [00:00<?, ?it/s]"
            ],
            "application/vnd.jupyter.widget-view+json": {
              "version_major": 2,
              "version_minor": 0,
              "model_id": "c4b8273e5ab74e4bb3099cbfb6bb5cf5"
            }
          },
          "metadata": {}
        },
        {
          "output_type": "stream",
          "name": "stdout",
          "text": [
            "[50/1780] 현재까지 최고 평균 스코어: 2.4576\n",
            "[100/1780] 현재까지 최고 평균 스코어: 2.4940\n",
            "[150/1780] 현재까지 최고 평균 스코어: 2.4813\n",
            "[200/1780] 현재까지 최고 평균 스코어: 2.4468\n",
            "[250/1780] 현재까지 최고 평균 스코어: 2.4480\n",
            "[300/1780] 현재까지 최고 평균 스코어: 2.4339\n",
            "[350/1780] 현재까지 최고 평균 스코어: 2.4259\n",
            "[400/1780] 현재까지 최고 평균 스코어: 2.4199\n",
            "[450/1780] 현재까지 최고 평균 스코어: 2.4210\n",
            "[500/1780] 현재까지 최고 평균 스코어: 2.4267\n",
            "[550/1780] 현재까지 최고 평균 스코어: 2.4293\n",
            "[600/1780] 현재까지 최고 평균 스코어: 2.4193\n",
            "[650/1780] 현재까지 최고 평균 스코어: 2.4200\n",
            "[700/1780] 현재까지 최고 평균 스코어: 2.4145\n",
            "[750/1780] 현재까지 최고 평균 스코어: 2.4082\n",
            "[800/1780] 현재까지 최고 평균 스코어: 2.3997\n",
            "[850/1780] 현재까지 최고 평균 스코어: 2.4046\n",
            "[900/1780] 현재까지 최고 평균 스코어: 2.4072\n",
            "[950/1780] 현재까지 최고 평균 스코어: 2.4066\n",
            "[1000/1780] 현재까지 최고 평균 스코어: 2.3992\n",
            "[1050/1780] 현재까지 최고 평균 스코어: 2.3989\n",
            "[1100/1780] 현재까지 최고 평균 스코어: 2.3986\n",
            "[1150/1780] 현재까지 최고 평균 스코어: 2.4000\n",
            "[1200/1780] 현재까지 최고 평균 스코어: 2.3971\n",
            "[1250/1780] 현재까지 최고 평균 스코어: 2.3939\n",
            "[1300/1780] 현재까지 최고 평균 스코어: 2.3960\n",
            "[1350/1780] 현재까지 최고 평균 스코어: 2.3920\n",
            "[1400/1780] 현재까지 최고 평균 스코어: 2.3914\n",
            "[1450/1780] 현재까지 최고 평균 스코어: 2.3935\n",
            "[1500/1780] 현재까지 최고 평균 스코어: 2.3932\n",
            "[1550/1780] 현재까지 최고 평균 스코어: 2.3943\n",
            "[1600/1780] 현재까지 최고 평균 스코어: 2.3945\n",
            "[1650/1780] 현재까지 최고 평균 스코어: 2.3984\n",
            "[1700/1780] 현재까지 최고 평균 스코어: 2.3977\n",
            "[1750/1780] 현재까지 최고 평균 스코어: 2.3995\n"
          ]
        }
      ]
    },
    {
      "cell_type": "markdown",
      "source": [
        "# 8. submission 파일 작성"
      ],
      "metadata": {
        "id": "uSktxuxg-S4Q"
      }
    },
    {
      "cell_type": "code",
      "source": [
        "for idx, perm in enumerate(pred_orders):\n",
        "    for i, p in enumerate(perm):\n",
        "        submission.loc[idx, f'answer_{i}'] = p\n",
        "\n",
        "submission.to_csv('results/submission.csv', index=False)\n",
        "print(\"✅ submission.csv 파일이 생성되었습니다.\")"
      ],
      "metadata": {
        "colab": {
          "base_uri": "https://localhost:8080/"
        },
        "id": "mCa3sAIc-Ko4",
        "outputId": "1cbb670e-fd71-451d-8642-75c8511d2ac6"
      },
      "execution_count": 43,
      "outputs": [
        {
          "output_type": "stream",
          "name": "stdout",
          "text": [
            "✅ submission.csv 파일이 생성되었습니다.\n"
          ]
        }
      ]
    }
  ],
  "metadata": {
    "accelerator": "GPU",
    "colab": {
      "gpuType": "T4",
      "provenance": [],
      "include_colab_link": true
    },
    "kernelspec": {
      "display_name": "base",
      "language": "python",
      "name": "python3"
    },
    "language_info": {
      "codemirror_mode": {
        "name": "ipython",
        "version": 3
      },
      "file_extension": ".py",
      "mimetype": "text/x-python",
      "name": "python",
      "nbconvert_exporter": "python",
      "pygments_lexer": "ipython3",
      "version": "3.11.5"
    },
    "widgets": {
      "application/vnd.jupyter.widget-state+json": {
        "c4b8273e5ab74e4bb3099cbfb6bb5cf5": {
          "model_module": "@jupyter-widgets/controls",
          "model_name": "HBoxModel",
          "model_module_version": "1.5.0",
          "state": {
            "_dom_classes": [],
            "_model_module": "@jupyter-widgets/controls",
            "_model_module_version": "1.5.0",
            "_model_name": "HBoxModel",
            "_view_count": null,
            "_view_module": "@jupyter-widgets/controls",
            "_view_module_version": "1.5.0",
            "_view_name": "HBoxView",
            "box_style": "",
            "children": [
              "IPY_MODEL_8333fc73432c4a359063594c46c69d64",
              "IPY_MODEL_97b856bf84e44b4883a59f74bbb1774b",
              "IPY_MODEL_e11d54ca039f4463803ef1aa2ff7f130"
            ],
            "layout": "IPY_MODEL_b1826f8ed7cb41d4a29c031908b915b3"
          }
        },
        "8333fc73432c4a359063594c46c69d64": {
          "model_module": "@jupyter-widgets/controls",
          "model_name": "HTMLModel",
          "model_module_version": "1.5.0",
          "state": {
            "_dom_classes": [],
            "_model_module": "@jupyter-widgets/controls",
            "_model_module_version": "1.5.0",
            "_model_name": "HTMLModel",
            "_view_count": null,
            "_view_module": "@jupyter-widgets/controls",
            "_view_module_version": "1.5.0",
            "_view_name": "HTMLView",
            "description": "",
            "description_tooltip": null,
            "layout": "IPY_MODEL_d10fb39b799848689546f8573fd0dff1",
            "placeholder": "​",
            "style": "IPY_MODEL_bb0927d677ea4672bd595184a33aae45",
            "value": "문장 순서 예측: 100%"
          }
        },
        "97b856bf84e44b4883a59f74bbb1774b": {
          "model_module": "@jupyter-widgets/controls",
          "model_name": "FloatProgressModel",
          "model_module_version": "1.5.0",
          "state": {
            "_dom_classes": [],
            "_model_module": "@jupyter-widgets/controls",
            "_model_module_version": "1.5.0",
            "_model_name": "FloatProgressModel",
            "_view_count": null,
            "_view_module": "@jupyter-widgets/controls",
            "_view_module_version": "1.5.0",
            "_view_name": "ProgressView",
            "bar_style": "success",
            "description": "",
            "description_tooltip": null,
            "layout": "IPY_MODEL_3cdb9a5be3794282b222ef36aadd69c7",
            "max": 1780,
            "min": 0,
            "orientation": "horizontal",
            "style": "IPY_MODEL_b22cf57457c840b5b8c3c6bc34bb876a",
            "value": 1780
          }
        },
        "e11d54ca039f4463803ef1aa2ff7f130": {
          "model_module": "@jupyter-widgets/controls",
          "model_name": "HTMLModel",
          "model_module_version": "1.5.0",
          "state": {
            "_dom_classes": [],
            "_model_module": "@jupyter-widgets/controls",
            "_model_module_version": "1.5.0",
            "_model_name": "HTMLModel",
            "_view_count": null,
            "_view_module": "@jupyter-widgets/controls",
            "_view_module_version": "1.5.0",
            "_view_name": "HTMLView",
            "description": "",
            "description_tooltip": null,
            "layout": "IPY_MODEL_eb7ebbd275b6426b8b088e09a51bef7a",
            "placeholder": "​",
            "style": "IPY_MODEL_d47d8012ca7b4484a27ab9745e12a690",
            "value": " 1780/1780 [23:09&lt;00:00,  1.12it/s]"
          }
        },
        "b1826f8ed7cb41d4a29c031908b915b3": {
          "model_module": "@jupyter-widgets/base",
          "model_name": "LayoutModel",
          "model_module_version": "1.2.0",
          "state": {
            "_model_module": "@jupyter-widgets/base",
            "_model_module_version": "1.2.0",
            "_model_name": "LayoutModel",
            "_view_count": null,
            "_view_module": "@jupyter-widgets/base",
            "_view_module_version": "1.2.0",
            "_view_name": "LayoutView",
            "align_content": null,
            "align_items": null,
            "align_self": null,
            "border": null,
            "bottom": null,
            "display": null,
            "flex": null,
            "flex_flow": null,
            "grid_area": null,
            "grid_auto_columns": null,
            "grid_auto_flow": null,
            "grid_auto_rows": null,
            "grid_column": null,
            "grid_gap": null,
            "grid_row": null,
            "grid_template_areas": null,
            "grid_template_columns": null,
            "grid_template_rows": null,
            "height": null,
            "justify_content": null,
            "justify_items": null,
            "left": null,
            "margin": null,
            "max_height": null,
            "max_width": null,
            "min_height": null,
            "min_width": null,
            "object_fit": null,
            "object_position": null,
            "order": null,
            "overflow": null,
            "overflow_x": null,
            "overflow_y": null,
            "padding": null,
            "right": null,
            "top": null,
            "visibility": null,
            "width": null
          }
        },
        "d10fb39b799848689546f8573fd0dff1": {
          "model_module": "@jupyter-widgets/base",
          "model_name": "LayoutModel",
          "model_module_version": "1.2.0",
          "state": {
            "_model_module": "@jupyter-widgets/base",
            "_model_module_version": "1.2.0",
            "_model_name": "LayoutModel",
            "_view_count": null,
            "_view_module": "@jupyter-widgets/base",
            "_view_module_version": "1.2.0",
            "_view_name": "LayoutView",
            "align_content": null,
            "align_items": null,
            "align_self": null,
            "border": null,
            "bottom": null,
            "display": null,
            "flex": null,
            "flex_flow": null,
            "grid_area": null,
            "grid_auto_columns": null,
            "grid_auto_flow": null,
            "grid_auto_rows": null,
            "grid_column": null,
            "grid_gap": null,
            "grid_row": null,
            "grid_template_areas": null,
            "grid_template_columns": null,
            "grid_template_rows": null,
            "height": null,
            "justify_content": null,
            "justify_items": null,
            "left": null,
            "margin": null,
            "max_height": null,
            "max_width": null,
            "min_height": null,
            "min_width": null,
            "object_fit": null,
            "object_position": null,
            "order": null,
            "overflow": null,
            "overflow_x": null,
            "overflow_y": null,
            "padding": null,
            "right": null,
            "top": null,
            "visibility": null,
            "width": null
          }
        },
        "bb0927d677ea4672bd595184a33aae45": {
          "model_module": "@jupyter-widgets/controls",
          "model_name": "DescriptionStyleModel",
          "model_module_version": "1.5.0",
          "state": {
            "_model_module": "@jupyter-widgets/controls",
            "_model_module_version": "1.5.0",
            "_model_name": "DescriptionStyleModel",
            "_view_count": null,
            "_view_module": "@jupyter-widgets/base",
            "_view_module_version": "1.2.0",
            "_view_name": "StyleView",
            "description_width": ""
          }
        },
        "3cdb9a5be3794282b222ef36aadd69c7": {
          "model_module": "@jupyter-widgets/base",
          "model_name": "LayoutModel",
          "model_module_version": "1.2.0",
          "state": {
            "_model_module": "@jupyter-widgets/base",
            "_model_module_version": "1.2.0",
            "_model_name": "LayoutModel",
            "_view_count": null,
            "_view_module": "@jupyter-widgets/base",
            "_view_module_version": "1.2.0",
            "_view_name": "LayoutView",
            "align_content": null,
            "align_items": null,
            "align_self": null,
            "border": null,
            "bottom": null,
            "display": null,
            "flex": null,
            "flex_flow": null,
            "grid_area": null,
            "grid_auto_columns": null,
            "grid_auto_flow": null,
            "grid_auto_rows": null,
            "grid_column": null,
            "grid_gap": null,
            "grid_row": null,
            "grid_template_areas": null,
            "grid_template_columns": null,
            "grid_template_rows": null,
            "height": null,
            "justify_content": null,
            "justify_items": null,
            "left": null,
            "margin": null,
            "max_height": null,
            "max_width": null,
            "min_height": null,
            "min_width": null,
            "object_fit": null,
            "object_position": null,
            "order": null,
            "overflow": null,
            "overflow_x": null,
            "overflow_y": null,
            "padding": null,
            "right": null,
            "top": null,
            "visibility": null,
            "width": null
          }
        },
        "b22cf57457c840b5b8c3c6bc34bb876a": {
          "model_module": "@jupyter-widgets/controls",
          "model_name": "ProgressStyleModel",
          "model_module_version": "1.5.0",
          "state": {
            "_model_module": "@jupyter-widgets/controls",
            "_model_module_version": "1.5.0",
            "_model_name": "ProgressStyleModel",
            "_view_count": null,
            "_view_module": "@jupyter-widgets/base",
            "_view_module_version": "1.2.0",
            "_view_name": "StyleView",
            "bar_color": null,
            "description_width": ""
          }
        },
        "eb7ebbd275b6426b8b088e09a51bef7a": {
          "model_module": "@jupyter-widgets/base",
          "model_name": "LayoutModel",
          "model_module_version": "1.2.0",
          "state": {
            "_model_module": "@jupyter-widgets/base",
            "_model_module_version": "1.2.0",
            "_model_name": "LayoutModel",
            "_view_count": null,
            "_view_module": "@jupyter-widgets/base",
            "_view_module_version": "1.2.0",
            "_view_name": "LayoutView",
            "align_content": null,
            "align_items": null,
            "align_self": null,
            "border": null,
            "bottom": null,
            "display": null,
            "flex": null,
            "flex_flow": null,
            "grid_area": null,
            "grid_auto_columns": null,
            "grid_auto_flow": null,
            "grid_auto_rows": null,
            "grid_column": null,
            "grid_gap": null,
            "grid_row": null,
            "grid_template_areas": null,
            "grid_template_columns": null,
            "grid_template_rows": null,
            "height": null,
            "justify_content": null,
            "justify_items": null,
            "left": null,
            "margin": null,
            "max_height": null,
            "max_width": null,
            "min_height": null,
            "min_width": null,
            "object_fit": null,
            "object_position": null,
            "order": null,
            "overflow": null,
            "overflow_x": null,
            "overflow_y": null,
            "padding": null,
            "right": null,
            "top": null,
            "visibility": null,
            "width": null
          }
        },
        "d47d8012ca7b4484a27ab9745e12a690": {
          "model_module": "@jupyter-widgets/controls",
          "model_name": "DescriptionStyleModel",
          "model_module_version": "1.5.0",
          "state": {
            "_model_module": "@jupyter-widgets/controls",
            "_model_module_version": "1.5.0",
            "_model_name": "DescriptionStyleModel",
            "_view_count": null,
            "_view_module": "@jupyter-widgets/base",
            "_view_module_version": "1.2.0",
            "_view_name": "StyleView",
            "description_width": ""
          }
        }
      }
    }
  },
  "nbformat": 4,
  "nbformat_minor": 0
}
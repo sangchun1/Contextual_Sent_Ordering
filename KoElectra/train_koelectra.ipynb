{
 "cells": [
  {
   "cell_type": "markdown",
   "metadata": {
    "id": "kJzsQ-0KrxPv"
   },
   "source": [
    "# 1. 데이터 전처리"
   ]
  },
  {
   "cell_type": "code",
   "execution_count": 1,
   "metadata": {
    "executionInfo": {
     "elapsed": 1042,
     "status": "ok",
     "timestamp": 1747883084564,
     "user": {
      "displayName": "가지파이",
      "userId": "02682077127036915451"
     },
     "user_tz": -540
    },
    "id": "y4V9YByVaNe0"
   },
   "outputs": [],
   "source": [
    "import pandas as pd\n",
    "import numpy as np\n",
    "import re\n",
    "from tqdm.auto import tqdm\n",
    "import random"
   ]
  },
  {
   "cell_type": "code",
   "execution_count": 2,
   "metadata": {
    "executionInfo": {
     "elapsed": 8688,
     "status": "ok",
     "timestamp": 1747883093271,
     "user": {
      "displayName": "가지파이",
      "userId": "02682077127036915451"
     },
     "user_tz": -540
    },
    "id": "Fip9pEz2aNfd"
   },
   "outputs": [],
   "source": [
    "import torch\n",
    "from torch.utils.data import Dataset\n",
    "import torch.nn as nn"
   ]
  },
  {
   "cell_type": "code",
   "execution_count": 3,
   "metadata": {
    "executionInfo": {
     "elapsed": 29467,
     "status": "ok",
     "timestamp": 1747883122752,
     "user": {
      "displayName": "가지파이",
      "userId": "02682077127036915451"
     },
     "user_tz": -540
    },
    "id": "rU1tmEtZqVMn"
   },
   "outputs": [
    {
     "name": "stdout",
     "output_type": "stream",
     "text": [
      "WARNING:tensorflow:From c:\\Anaconda\\Lib\\site-packages\\tf_keras\\src\\losses.py:2976: The name tf.losses.sparse_softmax_cross_entropy is deprecated. Please use tf.compat.v1.losses.sparse_softmax_cross_entropy instead.\n",
      "\n"
     ]
    }
   ],
   "source": [
    "from scipy.stats import loguniform\n",
    "from sklearn.model_selection import train_test_split\n",
    "from sklearn.metrics import accuracy_score, f1_score, precision_score, recall_score\n",
    "import itertools\n",
    "from itertools import permutations\n",
    "from transformers import (\n",
    "    AutoTokenizer,\n",
    "    AutoModel,\n",
    "    AutoModelForSequenceClassification,\n",
    "    Trainer,\n",
    "    TrainingArguments,\n",
    "    EarlyStoppingCallback\n",
    ")"
   ]
  },
  {
   "cell_type": "code",
   "execution_count": 4,
   "metadata": {
    "colab": {
     "base_uri": "https://localhost:8080/"
    },
    "executionInfo": {
     "elapsed": 38,
     "status": "ok",
     "timestamp": 1747883122797,
     "user": {
      "displayName": "가지파이",
      "userId": "02682077127036915451"
     },
     "user_tz": -540
    },
    "id": "PNEZAXA_aNgo",
    "outputId": "ba1d5cde-56aa-47e9-f3fe-44507d741b7b"
   },
   "outputs": [
    {
     "name": "stdout",
     "output_type": "stream",
     "text": [
      "True\n"
     ]
    }
   ],
   "source": [
    "print(torch.cuda.is_available())"
   ]
  },
  {
   "cell_type": "code",
   "execution_count": 5,
   "metadata": {
    "colab": {
     "base_uri": "https://localhost:8080/"
    },
    "executionInfo": {
     "elapsed": 30353,
     "status": "ok",
     "timestamp": 1747883153155,
     "user": {
      "displayName": "가지파이",
      "userId": "02682077127036915451"
     },
     "user_tz": -540
    },
    "id": "HJ69Z8DCySst",
    "outputId": "3d293bad-d7f1-412b-b39c-c1c10dc93bd6"
   },
   "outputs": [],
   "source": [
    "# from google.colab import drive\n",
    "# drive.mount('/content/drive')"
   ]
  },
  {
   "cell_type": "code",
   "execution_count": 6,
   "metadata": {
    "colab": {
     "base_uri": "https://localhost:8080/"
    },
    "executionInfo": {
     "elapsed": 5236,
     "status": "ok",
     "timestamp": 1747883158387,
     "user": {
      "displayName": "가지파이",
      "userId": "02682077127036915451"
     },
     "user_tz": -540
    },
    "id": "MKnXfIEwydSM",
    "outputId": "78b27da5-b8ff-4739-b4e4-ed4307608879"
   },
   "outputs": [],
   "source": [
    "# %cd /content/drive/MyDrive/강의/AI를 위한 딥러닝/AI_DL_Project/code"
   ]
  },
  {
   "cell_type": "code",
   "execution_count": 7,
   "metadata": {
    "executionInfo": {
     "elapsed": 1693,
     "status": "ok",
     "timestamp": 1747883160083,
     "user": {
      "displayName": "가지파이",
      "userId": "02682077127036915451"
     },
     "user_tz": -540
    },
    "id": "10MR7dN_qmEW"
   },
   "outputs": [],
   "source": [
    "# 데이터 로드\n",
    "train = pd.read_csv('../data/train.csv')\n",
    "test = pd.read_csv('../data/test.csv')\n",
    "submission = pd.read_csv('../data/sample_submission.csv')"
   ]
  },
  {
   "cell_type": "code",
   "execution_count": 8,
   "metadata": {
    "colab": {
     "base_uri": "https://localhost:8080/",
     "height": 1000
    },
    "executionInfo": {
     "elapsed": 183,
     "status": "ok",
     "timestamp": 1747883160285,
     "user": {
      "displayName": "가지파이",
      "userId": "02682077127036915451"
     },
     "user_tz": -540
    },
    "id": "_JdzkZintU3w",
    "outputId": "6b78ca97-5d32-443c-a9e0-897534097c85"
   },
   "outputs": [
    {
     "name": "stdout",
     "output_type": "stream",
     "text": [
      "<class 'pandas.core.frame.DataFrame'>\n",
      "RangeIndex: 7351 entries, 0 to 7350\n",
      "Data columns (total 9 columns):\n",
      " #   Column      Non-Null Count  Dtype \n",
      "---  ------      --------------  ----- \n",
      " 0   ID          7351 non-null   object\n",
      " 1   sentence_0  7351 non-null   object\n",
      " 2   sentence_1  7351 non-null   object\n",
      " 3   sentence_2  7351 non-null   object\n",
      " 4   sentence_3  7351 non-null   object\n",
      " 5   answer_0    7351 non-null   int64 \n",
      " 6   answer_1    7351 non-null   int64 \n",
      " 7   answer_2    7351 non-null   int64 \n",
      " 8   answer_3    7351 non-null   int64 \n",
      "dtypes: int64(4), object(5)\n",
      "memory usage: 517.0+ KB\n"
     ]
    },
    {
     "data": {
      "text/html": [
       "<div>\n",
       "<style scoped>\n",
       "    .dataframe tbody tr th:only-of-type {\n",
       "        vertical-align: middle;\n",
       "    }\n",
       "\n",
       "    .dataframe tbody tr th {\n",
       "        vertical-align: top;\n",
       "    }\n",
       "\n",
       "    .dataframe thead th {\n",
       "        text-align: right;\n",
       "    }\n",
       "</style>\n",
       "<table border=\"1\" class=\"dataframe\">\n",
       "  <thead>\n",
       "    <tr style=\"text-align: right;\">\n",
       "      <th></th>\n",
       "      <th>ID</th>\n",
       "      <th>sentence_0</th>\n",
       "      <th>sentence_1</th>\n",
       "      <th>sentence_2</th>\n",
       "      <th>sentence_3</th>\n",
       "      <th>answer_0</th>\n",
       "      <th>answer_1</th>\n",
       "      <th>answer_2</th>\n",
       "      <th>answer_3</th>\n",
       "    </tr>\n",
       "  </thead>\n",
       "  <tbody>\n",
       "    <tr>\n",
       "      <th>0</th>\n",
       "      <td>TRAIN_0000</td>\n",
       "      <td>블록체인 기술은 투표 과정의 투명성을 크게 향상시킬 수 있다.</td>\n",
       "      <td>이러한 특성은 유권자들에게 신뢰를 제공하며, 민주적 참여를 촉진하는 데 기여할 수 있다.</td>\n",
       "      <td>결과적으로 블록체인 기반의 투표 시스템은 공정하고 신뢰할 수 있는 선거 환경을 조성...</td>\n",
       "      <td>각 투표는 변경 불가능한 기록으로 저장되어 조작의 가능성을 원천적으로 차단한다.</td>\n",
       "      <td>0</td>\n",
       "      <td>3</td>\n",
       "      <td>1</td>\n",
       "      <td>2</td>\n",
       "    </tr>\n",
       "    <tr>\n",
       "      <th>1</th>\n",
       "      <td>TRAIN_0001</td>\n",
       "      <td>줄거리 자동 생성의 인공지능 알고리즘은 대량의 텍스트 데이터를 분석하여 핵심 정보를...</td>\n",
       "      <td>결과적으로, 이러한 기술은 사용자에게 신속하고 효율적인 정보 전달을 가능하게 한다.</td>\n",
       "      <td>생성된 줄거리는 원본 텍스트의 의미를 유지하면서도 간결하게 요약된 형태로 제공된다.</td>\n",
       "      <td>이 알고리즘은 자연어 처리 기술을 활용하여 문맥을 이해하고, 주요 사건과 등장인물을...</td>\n",
       "      <td>0</td>\n",
       "      <td>3</td>\n",
       "      <td>2</td>\n",
       "      <td>1</td>\n",
       "    </tr>\n",
       "    <tr>\n",
       "      <th>2</th>\n",
       "      <td>TRAIN_0002</td>\n",
       "      <td>마지막으로, 키친타올을 보관할 때는 쉽게 접근할 수 있는 곳에 두어 낭비를 방지하는...</td>\n",
       "      <td>재사용 가능한 천이나 스펀지를 활용하면 키친타올의 필요성을 줄일 수 있다.</td>\n",
       "      <td>물기를 제거할 때는 가볍게 눌러주어 과도한 사용을 피할 수 있다.</td>\n",
       "      <td>키친타올을 절약하는 첫걸음은 필요한 양만큼만 사용하는 것이다.</td>\n",
       "      <td>3</td>\n",
       "      <td>2</td>\n",
       "      <td>1</td>\n",
       "      <td>0</td>\n",
       "    </tr>\n",
       "    <tr>\n",
       "      <th>3</th>\n",
       "      <td>TRAIN_0003</td>\n",
       "      <td>책의 페이지가 손상되지 않도록 수직으로 세워 두거나 평평하게 눕혀 보관하는 것이 좋다.</td>\n",
       "      <td>정기적으로 먼지를 털어내고, 곰팡이나 해충의 발생 여부를 점검하는 것이 중요하다.</td>\n",
       "      <td>종이책은 직사광선이 닿지 않는 서늘하고 건조한 장소에 보관해야 한다.</td>\n",
       "      <td>필요할 경우, 책을 보호하기 위해 커버를 씌우거나 전용 보관함에 넣는 방법도 고려할...</td>\n",
       "      <td>2</td>\n",
       "      <td>0</td>\n",
       "      <td>1</td>\n",
       "      <td>3</td>\n",
       "    </tr>\n",
       "    <tr>\n",
       "      <th>4</th>\n",
       "      <td>TRAIN_0004</td>\n",
       "      <td>인공지능 모델은 반복적인 실험을 통해 지속적으로 학습하며, 이를 통해 발견의 정확성...</td>\n",
       "      <td>인공지능은 대량의 데이터를 분석하여 숨겨진 패턴과 상관관계를 발견하는 데 강력한 도...</td>\n",
       "      <td>결국, 인공지능의 지원은 과학적 발견의 속도와 효율성을 혁신적으로 변화시킬 수 있는...</td>\n",
       "      <td>이러한 분석 결과는 연구자들에게 새로운 가설을 제시하고 실험 설계를 개선하는 데 기...</td>\n",
       "      <td>1</td>\n",
       "      <td>3</td>\n",
       "      <td>0</td>\n",
       "      <td>2</td>\n",
       "    </tr>\n",
       "  </tbody>\n",
       "</table>\n",
       "</div>"
      ],
      "text/plain": [
       "           ID                                         sentence_0  \\\n",
       "0  TRAIN_0000                 블록체인 기술은 투표 과정의 투명성을 크게 향상시킬 수 있다.   \n",
       "1  TRAIN_0001  줄거리 자동 생성의 인공지능 알고리즘은 대량의 텍스트 데이터를 분석하여 핵심 정보를...   \n",
       "2  TRAIN_0002  마지막으로, 키친타올을 보관할 때는 쉽게 접근할 수 있는 곳에 두어 낭비를 방지하는...   \n",
       "3  TRAIN_0003   책의 페이지가 손상되지 않도록 수직으로 세워 두거나 평평하게 눕혀 보관하는 것이 좋다.   \n",
       "4  TRAIN_0004  인공지능 모델은 반복적인 실험을 통해 지속적으로 학습하며, 이를 통해 발견의 정확성...   \n",
       "\n",
       "                                          sentence_1  \\\n",
       "0  이러한 특성은 유권자들에게 신뢰를 제공하며, 민주적 참여를 촉진하는 데 기여할 수 있다.   \n",
       "1     결과적으로, 이러한 기술은 사용자에게 신속하고 효율적인 정보 전달을 가능하게 한다.   \n",
       "2          재사용 가능한 천이나 스펀지를 활용하면 키친타올의 필요성을 줄일 수 있다.   \n",
       "3      정기적으로 먼지를 털어내고, 곰팡이나 해충의 발생 여부를 점검하는 것이 중요하다.   \n",
       "4  인공지능은 대량의 데이터를 분석하여 숨겨진 패턴과 상관관계를 발견하는 데 강력한 도...   \n",
       "\n",
       "                                          sentence_2  \\\n",
       "0  결과적으로 블록체인 기반의 투표 시스템은 공정하고 신뢰할 수 있는 선거 환경을 조성...   \n",
       "1     생성된 줄거리는 원본 텍스트의 의미를 유지하면서도 간결하게 요약된 형태로 제공된다.   \n",
       "2               물기를 제거할 때는 가볍게 눌러주어 과도한 사용을 피할 수 있다.   \n",
       "3             종이책은 직사광선이 닿지 않는 서늘하고 건조한 장소에 보관해야 한다.   \n",
       "4  결국, 인공지능의 지원은 과학적 발견의 속도와 효율성을 혁신적으로 변화시킬 수 있는...   \n",
       "\n",
       "                                          sentence_3  answer_0  answer_1  \\\n",
       "0       각 투표는 변경 불가능한 기록으로 저장되어 조작의 가능성을 원천적으로 차단한다.         0         3   \n",
       "1  이 알고리즘은 자연어 처리 기술을 활용하여 문맥을 이해하고, 주요 사건과 등장인물을...         0         3   \n",
       "2                 키친타올을 절약하는 첫걸음은 필요한 양만큼만 사용하는 것이다.         3         2   \n",
       "3  필요할 경우, 책을 보호하기 위해 커버를 씌우거나 전용 보관함에 넣는 방법도 고려할...         2         0   \n",
       "4  이러한 분석 결과는 연구자들에게 새로운 가설을 제시하고 실험 설계를 개선하는 데 기...         1         3   \n",
       "\n",
       "   answer_2  answer_3  \n",
       "0         1         2  \n",
       "1         2         1  \n",
       "2         1         0  \n",
       "3         1         3  \n",
       "4         0         2  "
      ]
     },
     "execution_count": 8,
     "metadata": {},
     "output_type": "execute_result"
    }
   ],
   "source": [
    "train.info()\n",
    "train.head()"
   ]
  },
  {
   "cell_type": "code",
   "execution_count": 9,
   "metadata": {
    "colab": {
     "base_uri": "https://localhost:8080/",
     "height": 690
    },
    "executionInfo": {
     "elapsed": 81,
     "status": "ok",
     "timestamp": 1747883160377,
     "user": {
      "displayName": "가지파이",
      "userId": "02682077127036915451"
     },
     "user_tz": -540
    },
    "id": "qJ-WGUPdtZsk",
    "outputId": "3df2f2ba-5ea8-4f6f-b441-b814851042ca"
   },
   "outputs": [
    {
     "name": "stdout",
     "output_type": "stream",
     "text": [
      "<class 'pandas.core.frame.DataFrame'>\n",
      "RangeIndex: 1780 entries, 0 to 1779\n",
      "Data columns (total 5 columns):\n",
      " #   Column      Non-Null Count  Dtype \n",
      "---  ------      --------------  ----- \n",
      " 0   ID          1780 non-null   object\n",
      " 1   sentence_0  1780 non-null   object\n",
      " 2   sentence_1  1780 non-null   object\n",
      " 3   sentence_2  1780 non-null   object\n",
      " 4   sentence_3  1780 non-null   object\n",
      "dtypes: object(5)\n",
      "memory usage: 69.7+ KB\n"
     ]
    },
    {
     "data": {
      "text/html": [
       "<div>\n",
       "<style scoped>\n",
       "    .dataframe tbody tr th:only-of-type {\n",
       "        vertical-align: middle;\n",
       "    }\n",
       "\n",
       "    .dataframe tbody tr th {\n",
       "        vertical-align: top;\n",
       "    }\n",
       "\n",
       "    .dataframe thead th {\n",
       "        text-align: right;\n",
       "    }\n",
       "</style>\n",
       "<table border=\"1\" class=\"dataframe\">\n",
       "  <thead>\n",
       "    <tr style=\"text-align: right;\">\n",
       "      <th></th>\n",
       "      <th>ID</th>\n",
       "      <th>sentence_0</th>\n",
       "      <th>sentence_1</th>\n",
       "      <th>sentence_2</th>\n",
       "      <th>sentence_3</th>\n",
       "    </tr>\n",
       "  </thead>\n",
       "  <tbody>\n",
       "    <tr>\n",
       "      <th>0</th>\n",
       "      <td>TEST_0000</td>\n",
       "      <td>자유 의지와 결정론은 서로 상충하는 개념으로 여겨지지만, 이 둘의 공존 가능성도 탐...</td>\n",
       "      <td>결정론은 모든 사건이 원인과 결과의 연쇄에 의해 발생한다고 주장하며, 이는 인간의 ...</td>\n",
       "      <td>그러나 인간의 인식과 선택 과정에서 나타나는 복잡성과 예측 불가능성은 자유 의지의 ...</td>\n",
       "      <td>결국, 자유 의지와 결정론은 서로를 배제하기보다는, 인간 경험의 다양한 측면을 설명...</td>\n",
       "    </tr>\n",
       "    <tr>\n",
       "      <th>1</th>\n",
       "      <td>TEST_0001</td>\n",
       "      <td>사회적 낙인은 개인의 자아 존중감에 부정적인 영향을 미친다.</td>\n",
       "      <td>건강 불평등은 이러한 낙인으로 인해 더욱 심화되며, 특정 집단이 의료 서비스 접근에...</td>\n",
       "      <td>결국, 사회적 낙인과 건강 불평등은 서로 연결되어 있으며, 이를 해결하기 위한 포괄...</td>\n",
       "      <td>낙인으로 인해 사람들은 사회적 고립을 경험하고, 이는 정신적 및 신체적 건강에 악영...</td>\n",
       "    </tr>\n",
       "    <tr>\n",
       "      <th>2</th>\n",
       "      <td>TEST_0002</td>\n",
       "      <td>글쓰기 능력을 키우기 위해서는 꾸준한 연습이 필수적이다.</td>\n",
       "      <td>마지막으로, 독서를 통해 다른 작가들의 기법을 배우는 것은 창의력을 자극하는 데 도...</td>\n",
       "      <td>피드백을 받는 과정은 글의 질을 향상시키는 중요한 요소로 작용한다.</td>\n",
       "      <td>다양한 주제에 대해 글을 써보면 자신의 스타일과 강점을 발견할 수 있다.</td>\n",
       "    </tr>\n",
       "    <tr>\n",
       "      <th>3</th>\n",
       "      <td>TEST_0003</td>\n",
       "      <td>작은 공간에서도 효율적으로 사용할 수 있어 집안의 혼잡함을 줄여준다.</td>\n",
       "      <td>정기적으로 내용을 점검하면 필요 없는 물건을 정리할 수 있다.</td>\n",
       "      <td>각 칸을 활용하여 카테고리별로 물건을 나누면 찾기 쉬워진다.</td>\n",
       "      <td>다용도 수납함은 다양한 물건을 정리하는 데 유용하다.</td>\n",
       "    </tr>\n",
       "    <tr>\n",
       "      <th>4</th>\n",
       "      <td>TEST_0004</td>\n",
       "      <td>음악은 특정 문화의 가치와 전통을 반영하는 중요한 매체이다.</td>\n",
       "      <td>이러한 음악적 표현은 공동체의 소속감을 증진시키는 역할을 한다.</td>\n",
       "      <td>각 문화는 고유한 음악적 요소를 통해 정체성을 형성하고 강화한다.</td>\n",
       "      <td>결국, 음악은 개인과 집단의 문화적 정체성을 이해하는 데 필수적인 요소로 작용한다.</td>\n",
       "    </tr>\n",
       "  </tbody>\n",
       "</table>\n",
       "</div>"
      ],
      "text/plain": [
       "          ID                                         sentence_0  \\\n",
       "0  TEST_0000  자유 의지와 결정론은 서로 상충하는 개념으로 여겨지지만, 이 둘의 공존 가능성도 탐...   \n",
       "1  TEST_0001                  사회적 낙인은 개인의 자아 존중감에 부정적인 영향을 미친다.   \n",
       "2  TEST_0002                    글쓰기 능력을 키우기 위해서는 꾸준한 연습이 필수적이다.   \n",
       "3  TEST_0003             작은 공간에서도 효율적으로 사용할 수 있어 집안의 혼잡함을 줄여준다.   \n",
       "4  TEST_0004                  음악은 특정 문화의 가치와 전통을 반영하는 중요한 매체이다.   \n",
       "\n",
       "                                          sentence_1  \\\n",
       "0  결정론은 모든 사건이 원인과 결과의 연쇄에 의해 발생한다고 주장하며, 이는 인간의 ...   \n",
       "1  건강 불평등은 이러한 낙인으로 인해 더욱 심화되며, 특정 집단이 의료 서비스 접근에...   \n",
       "2  마지막으로, 독서를 통해 다른 작가들의 기법을 배우는 것은 창의력을 자극하는 데 도...   \n",
       "3                 정기적으로 내용을 점검하면 필요 없는 물건을 정리할 수 있다.   \n",
       "4                이러한 음악적 표현은 공동체의 소속감을 증진시키는 역할을 한다.   \n",
       "\n",
       "                                          sentence_2  \\\n",
       "0  그러나 인간의 인식과 선택 과정에서 나타나는 복잡성과 예측 불가능성은 자유 의지의 ...   \n",
       "1  결국, 사회적 낙인과 건강 불평등은 서로 연결되어 있으며, 이를 해결하기 위한 포괄...   \n",
       "2              피드백을 받는 과정은 글의 질을 향상시키는 중요한 요소로 작용한다.   \n",
       "3                  각 칸을 활용하여 카테고리별로 물건을 나누면 찾기 쉬워진다.   \n",
       "4               각 문화는 고유한 음악적 요소를 통해 정체성을 형성하고 강화한다.   \n",
       "\n",
       "                                          sentence_3  \n",
       "0  결국, 자유 의지와 결정론은 서로를 배제하기보다는, 인간 경험의 다양한 측면을 설명...  \n",
       "1  낙인으로 인해 사람들은 사회적 고립을 경험하고, 이는 정신적 및 신체적 건강에 악영...  \n",
       "2           다양한 주제에 대해 글을 써보면 자신의 스타일과 강점을 발견할 수 있다.  \n",
       "3                      다용도 수납함은 다양한 물건을 정리하는 데 유용하다.  \n",
       "4     결국, 음악은 개인과 집단의 문화적 정체성을 이해하는 데 필수적인 요소로 작용한다.  "
      ]
     },
     "execution_count": 9,
     "metadata": {},
     "output_type": "execute_result"
    }
   ],
   "source": [
    "test.info()\n",
    "test.head()"
   ]
  },
  {
   "cell_type": "code",
   "execution_count": 10,
   "metadata": {
    "colab": {
     "base_uri": "https://localhost:8080/",
     "height": 430
    },
    "executionInfo": {
     "elapsed": 34,
     "status": "ok",
     "timestamp": 1747883160414,
     "user": {
      "displayName": "가지파이",
      "userId": "02682077127036915451"
     },
     "user_tz": -540
    },
    "id": "lFsCUuwF-bVo",
    "outputId": "17adfd95-4c51-43cb-c8ec-236f63d0a3c4"
   },
   "outputs": [
    {
     "name": "stdout",
     "output_type": "stream",
     "text": [
      "<class 'pandas.core.frame.DataFrame'>\n",
      "RangeIndex: 1780 entries, 0 to 1779\n",
      "Data columns (total 5 columns):\n",
      " #   Column    Non-Null Count  Dtype \n",
      "---  ------    --------------  ----- \n",
      " 0   ID        1780 non-null   object\n",
      " 1   answer_0  1780 non-null   int64 \n",
      " 2   answer_1  1780 non-null   int64 \n",
      " 3   answer_2  1780 non-null   int64 \n",
      " 4   answer_3  1780 non-null   int64 \n",
      "dtypes: int64(4), object(1)\n",
      "memory usage: 69.7+ KB\n"
     ]
    },
    {
     "data": {
      "text/html": [
       "<div>\n",
       "<style scoped>\n",
       "    .dataframe tbody tr th:only-of-type {\n",
       "        vertical-align: middle;\n",
       "    }\n",
       "\n",
       "    .dataframe tbody tr th {\n",
       "        vertical-align: top;\n",
       "    }\n",
       "\n",
       "    .dataframe thead th {\n",
       "        text-align: right;\n",
       "    }\n",
       "</style>\n",
       "<table border=\"1\" class=\"dataframe\">\n",
       "  <thead>\n",
       "    <tr style=\"text-align: right;\">\n",
       "      <th></th>\n",
       "      <th>ID</th>\n",
       "      <th>answer_0</th>\n",
       "      <th>answer_1</th>\n",
       "      <th>answer_2</th>\n",
       "      <th>answer_3</th>\n",
       "    </tr>\n",
       "  </thead>\n",
       "  <tbody>\n",
       "    <tr>\n",
       "      <th>0</th>\n",
       "      <td>TEST_0000</td>\n",
       "      <td>0</td>\n",
       "      <td>1</td>\n",
       "      <td>2</td>\n",
       "      <td>3</td>\n",
       "    </tr>\n",
       "    <tr>\n",
       "      <th>1</th>\n",
       "      <td>TEST_0001</td>\n",
       "      <td>0</td>\n",
       "      <td>1</td>\n",
       "      <td>2</td>\n",
       "      <td>3</td>\n",
       "    </tr>\n",
       "    <tr>\n",
       "      <th>2</th>\n",
       "      <td>TEST_0002</td>\n",
       "      <td>0</td>\n",
       "      <td>1</td>\n",
       "      <td>2</td>\n",
       "      <td>3</td>\n",
       "    </tr>\n",
       "    <tr>\n",
       "      <th>3</th>\n",
       "      <td>TEST_0003</td>\n",
       "      <td>0</td>\n",
       "      <td>1</td>\n",
       "      <td>2</td>\n",
       "      <td>3</td>\n",
       "    </tr>\n",
       "    <tr>\n",
       "      <th>4</th>\n",
       "      <td>TEST_0004</td>\n",
       "      <td>0</td>\n",
       "      <td>1</td>\n",
       "      <td>2</td>\n",
       "      <td>3</td>\n",
       "    </tr>\n",
       "  </tbody>\n",
       "</table>\n",
       "</div>"
      ],
      "text/plain": [
       "          ID  answer_0  answer_1  answer_2  answer_3\n",
       "0  TEST_0000         0         1         2         3\n",
       "1  TEST_0001         0         1         2         3\n",
       "2  TEST_0002         0         1         2         3\n",
       "3  TEST_0003         0         1         2         3\n",
       "4  TEST_0004         0         1         2         3"
      ]
     },
     "execution_count": 10,
     "metadata": {},
     "output_type": "execute_result"
    }
   ],
   "source": [
    "submission.info()\n",
    "submission.head()"
   ]
  },
  {
   "cell_type": "code",
   "execution_count": 11,
   "metadata": {
    "executionInfo": {
     "elapsed": 51,
     "status": "ok",
     "timestamp": 1747883160468,
     "user": {
      "displayName": "가지파이",
      "userId": "02682077127036915451"
     },
     "user_tz": -540
    },
    "id": "zCrMc7Scqb_t"
   },
   "outputs": [],
   "source": [
    "# 텍스트 정제\n",
    "def clean_text(text):\n",
    "  # 특수문자 제거\n",
    "  text = re.sub(r'[^\\w\\s]', '', text)\n",
    "  # 소문자 변환: 한글에는 무의미\n",
    "  text = text.lower()\n",
    "  # 불필요한 공백 제거\n",
    "  text = ' '.join(text.split())\n",
    "  return text"
   ]
  },
  {
   "cell_type": "code",
   "execution_count": 12,
   "metadata": {
    "colab": {
     "base_uri": "https://localhost:8080/"
    },
    "executionInfo": {
     "elapsed": 26,
     "status": "ok",
     "timestamp": 1747883160471,
     "user": {
      "displayName": "가지파이",
      "userId": "02682077127036915451"
     },
     "user_tz": -540
    },
    "id": "GAcRAsmKaNgy",
    "outputId": "4e40afec-964a-4c80-bd5b-d1a5774296af"
   },
   "outputs": [
    {
     "name": "stdout",
     "output_type": "stream",
     "text": [
      "블록체인 기술은 투표 과정의 투명성을 크게 향상시킬 수 있다.\n",
      "자유 의지와 결정론은 서로 상충하는 개념으로 여겨지지만, 이 둘의 공존 가능성도 탐구할 가치가 있다.\n"
     ]
    }
   ],
   "source": [
    "# 정제 전\n",
    "print(train['sentence_0'][0])\n",
    "print(test['sentence_0'][0])"
   ]
  },
  {
   "cell_type": "code",
   "execution_count": 13,
   "metadata": {
    "executionInfo": {
     "elapsed": 12,
     "status": "ok",
     "timestamp": 1747883160474,
     "user": {
      "displayName": "가지파이",
      "userId": "02682077127036915451"
     },
     "user_tz": -540
    },
    "id": "UFp3zlCPtUC1"
   },
   "outputs": [],
   "source": [
    "# 텍스트 정제\n",
    "for i in range(4):\n",
    "    train[f'sentence_{i}'] = train[f'sentence_{i}'].apply(clean_text)\n",
    "    test[f'sentence_{i}'] = test[f'sentence_{i}'].apply(clean_text)"
   ]
  },
  {
   "cell_type": "code",
   "execution_count": 14,
   "metadata": {
    "colab": {
     "base_uri": "https://localhost:8080/"
    },
    "executionInfo": {
     "elapsed": 51,
     "status": "ok",
     "timestamp": 1747883160528,
     "user": {
      "displayName": "가지파이",
      "userId": "02682077127036915451"
     },
     "user_tz": -540
    },
    "id": "96145kX3aNg0",
    "outputId": "082eac9d-5fd2-4343-d1b0-b4280374e5e3"
   },
   "outputs": [
    {
     "name": "stdout",
     "output_type": "stream",
     "text": [
      "블록체인 기술은 투표 과정의 투명성을 크게 향상시킬 수 있다\n",
      "자유 의지와 결정론은 서로 상충하는 개념으로 여겨지지만 이 둘의 공존 가능성도 탐구할 가치가 있다\n"
     ]
    }
   ],
   "source": [
    "# 정제 후\n",
    "print(train['sentence_0'][0])\n",
    "print(test['sentence_0'][0])"
   ]
  },
  {
   "cell_type": "code",
   "execution_count": 15,
   "metadata": {
    "executionInfo": {
     "elapsed": 18,
     "status": "ok",
     "timestamp": 1747883160530,
     "user": {
      "displayName": "가지파이",
      "userId": "02682077127036915451"
     },
     "user_tz": -540
    },
    "id": "eNVGI9EWa26q"
   },
   "outputs": [],
   "source": [
    "# ✅ Pairwise 전처리 함수\n",
    "def preprocess_pairwise(df):\n",
    "    data = []\n",
    "    for _, row in df.iterrows():\n",
    "        sentences = [row[f'sentence_{i}'] for i in range(4)]\n",
    "        answer = [row[f'answer_{i}'] for i in range(4)]\n",
    "        ordered = [sentences[i] for i in answer]\n",
    "        positive_pairs = [(ordered[i], ordered[i+1]) for i in range(3)]\n",
    "        all_pairs = list(itertools.permutations(sentences, 2))\n",
    "        for s1, s2 in all_pairs:\n",
    "            label = 1 if (s1, s2) in positive_pairs else 0\n",
    "            data.append({'sentence1': s1, 'sentence2': s2, 'label': label})\n",
    "    return pd.DataFrame(data)"
   ]
  },
  {
   "cell_type": "code",
   "execution_count": 16,
   "metadata": {
    "executionInfo": {
     "elapsed": 528,
     "status": "ok",
     "timestamp": 1747883161047,
     "user": {
      "displayName": "가지파이",
      "userId": "02682077127036915451"
     },
     "user_tz": -540
    },
    "id": "RsCexE4LaNg1"
   },
   "outputs": [],
   "source": [
    "# 전처리 모듈 사용\n",
    "pairwise_df = preprocess_pairwise(train)"
   ]
  },
  {
   "cell_type": "code",
   "execution_count": 17,
   "metadata": {
    "colab": {
     "base_uri": "https://localhost:8080/",
     "height": 479
    },
    "executionInfo": {
     "elapsed": 301,
     "status": "ok",
     "timestamp": 1747883161368,
     "user": {
      "displayName": "가지파이",
      "userId": "02682077127036915451"
     },
     "user_tz": -540
    },
    "id": "Ve4A0ejBaNg2",
    "outputId": "5d27e96c-2946-48be-d6dc-7b003447f3d4"
   },
   "outputs": [
    {
     "name": "stdout",
     "output_type": "stream",
     "text": [
      "<class 'pandas.core.frame.DataFrame'>\n",
      "RangeIndex: 88212 entries, 0 to 88211\n",
      "Data columns (total 3 columns):\n",
      " #   Column     Non-Null Count  Dtype \n",
      "---  ------     --------------  ----- \n",
      " 0   sentence1  88212 non-null  object\n",
      " 1   sentence2  88212 non-null  object\n",
      " 2   label      88212 non-null  int64 \n",
      "dtypes: int64(1), object(2)\n",
      "memory usage: 2.0+ MB\n"
     ]
    },
    {
     "data": {
      "text/html": [
       "<div>\n",
       "<style scoped>\n",
       "    .dataframe tbody tr th:only-of-type {\n",
       "        vertical-align: middle;\n",
       "    }\n",
       "\n",
       "    .dataframe tbody tr th {\n",
       "        vertical-align: top;\n",
       "    }\n",
       "\n",
       "    .dataframe thead th {\n",
       "        text-align: right;\n",
       "    }\n",
       "</style>\n",
       "<table border=\"1\" class=\"dataframe\">\n",
       "  <thead>\n",
       "    <tr style=\"text-align: right;\">\n",
       "      <th></th>\n",
       "      <th>sentence1</th>\n",
       "      <th>sentence2</th>\n",
       "      <th>label</th>\n",
       "    </tr>\n",
       "  </thead>\n",
       "  <tbody>\n",
       "    <tr>\n",
       "      <th>0</th>\n",
       "      <td>블록체인 기술은 투표 과정의 투명성을 크게 향상시킬 수 있다</td>\n",
       "      <td>이러한 특성은 유권자들에게 신뢰를 제공하며 민주적 참여를 촉진하는 데 기여할 수 있다</td>\n",
       "      <td>0</td>\n",
       "    </tr>\n",
       "    <tr>\n",
       "      <th>1</th>\n",
       "      <td>블록체인 기술은 투표 과정의 투명성을 크게 향상시킬 수 있다</td>\n",
       "      <td>결과적으로 블록체인 기반의 투표 시스템은 공정하고 신뢰할 수 있는 선거 환경을 조성...</td>\n",
       "      <td>0</td>\n",
       "    </tr>\n",
       "    <tr>\n",
       "      <th>2</th>\n",
       "      <td>블록체인 기술은 투표 과정의 투명성을 크게 향상시킬 수 있다</td>\n",
       "      <td>각 투표는 변경 불가능한 기록으로 저장되어 조작의 가능성을 원천적으로 차단한다</td>\n",
       "      <td>1</td>\n",
       "    </tr>\n",
       "    <tr>\n",
       "      <th>3</th>\n",
       "      <td>이러한 특성은 유권자들에게 신뢰를 제공하며 민주적 참여를 촉진하는 데 기여할 수 있다</td>\n",
       "      <td>블록체인 기술은 투표 과정의 투명성을 크게 향상시킬 수 있다</td>\n",
       "      <td>0</td>\n",
       "    </tr>\n",
       "    <tr>\n",
       "      <th>4</th>\n",
       "      <td>이러한 특성은 유권자들에게 신뢰를 제공하며 민주적 참여를 촉진하는 데 기여할 수 있다</td>\n",
       "      <td>결과적으로 블록체인 기반의 투표 시스템은 공정하고 신뢰할 수 있는 선거 환경을 조성...</td>\n",
       "      <td>1</td>\n",
       "    </tr>\n",
       "  </tbody>\n",
       "</table>\n",
       "</div>"
      ],
      "text/plain": [
       "                                         sentence1  \\\n",
       "0                블록체인 기술은 투표 과정의 투명성을 크게 향상시킬 수 있다   \n",
       "1                블록체인 기술은 투표 과정의 투명성을 크게 향상시킬 수 있다   \n",
       "2                블록체인 기술은 투표 과정의 투명성을 크게 향상시킬 수 있다   \n",
       "3  이러한 특성은 유권자들에게 신뢰를 제공하며 민주적 참여를 촉진하는 데 기여할 수 있다   \n",
       "4  이러한 특성은 유권자들에게 신뢰를 제공하며 민주적 참여를 촉진하는 데 기여할 수 있다   \n",
       "\n",
       "                                           sentence2  label  \n",
       "0    이러한 특성은 유권자들에게 신뢰를 제공하며 민주적 참여를 촉진하는 데 기여할 수 있다      0  \n",
       "1  결과적으로 블록체인 기반의 투표 시스템은 공정하고 신뢰할 수 있는 선거 환경을 조성...      0  \n",
       "2        각 투표는 변경 불가능한 기록으로 저장되어 조작의 가능성을 원천적으로 차단한다      1  \n",
       "3                  블록체인 기술은 투표 과정의 투명성을 크게 향상시킬 수 있다      0  \n",
       "4  결과적으로 블록체인 기반의 투표 시스템은 공정하고 신뢰할 수 있는 선거 환경을 조성...      1  "
      ]
     },
     "execution_count": 17,
     "metadata": {},
     "output_type": "execute_result"
    }
   ],
   "source": [
    "pairwise_df.info()\n",
    "pairwise_df.head()"
   ]
  },
  {
   "cell_type": "code",
   "execution_count": 18,
   "metadata": {
    "colab": {
     "base_uri": "https://localhost:8080/",
     "height": 178
    },
    "executionInfo": {
     "elapsed": 11,
     "status": "ok",
     "timestamp": 1747883161385,
     "user": {
      "displayName": "가지파이",
      "userId": "02682077127036915451"
     },
     "user_tz": -540
    },
    "id": "9RIT51pZaNg3",
    "outputId": "f8f01711-24c8-4989-fb64-5293cc9bfb57"
   },
   "outputs": [
    {
     "data": {
      "text/plain": [
       "label\n",
       "0    66159\n",
       "1    22053\n",
       "Name: count, dtype: int64"
      ]
     },
     "execution_count": 18,
     "metadata": {},
     "output_type": "execute_result"
    }
   ],
   "source": [
    "# 클래스 균형 확인\n",
    "pairwise_df['label'].value_counts()"
   ]
  },
  {
   "cell_type": "markdown",
   "metadata": {
    "id": "_Mv7ZWUxry0S"
   },
   "source": [
    "# 2. 데이터셋 구성"
   ]
  },
  {
   "cell_type": "code",
   "execution_count": 19,
   "metadata": {
    "executionInfo": {
     "elapsed": 43,
     "status": "ok",
     "timestamp": 1747883161449,
     "user": {
      "displayName": "가지파이",
      "userId": "02682077127036915451"
     },
     "user_tz": -540
    },
    "id": "WoZAQYecaNh_"
   },
   "outputs": [],
   "source": [
    "MAX_TOKEN_LENGTH = 128"
   ]
  },
  {
   "cell_type": "code",
   "execution_count": 20,
   "metadata": {
    "executionInfo": {
     "elapsed": 6,
     "status": "ok",
     "timestamp": 1747883161462,
     "user": {
      "displayName": "가지파이",
      "userId": "02682077127036915451"
     },
     "user_tz": -540
    },
    "id": "KDg85MFdrt5i"
   },
   "outputs": [],
   "source": [
    "# 데이터셋 클래스 정의\n",
    "class SentencePairDataset(Dataset):\n",
    "    \"\"\"\n",
    "    문장 쌍을 받아 BERT 입력 형식으로 변환하는 PyTorch Dataset 클래스\n",
    "\n",
    "    Args:\n",
    "        texts (List[Tuple[str, str]]): (문장1, 문장2) 형태의 튜플 리스트\n",
    "        labels (List[int]): 문장 순서가 맞는지 여부를 나타내는 정수 레이블 (예: 0 또는 1)\n",
    "        tokenizer (transformers.PreTrainedTokenizer): HuggingFace 토크나이저 객체\n",
    "        max_length (int): 토큰 최대 길이 (default=128)\n",
    "    \"\"\"\n",
    "    def __init__(self, dataframe, tokenizer, max_length=MAX_TOKEN_LENGTH):\n",
    "        self.data = dataframe\n",
    "        self.tokenizer = tokenizer\n",
    "        self.max_length = max_length\n",
    "\n",
    "    def __len__(self):\n",
    "        return len(self.data)\n",
    "\n",
    "    def __getitem__(self, idx):\n",
    "        row = self.data.iloc[idx]\n",
    "        encoding = self.tokenizer(\n",
    "            row['sentence1'],\n",
    "            row['sentence2'],\n",
    "            padding='max_length',\n",
    "            truncation=True,\n",
    "            max_length=self.max_length,\n",
    "            return_tensors='pt'\n",
    "        )\n",
    "\n",
    "        item = {\n",
    "            'input_ids': encoding['input_ids'][0],\n",
    "            'attention_mask': encoding['attention_mask'][0],\n",
    "            'labels': torch.tensor(row['label'], dtype=torch.long)\n",
    "        }\n",
    "\n",
    "        if 'token_type_ids' in encoding:\n",
    "            item['token_type_ids'] = encoding['token_type_ids'][0]\n",
    "\n",
    "        return item"
   ]
  },
  {
   "cell_type": "markdown",
   "metadata": {
    "id": "08CKaGEstwkh"
   },
   "source": [
    "# 3. 모델 아키텍쳐"
   ]
  },
  {
   "cell_type": "code",
   "execution_count": 21,
   "metadata": {},
   "outputs": [],
   "source": [
    "class EnhancedSentencePairModel(nn.Module):\n",
    "    def __init__(self, model_name, num_labels=2, class_weights=None, \n",
    "                 hidden_size=2048, num_attention_heads=16, dropout_rate=0.1):\n",
    "        super(EnhancedSentencePairModel, self).__init__()\n",
    "        self.bert = AutoModel.from_pretrained(model_name)\n",
    "        \n",
    "        # 1. 더 큰 hidden size 사용\n",
    "        self.classifier = nn.Sequential(\n",
    "            nn.Linear(self.bert.config.hidden_size * 2, hidden_size),\n",
    "            nn.ReLU(),\n",
    "            nn.Dropout(dropout_rate),\n",
    "            nn.Linear(hidden_size, hidden_size // 2),\n",
    "            nn.ReLU(),\n",
    "            nn.Dropout(dropout_rate),\n",
    "            nn.Linear(hidden_size // 2, num_labels)\n",
    "        )\n",
    "        \n",
    "        # 2. Attention 메커니즘 추가\n",
    "        self.attention = nn.MultiheadAttention(\n",
    "            embed_dim=self.bert.config.hidden_size,\n",
    "            num_heads=num_attention_heads,\n",
    "            dropout=dropout_rate\n",
    "        )\n",
    "        \n",
    "        # 3. Layer Normalization 추가\n",
    "        self.layer_norm = nn.LayerNorm(self.bert.config.hidden_size)\n",
    "        \n",
    "        if class_weights is not None:\n",
    "            self.loss_fn = nn.CrossEntropyLoss(weight=class_weights)\n",
    "        else:\n",
    "            self.loss_fn = nn.CrossEntropyLoss()\n",
    "\n",
    "    def forward(self, input_ids, attention_mask=None, token_type_ids=None, labels=None):\n",
    "        outputs = self.bert(input_ids=input_ids,\n",
    "                          attention_mask=attention_mask,\n",
    "                          token_type_ids=token_type_ids,\n",
    "                          output_hidden_states=True,\n",
    "                          return_dict=True)\n",
    "\n",
    "        # 4. 더 많은 레이어 활용\n",
    "        hidden_states = outputs.hidden_states\n",
    "        last_five = torch.stack(hidden_states[-5:])\n",
    "        avg_hidden = torch.mean(last_five, dim=0)\n",
    "        \n",
    "        # 5. Self-attention 적용\n",
    "        avg_hidden = avg_hidden.permute(1, 0, 2)\n",
    "        attn_output, _ = self.attention(avg_hidden, avg_hidden, avg_hidden)\n",
    "        attn_output = attn_output.permute(1, 0, 2)\n",
    "        \n",
    "        # 6. Layer Normalization 적용\n",
    "        attn_output = self.layer_norm(attn_output)\n",
    "        \n",
    "        # 7. [CLS] 토큰과 마지막 토큰의 representation 결합\n",
    "        cls_output = attn_output[:, 0]\n",
    "        last_token_output = attn_output[:, -1]\n",
    "        combined_output = torch.cat([cls_output, last_token_output], dim=-1)\n",
    "        \n",
    "        # 8. 분류기 통과\n",
    "        logits = self.classifier(combined_output)\n",
    "\n",
    "        loss = None\n",
    "        if labels is not None:\n",
    "            loss = self.loss_fn(logits, labels)\n",
    "\n",
    "        return {'loss': loss, 'logits': logits}"
   ]
  },
  {
   "cell_type": "markdown",
   "metadata": {
    "id": "BGQ9BuV0aNjJ"
   },
   "source": [
    "# 4. 학습 코드"
   ]
  },
  {
   "cell_type": "code",
   "execution_count": 22,
   "metadata": {
    "colab": {
     "base_uri": "https://localhost:8080/",
     "height": 245,
     "referenced_widgets": [
      "c749251abef94a9db6e5380b3a32616c",
      "0852bb1bdb03478eb992a280fdec5517",
      "d59c9638e30745efb74eab8af3a1f11e",
      "ea205ce1419244eeb4968b7c80108b35",
      "0b8dc953669b4f868826eee17ef7534c",
      "3ef7f500f77b4f73a43495ab0fc2e71d",
      "da10eb068c8146fe8ac19beba151fd90",
      "352c4a9fd1c44a719db16e9dc688a7f1",
      "0e9fb9b7a04c4f328436d41cb06ea554",
      "30dfc62811bf44228a884b1748a8085f",
      "da18368ae1334f18b9207686df8956c3",
      "a048cfaa241b405888843d3adebb12f1",
      "14618eb9dcd248dda310d0fc26fa6c72",
      "5579bd0f386b46c8b5937ee32b72789b",
      "69c27743ab924dccaebfce1d4fb8b968",
      "a73c511bb07043e99dd500b439200608",
      "d2f161ea0d504890b2c413d97f8ba62e",
      "48cdeb160754447db94f29ba0e1655a4",
      "beae5f1a9b41474fb7fa5674623f51ec",
      "afbcf5d910b24c1887a1fd3715e38133",
      "e9223d865b054c80be89265a589acc8c",
      "2a8e82f74ed84c03a4821a3fc1979d12",
      "4c40352ebf66460fa28c887c2d36a3fb",
      "d295c5e0ade449ccba55e5e0487ade90",
      "57306d4ce3e9470fb2a7c7f41e7fa5d3",
      "e0b4e25bffaa4ef680f341ba872fd41b",
      "34d38db0c5a94f719e7541f8fc479145",
      "88bec5e851934a30bd2536927b02f665",
      "760da8cb905641c1bef06ecf578316b4",
      "f785722d9c0d4dcebb666349c4a6b9b6",
      "6e40e883d5a84715b0eaab0af06d0895",
      "584b163e812c4130bd1519adc7c5f635",
      "0992a8ac7c374adab3bb12feb90b0853"
     ]
    },
    "executionInfo": {
     "elapsed": 1553,
     "status": "ok",
     "timestamp": 1747883163030,
     "user": {
      "displayName": "가지파이",
      "userId": "02682077127036915451"
     },
     "user_tz": -540
    },
    "id": "9t4FfyC-aNjQ",
    "outputId": "e10cc798-466d-4227-e5a5-fb440dee41f8"
   },
   "outputs": [],
   "source": [
    "# 토크나이저 초기화\n",
    "tokenizer = AutoTokenizer.from_pretrained('monologg/koelectra-base-v3-discriminator')"
   ]
  },
  {
   "cell_type": "code",
   "execution_count": 23,
   "metadata": {
    "executionInfo": {
     "elapsed": 62,
     "status": "ok",
     "timestamp": 1747883163095,
     "user": {
      "displayName": "가지파이",
      "userId": "02682077127036915451"
     },
     "user_tz": -540
    },
    "id": "o5dvbfNUaNjR"
   },
   "outputs": [],
   "source": [
    "# 데이터 분할: 학습/검증 (예: 8:2)\n",
    "train_df, val_df = train_test_split(pairwise_df, test_size=0.2, stratify=pairwise_df['label'], random_state=42)\n",
    "\n",
    "# dataset 생성\n",
    "train_dataset = SentencePairDataset(train_df, tokenizer, max_length=MAX_TOKEN_LENGTH)\n",
    "val_dataset = SentencePairDataset(val_df, tokenizer, max_length=MAX_TOKEN_LENGTH)"
   ]
  },
  {
   "cell_type": "code",
   "execution_count": 24,
   "metadata": {
    "colab": {
     "base_uri": "https://localhost:8080/"
    },
    "executionInfo": {
     "elapsed": 81,
     "status": "ok",
     "timestamp": 1747883163241,
     "user": {
      "displayName": "가지파이",
      "userId": "02682077127036915451"
     },
     "user_tz": -540
    },
    "id": "bEA2y8QLt3IF",
    "outputId": "35d63996-3f87-4752-bdb3-dc7bdff3e9ad"
   },
   "outputs": [
    {
     "data": {
      "text/plain": [
       "device(type='cuda')"
      ]
     },
     "execution_count": 24,
     "metadata": {},
     "output_type": "execute_result"
    }
   ],
   "source": [
    "# GPU 사용 여부 확인\n",
    "device = torch.device('cuda' if torch.cuda.is_available() else 'cpu')\n",
    "device"
   ]
  },
  {
   "cell_type": "code",
   "execution_count": 25,
   "metadata": {
    "colab": {
     "base_uri": "https://localhost:8080/",
     "height": 81,
     "referenced_widgets": [
      "2f05aec2a40149ba858fd0f3eb59695e",
      "5589fd870d9b45d4aaa608fc0164ef36",
      "dec5b3cafec8462f962336d001fc75f6",
      "c112390ee67c4174949db38898dcaa50",
      "abc18100e8054cd1809912f1accc4b5b",
      "8e178b2588ac44638f600cbad4d52317",
      "12def767d93e402fb40bda48612ceeaf",
      "3563d47865c0438fb89c451e5a27a90f",
      "8aefb11e23c74effa62f78f9f038a376",
      "ba9d82402f414dc1ba127146da418ba5",
      "b248f0ccefe742838073f6c40f028843",
      "2456d101c6de48509f4878a43ccbc28c",
      "6c33d1dec46947a9bf34fbed6dedb620",
      "42ef12d800a94898ad6cdb2e1a41e88c",
      "1de552e6cd8b4fcc89c4f4d5333c190d",
      "db3a5c04b11041d7a090e5bff4e61e45",
      "5b0fc9def93d479cab40cb08548d9cc5",
      "8913b2e9103c42f98c3d69a6153e0406",
      "2fa2e439a13b47cc81383ad9a25d18a3",
      "d857a4e04d724ee1a3f29f25e4e598ac",
      "3361de23fed746d994a3daa7409170d6",
      "b433ba2a9a7447afa38fa4963dc13c9b"
     ]
    },
    "executionInfo": {
     "elapsed": 10933,
     "status": "ok",
     "timestamp": 1747883174164,
     "user": {
      "displayName": "가지파이",
      "userId": "02682077127036915451"
     },
     "user_tz": -540
    },
    "id": "LhAp3HZBaNld",
    "outputId": "f5ec9f26-4890-4b20-8bf5-29dcc3dfad2b"
   },
   "outputs": [],
   "source": [
    "# 모델 인스턴스 생성\n",
    "model = EnhancedSentencePairModel(\"monologg/koelectra-base-v3-discriminator\").to(device)"
   ]
  },
  {
   "cell_type": "code",
   "execution_count": 26,
   "metadata": {
    "executionInfo": {
     "elapsed": 30,
     "status": "ok",
     "timestamp": 1747883174196,
     "user": {
      "displayName": "가지파이",
      "userId": "02682077127036915451"
     },
     "user_tz": -540
    },
    "id": "GE6CdCl6aNli"
   },
   "outputs": [],
   "source": [
    "def compute_metrics(pred):\n",
    "    logits, labels = pred\n",
    "    preds = logits.argmax(axis=1)\n",
    "\n",
    "    return {\n",
    "        'accuracy': accuracy_score(labels, preds),\n",
    "        'f1': f1_score(labels, preds),\n",
    "        'precision': precision_score(labels, preds),\n",
    "        'recall': recall_score(labels, preds)\n",
    "    }"
   ]
  },
  {
   "cell_type": "code",
   "execution_count": 28,
   "metadata": {
    "colab": {
     "base_uri": "https://localhost:8080/",
     "height": 538
    },
    "executionInfo": {
     "elapsed": 5060017,
     "status": "ok",
     "timestamp": 1747888234219,
     "user": {
      "displayName": "가지파이",
      "userId": "02682077127036915451"
     },
     "user_tz": -540
    },
    "id": "WKFxdTH3seXe",
    "outputId": "70dd7848-09d6-4dc8-bc30-abafc269c14a"
   },
   "outputs": [
    {
     "data": {
      "text/html": [
       "\n",
       "    <div>\n",
       "      \n",
       "      <progress value='8265' max='8265' style='width:300px; height:20px; vertical-align: middle;'></progress>\n",
       "      [8265/8265 1:54:16, Epoch 14/15]\n",
       "    </div>\n",
       "    <table border=\"1\" class=\"dataframe\">\n",
       "  <thead>\n",
       " <tr style=\"text-align: left;\">\n",
       "      <th>Epoch</th>\n",
       "      <th>Training Loss</th>\n",
       "      <th>Validation Loss</th>\n",
       "      <th>Accuracy</th>\n",
       "      <th>F1</th>\n",
       "      <th>Precision</th>\n",
       "      <th>Recall</th>\n",
       "    </tr>\n",
       "  </thead>\n",
       "  <tbody>\n",
       "    <tr>\n",
       "      <td>1</td>\n",
       "      <td>0.362400</td>\n",
       "      <td>0.345632</td>\n",
       "      <td>0.833135</td>\n",
       "      <td>0.622951</td>\n",
       "      <td>0.715926</td>\n",
       "      <td>0.551349</td>\n",
       "    </tr>\n",
       "    <tr>\n",
       "      <td>2</td>\n",
       "      <td>0.253500</td>\n",
       "      <td>0.280031</td>\n",
       "      <td>0.870430</td>\n",
       "      <td>0.736818</td>\n",
       "      <td>0.748538</td>\n",
       "      <td>0.725459</td>\n",
       "    </tr>\n",
       "    <tr>\n",
       "      <td>3</td>\n",
       "      <td>0.237700</td>\n",
       "      <td>0.290959</td>\n",
       "      <td>0.877175</td>\n",
       "      <td>0.745866</td>\n",
       "      <td>0.772595</td>\n",
       "      <td>0.720925</td>\n",
       "    </tr>\n",
       "    <tr>\n",
       "      <td>4</td>\n",
       "      <td>0.175300</td>\n",
       "      <td>0.274815</td>\n",
       "      <td>0.893499</td>\n",
       "      <td>0.771606</td>\n",
       "      <td>0.831761</td>\n",
       "      <td>0.719565</td>\n",
       "    </tr>\n",
       "    <tr>\n",
       "      <td>5</td>\n",
       "      <td>0.159600</td>\n",
       "      <td>0.284495</td>\n",
       "      <td>0.885394</td>\n",
       "      <td>0.760256</td>\n",
       "      <td>0.796918</td>\n",
       "      <td>0.726819</td>\n",
       "    </tr>\n",
       "    <tr>\n",
       "      <td>6</td>\n",
       "      <td>0.119400</td>\n",
       "      <td>0.266008</td>\n",
       "      <td>0.912770</td>\n",
       "      <td>0.822675</td>\n",
       "      <td>0.836457</td>\n",
       "      <td>0.809340</td>\n",
       "    </tr>\n",
       "    <tr>\n",
       "      <td>7</td>\n",
       "      <td>0.072400</td>\n",
       "      <td>0.359798</td>\n",
       "      <td>0.916114</td>\n",
       "      <td>0.828664</td>\n",
       "      <td>0.846700</td>\n",
       "      <td>0.811381</td>\n",
       "    </tr>\n",
       "    <tr>\n",
       "      <td>8</td>\n",
       "      <td>0.045200</td>\n",
       "      <td>0.320385</td>\n",
       "      <td>0.919572</td>\n",
       "      <td>0.838805</td>\n",
       "      <td>0.840619</td>\n",
       "      <td>0.836998</td>\n",
       "    </tr>\n",
       "    <tr>\n",
       "      <td>9</td>\n",
       "      <td>0.037600</td>\n",
       "      <td>0.321713</td>\n",
       "      <td>0.921669</td>\n",
       "      <td>0.841804</td>\n",
       "      <td>0.850173</td>\n",
       "      <td>0.833598</td>\n",
       "    </tr>\n",
       "    <tr>\n",
       "      <td>10</td>\n",
       "      <td>0.023600</td>\n",
       "      <td>0.349707</td>\n",
       "      <td>0.922122</td>\n",
       "      <td>0.837396</td>\n",
       "      <td>0.875959</td>\n",
       "      <td>0.802086</td>\n",
       "    </tr>\n",
       "    <tr>\n",
       "      <td>11</td>\n",
       "      <td>0.010200</td>\n",
       "      <td>0.463412</td>\n",
       "      <td>0.922689</td>\n",
       "      <td>0.840094</td>\n",
       "      <td>0.869871</td>\n",
       "      <td>0.812287</td>\n",
       "    </tr>\n",
       "    <tr>\n",
       "      <td>12</td>\n",
       "      <td>0.007800</td>\n",
       "      <td>0.479173</td>\n",
       "      <td>0.927847</td>\n",
       "      <td>0.853997</td>\n",
       "      <td>0.864206</td>\n",
       "      <td>0.844026</td>\n",
       "    </tr>\n",
       "    <tr>\n",
       "      <td>13</td>\n",
       "      <td>0.001100</td>\n",
       "      <td>0.571773</td>\n",
       "      <td>0.928243</td>\n",
       "      <td>0.853675</td>\n",
       "      <td>0.870785</td>\n",
       "      <td>0.837225</td>\n",
       "    </tr>\n",
       "    <tr>\n",
       "      <td>14</td>\n",
       "      <td>0.000300</td>\n",
       "      <td>0.594578</td>\n",
       "      <td>0.928640</td>\n",
       "      <td>0.855437</td>\n",
       "      <td>0.866682</td>\n",
       "      <td>0.844480</td>\n",
       "    </tr>\n",
       "  </tbody>\n",
       "</table><p>"
      ],
      "text/plain": [
       "<IPython.core.display.HTML object>"
      ]
     },
     "metadata": {},
     "output_type": "display_data"
    },
    {
     "data": {
      "text/plain": [
       "TrainOutput(global_step=8265, training_loss=0.11611378208344776, metrics={'train_runtime': 6858.0905, 'train_samples_per_second': 154.348, 'train_steps_per_second': 1.205, 'total_flos': 0.0, 'train_loss': 0.11611378208344776, 'epoch': 14.973708068902992})"
      ]
     },
     "execution_count": 28,
     "metadata": {},
     "output_type": "execute_result"
    }
   ],
   "source": [
    "# 학습 인자 설정\n",
    "training_args = TrainingArguments(\n",
    "    output_dir='./koelectra_results',     # 체크포인트와 결과 저장 폴더\n",
    "    num_train_epochs=15,                   # 학습 epoch 수\n",
    "    per_device_train_batch_size=64,       # 학습 시 디바이스당 배치 사이즈\n",
    "    per_device_eval_batch_size=128,        # 검증 시 디바이스당 배치 사이즈\n",
    "    warmup_steps=500,                     # 워밍업 단계에서 학습률 선형 증가\n",
    "    weight_decay=0.02,                    # AdamW optimizer의 weight decay 값\n",
    "    logging_dir='./koelectra_logs',       # 로깅 파일 저장 경로를 절대 경로로 변경\n",
    "    logging_steps=10,                     # 로그를 몇 스텝마다 남길지\n",
    "    save_strategy='epoch',                # epoch마다 체크포인트 저장\n",
    "    eval_strategy='epoch',\n",
    "    seed=42,\n",
    "    learning_rate=1.6e-4,  # 학습률 명시적 설정\n",
    "    gradient_accumulation_steps=2,  # 그래디언트 누적 추가\n",
    "    fp16=True,  # mixed precision training 활성화\n",
    "    lr_scheduler_type='cosine_with_restarts',  # cosine learning rate scheduling\n",
    "    max_grad_norm=1.0,  # gradient clipping\n",
    "\n",
    "    # EarlyStoppingCallback 필수 옵션\n",
    "    load_best_model_at_end=True,           # 학습이 끝난 뒤 최적 모델 불러오기\n",
    "    metric_for_best_model='accuracy',      # 대회 평가 산식 monitor\n",
    "    greater_is_better=True                 # 메트릭이 클수록 좋은 경우 True\n",
    ")\n",
    "\n",
    "# 트레이너 초기화\n",
    "trainer = Trainer(\n",
    "    model=model,\n",
    "    args=training_args,\n",
    "    train_dataset=train_dataset,\n",
    "    eval_dataset=val_dataset,\n",
    "    compute_metrics=compute_metrics,\n",
    "    callbacks=[EarlyStoppingCallback(early_stopping_patience=3)]\n",
    "   )\n",
    "\n",
    "# 학습 실행\n",
    "trainer.train()"
   ]
  },
  {
   "cell_type": "code",
   "execution_count": 29,
   "metadata": {
    "colab": {
     "base_uri": "https://localhost:8080/",
     "height": 77
    },
    "executionInfo": {
     "elapsed": 126372,
     "status": "ok",
     "timestamp": 1747888360597,
     "user": {
      "displayName": "가지파이",
      "userId": "02682077127036915451"
     },
     "user_tz": -540
    },
    "id": "bYUrxfhuaNlk",
    "outputId": "f78dedf3-0ef0-419e-e73e-77be9ba4e4ca"
   },
   "outputs": [
    {
     "data": {
      "text/html": [
       "\n",
       "    <div>\n",
       "      \n",
       "      <progress value='138' max='138' style='width:300px; height:20px; vertical-align: middle;'></progress>\n",
       "      [138/138 00:35]\n",
       "    </div>\n",
       "    "
      ],
      "text/plain": [
       "<IPython.core.display.HTML object>"
      ]
     },
     "metadata": {},
     "output_type": "display_data"
    },
    {
     "name": "stdout",
     "output_type": "stream",
     "text": [
      "Validation Results: {'eval_loss': 0.6003636717796326, 'eval_accuracy': 0.9294337697670464, 'eval_f1': 0.8576329331046312, 'eval_precision': 0.8652514997692663, 'eval_recall': 0.8501473588755384, 'eval_runtime': 35.7186, 'eval_samples_per_second': 493.944, 'eval_steps_per_second': 3.864, 'epoch': 14.973708068902992}\n"
     ]
    }
   ],
   "source": [
    "# epoch 마지막 또는 전체 학습 후 평가\n",
    "eval_results = trainer.evaluate()\n",
    "print(\"Validation Results:\", eval_results)"
   ]
  },
  {
   "cell_type": "code",
   "execution_count": 30,
   "metadata": {
    "executionInfo": {
     "elapsed": 1829,
     "status": "ok",
     "timestamp": 1747888362428,
     "user": {
      "displayName": "가지파이",
      "userId": "02682077127036915451"
     },
     "user_tz": -540
    },
    "id": "rozOpzIaaNll"
   },
   "outputs": [],
   "source": [
    "# 모델 저장\n",
    "trainer.save_model(\"./koelectra_results/final_model\")"
   ]
  },
  {
   "cell_type": "markdown",
   "metadata": {},
   "source": [
    "# 5. 하이퍼파라미터 튜닝"
   ]
  },
  {
   "cell_type": "code",
   "execution_count": 57,
   "metadata": {},
   "outputs": [],
   "source": [
    "param_grid = {\n",
    "    # 모델 구조 관련\n",
    "    'hidden_size': [1024, 1536, 2048],\n",
    "    'num_attention_heads': [12, 16],\n",
    "    'dropout_rate': [0.1, 0.2],\n",
    "    \n",
    "    # 학습 관련\n",
    "    'learning_rate': [3e-5, 4e-5, 5e-5],\n",
    "    'weight_decay': [0.01, 0.02],\n",
    "    'warmup_steps': [1000],\n",
    "    'batch_size': [16, 32]\n",
    "}"
   ]
  },
  {
   "cell_type": "code",
   "execution_count": 54,
   "metadata": {},
   "outputs": [],
   "source": [
    "def sample_dataset(dataset, sample_size=5000, random_state=42):\n",
    "    \"\"\"데이터셋에서 랜덤 샘플링\"\"\"\n",
    "    # DataFrame에서 랜덤 샘플링\n",
    "    sampled_data = dataset.data.sample(n=sample_size, random_state=random_state)\n",
    "    # 새로운 데이터셋 생성\n",
    "    return SentencePairDataset(sampled_data, dataset.tokenizer)"
   ]
  },
  {
   "cell_type": "code",
   "execution_count": 55,
   "metadata": {},
   "outputs": [],
   "source": [
    "from itertools import product\n",
    "\n",
    "def grid_search(param_grid, train_dataset, val_dataset, sample_size=1000):\n",
    "    # 데이터셋 샘플링\n",
    "    sampled_train = sample_dataset(train_dataset, sample_size)\n",
    "    sampled_val = sample_dataset(val_dataset, sample_size // 5)  # 검증셋은 더 작게\n",
    "    \n",
    "    print(f\"Sampled dataset sizes - Train: {len(sampled_train)}, Val: {len(sampled_val)}\")\n",
    "    \n",
    "    # 모든 파라미터 조합 생성\n",
    "    param_combinations = [dict(zip(param_grid.keys(), v)) \n",
    "                         for v in product(*param_grid.values())]\n",
    "    \n",
    "    results = []\n",
    "    \n",
    "    for params in tqdm(param_combinations, desc=\"Grid Search\"):\n",
    "        # 모델 초기화\n",
    "        model = EnhancedSentencePairModel(\n",
    "            model_name=\"monologg/koelectra-base-v3-discriminator\",\n",
    "            hidden_size=params['hidden_size'],\n",
    "            num_attention_heads=params['num_attention_heads'],\n",
    "            dropout_rate=params['dropout_rate']\n",
    "        )\n",
    "        \n",
    "        # 학습 인자 설정 (체크포인트 저장 비활성화)\n",
    "        training_args = TrainingArguments(\n",
    "            output_dir='./temp',\n",
    "            num_train_epochs=3,  # 샘플링된 데이터셋이므로 epochs도 줄임\n",
    "            per_device_train_batch_size=params['batch_size'],\n",
    "            per_device_eval_batch_size=params['batch_size'] * 2,\n",
    "            warmup_steps=params['warmup_steps'],\n",
    "            weight_decay=params['weight_decay'],\n",
    "            learning_rate=params['learning_rate'],\n",
    "            fp16=True,\n",
    "            save_strategy='no',\n",
    "            load_best_model_at_end=False,\n",
    "            metric_for_best_model='accuracy',\n",
    "            greater_is_better=True\n",
    "        )\n",
    "        \n",
    "        # 트레이너 초기화\n",
    "        trainer = Trainer(\n",
    "            model=model,\n",
    "            args=training_args,\n",
    "            train_dataset=sampled_train,\n",
    "            eval_dataset=sampled_val,\n",
    "            compute_metrics=compute_metrics\n",
    "        )\n",
    "        \n",
    "        # 학습 및 평가\n",
    "        trainer.train()\n",
    "        eval_results = trainer.evaluate()\n",
    "        \n",
    "        # 결과 기록\n",
    "        result = {\n",
    "            'params': params,\n",
    "            'accuracy': eval_results['eval_accuracy'],\n",
    "            'loss': eval_results['eval_loss']\n",
    "        }\n",
    "        results.append(result)\n",
    "        \n",
    "        print(f\"\\nParameters: {params}\")\n",
    "        print(f\"Accuracy: {eval_results['eval_accuracy']:.4f}\")\n",
    "        print(f\"Loss: {eval_results['eval_loss']:.4f}\")\n",
    "        print(\"-\" * 50)\n",
    "    \n",
    "    # 결과를 데이터프레임으로 변환\n",
    "    df_results = pd.DataFrame(results)\n",
    "    \n",
    "    # 파라미터 컬럼 분리\n",
    "    param_df = pd.DataFrame([r['params'] for r in results])\n",
    "    df_results = pd.concat([param_df, df_results[['accuracy', 'loss']]], axis=1)\n",
    "    \n",
    "    # 결과 정렬\n",
    "    df_results = df_results.sort_values('accuracy', ascending=False)\n",
    "    \n",
    "    return df_results"
   ]
  },
  {
   "cell_type": "code",
   "execution_count": null,
   "metadata": {},
   "outputs": [],
   "source": [
    "# 그리드 서치 실행\n",
    "results_df = grid_search(param_grid, train_dataset, val_dataset, sample_size=5000)\n",
    "\n",
    "# 결과 출력\n",
    "print(\"\\nTop 10 configurations:\")\n",
    "print(results_df.head(10))\n",
    "\n",
    "# 최적의 파라미터 선택\n",
    "best_params = results_df.iloc[0].to_dict()  # 가장 높은 accuracy를 가진 파라미터 조합\n",
    "\n",
    "# 결과 저장\n",
    "results_df.to_csv('grid_search_results.csv', index=False)"
   ]
  },
  {
   "cell_type": "code",
   "execution_count": 60,
   "metadata": {},
   "outputs": [
    {
     "name": "stdout",
     "output_type": "stream",
     "text": [
      "<class 'pandas.core.frame.DataFrame'>\n",
      "Index: 144 entries, 130 to 25\n",
      "Data columns (total 9 columns):\n",
      " #   Column               Non-Null Count  Dtype  \n",
      "---  ------               --------------  -----  \n",
      " 0   hidden_size          144 non-null    int64  \n",
      " 1   num_attention_heads  144 non-null    int64  \n",
      " 2   dropout_rate         144 non-null    float64\n",
      " 3   learning_rate        144 non-null    float64\n",
      " 4   weight_decay         144 non-null    float64\n",
      " 5   warmup_steps         144 non-null    int64  \n",
      " 6   batch_size           144 non-null    int64  \n",
      " 7   accuracy             144 non-null    float64\n",
      " 8   loss                 144 non-null    float64\n",
      "dtypes: float64(5), int64(4)\n",
      "memory usage: 11.2 KB\n"
     ]
    },
    {
     "data": {
      "text/html": [
       "<div>\n",
       "<style scoped>\n",
       "    .dataframe tbody tr th:only-of-type {\n",
       "        vertical-align: middle;\n",
       "    }\n",
       "\n",
       "    .dataframe tbody tr th {\n",
       "        vertical-align: top;\n",
       "    }\n",
       "\n",
       "    .dataframe thead th {\n",
       "        text-align: right;\n",
       "    }\n",
       "</style>\n",
       "<table border=\"1\" class=\"dataframe\">\n",
       "  <thead>\n",
       "    <tr style=\"text-align: right;\">\n",
       "      <th></th>\n",
       "      <th>hidden_size</th>\n",
       "      <th>num_attention_heads</th>\n",
       "      <th>dropout_rate</th>\n",
       "      <th>learning_rate</th>\n",
       "      <th>weight_decay</th>\n",
       "      <th>warmup_steps</th>\n",
       "      <th>batch_size</th>\n",
       "      <th>accuracy</th>\n",
       "      <th>loss</th>\n",
       "    </tr>\n",
       "  </thead>\n",
       "  <tbody>\n",
       "    <tr>\n",
       "      <th>130</th>\n",
       "      <td>2048</td>\n",
       "      <td>16</td>\n",
       "      <td>0.1</td>\n",
       "      <td>0.00005</td>\n",
       "      <td>0.02</td>\n",
       "      <td>1000</td>\n",
       "      <td>16</td>\n",
       "      <td>0.797</td>\n",
       "      <td>0.457752</td>\n",
       "    </tr>\n",
       "    <tr>\n",
       "      <th>142</th>\n",
       "      <td>2048</td>\n",
       "      <td>16</td>\n",
       "      <td>0.2</td>\n",
       "      <td>0.00005</td>\n",
       "      <td>0.02</td>\n",
       "      <td>1000</td>\n",
       "      <td>16</td>\n",
       "      <td>0.797</td>\n",
       "      <td>0.436326</td>\n",
       "    </tr>\n",
       "    <tr>\n",
       "      <th>102</th>\n",
       "      <td>2048</td>\n",
       "      <td>12</td>\n",
       "      <td>0.1</td>\n",
       "      <td>0.00004</td>\n",
       "      <td>0.02</td>\n",
       "      <td>1000</td>\n",
       "      <td>16</td>\n",
       "      <td>0.797</td>\n",
       "      <td>0.446884</td>\n",
       "    </tr>\n",
       "    <tr>\n",
       "      <th>34</th>\n",
       "      <td>1024</td>\n",
       "      <td>16</td>\n",
       "      <td>0.1</td>\n",
       "      <td>0.00005</td>\n",
       "      <td>0.02</td>\n",
       "      <td>1000</td>\n",
       "      <td>16</td>\n",
       "      <td>0.797</td>\n",
       "      <td>0.441270</td>\n",
       "    </tr>\n",
       "    <tr>\n",
       "      <th>138</th>\n",
       "      <td>2048</td>\n",
       "      <td>16</td>\n",
       "      <td>0.2</td>\n",
       "      <td>0.00004</td>\n",
       "      <td>0.02</td>\n",
       "      <td>1000</td>\n",
       "      <td>16</td>\n",
       "      <td>0.796</td>\n",
       "      <td>0.431237</td>\n",
       "    </tr>\n",
       "  </tbody>\n",
       "</table>\n",
       "</div>"
      ],
      "text/plain": [
       "     hidden_size  num_attention_heads  dropout_rate  learning_rate  \\\n",
       "130         2048                   16           0.1        0.00005   \n",
       "142         2048                   16           0.2        0.00005   \n",
       "102         2048                   12           0.1        0.00004   \n",
       "34          1024                   16           0.1        0.00005   \n",
       "138         2048                   16           0.2        0.00004   \n",
       "\n",
       "     weight_decay  warmup_steps  batch_size  accuracy      loss  \n",
       "130          0.02          1000          16     0.797  0.457752  \n",
       "142          0.02          1000          16     0.797  0.436326  \n",
       "102          0.02          1000          16     0.797  0.446884  \n",
       "34           0.02          1000          16     0.797  0.441270  \n",
       "138          0.02          1000          16     0.796  0.431237  "
      ]
     },
     "execution_count": 60,
     "metadata": {},
     "output_type": "execute_result"
    }
   ],
   "source": [
    "results_df.info()\n",
    "results_df.head()"
   ]
  },
  {
   "cell_type": "code",
   "execution_count": 61,
   "metadata": {},
   "outputs": [
    {
     "data": {
      "text/plain": [
       "{'hidden_size': 2048.0,\n",
       " 'num_attention_heads': 16.0,\n",
       " 'dropout_rate': 0.1,\n",
       " 'learning_rate': 5e-05,\n",
       " 'weight_decay': 0.02,\n",
       " 'warmup_steps': 1000.0,\n",
       " 'batch_size': 16.0,\n",
       " 'accuracy': 0.797,\n",
       " 'loss': 0.45775243639945984}"
      ]
     },
     "execution_count": 61,
     "metadata": {},
     "output_type": "execute_result"
    }
   ],
   "source": [
    "best_params"
   ]
  },
  {
   "cell_type": "code",
   "execution_count": null,
   "metadata": {},
   "outputs": [],
   "source": [
    "# 최적 파라미터로 최종 모델 학습\n",
    "final_model = EnhancedSentencePairModel(\n",
    "    model_name=\"monologg/koelectra-base-v3-discriminator\",\n",
    "    hidden_size=2048,\n",
    "    num_attention_heads=16,\n",
    "    dropout_rate=0.1\n",
    ")\n",
    "\n",
    "# 최종 학습 인자 설정\n",
    "final_training_args = TrainingArguments(\n",
    "    output_dir='./koelectra_results/final_model',\n",
    "    num_train_epochs=15,\n",
    "    per_device_train_batch_size=2048,\n",
    "    per_device_eval_batch_size=2048 * 2,\n",
    "    warmup_steps=1000,\n",
    "    weight_decay=0.02,\n",
    "    learning_rate=5e-05,\n",
    "    fp16=True,\n",
    "    eval_strategy='epoch',\n",
    "    save_strategy='epoch',\n",
    "    save_total_limit=3,  # 최근 3개 체크포인트만 저장\n",
    "    load_best_model_at_end=True,\n",
    "    metric_for_best_model='accuracy',\n",
    "    greater_is_better=True,\n",
    "    lr_scheduler_type='cosine_with_restarts',\n",
    "    max_grad_norm=1.0,\n",
    "    logging_dir='./koelectra_logs',\n",
    "    logging_steps=100,\n",
    ")\n",
    "\n",
    "# 최종 모델 학습\n",
    "final_trainer = Trainer(\n",
    "    model=final_model,\n",
    "    args=final_training_args,\n",
    "    train_dataset=train_dataset,\n",
    "    eval_dataset=val_dataset,\n",
    "    compute_metrics=compute_metrics,\n",
    "    callbacks=[EarlyStoppingCallback(early_stopping_patience=3, early_stopping_threshold=0.001)]\n",
    ")\n",
    "\n",
    "final_trainer.train()"
   ]
  },
  {
   "cell_type": "code",
   "execution_count": null,
   "metadata": {},
   "outputs": [],
   "source": [
    "# 최종 평가\n",
    "final_results = final_trainer.evaluate()\n",
    "print(\"\\nFinal evaluation results:\")\n",
    "print(f\"Accuracy: {final_results['eval_accuracy']:.4f}\")\n",
    "print(f\"Loss: {final_results['eval_loss']:.4f}\")"
   ]
  },
  {
   "cell_type": "markdown",
   "metadata": {
    "id": "mK4J8InUaNln"
   },
   "source": [
    "# 6. 평가 및 추론"
   ]
  },
  {
   "cell_type": "code",
   "execution_count": 31,
   "metadata": {
    "executionInfo": {
     "elapsed": 15,
     "status": "ok",
     "timestamp": 1747888362430,
     "user": {
      "displayName": "가지파이",
      "userId": "02682077127036915451"
     },
     "user_tz": -540
    },
    "id": "aa2a47e7s0RE"
   },
   "outputs": [],
   "source": [
    "def predict_order(sent1, sent2, model, tokenizer, device='cpu'):\n",
    "    model.eval()\n",
    "    inputs = tokenizer(\n",
    "        sent1,\n",
    "        sent2,\n",
    "        return_tensors='pt',\n",
    "        padding=True,\n",
    "        truncation=True,\n",
    "        max_length=MAX_TOKEN_LENGTH\n",
    "    )\n",
    "    inputs = {k: v.to(device) for k, v in inputs.items()}\n",
    "\n",
    "    with torch.no_grad():\n",
    "        outputs = model(**inputs)\n",
    "        predictions = torch.softmax(outputs['logits'], dim=1)\n",
    "\n",
    "    return predictions, predictions.argmax().item()"
   ]
  },
  {
   "cell_type": "markdown",
   "metadata": {
    "id": "scoR4Ph6-H5r"
   },
   "source": [
    "# 7. 페어와이즈 예측 함수"
   ]
  },
  {
   "cell_type": "code",
   "execution_count": 32,
   "metadata": {
    "executionInfo": {
     "elapsed": 13,
     "status": "ok",
     "timestamp": 1747888362431,
     "user": {
      "displayName": "가지파이",
      "userId": "02682077127036915451"
     },
     "user_tz": -540
    },
    "id": "1tEouf7r-GkX"
   },
   "outputs": [],
   "source": [
    "def pair_score(s1, s2):\n",
    "    probs, _ = predict_order(s1, s2, model, tokenizer, device)\n",
    "    return probs[0][1].item()  # label=1 확률"
   ]
  },
  {
   "cell_type": "markdown",
   "metadata": {
    "id": "s68LbODo-MCz"
   },
   "source": [
    "# 8. 순열별 점수 계산 후 최적 순서 선택"
   ]
  },
  {
   "cell_type": "code",
   "execution_count": 33,
   "metadata": {
    "colab": {
     "base_uri": "https://localhost:8080/",
     "height": 703,
     "referenced_widgets": [
      "1f930a63641f4377a60656721c49dbf7",
      "3eb36a4bc0e14375b0e77fa58a32088b",
      "029adb24d0a24c01be30e989176dcab4",
      "28a00be6716b4f83b2669c32da7ffadb",
      "b9bc47d23a9f4764b8cd00ac57dcd213",
      "189baedd6951415497fa6d01927fd005",
      "046eec6848ad46ed9132fc3270265bf7",
      "63b97a921aea4e3482223ed9b2a93719",
      "9e7804efc0a7464fb6cb9d79e9afec9b",
      "c21eeb18f79a4144a252363a02da7bec",
      "a97dd72632774442b0330a99d4005ae9"
     ]
    },
    "executionInfo": {
     "elapsed": 527486,
     "status": "ok",
     "timestamp": 1747889893775,
     "user": {
      "displayName": "가지파이",
      "userId": "02682077127036915451"
     },
     "user_tz": -540
    },
    "id": "nCBnV8gx-L1x",
    "outputId": "2a62e371-7d8c-4e42-cf97-27ef4639e518"
   },
   "outputs": [
    {
     "data": {
      "application/vnd.jupyter.widget-view+json": {
       "model_id": "1c91fd8703c8416585419b9a43ede279",
       "version_major": 2,
       "version_minor": 0
      },
      "text/plain": [
       "문장 순서 예측:   0%|          | 0/1780 [00:00<?, ?it/s]"
      ]
     },
     "metadata": {},
     "output_type": "display_data"
    }
   ],
   "source": [
    "pred_orders = []\n",
    "pred_scores = []\n",
    "\n",
    "# 테스트 샘플 수 만큼 반복\n",
    "for idx, (_, row) in enumerate(tqdm(test.iterrows(),\n",
    "                                     total=len(test),\n",
    "                                     desc=\"문장 순서 예측\")):\n",
    "    sents = [row[f'sentence_{i}'] for i in range(4)]\n",
    "\n",
    "    best_perm, best_score = None, -1.0\n",
    "    # 24가지 순열 전부 탐색\n",
    "    for perm in permutations(range(4), 4):\n",
    "        # 인접 페어 3개의 점수 합산\n",
    "        score = sum(pair_score(sents[perm[i]], sents[perm[i+1]])\n",
    "                    for i in range(3))\n",
    "        if score > best_score:\n",
    "            best_score, best_perm = score, perm\n",
    "\n",
    "    pred_orders.append(best_perm)\n",
    "    pred_scores.append(best_score)\n",
    "\n",
    "    # # 매 50개마다 로그 출력\n",
    "    # if (idx + 1) % 50 == 0:\n",
    "    #     print(f\"[{idx+1}/{len(test)}] 현재까지 최고 평균 스코어: {np.mean(pred_scores):.4f}\")"
   ]
  },
  {
   "cell_type": "markdown",
   "metadata": {
    "id": "uSktxuxg-S4Q"
   },
   "source": [
    "# 9. submission 파일 작성"
   ]
  },
  {
   "cell_type": "code",
   "execution_count": 34,
   "metadata": {
    "colab": {
     "base_uri": "https://localhost:8080/"
    },
    "executionInfo": {
     "elapsed": 930,
     "status": "ok",
     "timestamp": 1747889894718,
     "user": {
      "displayName": "가지파이",
      "userId": "02682077127036915451"
     },
     "user_tz": -540
    },
    "id": "mCa3sAIc-Ko4",
    "outputId": "b4bbc8bd-a510-4469-bee1-2cbbaefd597d"
   },
   "outputs": [
    {
     "name": "stdout",
     "output_type": "stream",
     "text": [
      "✅ submission.csv 파일이 생성되었습니다.\n"
     ]
    }
   ],
   "source": [
    "for idx, perm in enumerate(pred_orders):\n",
    "    for i, p in enumerate(perm):\n",
    "        submission.loc[idx, f'answer_{i}'] = p\n",
    "\n",
    "submission.to_csv('koelectra_results/submission.csv', index=False)\n",
    "print(\"✅ submission.csv 파일이 생성되었습니다.\")"
   ]
  },
  {
   "cell_type": "code",
   "execution_count": 35,
   "metadata": {},
   "outputs": [
    {
     "data": {
      "text/html": [
       "<div>\n",
       "<style scoped>\n",
       "    .dataframe tbody tr th:only-of-type {\n",
       "        vertical-align: middle;\n",
       "    }\n",
       "\n",
       "    .dataframe tbody tr th {\n",
       "        vertical-align: top;\n",
       "    }\n",
       "\n",
       "    .dataframe thead th {\n",
       "        text-align: right;\n",
       "    }\n",
       "</style>\n",
       "<table border=\"1\" class=\"dataframe\">\n",
       "  <thead>\n",
       "    <tr style=\"text-align: right;\">\n",
       "      <th></th>\n",
       "      <th>ID</th>\n",
       "      <th>answer_0</th>\n",
       "      <th>answer_1</th>\n",
       "      <th>answer_2</th>\n",
       "      <th>answer_3</th>\n",
       "    </tr>\n",
       "  </thead>\n",
       "  <tbody>\n",
       "    <tr>\n",
       "      <th>0</th>\n",
       "      <td>TEST_0000</td>\n",
       "      <td>1</td>\n",
       "      <td>2</td>\n",
       "      <td>0</td>\n",
       "      <td>3</td>\n",
       "    </tr>\n",
       "    <tr>\n",
       "      <th>1</th>\n",
       "      <td>TEST_0001</td>\n",
       "      <td>0</td>\n",
       "      <td>3</td>\n",
       "      <td>1</td>\n",
       "      <td>2</td>\n",
       "    </tr>\n",
       "    <tr>\n",
       "      <th>2</th>\n",
       "      <td>TEST_0002</td>\n",
       "      <td>0</td>\n",
       "      <td>3</td>\n",
       "      <td>2</td>\n",
       "      <td>1</td>\n",
       "    </tr>\n",
       "    <tr>\n",
       "      <th>3</th>\n",
       "      <td>TEST_0003</td>\n",
       "      <td>3</td>\n",
       "      <td>2</td>\n",
       "      <td>0</td>\n",
       "      <td>1</td>\n",
       "    </tr>\n",
       "    <tr>\n",
       "      <th>4</th>\n",
       "      <td>TEST_0004</td>\n",
       "      <td>0</td>\n",
       "      <td>2</td>\n",
       "      <td>1</td>\n",
       "      <td>3</td>\n",
       "    </tr>\n",
       "  </tbody>\n",
       "</table>\n",
       "</div>"
      ],
      "text/plain": [
       "          ID  answer_0  answer_1  answer_2  answer_3\n",
       "0  TEST_0000         1         2         0         3\n",
       "1  TEST_0001         0         3         1         2\n",
       "2  TEST_0002         0         3         2         1\n",
       "3  TEST_0003         3         2         0         1\n",
       "4  TEST_0004         0         2         1         3"
      ]
     },
     "execution_count": 35,
     "metadata": {},
     "output_type": "execute_result"
    }
   ],
   "source": [
    "submission.head()"
   ]
  }
 ],
 "metadata": {
  "accelerator": "GPU",
  "colab": {
   "gpuType": "T4",
   "provenance": [
    {
     "file_id": "1GahDegJYtXqLEfrAk84eMpPgWcktlARL",
     "timestamp": 1747878761092
    }
   ]
  },
  "kernelspec": {
   "display_name": "base",
   "language": "python",
   "name": "python3"
  },
  "language_info": {
   "codemirror_mode": {
    "name": "ipython",
    "version": 3
   },
   "file_extension": ".py",
   "mimetype": "text/x-python",
   "name": "python",
   "nbconvert_exporter": "python",
   "pygments_lexer": "ipython3",
   "version": "3.12.3"
  },
  "widgets": {
   "application/vnd.jupyter.widget-state+json": {
    "029adb24d0a24c01be30e989176dcab4": {
     "model_module": "@jupyter-widgets/controls",
     "model_module_version": "1.5.0",
     "model_name": "FloatProgressModel",
     "state": {
      "_dom_classes": [],
      "_model_module": "@jupyter-widgets/controls",
      "_model_module_version": "1.5.0",
      "_model_name": "FloatProgressModel",
      "_view_count": null,
      "_view_module": "@jupyter-widgets/controls",
      "_view_module_version": "1.5.0",
      "_view_name": "ProgressView",
      "bar_style": "success",
      "description": "",
      "description_tooltip": null,
      "layout": "IPY_MODEL_63b97a921aea4e3482223ed9b2a93719",
      "max": 1780,
      "min": 0,
      "orientation": "horizontal",
      "style": "IPY_MODEL_9e7804efc0a7464fb6cb9d79e9afec9b",
      "value": 1780
     }
    },
    "046eec6848ad46ed9132fc3270265bf7": {
     "model_module": "@jupyter-widgets/controls",
     "model_module_version": "1.5.0",
     "model_name": "DescriptionStyleModel",
     "state": {
      "_model_module": "@jupyter-widgets/controls",
      "_model_module_version": "1.5.0",
      "_model_name": "DescriptionStyleModel",
      "_view_count": null,
      "_view_module": "@jupyter-widgets/base",
      "_view_module_version": "1.2.0",
      "_view_name": "StyleView",
      "description_width": ""
     }
    },
    "0852bb1bdb03478eb992a280fdec5517": {
     "model_module": "@jupyter-widgets/controls",
     "model_module_version": "1.5.0",
     "model_name": "HTMLModel",
     "state": {
      "_dom_classes": [],
      "_model_module": "@jupyter-widgets/controls",
      "_model_module_version": "1.5.0",
      "_model_name": "HTMLModel",
      "_view_count": null,
      "_view_module": "@jupyter-widgets/controls",
      "_view_module_version": "1.5.0",
      "_view_name": "HTMLView",
      "description": "",
      "description_tooltip": null,
      "layout": "IPY_MODEL_3ef7f500f77b4f73a43495ab0fc2e71d",
      "placeholder": "​",
      "style": "IPY_MODEL_da10eb068c8146fe8ac19beba151fd90",
      "value": "tokenizer_config.json: 100%"
     }
    },
    "0992a8ac7c374adab3bb12feb90b0853": {
     "model_module": "@jupyter-widgets/controls",
     "model_module_version": "1.5.0",
     "model_name": "DescriptionStyleModel",
     "state": {
      "_model_module": "@jupyter-widgets/controls",
      "_model_module_version": "1.5.0",
      "_model_name": "DescriptionStyleModel",
      "_view_count": null,
      "_view_module": "@jupyter-widgets/base",
      "_view_module_version": "1.2.0",
      "_view_name": "StyleView",
      "description_width": ""
     }
    },
    "0b8dc953669b4f868826eee17ef7534c": {
     "model_module": "@jupyter-widgets/base",
     "model_module_version": "1.2.0",
     "model_name": "LayoutModel",
     "state": {
      "_model_module": "@jupyter-widgets/base",
      "_model_module_version": "1.2.0",
      "_model_name": "LayoutModel",
      "_view_count": null,
      "_view_module": "@jupyter-widgets/base",
      "_view_module_version": "1.2.0",
      "_view_name": "LayoutView",
      "align_content": null,
      "align_items": null,
      "align_self": null,
      "border": null,
      "bottom": null,
      "display": null,
      "flex": null,
      "flex_flow": null,
      "grid_area": null,
      "grid_auto_columns": null,
      "grid_auto_flow": null,
      "grid_auto_rows": null,
      "grid_column": null,
      "grid_gap": null,
      "grid_row": null,
      "grid_template_areas": null,
      "grid_template_columns": null,
      "grid_template_rows": null,
      "height": null,
      "justify_content": null,
      "justify_items": null,
      "left": null,
      "margin": null,
      "max_height": null,
      "max_width": null,
      "min_height": null,
      "min_width": null,
      "object_fit": null,
      "object_position": null,
      "order": null,
      "overflow": null,
      "overflow_x": null,
      "overflow_y": null,
      "padding": null,
      "right": null,
      "top": null,
      "visibility": null,
      "width": null
     }
    },
    "0e9fb9b7a04c4f328436d41cb06ea554": {
     "model_module": "@jupyter-widgets/controls",
     "model_module_version": "1.5.0",
     "model_name": "ProgressStyleModel",
     "state": {
      "_model_module": "@jupyter-widgets/controls",
      "_model_module_version": "1.5.0",
      "_model_name": "ProgressStyleModel",
      "_view_count": null,
      "_view_module": "@jupyter-widgets/base",
      "_view_module_version": "1.2.0",
      "_view_name": "StyleView",
      "bar_color": null,
      "description_width": ""
     }
    },
    "12def767d93e402fb40bda48612ceeaf": {
     "model_module": "@jupyter-widgets/controls",
     "model_module_version": "1.5.0",
     "model_name": "DescriptionStyleModel",
     "state": {
      "_model_module": "@jupyter-widgets/controls",
      "_model_module_version": "1.5.0",
      "_model_name": "DescriptionStyleModel",
      "_view_count": null,
      "_view_module": "@jupyter-widgets/base",
      "_view_module_version": "1.2.0",
      "_view_name": "StyleView",
      "description_width": ""
     }
    },
    "14618eb9dcd248dda310d0fc26fa6c72": {
     "model_module": "@jupyter-widgets/controls",
     "model_module_version": "1.5.0",
     "model_name": "HTMLModel",
     "state": {
      "_dom_classes": [],
      "_model_module": "@jupyter-widgets/controls",
      "_model_module_version": "1.5.0",
      "_model_name": "HTMLModel",
      "_view_count": null,
      "_view_module": "@jupyter-widgets/controls",
      "_view_module_version": "1.5.0",
      "_view_name": "HTMLView",
      "description": "",
      "description_tooltip": null,
      "layout": "IPY_MODEL_d2f161ea0d504890b2c413d97f8ba62e",
      "placeholder": "​",
      "style": "IPY_MODEL_48cdeb160754447db94f29ba0e1655a4",
      "value": "config.json: 100%"
     }
    },
    "189baedd6951415497fa6d01927fd005": {
     "model_module": "@jupyter-widgets/base",
     "model_module_version": "1.2.0",
     "model_name": "LayoutModel",
     "state": {
      "_model_module": "@jupyter-widgets/base",
      "_model_module_version": "1.2.0",
      "_model_name": "LayoutModel",
      "_view_count": null,
      "_view_module": "@jupyter-widgets/base",
      "_view_module_version": "1.2.0",
      "_view_name": "LayoutView",
      "align_content": null,
      "align_items": null,
      "align_self": null,
      "border": null,
      "bottom": null,
      "display": null,
      "flex": null,
      "flex_flow": null,
      "grid_area": null,
      "grid_auto_columns": null,
      "grid_auto_flow": null,
      "grid_auto_rows": null,
      "grid_column": null,
      "grid_gap": null,
      "grid_row": null,
      "grid_template_areas": null,
      "grid_template_columns": null,
      "grid_template_rows": null,
      "height": null,
      "justify_content": null,
      "justify_items": null,
      "left": null,
      "margin": null,
      "max_height": null,
      "max_width": null,
      "min_height": null,
      "min_width": null,
      "object_fit": null,
      "object_position": null,
      "order": null,
      "overflow": null,
      "overflow_x": null,
      "overflow_y": null,
      "padding": null,
      "right": null,
      "top": null,
      "visibility": null,
      "width": null
     }
    },
    "1de552e6cd8b4fcc89c4f4d5333c190d": {
     "model_module": "@jupyter-widgets/controls",
     "model_module_version": "1.5.0",
     "model_name": "HTMLModel",
     "state": {
      "_dom_classes": [],
      "_model_module": "@jupyter-widgets/controls",
      "_model_module_version": "1.5.0",
      "_model_name": "HTMLModel",
      "_view_count": null,
      "_view_module": "@jupyter-widgets/controls",
      "_view_module_version": "1.5.0",
      "_view_name": "HTMLView",
      "description": "",
      "description_tooltip": null,
      "layout": "IPY_MODEL_3361de23fed746d994a3daa7409170d6",
      "placeholder": "​",
      "style": "IPY_MODEL_b433ba2a9a7447afa38fa4963dc13c9b",
      "value": " 443M/443M [00:03&lt;00:00, 198MB/s]"
     }
    },
    "1f930a63641f4377a60656721c49dbf7": {
     "model_module": "@jupyter-widgets/controls",
     "model_module_version": "1.5.0",
     "model_name": "HBoxModel",
     "state": {
      "_dom_classes": [],
      "_model_module": "@jupyter-widgets/controls",
      "_model_module_version": "1.5.0",
      "_model_name": "HBoxModel",
      "_view_count": null,
      "_view_module": "@jupyter-widgets/controls",
      "_view_module_version": "1.5.0",
      "_view_name": "HBoxView",
      "box_style": "",
      "children": [
       "IPY_MODEL_3eb36a4bc0e14375b0e77fa58a32088b",
       "IPY_MODEL_029adb24d0a24c01be30e989176dcab4",
       "IPY_MODEL_28a00be6716b4f83b2669c32da7ffadb"
      ],
      "layout": "IPY_MODEL_b9bc47d23a9f4764b8cd00ac57dcd213"
     }
    },
    "2456d101c6de48509f4878a43ccbc28c": {
     "model_module": "@jupyter-widgets/controls",
     "model_module_version": "1.5.0",
     "model_name": "HBoxModel",
     "state": {
      "_dom_classes": [],
      "_model_module": "@jupyter-widgets/controls",
      "_model_module_version": "1.5.0",
      "_model_name": "HBoxModel",
      "_view_count": null,
      "_view_module": "@jupyter-widgets/controls",
      "_view_module_version": "1.5.0",
      "_view_name": "HBoxView",
      "box_style": "",
      "children": [
       "IPY_MODEL_6c33d1dec46947a9bf34fbed6dedb620",
       "IPY_MODEL_42ef12d800a94898ad6cdb2e1a41e88c",
       "IPY_MODEL_1de552e6cd8b4fcc89c4f4d5333c190d"
      ],
      "layout": "IPY_MODEL_db3a5c04b11041d7a090e5bff4e61e45"
     }
    },
    "28a00be6716b4f83b2669c32da7ffadb": {
     "model_module": "@jupyter-widgets/controls",
     "model_module_version": "1.5.0",
     "model_name": "HTMLModel",
     "state": {
      "_dom_classes": [],
      "_model_module": "@jupyter-widgets/controls",
      "_model_module_version": "1.5.0",
      "_model_name": "HTMLModel",
      "_view_count": null,
      "_view_module": "@jupyter-widgets/controls",
      "_view_module_version": "1.5.0",
      "_view_name": "HTMLView",
      "description": "",
      "description_tooltip": null,
      "layout": "IPY_MODEL_c21eeb18f79a4144a252363a02da7bec",
      "placeholder": "​",
      "style": "IPY_MODEL_a97dd72632774442b0330a99d4005ae9",
      "value": " 1780/1780 [25:31&lt;00:00,  1.25it/s]"
     }
    },
    "2a8e82f74ed84c03a4821a3fc1979d12": {
     "model_module": "@jupyter-widgets/controls",
     "model_module_version": "1.5.0",
     "model_name": "DescriptionStyleModel",
     "state": {
      "_model_module": "@jupyter-widgets/controls",
      "_model_module_version": "1.5.0",
      "_model_name": "DescriptionStyleModel",
      "_view_count": null,
      "_view_module": "@jupyter-widgets/base",
      "_view_module_version": "1.2.0",
      "_view_name": "StyleView",
      "description_width": ""
     }
    },
    "2f05aec2a40149ba858fd0f3eb59695e": {
     "model_module": "@jupyter-widgets/controls",
     "model_module_version": "1.5.0",
     "model_name": "HBoxModel",
     "state": {
      "_dom_classes": [],
      "_model_module": "@jupyter-widgets/controls",
      "_model_module_version": "1.5.0",
      "_model_name": "HBoxModel",
      "_view_count": null,
      "_view_module": "@jupyter-widgets/controls",
      "_view_module_version": "1.5.0",
      "_view_name": "HBoxView",
      "box_style": "",
      "children": [
       "IPY_MODEL_5589fd870d9b45d4aaa608fc0164ef36",
       "IPY_MODEL_dec5b3cafec8462f962336d001fc75f6",
       "IPY_MODEL_c112390ee67c4174949db38898dcaa50"
      ],
      "layout": "IPY_MODEL_abc18100e8054cd1809912f1accc4b5b"
     }
    },
    "2fa2e439a13b47cc81383ad9a25d18a3": {
     "model_module": "@jupyter-widgets/base",
     "model_module_version": "1.2.0",
     "model_name": "LayoutModel",
     "state": {
      "_model_module": "@jupyter-widgets/base",
      "_model_module_version": "1.2.0",
      "_model_name": "LayoutModel",
      "_view_count": null,
      "_view_module": "@jupyter-widgets/base",
      "_view_module_version": "1.2.0",
      "_view_name": "LayoutView",
      "align_content": null,
      "align_items": null,
      "align_self": null,
      "border": null,
      "bottom": null,
      "display": null,
      "flex": null,
      "flex_flow": null,
      "grid_area": null,
      "grid_auto_columns": null,
      "grid_auto_flow": null,
      "grid_auto_rows": null,
      "grid_column": null,
      "grid_gap": null,
      "grid_row": null,
      "grid_template_areas": null,
      "grid_template_columns": null,
      "grid_template_rows": null,
      "height": null,
      "justify_content": null,
      "justify_items": null,
      "left": null,
      "margin": null,
      "max_height": null,
      "max_width": null,
      "min_height": null,
      "min_width": null,
      "object_fit": null,
      "object_position": null,
      "order": null,
      "overflow": null,
      "overflow_x": null,
      "overflow_y": null,
      "padding": null,
      "right": null,
      "top": null,
      "visibility": null,
      "width": null
     }
    },
    "30dfc62811bf44228a884b1748a8085f": {
     "model_module": "@jupyter-widgets/base",
     "model_module_version": "1.2.0",
     "model_name": "LayoutModel",
     "state": {
      "_model_module": "@jupyter-widgets/base",
      "_model_module_version": "1.2.0",
      "_model_name": "LayoutModel",
      "_view_count": null,
      "_view_module": "@jupyter-widgets/base",
      "_view_module_version": "1.2.0",
      "_view_name": "LayoutView",
      "align_content": null,
      "align_items": null,
      "align_self": null,
      "border": null,
      "bottom": null,
      "display": null,
      "flex": null,
      "flex_flow": null,
      "grid_area": null,
      "grid_auto_columns": null,
      "grid_auto_flow": null,
      "grid_auto_rows": null,
      "grid_column": null,
      "grid_gap": null,
      "grid_row": null,
      "grid_template_areas": null,
      "grid_template_columns": null,
      "grid_template_rows": null,
      "height": null,
      "justify_content": null,
      "justify_items": null,
      "left": null,
      "margin": null,
      "max_height": null,
      "max_width": null,
      "min_height": null,
      "min_width": null,
      "object_fit": null,
      "object_position": null,
      "order": null,
      "overflow": null,
      "overflow_x": null,
      "overflow_y": null,
      "padding": null,
      "right": null,
      "top": null,
      "visibility": null,
      "width": null
     }
    },
    "3361de23fed746d994a3daa7409170d6": {
     "model_module": "@jupyter-widgets/base",
     "model_module_version": "1.2.0",
     "model_name": "LayoutModel",
     "state": {
      "_model_module": "@jupyter-widgets/base",
      "_model_module_version": "1.2.0",
      "_model_name": "LayoutModel",
      "_view_count": null,
      "_view_module": "@jupyter-widgets/base",
      "_view_module_version": "1.2.0",
      "_view_name": "LayoutView",
      "align_content": null,
      "align_items": null,
      "align_self": null,
      "border": null,
      "bottom": null,
      "display": null,
      "flex": null,
      "flex_flow": null,
      "grid_area": null,
      "grid_auto_columns": null,
      "grid_auto_flow": null,
      "grid_auto_rows": null,
      "grid_column": null,
      "grid_gap": null,
      "grid_row": null,
      "grid_template_areas": null,
      "grid_template_columns": null,
      "grid_template_rows": null,
      "height": null,
      "justify_content": null,
      "justify_items": null,
      "left": null,
      "margin": null,
      "max_height": null,
      "max_width": null,
      "min_height": null,
      "min_width": null,
      "object_fit": null,
      "object_position": null,
      "order": null,
      "overflow": null,
      "overflow_x": null,
      "overflow_y": null,
      "padding": null,
      "right": null,
      "top": null,
      "visibility": null,
      "width": null
     }
    },
    "34d38db0c5a94f719e7541f8fc479145": {
     "model_module": "@jupyter-widgets/base",
     "model_module_version": "1.2.0",
     "model_name": "LayoutModel",
     "state": {
      "_model_module": "@jupyter-widgets/base",
      "_model_module_version": "1.2.0",
      "_model_name": "LayoutModel",
      "_view_count": null,
      "_view_module": "@jupyter-widgets/base",
      "_view_module_version": "1.2.0",
      "_view_name": "LayoutView",
      "align_content": null,
      "align_items": null,
      "align_self": null,
      "border": null,
      "bottom": null,
      "display": null,
      "flex": null,
      "flex_flow": null,
      "grid_area": null,
      "grid_auto_columns": null,
      "grid_auto_flow": null,
      "grid_auto_rows": null,
      "grid_column": null,
      "grid_gap": null,
      "grid_row": null,
      "grid_template_areas": null,
      "grid_template_columns": null,
      "grid_template_rows": null,
      "height": null,
      "justify_content": null,
      "justify_items": null,
      "left": null,
      "margin": null,
      "max_height": null,
      "max_width": null,
      "min_height": null,
      "min_width": null,
      "object_fit": null,
      "object_position": null,
      "order": null,
      "overflow": null,
      "overflow_x": null,
      "overflow_y": null,
      "padding": null,
      "right": null,
      "top": null,
      "visibility": null,
      "width": null
     }
    },
    "352c4a9fd1c44a719db16e9dc688a7f1": {
     "model_module": "@jupyter-widgets/base",
     "model_module_version": "1.2.0",
     "model_name": "LayoutModel",
     "state": {
      "_model_module": "@jupyter-widgets/base",
      "_model_module_version": "1.2.0",
      "_model_name": "LayoutModel",
      "_view_count": null,
      "_view_module": "@jupyter-widgets/base",
      "_view_module_version": "1.2.0",
      "_view_name": "LayoutView",
      "align_content": null,
      "align_items": null,
      "align_self": null,
      "border": null,
      "bottom": null,
      "display": null,
      "flex": null,
      "flex_flow": null,
      "grid_area": null,
      "grid_auto_columns": null,
      "grid_auto_flow": null,
      "grid_auto_rows": null,
      "grid_column": null,
      "grid_gap": null,
      "grid_row": null,
      "grid_template_areas": null,
      "grid_template_columns": null,
      "grid_template_rows": null,
      "height": null,
      "justify_content": null,
      "justify_items": null,
      "left": null,
      "margin": null,
      "max_height": null,
      "max_width": null,
      "min_height": null,
      "min_width": null,
      "object_fit": null,
      "object_position": null,
      "order": null,
      "overflow": null,
      "overflow_x": null,
      "overflow_y": null,
      "padding": null,
      "right": null,
      "top": null,
      "visibility": null,
      "width": null
     }
    },
    "3563d47865c0438fb89c451e5a27a90f": {
     "model_module": "@jupyter-widgets/base",
     "model_module_version": "1.2.0",
     "model_name": "LayoutModel",
     "state": {
      "_model_module": "@jupyter-widgets/base",
      "_model_module_version": "1.2.0",
      "_model_name": "LayoutModel",
      "_view_count": null,
      "_view_module": "@jupyter-widgets/base",
      "_view_module_version": "1.2.0",
      "_view_name": "LayoutView",
      "align_content": null,
      "align_items": null,
      "align_self": null,
      "border": null,
      "bottom": null,
      "display": null,
      "flex": null,
      "flex_flow": null,
      "grid_area": null,
      "grid_auto_columns": null,
      "grid_auto_flow": null,
      "grid_auto_rows": null,
      "grid_column": null,
      "grid_gap": null,
      "grid_row": null,
      "grid_template_areas": null,
      "grid_template_columns": null,
      "grid_template_rows": null,
      "height": null,
      "justify_content": null,
      "justify_items": null,
      "left": null,
      "margin": null,
      "max_height": null,
      "max_width": null,
      "min_height": null,
      "min_width": null,
      "object_fit": null,
      "object_position": null,
      "order": null,
      "overflow": null,
      "overflow_x": null,
      "overflow_y": null,
      "padding": null,
      "right": null,
      "top": null,
      "visibility": null,
      "width": null
     }
    },
    "3eb36a4bc0e14375b0e77fa58a32088b": {
     "model_module": "@jupyter-widgets/controls",
     "model_module_version": "1.5.0",
     "model_name": "HTMLModel",
     "state": {
      "_dom_classes": [],
      "_model_module": "@jupyter-widgets/controls",
      "_model_module_version": "1.5.0",
      "_model_name": "HTMLModel",
      "_view_count": null,
      "_view_module": "@jupyter-widgets/controls",
      "_view_module_version": "1.5.0",
      "_view_name": "HTMLView",
      "description": "",
      "description_tooltip": null,
      "layout": "IPY_MODEL_189baedd6951415497fa6d01927fd005",
      "placeholder": "​",
      "style": "IPY_MODEL_046eec6848ad46ed9132fc3270265bf7",
      "value": "문장 순서 예측: 100%"
     }
    },
    "3ef7f500f77b4f73a43495ab0fc2e71d": {
     "model_module": "@jupyter-widgets/base",
     "model_module_version": "1.2.0",
     "model_name": "LayoutModel",
     "state": {
      "_model_module": "@jupyter-widgets/base",
      "_model_module_version": "1.2.0",
      "_model_name": "LayoutModel",
      "_view_count": null,
      "_view_module": "@jupyter-widgets/base",
      "_view_module_version": "1.2.0",
      "_view_name": "LayoutView",
      "align_content": null,
      "align_items": null,
      "align_self": null,
      "border": null,
      "bottom": null,
      "display": null,
      "flex": null,
      "flex_flow": null,
      "grid_area": null,
      "grid_auto_columns": null,
      "grid_auto_flow": null,
      "grid_auto_rows": null,
      "grid_column": null,
      "grid_gap": null,
      "grid_row": null,
      "grid_template_areas": null,
      "grid_template_columns": null,
      "grid_template_rows": null,
      "height": null,
      "justify_content": null,
      "justify_items": null,
      "left": null,
      "margin": null,
      "max_height": null,
      "max_width": null,
      "min_height": null,
      "min_width": null,
      "object_fit": null,
      "object_position": null,
      "order": null,
      "overflow": null,
      "overflow_x": null,
      "overflow_y": null,
      "padding": null,
      "right": null,
      "top": null,
      "visibility": null,
      "width": null
     }
    },
    "42ef12d800a94898ad6cdb2e1a41e88c": {
     "model_module": "@jupyter-widgets/controls",
     "model_module_version": "1.5.0",
     "model_name": "FloatProgressModel",
     "state": {
      "_dom_classes": [],
      "_model_module": "@jupyter-widgets/controls",
      "_model_module_version": "1.5.0",
      "_model_name": "FloatProgressModel",
      "_view_count": null,
      "_view_module": "@jupyter-widgets/controls",
      "_view_module_version": "1.5.0",
      "_view_name": "ProgressView",
      "bar_style": "success",
      "description": "",
      "description_tooltip": null,
      "layout": "IPY_MODEL_2fa2e439a13b47cc81383ad9a25d18a3",
      "max": 443111068,
      "min": 0,
      "orientation": "horizontal",
      "style": "IPY_MODEL_d857a4e04d724ee1a3f29f25e4e598ac",
      "value": 443111068
     }
    },
    "48cdeb160754447db94f29ba0e1655a4": {
     "model_module": "@jupyter-widgets/controls",
     "model_module_version": "1.5.0",
     "model_name": "DescriptionStyleModel",
     "state": {
      "_model_module": "@jupyter-widgets/controls",
      "_model_module_version": "1.5.0",
      "_model_name": "DescriptionStyleModel",
      "_view_count": null,
      "_view_module": "@jupyter-widgets/base",
      "_view_module_version": "1.2.0",
      "_view_name": "StyleView",
      "description_width": ""
     }
    },
    "4c40352ebf66460fa28c887c2d36a3fb": {
     "model_module": "@jupyter-widgets/controls",
     "model_module_version": "1.5.0",
     "model_name": "HBoxModel",
     "state": {
      "_dom_classes": [],
      "_model_module": "@jupyter-widgets/controls",
      "_model_module_version": "1.5.0",
      "_model_name": "HBoxModel",
      "_view_count": null,
      "_view_module": "@jupyter-widgets/controls",
      "_view_module_version": "1.5.0",
      "_view_name": "HBoxView",
      "box_style": "",
      "children": [
       "IPY_MODEL_d295c5e0ade449ccba55e5e0487ade90",
       "IPY_MODEL_57306d4ce3e9470fb2a7c7f41e7fa5d3",
       "IPY_MODEL_e0b4e25bffaa4ef680f341ba872fd41b"
      ],
      "layout": "IPY_MODEL_34d38db0c5a94f719e7541f8fc479145"
     }
    },
    "5579bd0f386b46c8b5937ee32b72789b": {
     "model_module": "@jupyter-widgets/controls",
     "model_module_version": "1.5.0",
     "model_name": "FloatProgressModel",
     "state": {
      "_dom_classes": [],
      "_model_module": "@jupyter-widgets/controls",
      "_model_module_version": "1.5.0",
      "_model_name": "FloatProgressModel",
      "_view_count": null,
      "_view_module": "@jupyter-widgets/controls",
      "_view_module_version": "1.5.0",
      "_view_name": "ProgressView",
      "bar_style": "success",
      "description": "",
      "description_tooltip": null,
      "layout": "IPY_MODEL_beae5f1a9b41474fb7fa5674623f51ec",
      "max": 467,
      "min": 0,
      "orientation": "horizontal",
      "style": "IPY_MODEL_afbcf5d910b24c1887a1fd3715e38133",
      "value": 467
     }
    },
    "5589fd870d9b45d4aaa608fc0164ef36": {
     "model_module": "@jupyter-widgets/controls",
     "model_module_version": "1.5.0",
     "model_name": "HTMLModel",
     "state": {
      "_dom_classes": [],
      "_model_module": "@jupyter-widgets/controls",
      "_model_module_version": "1.5.0",
      "_model_name": "HTMLModel",
      "_view_count": null,
      "_view_module": "@jupyter-widgets/controls",
      "_view_module_version": "1.5.0",
      "_view_name": "HTMLView",
      "description": "",
      "description_tooltip": null,
      "layout": "IPY_MODEL_8e178b2588ac44638f600cbad4d52317",
      "placeholder": "​",
      "style": "IPY_MODEL_12def767d93e402fb40bda48612ceeaf",
      "value": "pytorch_model.bin: 100%"
     }
    },
    "57306d4ce3e9470fb2a7c7f41e7fa5d3": {
     "model_module": "@jupyter-widgets/controls",
     "model_module_version": "1.5.0",
     "model_name": "FloatProgressModel",
     "state": {
      "_dom_classes": [],
      "_model_module": "@jupyter-widgets/controls",
      "_model_module_version": "1.5.0",
      "_model_name": "FloatProgressModel",
      "_view_count": null,
      "_view_module": "@jupyter-widgets/controls",
      "_view_module_version": "1.5.0",
      "_view_name": "ProgressView",
      "bar_style": "success",
      "description": "",
      "description_tooltip": null,
      "layout": "IPY_MODEL_f785722d9c0d4dcebb666349c4a6b9b6",
      "max": 279173,
      "min": 0,
      "orientation": "horizontal",
      "style": "IPY_MODEL_6e40e883d5a84715b0eaab0af06d0895",
      "value": 279173
     }
    },
    "584b163e812c4130bd1519adc7c5f635": {
     "model_module": "@jupyter-widgets/base",
     "model_module_version": "1.2.0",
     "model_name": "LayoutModel",
     "state": {
      "_model_module": "@jupyter-widgets/base",
      "_model_module_version": "1.2.0",
      "_model_name": "LayoutModel",
      "_view_count": null,
      "_view_module": "@jupyter-widgets/base",
      "_view_module_version": "1.2.0",
      "_view_name": "LayoutView",
      "align_content": null,
      "align_items": null,
      "align_self": null,
      "border": null,
      "bottom": null,
      "display": null,
      "flex": null,
      "flex_flow": null,
      "grid_area": null,
      "grid_auto_columns": null,
      "grid_auto_flow": null,
      "grid_auto_rows": null,
      "grid_column": null,
      "grid_gap": null,
      "grid_row": null,
      "grid_template_areas": null,
      "grid_template_columns": null,
      "grid_template_rows": null,
      "height": null,
      "justify_content": null,
      "justify_items": null,
      "left": null,
      "margin": null,
      "max_height": null,
      "max_width": null,
      "min_height": null,
      "min_width": null,
      "object_fit": null,
      "object_position": null,
      "order": null,
      "overflow": null,
      "overflow_x": null,
      "overflow_y": null,
      "padding": null,
      "right": null,
      "top": null,
      "visibility": null,
      "width": null
     }
    },
    "5b0fc9def93d479cab40cb08548d9cc5": {
     "model_module": "@jupyter-widgets/base",
     "model_module_version": "1.2.0",
     "model_name": "LayoutModel",
     "state": {
      "_model_module": "@jupyter-widgets/base",
      "_model_module_version": "1.2.0",
      "_model_name": "LayoutModel",
      "_view_count": null,
      "_view_module": "@jupyter-widgets/base",
      "_view_module_version": "1.2.0",
      "_view_name": "LayoutView",
      "align_content": null,
      "align_items": null,
      "align_self": null,
      "border": null,
      "bottom": null,
      "display": null,
      "flex": null,
      "flex_flow": null,
      "grid_area": null,
      "grid_auto_columns": null,
      "grid_auto_flow": null,
      "grid_auto_rows": null,
      "grid_column": null,
      "grid_gap": null,
      "grid_row": null,
      "grid_template_areas": null,
      "grid_template_columns": null,
      "grid_template_rows": null,
      "height": null,
      "justify_content": null,
      "justify_items": null,
      "left": null,
      "margin": null,
      "max_height": null,
      "max_width": null,
      "min_height": null,
      "min_width": null,
      "object_fit": null,
      "object_position": null,
      "order": null,
      "overflow": null,
      "overflow_x": null,
      "overflow_y": null,
      "padding": null,
      "right": null,
      "top": null,
      "visibility": null,
      "width": null
     }
    },
    "63b97a921aea4e3482223ed9b2a93719": {
     "model_module": "@jupyter-widgets/base",
     "model_module_version": "1.2.0",
     "model_name": "LayoutModel",
     "state": {
      "_model_module": "@jupyter-widgets/base",
      "_model_module_version": "1.2.0",
      "_model_name": "LayoutModel",
      "_view_count": null,
      "_view_module": "@jupyter-widgets/base",
      "_view_module_version": "1.2.0",
      "_view_name": "LayoutView",
      "align_content": null,
      "align_items": null,
      "align_self": null,
      "border": null,
      "bottom": null,
      "display": null,
      "flex": null,
      "flex_flow": null,
      "grid_area": null,
      "grid_auto_columns": null,
      "grid_auto_flow": null,
      "grid_auto_rows": null,
      "grid_column": null,
      "grid_gap": null,
      "grid_row": null,
      "grid_template_areas": null,
      "grid_template_columns": null,
      "grid_template_rows": null,
      "height": null,
      "justify_content": null,
      "justify_items": null,
      "left": null,
      "margin": null,
      "max_height": null,
      "max_width": null,
      "min_height": null,
      "min_width": null,
      "object_fit": null,
      "object_position": null,
      "order": null,
      "overflow": null,
      "overflow_x": null,
      "overflow_y": null,
      "padding": null,
      "right": null,
      "top": null,
      "visibility": null,
      "width": null
     }
    },
    "69c27743ab924dccaebfce1d4fb8b968": {
     "model_module": "@jupyter-widgets/controls",
     "model_module_version": "1.5.0",
     "model_name": "HTMLModel",
     "state": {
      "_dom_classes": [],
      "_model_module": "@jupyter-widgets/controls",
      "_model_module_version": "1.5.0",
      "_model_name": "HTMLModel",
      "_view_count": null,
      "_view_module": "@jupyter-widgets/controls",
      "_view_module_version": "1.5.0",
      "_view_name": "HTMLView",
      "description": "",
      "description_tooltip": null,
      "layout": "IPY_MODEL_e9223d865b054c80be89265a589acc8c",
      "placeholder": "​",
      "style": "IPY_MODEL_2a8e82f74ed84c03a4821a3fc1979d12",
      "value": " 467/467 [00:00&lt;00:00, 28.8kB/s]"
     }
    },
    "6c33d1dec46947a9bf34fbed6dedb620": {
     "model_module": "@jupyter-widgets/controls",
     "model_module_version": "1.5.0",
     "model_name": "HTMLModel",
     "state": {
      "_dom_classes": [],
      "_model_module": "@jupyter-widgets/controls",
      "_model_module_version": "1.5.0",
      "_model_name": "HTMLModel",
      "_view_count": null,
      "_view_module": "@jupyter-widgets/controls",
      "_view_module_version": "1.5.0",
      "_view_name": "HTMLView",
      "description": "",
      "description_tooltip": null,
      "layout": "IPY_MODEL_5b0fc9def93d479cab40cb08548d9cc5",
      "placeholder": "​",
      "style": "IPY_MODEL_8913b2e9103c42f98c3d69a6153e0406",
      "value": "model.safetensors: 100%"
     }
    },
    "6e40e883d5a84715b0eaab0af06d0895": {
     "model_module": "@jupyter-widgets/controls",
     "model_module_version": "1.5.0",
     "model_name": "ProgressStyleModel",
     "state": {
      "_model_module": "@jupyter-widgets/controls",
      "_model_module_version": "1.5.0",
      "_model_name": "ProgressStyleModel",
      "_view_count": null,
      "_view_module": "@jupyter-widgets/base",
      "_view_module_version": "1.2.0",
      "_view_name": "StyleView",
      "bar_color": null,
      "description_width": ""
     }
    },
    "760da8cb905641c1bef06ecf578316b4": {
     "model_module": "@jupyter-widgets/controls",
     "model_module_version": "1.5.0",
     "model_name": "DescriptionStyleModel",
     "state": {
      "_model_module": "@jupyter-widgets/controls",
      "_model_module_version": "1.5.0",
      "_model_name": "DescriptionStyleModel",
      "_view_count": null,
      "_view_module": "@jupyter-widgets/base",
      "_view_module_version": "1.2.0",
      "_view_name": "StyleView",
      "description_width": ""
     }
    },
    "88bec5e851934a30bd2536927b02f665": {
     "model_module": "@jupyter-widgets/base",
     "model_module_version": "1.2.0",
     "model_name": "LayoutModel",
     "state": {
      "_model_module": "@jupyter-widgets/base",
      "_model_module_version": "1.2.0",
      "_model_name": "LayoutModel",
      "_view_count": null,
      "_view_module": "@jupyter-widgets/base",
      "_view_module_version": "1.2.0",
      "_view_name": "LayoutView",
      "align_content": null,
      "align_items": null,
      "align_self": null,
      "border": null,
      "bottom": null,
      "display": null,
      "flex": null,
      "flex_flow": null,
      "grid_area": null,
      "grid_auto_columns": null,
      "grid_auto_flow": null,
      "grid_auto_rows": null,
      "grid_column": null,
      "grid_gap": null,
      "grid_row": null,
      "grid_template_areas": null,
      "grid_template_columns": null,
      "grid_template_rows": null,
      "height": null,
      "justify_content": null,
      "justify_items": null,
      "left": null,
      "margin": null,
      "max_height": null,
      "max_width": null,
      "min_height": null,
      "min_width": null,
      "object_fit": null,
      "object_position": null,
      "order": null,
      "overflow": null,
      "overflow_x": null,
      "overflow_y": null,
      "padding": null,
      "right": null,
      "top": null,
      "visibility": null,
      "width": null
     }
    },
    "8913b2e9103c42f98c3d69a6153e0406": {
     "model_module": "@jupyter-widgets/controls",
     "model_module_version": "1.5.0",
     "model_name": "DescriptionStyleModel",
     "state": {
      "_model_module": "@jupyter-widgets/controls",
      "_model_module_version": "1.5.0",
      "_model_name": "DescriptionStyleModel",
      "_view_count": null,
      "_view_module": "@jupyter-widgets/base",
      "_view_module_version": "1.2.0",
      "_view_name": "StyleView",
      "description_width": ""
     }
    },
    "8aefb11e23c74effa62f78f9f038a376": {
     "model_module": "@jupyter-widgets/controls",
     "model_module_version": "1.5.0",
     "model_name": "ProgressStyleModel",
     "state": {
      "_model_module": "@jupyter-widgets/controls",
      "_model_module_version": "1.5.0",
      "_model_name": "ProgressStyleModel",
      "_view_count": null,
      "_view_module": "@jupyter-widgets/base",
      "_view_module_version": "1.2.0",
      "_view_name": "StyleView",
      "bar_color": null,
      "description_width": ""
     }
    },
    "8e178b2588ac44638f600cbad4d52317": {
     "model_module": "@jupyter-widgets/base",
     "model_module_version": "1.2.0",
     "model_name": "LayoutModel",
     "state": {
      "_model_module": "@jupyter-widgets/base",
      "_model_module_version": "1.2.0",
      "_model_name": "LayoutModel",
      "_view_count": null,
      "_view_module": "@jupyter-widgets/base",
      "_view_module_version": "1.2.0",
      "_view_name": "LayoutView",
      "align_content": null,
      "align_items": null,
      "align_self": null,
      "border": null,
      "bottom": null,
      "display": null,
      "flex": null,
      "flex_flow": null,
      "grid_area": null,
      "grid_auto_columns": null,
      "grid_auto_flow": null,
      "grid_auto_rows": null,
      "grid_column": null,
      "grid_gap": null,
      "grid_row": null,
      "grid_template_areas": null,
      "grid_template_columns": null,
      "grid_template_rows": null,
      "height": null,
      "justify_content": null,
      "justify_items": null,
      "left": null,
      "margin": null,
      "max_height": null,
      "max_width": null,
      "min_height": null,
      "min_width": null,
      "object_fit": null,
      "object_position": null,
      "order": null,
      "overflow": null,
      "overflow_x": null,
      "overflow_y": null,
      "padding": null,
      "right": null,
      "top": null,
      "visibility": null,
      "width": null
     }
    },
    "9e7804efc0a7464fb6cb9d79e9afec9b": {
     "model_module": "@jupyter-widgets/controls",
     "model_module_version": "1.5.0",
     "model_name": "ProgressStyleModel",
     "state": {
      "_model_module": "@jupyter-widgets/controls",
      "_model_module_version": "1.5.0",
      "_model_name": "ProgressStyleModel",
      "_view_count": null,
      "_view_module": "@jupyter-widgets/base",
      "_view_module_version": "1.2.0",
      "_view_name": "StyleView",
      "bar_color": null,
      "description_width": ""
     }
    },
    "a048cfaa241b405888843d3adebb12f1": {
     "model_module": "@jupyter-widgets/controls",
     "model_module_version": "1.5.0",
     "model_name": "HBoxModel",
     "state": {
      "_dom_classes": [],
      "_model_module": "@jupyter-widgets/controls",
      "_model_module_version": "1.5.0",
      "_model_name": "HBoxModel",
      "_view_count": null,
      "_view_module": "@jupyter-widgets/controls",
      "_view_module_version": "1.5.0",
      "_view_name": "HBoxView",
      "box_style": "",
      "children": [
       "IPY_MODEL_14618eb9dcd248dda310d0fc26fa6c72",
       "IPY_MODEL_5579bd0f386b46c8b5937ee32b72789b",
       "IPY_MODEL_69c27743ab924dccaebfce1d4fb8b968"
      ],
      "layout": "IPY_MODEL_a73c511bb07043e99dd500b439200608"
     }
    },
    "a73c511bb07043e99dd500b439200608": {
     "model_module": "@jupyter-widgets/base",
     "model_module_version": "1.2.0",
     "model_name": "LayoutModel",
     "state": {
      "_model_module": "@jupyter-widgets/base",
      "_model_module_version": "1.2.0",
      "_model_name": "LayoutModel",
      "_view_count": null,
      "_view_module": "@jupyter-widgets/base",
      "_view_module_version": "1.2.0",
      "_view_name": "LayoutView",
      "align_content": null,
      "align_items": null,
      "align_self": null,
      "border": null,
      "bottom": null,
      "display": null,
      "flex": null,
      "flex_flow": null,
      "grid_area": null,
      "grid_auto_columns": null,
      "grid_auto_flow": null,
      "grid_auto_rows": null,
      "grid_column": null,
      "grid_gap": null,
      "grid_row": null,
      "grid_template_areas": null,
      "grid_template_columns": null,
      "grid_template_rows": null,
      "height": null,
      "justify_content": null,
      "justify_items": null,
      "left": null,
      "margin": null,
      "max_height": null,
      "max_width": null,
      "min_height": null,
      "min_width": null,
      "object_fit": null,
      "object_position": null,
      "order": null,
      "overflow": null,
      "overflow_x": null,
      "overflow_y": null,
      "padding": null,
      "right": null,
      "top": null,
      "visibility": null,
      "width": null
     }
    },
    "a97dd72632774442b0330a99d4005ae9": {
     "model_module": "@jupyter-widgets/controls",
     "model_module_version": "1.5.0",
     "model_name": "DescriptionStyleModel",
     "state": {
      "_model_module": "@jupyter-widgets/controls",
      "_model_module_version": "1.5.0",
      "_model_name": "DescriptionStyleModel",
      "_view_count": null,
      "_view_module": "@jupyter-widgets/base",
      "_view_module_version": "1.2.0",
      "_view_name": "StyleView",
      "description_width": ""
     }
    },
    "abc18100e8054cd1809912f1accc4b5b": {
     "model_module": "@jupyter-widgets/base",
     "model_module_version": "1.2.0",
     "model_name": "LayoutModel",
     "state": {
      "_model_module": "@jupyter-widgets/base",
      "_model_module_version": "1.2.0",
      "_model_name": "LayoutModel",
      "_view_count": null,
      "_view_module": "@jupyter-widgets/base",
      "_view_module_version": "1.2.0",
      "_view_name": "LayoutView",
      "align_content": null,
      "align_items": null,
      "align_self": null,
      "border": null,
      "bottom": null,
      "display": null,
      "flex": null,
      "flex_flow": null,
      "grid_area": null,
      "grid_auto_columns": null,
      "grid_auto_flow": null,
      "grid_auto_rows": null,
      "grid_column": null,
      "grid_gap": null,
      "grid_row": null,
      "grid_template_areas": null,
      "grid_template_columns": null,
      "grid_template_rows": null,
      "height": null,
      "justify_content": null,
      "justify_items": null,
      "left": null,
      "margin": null,
      "max_height": null,
      "max_width": null,
      "min_height": null,
      "min_width": null,
      "object_fit": null,
      "object_position": null,
      "order": null,
      "overflow": null,
      "overflow_x": null,
      "overflow_y": null,
      "padding": null,
      "right": null,
      "top": null,
      "visibility": null,
      "width": null
     }
    },
    "afbcf5d910b24c1887a1fd3715e38133": {
     "model_module": "@jupyter-widgets/controls",
     "model_module_version": "1.5.0",
     "model_name": "ProgressStyleModel",
     "state": {
      "_model_module": "@jupyter-widgets/controls",
      "_model_module_version": "1.5.0",
      "_model_name": "ProgressStyleModel",
      "_view_count": null,
      "_view_module": "@jupyter-widgets/base",
      "_view_module_version": "1.2.0",
      "_view_name": "StyleView",
      "bar_color": null,
      "description_width": ""
     }
    },
    "b248f0ccefe742838073f6c40f028843": {
     "model_module": "@jupyter-widgets/controls",
     "model_module_version": "1.5.0",
     "model_name": "DescriptionStyleModel",
     "state": {
      "_model_module": "@jupyter-widgets/controls",
      "_model_module_version": "1.5.0",
      "_model_name": "DescriptionStyleModel",
      "_view_count": null,
      "_view_module": "@jupyter-widgets/base",
      "_view_module_version": "1.2.0",
      "_view_name": "StyleView",
      "description_width": ""
     }
    },
    "b433ba2a9a7447afa38fa4963dc13c9b": {
     "model_module": "@jupyter-widgets/controls",
     "model_module_version": "1.5.0",
     "model_name": "DescriptionStyleModel",
     "state": {
      "_model_module": "@jupyter-widgets/controls",
      "_model_module_version": "1.5.0",
      "_model_name": "DescriptionStyleModel",
      "_view_count": null,
      "_view_module": "@jupyter-widgets/base",
      "_view_module_version": "1.2.0",
      "_view_name": "StyleView",
      "description_width": ""
     }
    },
    "b9bc47d23a9f4764b8cd00ac57dcd213": {
     "model_module": "@jupyter-widgets/base",
     "model_module_version": "1.2.0",
     "model_name": "LayoutModel",
     "state": {
      "_model_module": "@jupyter-widgets/base",
      "_model_module_version": "1.2.0",
      "_model_name": "LayoutModel",
      "_view_count": null,
      "_view_module": "@jupyter-widgets/base",
      "_view_module_version": "1.2.0",
      "_view_name": "LayoutView",
      "align_content": null,
      "align_items": null,
      "align_self": null,
      "border": null,
      "bottom": null,
      "display": null,
      "flex": null,
      "flex_flow": null,
      "grid_area": null,
      "grid_auto_columns": null,
      "grid_auto_flow": null,
      "grid_auto_rows": null,
      "grid_column": null,
      "grid_gap": null,
      "grid_row": null,
      "grid_template_areas": null,
      "grid_template_columns": null,
      "grid_template_rows": null,
      "height": null,
      "justify_content": null,
      "justify_items": null,
      "left": null,
      "margin": null,
      "max_height": null,
      "max_width": null,
      "min_height": null,
      "min_width": null,
      "object_fit": null,
      "object_position": null,
      "order": null,
      "overflow": null,
      "overflow_x": null,
      "overflow_y": null,
      "padding": null,
      "right": null,
      "top": null,
      "visibility": null,
      "width": null
     }
    },
    "ba9d82402f414dc1ba127146da418ba5": {
     "model_module": "@jupyter-widgets/base",
     "model_module_version": "1.2.0",
     "model_name": "LayoutModel",
     "state": {
      "_model_module": "@jupyter-widgets/base",
      "_model_module_version": "1.2.0",
      "_model_name": "LayoutModel",
      "_view_count": null,
      "_view_module": "@jupyter-widgets/base",
      "_view_module_version": "1.2.0",
      "_view_name": "LayoutView",
      "align_content": null,
      "align_items": null,
      "align_self": null,
      "border": null,
      "bottom": null,
      "display": null,
      "flex": null,
      "flex_flow": null,
      "grid_area": null,
      "grid_auto_columns": null,
      "grid_auto_flow": null,
      "grid_auto_rows": null,
      "grid_column": null,
      "grid_gap": null,
      "grid_row": null,
      "grid_template_areas": null,
      "grid_template_columns": null,
      "grid_template_rows": null,
      "height": null,
      "justify_content": null,
      "justify_items": null,
      "left": null,
      "margin": null,
      "max_height": null,
      "max_width": null,
      "min_height": null,
      "min_width": null,
      "object_fit": null,
      "object_position": null,
      "order": null,
      "overflow": null,
      "overflow_x": null,
      "overflow_y": null,
      "padding": null,
      "right": null,
      "top": null,
      "visibility": null,
      "width": null
     }
    },
    "beae5f1a9b41474fb7fa5674623f51ec": {
     "model_module": "@jupyter-widgets/base",
     "model_module_version": "1.2.0",
     "model_name": "LayoutModel",
     "state": {
      "_model_module": "@jupyter-widgets/base",
      "_model_module_version": "1.2.0",
      "_model_name": "LayoutModel",
      "_view_count": null,
      "_view_module": "@jupyter-widgets/base",
      "_view_module_version": "1.2.0",
      "_view_name": "LayoutView",
      "align_content": null,
      "align_items": null,
      "align_self": null,
      "border": null,
      "bottom": null,
      "display": null,
      "flex": null,
      "flex_flow": null,
      "grid_area": null,
      "grid_auto_columns": null,
      "grid_auto_flow": null,
      "grid_auto_rows": null,
      "grid_column": null,
      "grid_gap": null,
      "grid_row": null,
      "grid_template_areas": null,
      "grid_template_columns": null,
      "grid_template_rows": null,
      "height": null,
      "justify_content": null,
      "justify_items": null,
      "left": null,
      "margin": null,
      "max_height": null,
      "max_width": null,
      "min_height": null,
      "min_width": null,
      "object_fit": null,
      "object_position": null,
      "order": null,
      "overflow": null,
      "overflow_x": null,
      "overflow_y": null,
      "padding": null,
      "right": null,
      "top": null,
      "visibility": null,
      "width": null
     }
    },
    "c112390ee67c4174949db38898dcaa50": {
     "model_module": "@jupyter-widgets/controls",
     "model_module_version": "1.5.0",
     "model_name": "HTMLModel",
     "state": {
      "_dom_classes": [],
      "_model_module": "@jupyter-widgets/controls",
      "_model_module_version": "1.5.0",
      "_model_name": "HTMLModel",
      "_view_count": null,
      "_view_module": "@jupyter-widgets/controls",
      "_view_module_version": "1.5.0",
      "_view_name": "HTMLView",
      "description": "",
      "description_tooltip": null,
      "layout": "IPY_MODEL_ba9d82402f414dc1ba127146da418ba5",
      "placeholder": "​",
      "style": "IPY_MODEL_b248f0ccefe742838073f6c40f028843",
      "value": " 443M/443M [00:03&lt;00:00, 177MB/s]"
     }
    },
    "c21eeb18f79a4144a252363a02da7bec": {
     "model_module": "@jupyter-widgets/base",
     "model_module_version": "1.2.0",
     "model_name": "LayoutModel",
     "state": {
      "_model_module": "@jupyter-widgets/base",
      "_model_module_version": "1.2.0",
      "_model_name": "LayoutModel",
      "_view_count": null,
      "_view_module": "@jupyter-widgets/base",
      "_view_module_version": "1.2.0",
      "_view_name": "LayoutView",
      "align_content": null,
      "align_items": null,
      "align_self": null,
      "border": null,
      "bottom": null,
      "display": null,
      "flex": null,
      "flex_flow": null,
      "grid_area": null,
      "grid_auto_columns": null,
      "grid_auto_flow": null,
      "grid_auto_rows": null,
      "grid_column": null,
      "grid_gap": null,
      "grid_row": null,
      "grid_template_areas": null,
      "grid_template_columns": null,
      "grid_template_rows": null,
      "height": null,
      "justify_content": null,
      "justify_items": null,
      "left": null,
      "margin": null,
      "max_height": null,
      "max_width": null,
      "min_height": null,
      "min_width": null,
      "object_fit": null,
      "object_position": null,
      "order": null,
      "overflow": null,
      "overflow_x": null,
      "overflow_y": null,
      "padding": null,
      "right": null,
      "top": null,
      "visibility": null,
      "width": null
     }
    },
    "c749251abef94a9db6e5380b3a32616c": {
     "model_module": "@jupyter-widgets/controls",
     "model_module_version": "1.5.0",
     "model_name": "HBoxModel",
     "state": {
      "_dom_classes": [],
      "_model_module": "@jupyter-widgets/controls",
      "_model_module_version": "1.5.0",
      "_model_name": "HBoxModel",
      "_view_count": null,
      "_view_module": "@jupyter-widgets/controls",
      "_view_module_version": "1.5.0",
      "_view_name": "HBoxView",
      "box_style": "",
      "children": [
       "IPY_MODEL_0852bb1bdb03478eb992a280fdec5517",
       "IPY_MODEL_d59c9638e30745efb74eab8af3a1f11e",
       "IPY_MODEL_ea205ce1419244eeb4968b7c80108b35"
      ],
      "layout": "IPY_MODEL_0b8dc953669b4f868826eee17ef7534c"
     }
    },
    "d295c5e0ade449ccba55e5e0487ade90": {
     "model_module": "@jupyter-widgets/controls",
     "model_module_version": "1.5.0",
     "model_name": "HTMLModel",
     "state": {
      "_dom_classes": [],
      "_model_module": "@jupyter-widgets/controls",
      "_model_module_version": "1.5.0",
      "_model_name": "HTMLModel",
      "_view_count": null,
      "_view_module": "@jupyter-widgets/controls",
      "_view_module_version": "1.5.0",
      "_view_name": "HTMLView",
      "description": "",
      "description_tooltip": null,
      "layout": "IPY_MODEL_88bec5e851934a30bd2536927b02f665",
      "placeholder": "​",
      "style": "IPY_MODEL_760da8cb905641c1bef06ecf578316b4",
      "value": "vocab.txt: 100%"
     }
    },
    "d2f161ea0d504890b2c413d97f8ba62e": {
     "model_module": "@jupyter-widgets/base",
     "model_module_version": "1.2.0",
     "model_name": "LayoutModel",
     "state": {
      "_model_module": "@jupyter-widgets/base",
      "_model_module_version": "1.2.0",
      "_model_name": "LayoutModel",
      "_view_count": null,
      "_view_module": "@jupyter-widgets/base",
      "_view_module_version": "1.2.0",
      "_view_name": "LayoutView",
      "align_content": null,
      "align_items": null,
      "align_self": null,
      "border": null,
      "bottom": null,
      "display": null,
      "flex": null,
      "flex_flow": null,
      "grid_area": null,
      "grid_auto_columns": null,
      "grid_auto_flow": null,
      "grid_auto_rows": null,
      "grid_column": null,
      "grid_gap": null,
      "grid_row": null,
      "grid_template_areas": null,
      "grid_template_columns": null,
      "grid_template_rows": null,
      "height": null,
      "justify_content": null,
      "justify_items": null,
      "left": null,
      "margin": null,
      "max_height": null,
      "max_width": null,
      "min_height": null,
      "min_width": null,
      "object_fit": null,
      "object_position": null,
      "order": null,
      "overflow": null,
      "overflow_x": null,
      "overflow_y": null,
      "padding": null,
      "right": null,
      "top": null,
      "visibility": null,
      "width": null
     }
    },
    "d59c9638e30745efb74eab8af3a1f11e": {
     "model_module": "@jupyter-widgets/controls",
     "model_module_version": "1.5.0",
     "model_name": "FloatProgressModel",
     "state": {
      "_dom_classes": [],
      "_model_module": "@jupyter-widgets/controls",
      "_model_module_version": "1.5.0",
      "_model_name": "FloatProgressModel",
      "_view_count": null,
      "_view_module": "@jupyter-widgets/controls",
      "_view_module_version": "1.5.0",
      "_view_name": "ProgressView",
      "bar_style": "success",
      "description": "",
      "description_tooltip": null,
      "layout": "IPY_MODEL_352c4a9fd1c44a719db16e9dc688a7f1",
      "max": 51,
      "min": 0,
      "orientation": "horizontal",
      "style": "IPY_MODEL_0e9fb9b7a04c4f328436d41cb06ea554",
      "value": 51
     }
    },
    "d857a4e04d724ee1a3f29f25e4e598ac": {
     "model_module": "@jupyter-widgets/controls",
     "model_module_version": "1.5.0",
     "model_name": "ProgressStyleModel",
     "state": {
      "_model_module": "@jupyter-widgets/controls",
      "_model_module_version": "1.5.0",
      "_model_name": "ProgressStyleModel",
      "_view_count": null,
      "_view_module": "@jupyter-widgets/base",
      "_view_module_version": "1.2.0",
      "_view_name": "StyleView",
      "bar_color": null,
      "description_width": ""
     }
    },
    "da10eb068c8146fe8ac19beba151fd90": {
     "model_module": "@jupyter-widgets/controls",
     "model_module_version": "1.5.0",
     "model_name": "DescriptionStyleModel",
     "state": {
      "_model_module": "@jupyter-widgets/controls",
      "_model_module_version": "1.5.0",
      "_model_name": "DescriptionStyleModel",
      "_view_count": null,
      "_view_module": "@jupyter-widgets/base",
      "_view_module_version": "1.2.0",
      "_view_name": "StyleView",
      "description_width": ""
     }
    },
    "da18368ae1334f18b9207686df8956c3": {
     "model_module": "@jupyter-widgets/controls",
     "model_module_version": "1.5.0",
     "model_name": "DescriptionStyleModel",
     "state": {
      "_model_module": "@jupyter-widgets/controls",
      "_model_module_version": "1.5.0",
      "_model_name": "DescriptionStyleModel",
      "_view_count": null,
      "_view_module": "@jupyter-widgets/base",
      "_view_module_version": "1.2.0",
      "_view_name": "StyleView",
      "description_width": ""
     }
    },
    "db3a5c04b11041d7a090e5bff4e61e45": {
     "model_module": "@jupyter-widgets/base",
     "model_module_version": "1.2.0",
     "model_name": "LayoutModel",
     "state": {
      "_model_module": "@jupyter-widgets/base",
      "_model_module_version": "1.2.0",
      "_model_name": "LayoutModel",
      "_view_count": null,
      "_view_module": "@jupyter-widgets/base",
      "_view_module_version": "1.2.0",
      "_view_name": "LayoutView",
      "align_content": null,
      "align_items": null,
      "align_self": null,
      "border": null,
      "bottom": null,
      "display": null,
      "flex": null,
      "flex_flow": null,
      "grid_area": null,
      "grid_auto_columns": null,
      "grid_auto_flow": null,
      "grid_auto_rows": null,
      "grid_column": null,
      "grid_gap": null,
      "grid_row": null,
      "grid_template_areas": null,
      "grid_template_columns": null,
      "grid_template_rows": null,
      "height": null,
      "justify_content": null,
      "justify_items": null,
      "left": null,
      "margin": null,
      "max_height": null,
      "max_width": null,
      "min_height": null,
      "min_width": null,
      "object_fit": null,
      "object_position": null,
      "order": null,
      "overflow": null,
      "overflow_x": null,
      "overflow_y": null,
      "padding": null,
      "right": null,
      "top": null,
      "visibility": null,
      "width": null
     }
    },
    "dec5b3cafec8462f962336d001fc75f6": {
     "model_module": "@jupyter-widgets/controls",
     "model_module_version": "1.5.0",
     "model_name": "FloatProgressModel",
     "state": {
      "_dom_classes": [],
      "_model_module": "@jupyter-widgets/controls",
      "_model_module_version": "1.5.0",
      "_model_name": "FloatProgressModel",
      "_view_count": null,
      "_view_module": "@jupyter-widgets/controls",
      "_view_module_version": "1.5.0",
      "_view_name": "ProgressView",
      "bar_style": "success",
      "description": "",
      "description_tooltip": null,
      "layout": "IPY_MODEL_3563d47865c0438fb89c451e5a27a90f",
      "max": 443135628,
      "min": 0,
      "orientation": "horizontal",
      "style": "IPY_MODEL_8aefb11e23c74effa62f78f9f038a376",
      "value": 443135628
     }
    },
    "e0b4e25bffaa4ef680f341ba872fd41b": {
     "model_module": "@jupyter-widgets/controls",
     "model_module_version": "1.5.0",
     "model_name": "HTMLModel",
     "state": {
      "_dom_classes": [],
      "_model_module": "@jupyter-widgets/controls",
      "_model_module_version": "1.5.0",
      "_model_name": "HTMLModel",
      "_view_count": null,
      "_view_module": "@jupyter-widgets/controls",
      "_view_module_version": "1.5.0",
      "_view_name": "HTMLView",
      "description": "",
      "description_tooltip": null,
      "layout": "IPY_MODEL_584b163e812c4130bd1519adc7c5f635",
      "placeholder": "​",
      "style": "IPY_MODEL_0992a8ac7c374adab3bb12feb90b0853",
      "value": " 279k/279k [00:00&lt;00:00, 7.79MB/s]"
     }
    },
    "e9223d865b054c80be89265a589acc8c": {
     "model_module": "@jupyter-widgets/base",
     "model_module_version": "1.2.0",
     "model_name": "LayoutModel",
     "state": {
      "_model_module": "@jupyter-widgets/base",
      "_model_module_version": "1.2.0",
      "_model_name": "LayoutModel",
      "_view_count": null,
      "_view_module": "@jupyter-widgets/base",
      "_view_module_version": "1.2.0",
      "_view_name": "LayoutView",
      "align_content": null,
      "align_items": null,
      "align_self": null,
      "border": null,
      "bottom": null,
      "display": null,
      "flex": null,
      "flex_flow": null,
      "grid_area": null,
      "grid_auto_columns": null,
      "grid_auto_flow": null,
      "grid_auto_rows": null,
      "grid_column": null,
      "grid_gap": null,
      "grid_row": null,
      "grid_template_areas": null,
      "grid_template_columns": null,
      "grid_template_rows": null,
      "height": null,
      "justify_content": null,
      "justify_items": null,
      "left": null,
      "margin": null,
      "max_height": null,
      "max_width": null,
      "min_height": null,
      "min_width": null,
      "object_fit": null,
      "object_position": null,
      "order": null,
      "overflow": null,
      "overflow_x": null,
      "overflow_y": null,
      "padding": null,
      "right": null,
      "top": null,
      "visibility": null,
      "width": null
     }
    },
    "ea205ce1419244eeb4968b7c80108b35": {
     "model_module": "@jupyter-widgets/controls",
     "model_module_version": "1.5.0",
     "model_name": "HTMLModel",
     "state": {
      "_dom_classes": [],
      "_model_module": "@jupyter-widgets/controls",
      "_model_module_version": "1.5.0",
      "_model_name": "HTMLModel",
      "_view_count": null,
      "_view_module": "@jupyter-widgets/controls",
      "_view_module_version": "1.5.0",
      "_view_name": "HTMLView",
      "description": "",
      "description_tooltip": null,
      "layout": "IPY_MODEL_30dfc62811bf44228a884b1748a8085f",
      "placeholder": "​",
      "style": "IPY_MODEL_da18368ae1334f18b9207686df8956c3",
      "value": " 51.0/51.0 [00:00&lt;00:00, 3.14kB/s]"
     }
    },
    "f785722d9c0d4dcebb666349c4a6b9b6": {
     "model_module": "@jupyter-widgets/base",
     "model_module_version": "1.2.0",
     "model_name": "LayoutModel",
     "state": {
      "_model_module": "@jupyter-widgets/base",
      "_model_module_version": "1.2.0",
      "_model_name": "LayoutModel",
      "_view_count": null,
      "_view_module": "@jupyter-widgets/base",
      "_view_module_version": "1.2.0",
      "_view_name": "LayoutView",
      "align_content": null,
      "align_items": null,
      "align_self": null,
      "border": null,
      "bottom": null,
      "display": null,
      "flex": null,
      "flex_flow": null,
      "grid_area": null,
      "grid_auto_columns": null,
      "grid_auto_flow": null,
      "grid_auto_rows": null,
      "grid_column": null,
      "grid_gap": null,
      "grid_row": null,
      "grid_template_areas": null,
      "grid_template_columns": null,
      "grid_template_rows": null,
      "height": null,
      "justify_content": null,
      "justify_items": null,
      "left": null,
      "margin": null,
      "max_height": null,
      "max_width": null,
      "min_height": null,
      "min_width": null,
      "object_fit": null,
      "object_position": null,
      "order": null,
      "overflow": null,
      "overflow_x": null,
      "overflow_y": null,
      "padding": null,
      "right": null,
      "top": null,
      "visibility": null,
      "width": null
     }
    }
   }
  }
 },
 "nbformat": 4,
 "nbformat_minor": 0
}

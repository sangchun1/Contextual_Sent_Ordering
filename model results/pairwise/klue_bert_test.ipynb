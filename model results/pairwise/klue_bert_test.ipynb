{
  "nbformat": 4,
  "nbformat_minor": 0,
  "metadata": {
    "colab": {
      "provenance": [],
      "gpuType": "T4"
    },
    "kernelspec": {
      "name": "python3",
      "display_name": "Python 3"
    },
    "language_info": {
      "name": "python"
    },
    "accelerator": "GPU",
    "widgets": {
      "application/vnd.jupyter.widget-state+json": {
        "9a07a2a5665c49d4b5e35f066555dee6": {
          "model_module": "@jupyter-widgets/controls",
          "model_name": "HBoxModel",
          "model_module_version": "1.5.0",
          "state": {
            "_dom_classes": [],
            "_model_module": "@jupyter-widgets/controls",
            "_model_module_version": "1.5.0",
            "_model_name": "HBoxModel",
            "_view_count": null,
            "_view_module": "@jupyter-widgets/controls",
            "_view_module_version": "1.5.0",
            "_view_name": "HBoxView",
            "box_style": "",
            "children": [
              "IPY_MODEL_c3076f0f3f5f484bad8da42c36089d49",
              "IPY_MODEL_88d7c37cb7134f53a5df7a8058209252",
              "IPY_MODEL_b979d30a2ea448e8911e3ec6134b551f"
            ],
            "layout": "IPY_MODEL_bbfe9debbec04516a37eec279d516b24"
          }
        },
        "c3076f0f3f5f484bad8da42c36089d49": {
          "model_module": "@jupyter-widgets/controls",
          "model_name": "HTMLModel",
          "model_module_version": "1.5.0",
          "state": {
            "_dom_classes": [],
            "_model_module": "@jupyter-widgets/controls",
            "_model_module_version": "1.5.0",
            "_model_name": "HTMLModel",
            "_view_count": null,
            "_view_module": "@jupyter-widgets/controls",
            "_view_module_version": "1.5.0",
            "_view_name": "HTMLView",
            "description": "",
            "description_tooltip": null,
            "layout": "IPY_MODEL_65adcde258444d5aa764b5ad59987746",
            "placeholder": "​",
            "style": "IPY_MODEL_5601291a4978496f876d8670b35bef58",
            "value": "tokenizer_config.json: 100%"
          }
        },
        "88d7c37cb7134f53a5df7a8058209252": {
          "model_module": "@jupyter-widgets/controls",
          "model_name": "FloatProgressModel",
          "model_module_version": "1.5.0",
          "state": {
            "_dom_classes": [],
            "_model_module": "@jupyter-widgets/controls",
            "_model_module_version": "1.5.0",
            "_model_name": "FloatProgressModel",
            "_view_count": null,
            "_view_module": "@jupyter-widgets/controls",
            "_view_module_version": "1.5.0",
            "_view_name": "ProgressView",
            "bar_style": "success",
            "description": "",
            "description_tooltip": null,
            "layout": "IPY_MODEL_7e5aafdf51d8431db31f2df5d81bda40",
            "max": 289,
            "min": 0,
            "orientation": "horizontal",
            "style": "IPY_MODEL_be09a390527043ccb7dd044b962f754d",
            "value": 289
          }
        },
        "b979d30a2ea448e8911e3ec6134b551f": {
          "model_module": "@jupyter-widgets/controls",
          "model_name": "HTMLModel",
          "model_module_version": "1.5.0",
          "state": {
            "_dom_classes": [],
            "_model_module": "@jupyter-widgets/controls",
            "_model_module_version": "1.5.0",
            "_model_name": "HTMLModel",
            "_view_count": null,
            "_view_module": "@jupyter-widgets/controls",
            "_view_module_version": "1.5.0",
            "_view_name": "HTMLView",
            "description": "",
            "description_tooltip": null,
            "layout": "IPY_MODEL_2d2e99619e144a96a20bcd8f7911da05",
            "placeholder": "​",
            "style": "IPY_MODEL_c677ac5ac5c043c6a1627078f3fbbe3c",
            "value": " 289/289 [00:00&lt;00:00, 20.6kB/s]"
          }
        },
        "bbfe9debbec04516a37eec279d516b24": {
          "model_module": "@jupyter-widgets/base",
          "model_name": "LayoutModel",
          "model_module_version": "1.2.0",
          "state": {
            "_model_module": "@jupyter-widgets/base",
            "_model_module_version": "1.2.0",
            "_model_name": "LayoutModel",
            "_view_count": null,
            "_view_module": "@jupyter-widgets/base",
            "_view_module_version": "1.2.0",
            "_view_name": "LayoutView",
            "align_content": null,
            "align_items": null,
            "align_self": null,
            "border": null,
            "bottom": null,
            "display": null,
            "flex": null,
            "flex_flow": null,
            "grid_area": null,
            "grid_auto_columns": null,
            "grid_auto_flow": null,
            "grid_auto_rows": null,
            "grid_column": null,
            "grid_gap": null,
            "grid_row": null,
            "grid_template_areas": null,
            "grid_template_columns": null,
            "grid_template_rows": null,
            "height": null,
            "justify_content": null,
            "justify_items": null,
            "left": null,
            "margin": null,
            "max_height": null,
            "max_width": null,
            "min_height": null,
            "min_width": null,
            "object_fit": null,
            "object_position": null,
            "order": null,
            "overflow": null,
            "overflow_x": null,
            "overflow_y": null,
            "padding": null,
            "right": null,
            "top": null,
            "visibility": null,
            "width": null
          }
        },
        "65adcde258444d5aa764b5ad59987746": {
          "model_module": "@jupyter-widgets/base",
          "model_name": "LayoutModel",
          "model_module_version": "1.2.0",
          "state": {
            "_model_module": "@jupyter-widgets/base",
            "_model_module_version": "1.2.0",
            "_model_name": "LayoutModel",
            "_view_count": null,
            "_view_module": "@jupyter-widgets/base",
            "_view_module_version": "1.2.0",
            "_view_name": "LayoutView",
            "align_content": null,
            "align_items": null,
            "align_self": null,
            "border": null,
            "bottom": null,
            "display": null,
            "flex": null,
            "flex_flow": null,
            "grid_area": null,
            "grid_auto_columns": null,
            "grid_auto_flow": null,
            "grid_auto_rows": null,
            "grid_column": null,
            "grid_gap": null,
            "grid_row": null,
            "grid_template_areas": null,
            "grid_template_columns": null,
            "grid_template_rows": null,
            "height": null,
            "justify_content": null,
            "justify_items": null,
            "left": null,
            "margin": null,
            "max_height": null,
            "max_width": null,
            "min_height": null,
            "min_width": null,
            "object_fit": null,
            "object_position": null,
            "order": null,
            "overflow": null,
            "overflow_x": null,
            "overflow_y": null,
            "padding": null,
            "right": null,
            "top": null,
            "visibility": null,
            "width": null
          }
        },
        "5601291a4978496f876d8670b35bef58": {
          "model_module": "@jupyter-widgets/controls",
          "model_name": "DescriptionStyleModel",
          "model_module_version": "1.5.0",
          "state": {
            "_model_module": "@jupyter-widgets/controls",
            "_model_module_version": "1.5.0",
            "_model_name": "DescriptionStyleModel",
            "_view_count": null,
            "_view_module": "@jupyter-widgets/base",
            "_view_module_version": "1.2.0",
            "_view_name": "StyleView",
            "description_width": ""
          }
        },
        "7e5aafdf51d8431db31f2df5d81bda40": {
          "model_module": "@jupyter-widgets/base",
          "model_name": "LayoutModel",
          "model_module_version": "1.2.0",
          "state": {
            "_model_module": "@jupyter-widgets/base",
            "_model_module_version": "1.2.0",
            "_model_name": "LayoutModel",
            "_view_count": null,
            "_view_module": "@jupyter-widgets/base",
            "_view_module_version": "1.2.0",
            "_view_name": "LayoutView",
            "align_content": null,
            "align_items": null,
            "align_self": null,
            "border": null,
            "bottom": null,
            "display": null,
            "flex": null,
            "flex_flow": null,
            "grid_area": null,
            "grid_auto_columns": null,
            "grid_auto_flow": null,
            "grid_auto_rows": null,
            "grid_column": null,
            "grid_gap": null,
            "grid_row": null,
            "grid_template_areas": null,
            "grid_template_columns": null,
            "grid_template_rows": null,
            "height": null,
            "justify_content": null,
            "justify_items": null,
            "left": null,
            "margin": null,
            "max_height": null,
            "max_width": null,
            "min_height": null,
            "min_width": null,
            "object_fit": null,
            "object_position": null,
            "order": null,
            "overflow": null,
            "overflow_x": null,
            "overflow_y": null,
            "padding": null,
            "right": null,
            "top": null,
            "visibility": null,
            "width": null
          }
        },
        "be09a390527043ccb7dd044b962f754d": {
          "model_module": "@jupyter-widgets/controls",
          "model_name": "ProgressStyleModel",
          "model_module_version": "1.5.0",
          "state": {
            "_model_module": "@jupyter-widgets/controls",
            "_model_module_version": "1.5.0",
            "_model_name": "ProgressStyleModel",
            "_view_count": null,
            "_view_module": "@jupyter-widgets/base",
            "_view_module_version": "1.2.0",
            "_view_name": "StyleView",
            "bar_color": null,
            "description_width": ""
          }
        },
        "2d2e99619e144a96a20bcd8f7911da05": {
          "model_module": "@jupyter-widgets/base",
          "model_name": "LayoutModel",
          "model_module_version": "1.2.0",
          "state": {
            "_model_module": "@jupyter-widgets/base",
            "_model_module_version": "1.2.0",
            "_model_name": "LayoutModel",
            "_view_count": null,
            "_view_module": "@jupyter-widgets/base",
            "_view_module_version": "1.2.0",
            "_view_name": "LayoutView",
            "align_content": null,
            "align_items": null,
            "align_self": null,
            "border": null,
            "bottom": null,
            "display": null,
            "flex": null,
            "flex_flow": null,
            "grid_area": null,
            "grid_auto_columns": null,
            "grid_auto_flow": null,
            "grid_auto_rows": null,
            "grid_column": null,
            "grid_gap": null,
            "grid_row": null,
            "grid_template_areas": null,
            "grid_template_columns": null,
            "grid_template_rows": null,
            "height": null,
            "justify_content": null,
            "justify_items": null,
            "left": null,
            "margin": null,
            "max_height": null,
            "max_width": null,
            "min_height": null,
            "min_width": null,
            "object_fit": null,
            "object_position": null,
            "order": null,
            "overflow": null,
            "overflow_x": null,
            "overflow_y": null,
            "padding": null,
            "right": null,
            "top": null,
            "visibility": null,
            "width": null
          }
        },
        "c677ac5ac5c043c6a1627078f3fbbe3c": {
          "model_module": "@jupyter-widgets/controls",
          "model_name": "DescriptionStyleModel",
          "model_module_version": "1.5.0",
          "state": {
            "_model_module": "@jupyter-widgets/controls",
            "_model_module_version": "1.5.0",
            "_model_name": "DescriptionStyleModel",
            "_view_count": null,
            "_view_module": "@jupyter-widgets/base",
            "_view_module_version": "1.2.0",
            "_view_name": "StyleView",
            "description_width": ""
          }
        },
        "4a27188d566142d882e37cc49db0f8a9": {
          "model_module": "@jupyter-widgets/controls",
          "model_name": "HBoxModel",
          "model_module_version": "1.5.0",
          "state": {
            "_dom_classes": [],
            "_model_module": "@jupyter-widgets/controls",
            "_model_module_version": "1.5.0",
            "_model_name": "HBoxModel",
            "_view_count": null,
            "_view_module": "@jupyter-widgets/controls",
            "_view_module_version": "1.5.0",
            "_view_name": "HBoxView",
            "box_style": "",
            "children": [
              "IPY_MODEL_8611bca097e343c2b1fcf27539fcd0ac",
              "IPY_MODEL_37f90d3fb239483aafab47b7fd4cfe49",
              "IPY_MODEL_7615e48dfdc54f359137cc7e3169eb12"
            ],
            "layout": "IPY_MODEL_db3b4b2a68ec423c9046a3d63b808c29"
          }
        },
        "8611bca097e343c2b1fcf27539fcd0ac": {
          "model_module": "@jupyter-widgets/controls",
          "model_name": "HTMLModel",
          "model_module_version": "1.5.0",
          "state": {
            "_dom_classes": [],
            "_model_module": "@jupyter-widgets/controls",
            "_model_module_version": "1.5.0",
            "_model_name": "HTMLModel",
            "_view_count": null,
            "_view_module": "@jupyter-widgets/controls",
            "_view_module_version": "1.5.0",
            "_view_name": "HTMLView",
            "description": "",
            "description_tooltip": null,
            "layout": "IPY_MODEL_9ec88b885aad46e1888432869eca28e2",
            "placeholder": "​",
            "style": "IPY_MODEL_fb79af93910147e79bd11b1cd9f99469",
            "value": "config.json: 100%"
          }
        },
        "37f90d3fb239483aafab47b7fd4cfe49": {
          "model_module": "@jupyter-widgets/controls",
          "model_name": "FloatProgressModel",
          "model_module_version": "1.5.0",
          "state": {
            "_dom_classes": [],
            "_model_module": "@jupyter-widgets/controls",
            "_model_module_version": "1.5.0",
            "_model_name": "FloatProgressModel",
            "_view_count": null,
            "_view_module": "@jupyter-widgets/controls",
            "_view_module_version": "1.5.0",
            "_view_name": "ProgressView",
            "bar_style": "success",
            "description": "",
            "description_tooltip": null,
            "layout": "IPY_MODEL_ffeedf1d6fb543e591eaa763bd94cbfe",
            "max": 425,
            "min": 0,
            "orientation": "horizontal",
            "style": "IPY_MODEL_28eb495b418046d48343007ec740ebf0",
            "value": 425
          }
        },
        "7615e48dfdc54f359137cc7e3169eb12": {
          "model_module": "@jupyter-widgets/controls",
          "model_name": "HTMLModel",
          "model_module_version": "1.5.0",
          "state": {
            "_dom_classes": [],
            "_model_module": "@jupyter-widgets/controls",
            "_model_module_version": "1.5.0",
            "_model_name": "HTMLModel",
            "_view_count": null,
            "_view_module": "@jupyter-widgets/controls",
            "_view_module_version": "1.5.0",
            "_view_name": "HTMLView",
            "description": "",
            "description_tooltip": null,
            "layout": "IPY_MODEL_c673315efd4240bead9a093f3b20d0c6",
            "placeholder": "​",
            "style": "IPY_MODEL_d5747d1f3413484eaf4307c1bb9ae451",
            "value": " 425/425 [00:00&lt;00:00, 49.2kB/s]"
          }
        },
        "db3b4b2a68ec423c9046a3d63b808c29": {
          "model_module": "@jupyter-widgets/base",
          "model_name": "LayoutModel",
          "model_module_version": "1.2.0",
          "state": {
            "_model_module": "@jupyter-widgets/base",
            "_model_module_version": "1.2.0",
            "_model_name": "LayoutModel",
            "_view_count": null,
            "_view_module": "@jupyter-widgets/base",
            "_view_module_version": "1.2.0",
            "_view_name": "LayoutView",
            "align_content": null,
            "align_items": null,
            "align_self": null,
            "border": null,
            "bottom": null,
            "display": null,
            "flex": null,
            "flex_flow": null,
            "grid_area": null,
            "grid_auto_columns": null,
            "grid_auto_flow": null,
            "grid_auto_rows": null,
            "grid_column": null,
            "grid_gap": null,
            "grid_row": null,
            "grid_template_areas": null,
            "grid_template_columns": null,
            "grid_template_rows": null,
            "height": null,
            "justify_content": null,
            "justify_items": null,
            "left": null,
            "margin": null,
            "max_height": null,
            "max_width": null,
            "min_height": null,
            "min_width": null,
            "object_fit": null,
            "object_position": null,
            "order": null,
            "overflow": null,
            "overflow_x": null,
            "overflow_y": null,
            "padding": null,
            "right": null,
            "top": null,
            "visibility": null,
            "width": null
          }
        },
        "9ec88b885aad46e1888432869eca28e2": {
          "model_module": "@jupyter-widgets/base",
          "model_name": "LayoutModel",
          "model_module_version": "1.2.0",
          "state": {
            "_model_module": "@jupyter-widgets/base",
            "_model_module_version": "1.2.0",
            "_model_name": "LayoutModel",
            "_view_count": null,
            "_view_module": "@jupyter-widgets/base",
            "_view_module_version": "1.2.0",
            "_view_name": "LayoutView",
            "align_content": null,
            "align_items": null,
            "align_self": null,
            "border": null,
            "bottom": null,
            "display": null,
            "flex": null,
            "flex_flow": null,
            "grid_area": null,
            "grid_auto_columns": null,
            "grid_auto_flow": null,
            "grid_auto_rows": null,
            "grid_column": null,
            "grid_gap": null,
            "grid_row": null,
            "grid_template_areas": null,
            "grid_template_columns": null,
            "grid_template_rows": null,
            "height": null,
            "justify_content": null,
            "justify_items": null,
            "left": null,
            "margin": null,
            "max_height": null,
            "max_width": null,
            "min_height": null,
            "min_width": null,
            "object_fit": null,
            "object_position": null,
            "order": null,
            "overflow": null,
            "overflow_x": null,
            "overflow_y": null,
            "padding": null,
            "right": null,
            "top": null,
            "visibility": null,
            "width": null
          }
        },
        "fb79af93910147e79bd11b1cd9f99469": {
          "model_module": "@jupyter-widgets/controls",
          "model_name": "DescriptionStyleModel",
          "model_module_version": "1.5.0",
          "state": {
            "_model_module": "@jupyter-widgets/controls",
            "_model_module_version": "1.5.0",
            "_model_name": "DescriptionStyleModel",
            "_view_count": null,
            "_view_module": "@jupyter-widgets/base",
            "_view_module_version": "1.2.0",
            "_view_name": "StyleView",
            "description_width": ""
          }
        },
        "ffeedf1d6fb543e591eaa763bd94cbfe": {
          "model_module": "@jupyter-widgets/base",
          "model_name": "LayoutModel",
          "model_module_version": "1.2.0",
          "state": {
            "_model_module": "@jupyter-widgets/base",
            "_model_module_version": "1.2.0",
            "_model_name": "LayoutModel",
            "_view_count": null,
            "_view_module": "@jupyter-widgets/base",
            "_view_module_version": "1.2.0",
            "_view_name": "LayoutView",
            "align_content": null,
            "align_items": null,
            "align_self": null,
            "border": null,
            "bottom": null,
            "display": null,
            "flex": null,
            "flex_flow": null,
            "grid_area": null,
            "grid_auto_columns": null,
            "grid_auto_flow": null,
            "grid_auto_rows": null,
            "grid_column": null,
            "grid_gap": null,
            "grid_row": null,
            "grid_template_areas": null,
            "grid_template_columns": null,
            "grid_template_rows": null,
            "height": null,
            "justify_content": null,
            "justify_items": null,
            "left": null,
            "margin": null,
            "max_height": null,
            "max_width": null,
            "min_height": null,
            "min_width": null,
            "object_fit": null,
            "object_position": null,
            "order": null,
            "overflow": null,
            "overflow_x": null,
            "overflow_y": null,
            "padding": null,
            "right": null,
            "top": null,
            "visibility": null,
            "width": null
          }
        },
        "28eb495b418046d48343007ec740ebf0": {
          "model_module": "@jupyter-widgets/controls",
          "model_name": "ProgressStyleModel",
          "model_module_version": "1.5.0",
          "state": {
            "_model_module": "@jupyter-widgets/controls",
            "_model_module_version": "1.5.0",
            "_model_name": "ProgressStyleModel",
            "_view_count": null,
            "_view_module": "@jupyter-widgets/base",
            "_view_module_version": "1.2.0",
            "_view_name": "StyleView",
            "bar_color": null,
            "description_width": ""
          }
        },
        "c673315efd4240bead9a093f3b20d0c6": {
          "model_module": "@jupyter-widgets/base",
          "model_name": "LayoutModel",
          "model_module_version": "1.2.0",
          "state": {
            "_model_module": "@jupyter-widgets/base",
            "_model_module_version": "1.2.0",
            "_model_name": "LayoutModel",
            "_view_count": null,
            "_view_module": "@jupyter-widgets/base",
            "_view_module_version": "1.2.0",
            "_view_name": "LayoutView",
            "align_content": null,
            "align_items": null,
            "align_self": null,
            "border": null,
            "bottom": null,
            "display": null,
            "flex": null,
            "flex_flow": null,
            "grid_area": null,
            "grid_auto_columns": null,
            "grid_auto_flow": null,
            "grid_auto_rows": null,
            "grid_column": null,
            "grid_gap": null,
            "grid_row": null,
            "grid_template_areas": null,
            "grid_template_columns": null,
            "grid_template_rows": null,
            "height": null,
            "justify_content": null,
            "justify_items": null,
            "left": null,
            "margin": null,
            "max_height": null,
            "max_width": null,
            "min_height": null,
            "min_width": null,
            "object_fit": null,
            "object_position": null,
            "order": null,
            "overflow": null,
            "overflow_x": null,
            "overflow_y": null,
            "padding": null,
            "right": null,
            "top": null,
            "visibility": null,
            "width": null
          }
        },
        "d5747d1f3413484eaf4307c1bb9ae451": {
          "model_module": "@jupyter-widgets/controls",
          "model_name": "DescriptionStyleModel",
          "model_module_version": "1.5.0",
          "state": {
            "_model_module": "@jupyter-widgets/controls",
            "_model_module_version": "1.5.0",
            "_model_name": "DescriptionStyleModel",
            "_view_count": null,
            "_view_module": "@jupyter-widgets/base",
            "_view_module_version": "1.2.0",
            "_view_name": "StyleView",
            "description_width": ""
          }
        },
        "05bf64b24ec942fdacccb221d0c37db0": {
          "model_module": "@jupyter-widgets/controls",
          "model_name": "HBoxModel",
          "model_module_version": "1.5.0",
          "state": {
            "_dom_classes": [],
            "_model_module": "@jupyter-widgets/controls",
            "_model_module_version": "1.5.0",
            "_model_name": "HBoxModel",
            "_view_count": null,
            "_view_module": "@jupyter-widgets/controls",
            "_view_module_version": "1.5.0",
            "_view_name": "HBoxView",
            "box_style": "",
            "children": [
              "IPY_MODEL_a21a488d96394819be1cb7c2adf74123",
              "IPY_MODEL_08ef69dd79814de88cb0d902640e0442",
              "IPY_MODEL_2cc0f3249b6444329617b92025d7973f"
            ],
            "layout": "IPY_MODEL_110f0f329ce34ad5a8cecbec3e2acb63"
          }
        },
        "a21a488d96394819be1cb7c2adf74123": {
          "model_module": "@jupyter-widgets/controls",
          "model_name": "HTMLModel",
          "model_module_version": "1.5.0",
          "state": {
            "_dom_classes": [],
            "_model_module": "@jupyter-widgets/controls",
            "_model_module_version": "1.5.0",
            "_model_name": "HTMLModel",
            "_view_count": null,
            "_view_module": "@jupyter-widgets/controls",
            "_view_module_version": "1.5.0",
            "_view_name": "HTMLView",
            "description": "",
            "description_tooltip": null,
            "layout": "IPY_MODEL_6477d26de0824f2cb89f1ec84c9d6e95",
            "placeholder": "​",
            "style": "IPY_MODEL_6154a75e8768458ca321acab9538dd32",
            "value": "vocab.txt: "
          }
        },
        "08ef69dd79814de88cb0d902640e0442": {
          "model_module": "@jupyter-widgets/controls",
          "model_name": "FloatProgressModel",
          "model_module_version": "1.5.0",
          "state": {
            "_dom_classes": [],
            "_model_module": "@jupyter-widgets/controls",
            "_model_module_version": "1.5.0",
            "_model_name": "FloatProgressModel",
            "_view_count": null,
            "_view_module": "@jupyter-widgets/controls",
            "_view_module_version": "1.5.0",
            "_view_name": "ProgressView",
            "bar_style": "success",
            "description": "",
            "description_tooltip": null,
            "layout": "IPY_MODEL_a0ceca02184145c6a6982dad611ce0d6",
            "max": 1,
            "min": 0,
            "orientation": "horizontal",
            "style": "IPY_MODEL_c1ba3ad2243e4961ac6d780cd17bdd43",
            "value": 1
          }
        },
        "2cc0f3249b6444329617b92025d7973f": {
          "model_module": "@jupyter-widgets/controls",
          "model_name": "HTMLModel",
          "model_module_version": "1.5.0",
          "state": {
            "_dom_classes": [],
            "_model_module": "@jupyter-widgets/controls",
            "_model_module_version": "1.5.0",
            "_model_name": "HTMLModel",
            "_view_count": null,
            "_view_module": "@jupyter-widgets/controls",
            "_view_module_version": "1.5.0",
            "_view_name": "HTMLView",
            "description": "",
            "description_tooltip": null,
            "layout": "IPY_MODEL_a985a5e6d1a24d209e67b90a31b38e6a",
            "placeholder": "​",
            "style": "IPY_MODEL_3366f42e5394473d98641ef2c55e4722",
            "value": " 248k/? [00:00&lt;00:00, 7.38MB/s]"
          }
        },
        "110f0f329ce34ad5a8cecbec3e2acb63": {
          "model_module": "@jupyter-widgets/base",
          "model_name": "LayoutModel",
          "model_module_version": "1.2.0",
          "state": {
            "_model_module": "@jupyter-widgets/base",
            "_model_module_version": "1.2.0",
            "_model_name": "LayoutModel",
            "_view_count": null,
            "_view_module": "@jupyter-widgets/base",
            "_view_module_version": "1.2.0",
            "_view_name": "LayoutView",
            "align_content": null,
            "align_items": null,
            "align_self": null,
            "border": null,
            "bottom": null,
            "display": null,
            "flex": null,
            "flex_flow": null,
            "grid_area": null,
            "grid_auto_columns": null,
            "grid_auto_flow": null,
            "grid_auto_rows": null,
            "grid_column": null,
            "grid_gap": null,
            "grid_row": null,
            "grid_template_areas": null,
            "grid_template_columns": null,
            "grid_template_rows": null,
            "height": null,
            "justify_content": null,
            "justify_items": null,
            "left": null,
            "margin": null,
            "max_height": null,
            "max_width": null,
            "min_height": null,
            "min_width": null,
            "object_fit": null,
            "object_position": null,
            "order": null,
            "overflow": null,
            "overflow_x": null,
            "overflow_y": null,
            "padding": null,
            "right": null,
            "top": null,
            "visibility": null,
            "width": null
          }
        },
        "6477d26de0824f2cb89f1ec84c9d6e95": {
          "model_module": "@jupyter-widgets/base",
          "model_name": "LayoutModel",
          "model_module_version": "1.2.0",
          "state": {
            "_model_module": "@jupyter-widgets/base",
            "_model_module_version": "1.2.0",
            "_model_name": "LayoutModel",
            "_view_count": null,
            "_view_module": "@jupyter-widgets/base",
            "_view_module_version": "1.2.0",
            "_view_name": "LayoutView",
            "align_content": null,
            "align_items": null,
            "align_self": null,
            "border": null,
            "bottom": null,
            "display": null,
            "flex": null,
            "flex_flow": null,
            "grid_area": null,
            "grid_auto_columns": null,
            "grid_auto_flow": null,
            "grid_auto_rows": null,
            "grid_column": null,
            "grid_gap": null,
            "grid_row": null,
            "grid_template_areas": null,
            "grid_template_columns": null,
            "grid_template_rows": null,
            "height": null,
            "justify_content": null,
            "justify_items": null,
            "left": null,
            "margin": null,
            "max_height": null,
            "max_width": null,
            "min_height": null,
            "min_width": null,
            "object_fit": null,
            "object_position": null,
            "order": null,
            "overflow": null,
            "overflow_x": null,
            "overflow_y": null,
            "padding": null,
            "right": null,
            "top": null,
            "visibility": null,
            "width": null
          }
        },
        "6154a75e8768458ca321acab9538dd32": {
          "model_module": "@jupyter-widgets/controls",
          "model_name": "DescriptionStyleModel",
          "model_module_version": "1.5.0",
          "state": {
            "_model_module": "@jupyter-widgets/controls",
            "_model_module_version": "1.5.0",
            "_model_name": "DescriptionStyleModel",
            "_view_count": null,
            "_view_module": "@jupyter-widgets/base",
            "_view_module_version": "1.2.0",
            "_view_name": "StyleView",
            "description_width": ""
          }
        },
        "a0ceca02184145c6a6982dad611ce0d6": {
          "model_module": "@jupyter-widgets/base",
          "model_name": "LayoutModel",
          "model_module_version": "1.2.0",
          "state": {
            "_model_module": "@jupyter-widgets/base",
            "_model_module_version": "1.2.0",
            "_model_name": "LayoutModel",
            "_view_count": null,
            "_view_module": "@jupyter-widgets/base",
            "_view_module_version": "1.2.0",
            "_view_name": "LayoutView",
            "align_content": null,
            "align_items": null,
            "align_self": null,
            "border": null,
            "bottom": null,
            "display": null,
            "flex": null,
            "flex_flow": null,
            "grid_area": null,
            "grid_auto_columns": null,
            "grid_auto_flow": null,
            "grid_auto_rows": null,
            "grid_column": null,
            "grid_gap": null,
            "grid_row": null,
            "grid_template_areas": null,
            "grid_template_columns": null,
            "grid_template_rows": null,
            "height": null,
            "justify_content": null,
            "justify_items": null,
            "left": null,
            "margin": null,
            "max_height": null,
            "max_width": null,
            "min_height": null,
            "min_width": null,
            "object_fit": null,
            "object_position": null,
            "order": null,
            "overflow": null,
            "overflow_x": null,
            "overflow_y": null,
            "padding": null,
            "right": null,
            "top": null,
            "visibility": null,
            "width": "20px"
          }
        },
        "c1ba3ad2243e4961ac6d780cd17bdd43": {
          "model_module": "@jupyter-widgets/controls",
          "model_name": "ProgressStyleModel",
          "model_module_version": "1.5.0",
          "state": {
            "_model_module": "@jupyter-widgets/controls",
            "_model_module_version": "1.5.0",
            "_model_name": "ProgressStyleModel",
            "_view_count": null,
            "_view_module": "@jupyter-widgets/base",
            "_view_module_version": "1.2.0",
            "_view_name": "StyleView",
            "bar_color": null,
            "description_width": ""
          }
        },
        "a985a5e6d1a24d209e67b90a31b38e6a": {
          "model_module": "@jupyter-widgets/base",
          "model_name": "LayoutModel",
          "model_module_version": "1.2.0",
          "state": {
            "_model_module": "@jupyter-widgets/base",
            "_model_module_version": "1.2.0",
            "_model_name": "LayoutModel",
            "_view_count": null,
            "_view_module": "@jupyter-widgets/base",
            "_view_module_version": "1.2.0",
            "_view_name": "LayoutView",
            "align_content": null,
            "align_items": null,
            "align_self": null,
            "border": null,
            "bottom": null,
            "display": null,
            "flex": null,
            "flex_flow": null,
            "grid_area": null,
            "grid_auto_columns": null,
            "grid_auto_flow": null,
            "grid_auto_rows": null,
            "grid_column": null,
            "grid_gap": null,
            "grid_row": null,
            "grid_template_areas": null,
            "grid_template_columns": null,
            "grid_template_rows": null,
            "height": null,
            "justify_content": null,
            "justify_items": null,
            "left": null,
            "margin": null,
            "max_height": null,
            "max_width": null,
            "min_height": null,
            "min_width": null,
            "object_fit": null,
            "object_position": null,
            "order": null,
            "overflow": null,
            "overflow_x": null,
            "overflow_y": null,
            "padding": null,
            "right": null,
            "top": null,
            "visibility": null,
            "width": null
          }
        },
        "3366f42e5394473d98641ef2c55e4722": {
          "model_module": "@jupyter-widgets/controls",
          "model_name": "DescriptionStyleModel",
          "model_module_version": "1.5.0",
          "state": {
            "_model_module": "@jupyter-widgets/controls",
            "_model_module_version": "1.5.0",
            "_model_name": "DescriptionStyleModel",
            "_view_count": null,
            "_view_module": "@jupyter-widgets/base",
            "_view_module_version": "1.2.0",
            "_view_name": "StyleView",
            "description_width": ""
          }
        },
        "7dd221e41d7e4fa28a00323b3e179dee": {
          "model_module": "@jupyter-widgets/controls",
          "model_name": "HBoxModel",
          "model_module_version": "1.5.0",
          "state": {
            "_dom_classes": [],
            "_model_module": "@jupyter-widgets/controls",
            "_model_module_version": "1.5.0",
            "_model_name": "HBoxModel",
            "_view_count": null,
            "_view_module": "@jupyter-widgets/controls",
            "_view_module_version": "1.5.0",
            "_view_name": "HBoxView",
            "box_style": "",
            "children": [
              "IPY_MODEL_25f7e12857284b43afa403efc476ba51",
              "IPY_MODEL_5f91b9b246634be6b8492f4478e92e38",
              "IPY_MODEL_b9e1d736d75144dda3ea625e55c4688f"
            ],
            "layout": "IPY_MODEL_0c13c607bcd94d3a86c7f973fbc051e6"
          }
        },
        "25f7e12857284b43afa403efc476ba51": {
          "model_module": "@jupyter-widgets/controls",
          "model_name": "HTMLModel",
          "model_module_version": "1.5.0",
          "state": {
            "_dom_classes": [],
            "_model_module": "@jupyter-widgets/controls",
            "_model_module_version": "1.5.0",
            "_model_name": "HTMLModel",
            "_view_count": null,
            "_view_module": "@jupyter-widgets/controls",
            "_view_module_version": "1.5.0",
            "_view_name": "HTMLView",
            "description": "",
            "description_tooltip": null,
            "layout": "IPY_MODEL_a688f37c89e148e18ec01e39909233b2",
            "placeholder": "​",
            "style": "IPY_MODEL_7f707c98ed104806b9ec60cfff25f551",
            "value": "tokenizer.json: "
          }
        },
        "5f91b9b246634be6b8492f4478e92e38": {
          "model_module": "@jupyter-widgets/controls",
          "model_name": "FloatProgressModel",
          "model_module_version": "1.5.0",
          "state": {
            "_dom_classes": [],
            "_model_module": "@jupyter-widgets/controls",
            "_model_module_version": "1.5.0",
            "_model_name": "FloatProgressModel",
            "_view_count": null,
            "_view_module": "@jupyter-widgets/controls",
            "_view_module_version": "1.5.0",
            "_view_name": "ProgressView",
            "bar_style": "success",
            "description": "",
            "description_tooltip": null,
            "layout": "IPY_MODEL_ef3cb946c37140f9a6fa5bc3df40c206",
            "max": 1,
            "min": 0,
            "orientation": "horizontal",
            "style": "IPY_MODEL_c70e9209db374315b98d8d170dbd8fcd",
            "value": 1
          }
        },
        "b9e1d736d75144dda3ea625e55c4688f": {
          "model_module": "@jupyter-widgets/controls",
          "model_name": "HTMLModel",
          "model_module_version": "1.5.0",
          "state": {
            "_dom_classes": [],
            "_model_module": "@jupyter-widgets/controls",
            "_model_module_version": "1.5.0",
            "_model_name": "HTMLModel",
            "_view_count": null,
            "_view_module": "@jupyter-widgets/controls",
            "_view_module_version": "1.5.0",
            "_view_name": "HTMLView",
            "description": "",
            "description_tooltip": null,
            "layout": "IPY_MODEL_0ced75481f2642dcb8410071db5006ac",
            "placeholder": "​",
            "style": "IPY_MODEL_4c4ed2c5777544339ba00d6499523feb",
            "value": " 495k/? [00:00&lt;00:00, 9.69MB/s]"
          }
        },
        "0c13c607bcd94d3a86c7f973fbc051e6": {
          "model_module": "@jupyter-widgets/base",
          "model_name": "LayoutModel",
          "model_module_version": "1.2.0",
          "state": {
            "_model_module": "@jupyter-widgets/base",
            "_model_module_version": "1.2.0",
            "_model_name": "LayoutModel",
            "_view_count": null,
            "_view_module": "@jupyter-widgets/base",
            "_view_module_version": "1.2.0",
            "_view_name": "LayoutView",
            "align_content": null,
            "align_items": null,
            "align_self": null,
            "border": null,
            "bottom": null,
            "display": null,
            "flex": null,
            "flex_flow": null,
            "grid_area": null,
            "grid_auto_columns": null,
            "grid_auto_flow": null,
            "grid_auto_rows": null,
            "grid_column": null,
            "grid_gap": null,
            "grid_row": null,
            "grid_template_areas": null,
            "grid_template_columns": null,
            "grid_template_rows": null,
            "height": null,
            "justify_content": null,
            "justify_items": null,
            "left": null,
            "margin": null,
            "max_height": null,
            "max_width": null,
            "min_height": null,
            "min_width": null,
            "object_fit": null,
            "object_position": null,
            "order": null,
            "overflow": null,
            "overflow_x": null,
            "overflow_y": null,
            "padding": null,
            "right": null,
            "top": null,
            "visibility": null,
            "width": null
          }
        },
        "a688f37c89e148e18ec01e39909233b2": {
          "model_module": "@jupyter-widgets/base",
          "model_name": "LayoutModel",
          "model_module_version": "1.2.0",
          "state": {
            "_model_module": "@jupyter-widgets/base",
            "_model_module_version": "1.2.0",
            "_model_name": "LayoutModel",
            "_view_count": null,
            "_view_module": "@jupyter-widgets/base",
            "_view_module_version": "1.2.0",
            "_view_name": "LayoutView",
            "align_content": null,
            "align_items": null,
            "align_self": null,
            "border": null,
            "bottom": null,
            "display": null,
            "flex": null,
            "flex_flow": null,
            "grid_area": null,
            "grid_auto_columns": null,
            "grid_auto_flow": null,
            "grid_auto_rows": null,
            "grid_column": null,
            "grid_gap": null,
            "grid_row": null,
            "grid_template_areas": null,
            "grid_template_columns": null,
            "grid_template_rows": null,
            "height": null,
            "justify_content": null,
            "justify_items": null,
            "left": null,
            "margin": null,
            "max_height": null,
            "max_width": null,
            "min_height": null,
            "min_width": null,
            "object_fit": null,
            "object_position": null,
            "order": null,
            "overflow": null,
            "overflow_x": null,
            "overflow_y": null,
            "padding": null,
            "right": null,
            "top": null,
            "visibility": null,
            "width": null
          }
        },
        "7f707c98ed104806b9ec60cfff25f551": {
          "model_module": "@jupyter-widgets/controls",
          "model_name": "DescriptionStyleModel",
          "model_module_version": "1.5.0",
          "state": {
            "_model_module": "@jupyter-widgets/controls",
            "_model_module_version": "1.5.0",
            "_model_name": "DescriptionStyleModel",
            "_view_count": null,
            "_view_module": "@jupyter-widgets/base",
            "_view_module_version": "1.2.0",
            "_view_name": "StyleView",
            "description_width": ""
          }
        },
        "ef3cb946c37140f9a6fa5bc3df40c206": {
          "model_module": "@jupyter-widgets/base",
          "model_name": "LayoutModel",
          "model_module_version": "1.2.0",
          "state": {
            "_model_module": "@jupyter-widgets/base",
            "_model_module_version": "1.2.0",
            "_model_name": "LayoutModel",
            "_view_count": null,
            "_view_module": "@jupyter-widgets/base",
            "_view_module_version": "1.2.0",
            "_view_name": "LayoutView",
            "align_content": null,
            "align_items": null,
            "align_self": null,
            "border": null,
            "bottom": null,
            "display": null,
            "flex": null,
            "flex_flow": null,
            "grid_area": null,
            "grid_auto_columns": null,
            "grid_auto_flow": null,
            "grid_auto_rows": null,
            "grid_column": null,
            "grid_gap": null,
            "grid_row": null,
            "grid_template_areas": null,
            "grid_template_columns": null,
            "grid_template_rows": null,
            "height": null,
            "justify_content": null,
            "justify_items": null,
            "left": null,
            "margin": null,
            "max_height": null,
            "max_width": null,
            "min_height": null,
            "min_width": null,
            "object_fit": null,
            "object_position": null,
            "order": null,
            "overflow": null,
            "overflow_x": null,
            "overflow_y": null,
            "padding": null,
            "right": null,
            "top": null,
            "visibility": null,
            "width": "20px"
          }
        },
        "c70e9209db374315b98d8d170dbd8fcd": {
          "model_module": "@jupyter-widgets/controls",
          "model_name": "ProgressStyleModel",
          "model_module_version": "1.5.0",
          "state": {
            "_model_module": "@jupyter-widgets/controls",
            "_model_module_version": "1.5.0",
            "_model_name": "ProgressStyleModel",
            "_view_count": null,
            "_view_module": "@jupyter-widgets/base",
            "_view_module_version": "1.2.0",
            "_view_name": "StyleView",
            "bar_color": null,
            "description_width": ""
          }
        },
        "0ced75481f2642dcb8410071db5006ac": {
          "model_module": "@jupyter-widgets/base",
          "model_name": "LayoutModel",
          "model_module_version": "1.2.0",
          "state": {
            "_model_module": "@jupyter-widgets/base",
            "_model_module_version": "1.2.0",
            "_model_name": "LayoutModel",
            "_view_count": null,
            "_view_module": "@jupyter-widgets/base",
            "_view_module_version": "1.2.0",
            "_view_name": "LayoutView",
            "align_content": null,
            "align_items": null,
            "align_self": null,
            "border": null,
            "bottom": null,
            "display": null,
            "flex": null,
            "flex_flow": null,
            "grid_area": null,
            "grid_auto_columns": null,
            "grid_auto_flow": null,
            "grid_auto_rows": null,
            "grid_column": null,
            "grid_gap": null,
            "grid_row": null,
            "grid_template_areas": null,
            "grid_template_columns": null,
            "grid_template_rows": null,
            "height": null,
            "justify_content": null,
            "justify_items": null,
            "left": null,
            "margin": null,
            "max_height": null,
            "max_width": null,
            "min_height": null,
            "min_width": null,
            "object_fit": null,
            "object_position": null,
            "order": null,
            "overflow": null,
            "overflow_x": null,
            "overflow_y": null,
            "padding": null,
            "right": null,
            "top": null,
            "visibility": null,
            "width": null
          }
        },
        "4c4ed2c5777544339ba00d6499523feb": {
          "model_module": "@jupyter-widgets/controls",
          "model_name": "DescriptionStyleModel",
          "model_module_version": "1.5.0",
          "state": {
            "_model_module": "@jupyter-widgets/controls",
            "_model_module_version": "1.5.0",
            "_model_name": "DescriptionStyleModel",
            "_view_count": null,
            "_view_module": "@jupyter-widgets/base",
            "_view_module_version": "1.2.0",
            "_view_name": "StyleView",
            "description_width": ""
          }
        },
        "eb1e05afc6fc48ea9205bc73629a7252": {
          "model_module": "@jupyter-widgets/controls",
          "model_name": "HBoxModel",
          "model_module_version": "1.5.0",
          "state": {
            "_dom_classes": [],
            "_model_module": "@jupyter-widgets/controls",
            "_model_module_version": "1.5.0",
            "_model_name": "HBoxModel",
            "_view_count": null,
            "_view_module": "@jupyter-widgets/controls",
            "_view_module_version": "1.5.0",
            "_view_name": "HBoxView",
            "box_style": "",
            "children": [
              "IPY_MODEL_150043f69afb43aa9c0f4b998fe6b0fe",
              "IPY_MODEL_a2e0c17e5ede4ae7a9d123605f310bba",
              "IPY_MODEL_6ac9f56f8f014fff8e4d4141ae5d25af"
            ],
            "layout": "IPY_MODEL_710e8e6d204d4e8ebb1a8c61c3a7980a"
          }
        },
        "150043f69afb43aa9c0f4b998fe6b0fe": {
          "model_module": "@jupyter-widgets/controls",
          "model_name": "HTMLModel",
          "model_module_version": "1.5.0",
          "state": {
            "_dom_classes": [],
            "_model_module": "@jupyter-widgets/controls",
            "_model_module_version": "1.5.0",
            "_model_name": "HTMLModel",
            "_view_count": null,
            "_view_module": "@jupyter-widgets/controls",
            "_view_module_version": "1.5.0",
            "_view_name": "HTMLView",
            "description": "",
            "description_tooltip": null,
            "layout": "IPY_MODEL_ad1be78aa90a46688d2618f38db911a5",
            "placeholder": "​",
            "style": "IPY_MODEL_42f3aea3a4af462aafb7ce2ee9302f54",
            "value": "special_tokens_map.json: 100%"
          }
        },
        "a2e0c17e5ede4ae7a9d123605f310bba": {
          "model_module": "@jupyter-widgets/controls",
          "model_name": "FloatProgressModel",
          "model_module_version": "1.5.0",
          "state": {
            "_dom_classes": [],
            "_model_module": "@jupyter-widgets/controls",
            "_model_module_version": "1.5.0",
            "_model_name": "FloatProgressModel",
            "_view_count": null,
            "_view_module": "@jupyter-widgets/controls",
            "_view_module_version": "1.5.0",
            "_view_name": "ProgressView",
            "bar_style": "success",
            "description": "",
            "description_tooltip": null,
            "layout": "IPY_MODEL_d70dfab1d19742fdb993e3f84e16382d",
            "max": 125,
            "min": 0,
            "orientation": "horizontal",
            "style": "IPY_MODEL_f26fb45a9480422a9beb29199e6e422b",
            "value": 125
          }
        },
        "6ac9f56f8f014fff8e4d4141ae5d25af": {
          "model_module": "@jupyter-widgets/controls",
          "model_name": "HTMLModel",
          "model_module_version": "1.5.0",
          "state": {
            "_dom_classes": [],
            "_model_module": "@jupyter-widgets/controls",
            "_model_module_version": "1.5.0",
            "_model_name": "HTMLModel",
            "_view_count": null,
            "_view_module": "@jupyter-widgets/controls",
            "_view_module_version": "1.5.0",
            "_view_name": "HTMLView",
            "description": "",
            "description_tooltip": null,
            "layout": "IPY_MODEL_37e599be829e4457a4130d2e4ee88798",
            "placeholder": "​",
            "style": "IPY_MODEL_01247d5bb0be46a59ddf09a6073144db",
            "value": " 125/125 [00:00&lt;00:00, 12.2kB/s]"
          }
        },
        "710e8e6d204d4e8ebb1a8c61c3a7980a": {
          "model_module": "@jupyter-widgets/base",
          "model_name": "LayoutModel",
          "model_module_version": "1.2.0",
          "state": {
            "_model_module": "@jupyter-widgets/base",
            "_model_module_version": "1.2.0",
            "_model_name": "LayoutModel",
            "_view_count": null,
            "_view_module": "@jupyter-widgets/base",
            "_view_module_version": "1.2.0",
            "_view_name": "LayoutView",
            "align_content": null,
            "align_items": null,
            "align_self": null,
            "border": null,
            "bottom": null,
            "display": null,
            "flex": null,
            "flex_flow": null,
            "grid_area": null,
            "grid_auto_columns": null,
            "grid_auto_flow": null,
            "grid_auto_rows": null,
            "grid_column": null,
            "grid_gap": null,
            "grid_row": null,
            "grid_template_areas": null,
            "grid_template_columns": null,
            "grid_template_rows": null,
            "height": null,
            "justify_content": null,
            "justify_items": null,
            "left": null,
            "margin": null,
            "max_height": null,
            "max_width": null,
            "min_height": null,
            "min_width": null,
            "object_fit": null,
            "object_position": null,
            "order": null,
            "overflow": null,
            "overflow_x": null,
            "overflow_y": null,
            "padding": null,
            "right": null,
            "top": null,
            "visibility": null,
            "width": null
          }
        },
        "ad1be78aa90a46688d2618f38db911a5": {
          "model_module": "@jupyter-widgets/base",
          "model_name": "LayoutModel",
          "model_module_version": "1.2.0",
          "state": {
            "_model_module": "@jupyter-widgets/base",
            "_model_module_version": "1.2.0",
            "_model_name": "LayoutModel",
            "_view_count": null,
            "_view_module": "@jupyter-widgets/base",
            "_view_module_version": "1.2.0",
            "_view_name": "LayoutView",
            "align_content": null,
            "align_items": null,
            "align_self": null,
            "border": null,
            "bottom": null,
            "display": null,
            "flex": null,
            "flex_flow": null,
            "grid_area": null,
            "grid_auto_columns": null,
            "grid_auto_flow": null,
            "grid_auto_rows": null,
            "grid_column": null,
            "grid_gap": null,
            "grid_row": null,
            "grid_template_areas": null,
            "grid_template_columns": null,
            "grid_template_rows": null,
            "height": null,
            "justify_content": null,
            "justify_items": null,
            "left": null,
            "margin": null,
            "max_height": null,
            "max_width": null,
            "min_height": null,
            "min_width": null,
            "object_fit": null,
            "object_position": null,
            "order": null,
            "overflow": null,
            "overflow_x": null,
            "overflow_y": null,
            "padding": null,
            "right": null,
            "top": null,
            "visibility": null,
            "width": null
          }
        },
        "42f3aea3a4af462aafb7ce2ee9302f54": {
          "model_module": "@jupyter-widgets/controls",
          "model_name": "DescriptionStyleModel",
          "model_module_version": "1.5.0",
          "state": {
            "_model_module": "@jupyter-widgets/controls",
            "_model_module_version": "1.5.0",
            "_model_name": "DescriptionStyleModel",
            "_view_count": null,
            "_view_module": "@jupyter-widgets/base",
            "_view_module_version": "1.2.0",
            "_view_name": "StyleView",
            "description_width": ""
          }
        },
        "d70dfab1d19742fdb993e3f84e16382d": {
          "model_module": "@jupyter-widgets/base",
          "model_name": "LayoutModel",
          "model_module_version": "1.2.0",
          "state": {
            "_model_module": "@jupyter-widgets/base",
            "_model_module_version": "1.2.0",
            "_model_name": "LayoutModel",
            "_view_count": null,
            "_view_module": "@jupyter-widgets/base",
            "_view_module_version": "1.2.0",
            "_view_name": "LayoutView",
            "align_content": null,
            "align_items": null,
            "align_self": null,
            "border": null,
            "bottom": null,
            "display": null,
            "flex": null,
            "flex_flow": null,
            "grid_area": null,
            "grid_auto_columns": null,
            "grid_auto_flow": null,
            "grid_auto_rows": null,
            "grid_column": null,
            "grid_gap": null,
            "grid_row": null,
            "grid_template_areas": null,
            "grid_template_columns": null,
            "grid_template_rows": null,
            "height": null,
            "justify_content": null,
            "justify_items": null,
            "left": null,
            "margin": null,
            "max_height": null,
            "max_width": null,
            "min_height": null,
            "min_width": null,
            "object_fit": null,
            "object_position": null,
            "order": null,
            "overflow": null,
            "overflow_x": null,
            "overflow_y": null,
            "padding": null,
            "right": null,
            "top": null,
            "visibility": null,
            "width": null
          }
        },
        "f26fb45a9480422a9beb29199e6e422b": {
          "model_module": "@jupyter-widgets/controls",
          "model_name": "ProgressStyleModel",
          "model_module_version": "1.5.0",
          "state": {
            "_model_module": "@jupyter-widgets/controls",
            "_model_module_version": "1.5.0",
            "_model_name": "ProgressStyleModel",
            "_view_count": null,
            "_view_module": "@jupyter-widgets/base",
            "_view_module_version": "1.2.0",
            "_view_name": "StyleView",
            "bar_color": null,
            "description_width": ""
          }
        },
        "37e599be829e4457a4130d2e4ee88798": {
          "model_module": "@jupyter-widgets/base",
          "model_name": "LayoutModel",
          "model_module_version": "1.2.0",
          "state": {
            "_model_module": "@jupyter-widgets/base",
            "_model_module_version": "1.2.0",
            "_model_name": "LayoutModel",
            "_view_count": null,
            "_view_module": "@jupyter-widgets/base",
            "_view_module_version": "1.2.0",
            "_view_name": "LayoutView",
            "align_content": null,
            "align_items": null,
            "align_self": null,
            "border": null,
            "bottom": null,
            "display": null,
            "flex": null,
            "flex_flow": null,
            "grid_area": null,
            "grid_auto_columns": null,
            "grid_auto_flow": null,
            "grid_auto_rows": null,
            "grid_column": null,
            "grid_gap": null,
            "grid_row": null,
            "grid_template_areas": null,
            "grid_template_columns": null,
            "grid_template_rows": null,
            "height": null,
            "justify_content": null,
            "justify_items": null,
            "left": null,
            "margin": null,
            "max_height": null,
            "max_width": null,
            "min_height": null,
            "min_width": null,
            "object_fit": null,
            "object_position": null,
            "order": null,
            "overflow": null,
            "overflow_x": null,
            "overflow_y": null,
            "padding": null,
            "right": null,
            "top": null,
            "visibility": null,
            "width": null
          }
        },
        "01247d5bb0be46a59ddf09a6073144db": {
          "model_module": "@jupyter-widgets/controls",
          "model_name": "DescriptionStyleModel",
          "model_module_version": "1.5.0",
          "state": {
            "_model_module": "@jupyter-widgets/controls",
            "_model_module_version": "1.5.0",
            "_model_name": "DescriptionStyleModel",
            "_view_count": null,
            "_view_module": "@jupyter-widgets/base",
            "_view_module_version": "1.2.0",
            "_view_name": "StyleView",
            "description_width": ""
          }
        },
        "c831c50252ba448c92e64826cbfbefff": {
          "model_module": "@jupyter-widgets/controls",
          "model_name": "HBoxModel",
          "model_module_version": "1.5.0",
          "state": {
            "_dom_classes": [],
            "_model_module": "@jupyter-widgets/controls",
            "_model_module_version": "1.5.0",
            "_model_name": "HBoxModel",
            "_view_count": null,
            "_view_module": "@jupyter-widgets/controls",
            "_view_module_version": "1.5.0",
            "_view_name": "HBoxView",
            "box_style": "",
            "children": [
              "IPY_MODEL_7dc2e1149fce423dae1179021576c74e",
              "IPY_MODEL_c5fed5cad6234537969e1ab378f37aa5",
              "IPY_MODEL_3ed8f7557ada4b298535b2cecf528f10"
            ],
            "layout": "IPY_MODEL_ec3df7dc45c9482ab26efd286d37c330"
          }
        },
        "7dc2e1149fce423dae1179021576c74e": {
          "model_module": "@jupyter-widgets/controls",
          "model_name": "HTMLModel",
          "model_module_version": "1.5.0",
          "state": {
            "_dom_classes": [],
            "_model_module": "@jupyter-widgets/controls",
            "_model_module_version": "1.5.0",
            "_model_name": "HTMLModel",
            "_view_count": null,
            "_view_module": "@jupyter-widgets/controls",
            "_view_module_version": "1.5.0",
            "_view_name": "HTMLView",
            "description": "",
            "description_tooltip": null,
            "layout": "IPY_MODEL_c3009f6ca53248609dd431949accc94f",
            "placeholder": "​",
            "style": "IPY_MODEL_e69feb2a910d4d6ca94553f77678446c",
            "value": "model.safetensors: 100%"
          }
        },
        "c5fed5cad6234537969e1ab378f37aa5": {
          "model_module": "@jupyter-widgets/controls",
          "model_name": "FloatProgressModel",
          "model_module_version": "1.5.0",
          "state": {
            "_dom_classes": [],
            "_model_module": "@jupyter-widgets/controls",
            "_model_module_version": "1.5.0",
            "_model_name": "FloatProgressModel",
            "_view_count": null,
            "_view_module": "@jupyter-widgets/controls",
            "_view_module_version": "1.5.0",
            "_view_name": "ProgressView",
            "bar_style": "success",
            "description": "",
            "description_tooltip": null,
            "layout": "IPY_MODEL_429be1ef5c414f91bdac7bb0a85ee213",
            "max": 445000316,
            "min": 0,
            "orientation": "horizontal",
            "style": "IPY_MODEL_af02bb387c7c4072908397bf4811fd82",
            "value": 445000316
          }
        },
        "3ed8f7557ada4b298535b2cecf528f10": {
          "model_module": "@jupyter-widgets/controls",
          "model_name": "HTMLModel",
          "model_module_version": "1.5.0",
          "state": {
            "_dom_classes": [],
            "_model_module": "@jupyter-widgets/controls",
            "_model_module_version": "1.5.0",
            "_model_name": "HTMLModel",
            "_view_count": null,
            "_view_module": "@jupyter-widgets/controls",
            "_view_module_version": "1.5.0",
            "_view_name": "HTMLView",
            "description": "",
            "description_tooltip": null,
            "layout": "IPY_MODEL_7db17bce447047f2bf1cf5dd250ea522",
            "placeholder": "​",
            "style": "IPY_MODEL_41fa0374537844f5abc07a63241afeaf",
            "value": " 445M/445M [00:06&lt;00:00, 94.4MB/s]"
          }
        },
        "ec3df7dc45c9482ab26efd286d37c330": {
          "model_module": "@jupyter-widgets/base",
          "model_name": "LayoutModel",
          "model_module_version": "1.2.0",
          "state": {
            "_model_module": "@jupyter-widgets/base",
            "_model_module_version": "1.2.0",
            "_model_name": "LayoutModel",
            "_view_count": null,
            "_view_module": "@jupyter-widgets/base",
            "_view_module_version": "1.2.0",
            "_view_name": "LayoutView",
            "align_content": null,
            "align_items": null,
            "align_self": null,
            "border": null,
            "bottom": null,
            "display": null,
            "flex": null,
            "flex_flow": null,
            "grid_area": null,
            "grid_auto_columns": null,
            "grid_auto_flow": null,
            "grid_auto_rows": null,
            "grid_column": null,
            "grid_gap": null,
            "grid_row": null,
            "grid_template_areas": null,
            "grid_template_columns": null,
            "grid_template_rows": null,
            "height": null,
            "justify_content": null,
            "justify_items": null,
            "left": null,
            "margin": null,
            "max_height": null,
            "max_width": null,
            "min_height": null,
            "min_width": null,
            "object_fit": null,
            "object_position": null,
            "order": null,
            "overflow": null,
            "overflow_x": null,
            "overflow_y": null,
            "padding": null,
            "right": null,
            "top": null,
            "visibility": null,
            "width": null
          }
        },
        "c3009f6ca53248609dd431949accc94f": {
          "model_module": "@jupyter-widgets/base",
          "model_name": "LayoutModel",
          "model_module_version": "1.2.0",
          "state": {
            "_model_module": "@jupyter-widgets/base",
            "_model_module_version": "1.2.0",
            "_model_name": "LayoutModel",
            "_view_count": null,
            "_view_module": "@jupyter-widgets/base",
            "_view_module_version": "1.2.0",
            "_view_name": "LayoutView",
            "align_content": null,
            "align_items": null,
            "align_self": null,
            "border": null,
            "bottom": null,
            "display": null,
            "flex": null,
            "flex_flow": null,
            "grid_area": null,
            "grid_auto_columns": null,
            "grid_auto_flow": null,
            "grid_auto_rows": null,
            "grid_column": null,
            "grid_gap": null,
            "grid_row": null,
            "grid_template_areas": null,
            "grid_template_columns": null,
            "grid_template_rows": null,
            "height": null,
            "justify_content": null,
            "justify_items": null,
            "left": null,
            "margin": null,
            "max_height": null,
            "max_width": null,
            "min_height": null,
            "min_width": null,
            "object_fit": null,
            "object_position": null,
            "order": null,
            "overflow": null,
            "overflow_x": null,
            "overflow_y": null,
            "padding": null,
            "right": null,
            "top": null,
            "visibility": null,
            "width": null
          }
        },
        "e69feb2a910d4d6ca94553f77678446c": {
          "model_module": "@jupyter-widgets/controls",
          "model_name": "DescriptionStyleModel",
          "model_module_version": "1.5.0",
          "state": {
            "_model_module": "@jupyter-widgets/controls",
            "_model_module_version": "1.5.0",
            "_model_name": "DescriptionStyleModel",
            "_view_count": null,
            "_view_module": "@jupyter-widgets/base",
            "_view_module_version": "1.2.0",
            "_view_name": "StyleView",
            "description_width": ""
          }
        },
        "429be1ef5c414f91bdac7bb0a85ee213": {
          "model_module": "@jupyter-widgets/base",
          "model_name": "LayoutModel",
          "model_module_version": "1.2.0",
          "state": {
            "_model_module": "@jupyter-widgets/base",
            "_model_module_version": "1.2.0",
            "_model_name": "LayoutModel",
            "_view_count": null,
            "_view_module": "@jupyter-widgets/base",
            "_view_module_version": "1.2.0",
            "_view_name": "LayoutView",
            "align_content": null,
            "align_items": null,
            "align_self": null,
            "border": null,
            "bottom": null,
            "display": null,
            "flex": null,
            "flex_flow": null,
            "grid_area": null,
            "grid_auto_columns": null,
            "grid_auto_flow": null,
            "grid_auto_rows": null,
            "grid_column": null,
            "grid_gap": null,
            "grid_row": null,
            "grid_template_areas": null,
            "grid_template_columns": null,
            "grid_template_rows": null,
            "height": null,
            "justify_content": null,
            "justify_items": null,
            "left": null,
            "margin": null,
            "max_height": null,
            "max_width": null,
            "min_height": null,
            "min_width": null,
            "object_fit": null,
            "object_position": null,
            "order": null,
            "overflow": null,
            "overflow_x": null,
            "overflow_y": null,
            "padding": null,
            "right": null,
            "top": null,
            "visibility": null,
            "width": null
          }
        },
        "af02bb387c7c4072908397bf4811fd82": {
          "model_module": "@jupyter-widgets/controls",
          "model_name": "ProgressStyleModel",
          "model_module_version": "1.5.0",
          "state": {
            "_model_module": "@jupyter-widgets/controls",
            "_model_module_version": "1.5.0",
            "_model_name": "ProgressStyleModel",
            "_view_count": null,
            "_view_module": "@jupyter-widgets/base",
            "_view_module_version": "1.2.0",
            "_view_name": "StyleView",
            "bar_color": null,
            "description_width": ""
          }
        },
        "7db17bce447047f2bf1cf5dd250ea522": {
          "model_module": "@jupyter-widgets/base",
          "model_name": "LayoutModel",
          "model_module_version": "1.2.0",
          "state": {
            "_model_module": "@jupyter-widgets/base",
            "_model_module_version": "1.2.0",
            "_model_name": "LayoutModel",
            "_view_count": null,
            "_view_module": "@jupyter-widgets/base",
            "_view_module_version": "1.2.0",
            "_view_name": "LayoutView",
            "align_content": null,
            "align_items": null,
            "align_self": null,
            "border": null,
            "bottom": null,
            "display": null,
            "flex": null,
            "flex_flow": null,
            "grid_area": null,
            "grid_auto_columns": null,
            "grid_auto_flow": null,
            "grid_auto_rows": null,
            "grid_column": null,
            "grid_gap": null,
            "grid_row": null,
            "grid_template_areas": null,
            "grid_template_columns": null,
            "grid_template_rows": null,
            "height": null,
            "justify_content": null,
            "justify_items": null,
            "left": null,
            "margin": null,
            "max_height": null,
            "max_width": null,
            "min_height": null,
            "min_width": null,
            "object_fit": null,
            "object_position": null,
            "order": null,
            "overflow": null,
            "overflow_x": null,
            "overflow_y": null,
            "padding": null,
            "right": null,
            "top": null,
            "visibility": null,
            "width": null
          }
        },
        "41fa0374537844f5abc07a63241afeaf": {
          "model_module": "@jupyter-widgets/controls",
          "model_name": "DescriptionStyleModel",
          "model_module_version": "1.5.0",
          "state": {
            "_model_module": "@jupyter-widgets/controls",
            "_model_module_version": "1.5.0",
            "_model_name": "DescriptionStyleModel",
            "_view_count": null,
            "_view_module": "@jupyter-widgets/base",
            "_view_module_version": "1.2.0",
            "_view_name": "StyleView",
            "description_width": ""
          }
        },
        "d43a86a29cb4480487b518befccd3738": {
          "model_module": "@jupyter-widgets/controls",
          "model_name": "HBoxModel",
          "model_module_version": "1.5.0",
          "state": {
            "_dom_classes": [],
            "_model_module": "@jupyter-widgets/controls",
            "_model_module_version": "1.5.0",
            "_model_name": "HBoxModel",
            "_view_count": null,
            "_view_module": "@jupyter-widgets/controls",
            "_view_module_version": "1.5.0",
            "_view_name": "HBoxView",
            "box_style": "",
            "children": [
              "IPY_MODEL_2ecf7435c88e45e5bb59bd943670310c",
              "IPY_MODEL_9481d2975e194a3d9ca17fdc76c7ff1f",
              "IPY_MODEL_4c7f4a77f0734c0e97e02656ea97da7d"
            ],
            "layout": "IPY_MODEL_8573f2253ab34870b529810bad222fdc"
          }
        },
        "2ecf7435c88e45e5bb59bd943670310c": {
          "model_module": "@jupyter-widgets/controls",
          "model_name": "HTMLModel",
          "model_module_version": "1.5.0",
          "state": {
            "_dom_classes": [],
            "_model_module": "@jupyter-widgets/controls",
            "_model_module_version": "1.5.0",
            "_model_name": "HTMLModel",
            "_view_count": null,
            "_view_module": "@jupyter-widgets/controls",
            "_view_module_version": "1.5.0",
            "_view_name": "HTMLView",
            "description": "",
            "description_tooltip": null,
            "layout": "IPY_MODEL_31353668345e49cf953ec0bcfb3ba30c",
            "placeholder": "​",
            "style": "IPY_MODEL_8436acc31fea4c5287d66bc2f6feb5e6",
            "value": "문장 순서 예측: 100%"
          }
        },
        "9481d2975e194a3d9ca17fdc76c7ff1f": {
          "model_module": "@jupyter-widgets/controls",
          "model_name": "FloatProgressModel",
          "model_module_version": "1.5.0",
          "state": {
            "_dom_classes": [],
            "_model_module": "@jupyter-widgets/controls",
            "_model_module_version": "1.5.0",
            "_model_name": "FloatProgressModel",
            "_view_count": null,
            "_view_module": "@jupyter-widgets/controls",
            "_view_module_version": "1.5.0",
            "_view_name": "ProgressView",
            "bar_style": "success",
            "description": "",
            "description_tooltip": null,
            "layout": "IPY_MODEL_3dcd43064bd147c18da8f1756601f001",
            "max": 1000,
            "min": 0,
            "orientation": "horizontal",
            "style": "IPY_MODEL_d02f8b2361b44739b580bf258e6aada9",
            "value": 1000
          }
        },
        "4c7f4a77f0734c0e97e02656ea97da7d": {
          "model_module": "@jupyter-widgets/controls",
          "model_name": "HTMLModel",
          "model_module_version": "1.5.0",
          "state": {
            "_dom_classes": [],
            "_model_module": "@jupyter-widgets/controls",
            "_model_module_version": "1.5.0",
            "_model_name": "HTMLModel",
            "_view_count": null,
            "_view_module": "@jupyter-widgets/controls",
            "_view_module_version": "1.5.0",
            "_view_name": "HTMLView",
            "description": "",
            "description_tooltip": null,
            "layout": "IPY_MODEL_8e9f357377e74109b86a9e786a40f512",
            "placeholder": "​",
            "style": "IPY_MODEL_990d1d215da2439296408f5f88957ce8",
            "value": " 1000/1000 [03:23&lt;00:00,  5.17it/s]"
          }
        },
        "8573f2253ab34870b529810bad222fdc": {
          "model_module": "@jupyter-widgets/base",
          "model_name": "LayoutModel",
          "model_module_version": "1.2.0",
          "state": {
            "_model_module": "@jupyter-widgets/base",
            "_model_module_version": "1.2.0",
            "_model_name": "LayoutModel",
            "_view_count": null,
            "_view_module": "@jupyter-widgets/base",
            "_view_module_version": "1.2.0",
            "_view_name": "LayoutView",
            "align_content": null,
            "align_items": null,
            "align_self": null,
            "border": null,
            "bottom": null,
            "display": null,
            "flex": null,
            "flex_flow": null,
            "grid_area": null,
            "grid_auto_columns": null,
            "grid_auto_flow": null,
            "grid_auto_rows": null,
            "grid_column": null,
            "grid_gap": null,
            "grid_row": null,
            "grid_template_areas": null,
            "grid_template_columns": null,
            "grid_template_rows": null,
            "height": null,
            "justify_content": null,
            "justify_items": null,
            "left": null,
            "margin": null,
            "max_height": null,
            "max_width": null,
            "min_height": null,
            "min_width": null,
            "object_fit": null,
            "object_position": null,
            "order": null,
            "overflow": null,
            "overflow_x": null,
            "overflow_y": null,
            "padding": null,
            "right": null,
            "top": null,
            "visibility": null,
            "width": null
          }
        },
        "31353668345e49cf953ec0bcfb3ba30c": {
          "model_module": "@jupyter-widgets/base",
          "model_name": "LayoutModel",
          "model_module_version": "1.2.0",
          "state": {
            "_model_module": "@jupyter-widgets/base",
            "_model_module_version": "1.2.0",
            "_model_name": "LayoutModel",
            "_view_count": null,
            "_view_module": "@jupyter-widgets/base",
            "_view_module_version": "1.2.0",
            "_view_name": "LayoutView",
            "align_content": null,
            "align_items": null,
            "align_self": null,
            "border": null,
            "bottom": null,
            "display": null,
            "flex": null,
            "flex_flow": null,
            "grid_area": null,
            "grid_auto_columns": null,
            "grid_auto_flow": null,
            "grid_auto_rows": null,
            "grid_column": null,
            "grid_gap": null,
            "grid_row": null,
            "grid_template_areas": null,
            "grid_template_columns": null,
            "grid_template_rows": null,
            "height": null,
            "justify_content": null,
            "justify_items": null,
            "left": null,
            "margin": null,
            "max_height": null,
            "max_width": null,
            "min_height": null,
            "min_width": null,
            "object_fit": null,
            "object_position": null,
            "order": null,
            "overflow": null,
            "overflow_x": null,
            "overflow_y": null,
            "padding": null,
            "right": null,
            "top": null,
            "visibility": null,
            "width": null
          }
        },
        "8436acc31fea4c5287d66bc2f6feb5e6": {
          "model_module": "@jupyter-widgets/controls",
          "model_name": "DescriptionStyleModel",
          "model_module_version": "1.5.0",
          "state": {
            "_model_module": "@jupyter-widgets/controls",
            "_model_module_version": "1.5.0",
            "_model_name": "DescriptionStyleModel",
            "_view_count": null,
            "_view_module": "@jupyter-widgets/base",
            "_view_module_version": "1.2.0",
            "_view_name": "StyleView",
            "description_width": ""
          }
        },
        "3dcd43064bd147c18da8f1756601f001": {
          "model_module": "@jupyter-widgets/base",
          "model_name": "LayoutModel",
          "model_module_version": "1.2.0",
          "state": {
            "_model_module": "@jupyter-widgets/base",
            "_model_module_version": "1.2.0",
            "_model_name": "LayoutModel",
            "_view_count": null,
            "_view_module": "@jupyter-widgets/base",
            "_view_module_version": "1.2.0",
            "_view_name": "LayoutView",
            "align_content": null,
            "align_items": null,
            "align_self": null,
            "border": null,
            "bottom": null,
            "display": null,
            "flex": null,
            "flex_flow": null,
            "grid_area": null,
            "grid_auto_columns": null,
            "grid_auto_flow": null,
            "grid_auto_rows": null,
            "grid_column": null,
            "grid_gap": null,
            "grid_row": null,
            "grid_template_areas": null,
            "grid_template_columns": null,
            "grid_template_rows": null,
            "height": null,
            "justify_content": null,
            "justify_items": null,
            "left": null,
            "margin": null,
            "max_height": null,
            "max_width": null,
            "min_height": null,
            "min_width": null,
            "object_fit": null,
            "object_position": null,
            "order": null,
            "overflow": null,
            "overflow_x": null,
            "overflow_y": null,
            "padding": null,
            "right": null,
            "top": null,
            "visibility": null,
            "width": null
          }
        },
        "d02f8b2361b44739b580bf258e6aada9": {
          "model_module": "@jupyter-widgets/controls",
          "model_name": "ProgressStyleModel",
          "model_module_version": "1.5.0",
          "state": {
            "_model_module": "@jupyter-widgets/controls",
            "_model_module_version": "1.5.0",
            "_model_name": "ProgressStyleModel",
            "_view_count": null,
            "_view_module": "@jupyter-widgets/base",
            "_view_module_version": "1.2.0",
            "_view_name": "StyleView",
            "bar_color": null,
            "description_width": ""
          }
        },
        "8e9f357377e74109b86a9e786a40f512": {
          "model_module": "@jupyter-widgets/base",
          "model_name": "LayoutModel",
          "model_module_version": "1.2.0",
          "state": {
            "_model_module": "@jupyter-widgets/base",
            "_model_module_version": "1.2.0",
            "_model_name": "LayoutModel",
            "_view_count": null,
            "_view_module": "@jupyter-widgets/base",
            "_view_module_version": "1.2.0",
            "_view_name": "LayoutView",
            "align_content": null,
            "align_items": null,
            "align_self": null,
            "border": null,
            "bottom": null,
            "display": null,
            "flex": null,
            "flex_flow": null,
            "grid_area": null,
            "grid_auto_columns": null,
            "grid_auto_flow": null,
            "grid_auto_rows": null,
            "grid_column": null,
            "grid_gap": null,
            "grid_row": null,
            "grid_template_areas": null,
            "grid_template_columns": null,
            "grid_template_rows": null,
            "height": null,
            "justify_content": null,
            "justify_items": null,
            "left": null,
            "margin": null,
            "max_height": null,
            "max_width": null,
            "min_height": null,
            "min_width": null,
            "object_fit": null,
            "object_position": null,
            "order": null,
            "overflow": null,
            "overflow_x": null,
            "overflow_y": null,
            "padding": null,
            "right": null,
            "top": null,
            "visibility": null,
            "width": null
          }
        },
        "990d1d215da2439296408f5f88957ce8": {
          "model_module": "@jupyter-widgets/controls",
          "model_name": "DescriptionStyleModel",
          "model_module_version": "1.5.0",
          "state": {
            "_model_module": "@jupyter-widgets/controls",
            "_model_module_version": "1.5.0",
            "_model_name": "DescriptionStyleModel",
            "_view_count": null,
            "_view_module": "@jupyter-widgets/base",
            "_view_module_version": "1.2.0",
            "_view_name": "StyleView",
            "description_width": ""
          }
        }
      }
    }
  },
  "cells": [
    {
      "cell_type": "code",
      "execution_count": 1,
      "metadata": {
        "colab": {
          "base_uri": "https://localhost:8080/"
        },
        "id": "nQ9RWmscERUd",
        "outputId": "4ef464c5-25c1-4318-ea55-d9f20c14e63e"
      },
      "outputs": [
        {
          "output_type": "stream",
          "name": "stdout",
          "text": [
            "라이브러리 import 완료\n"
          ]
        }
      ],
      "source": [
        "# KLUE-BERT Pairwise 문장 순서 예측 모델 (수정된 버전)\n",
        "\n",
        "# 1. 필요한 라이브러리 import\n",
        "import pandas as pd\n",
        "import numpy as np\n",
        "import re\n",
        "from tqdm.auto import tqdm\n",
        "import matplotlib.pyplot as plt\n",
        "import seaborn as sns\n",
        "from collections import Counter\n",
        "import torch\n",
        "import torch.nn as nn\n",
        "import torch.nn.functional as F\n",
        "from torch.utils.data import Dataset\n",
        "from scipy.stats import loguniform\n",
        "from sklearn.model_selection import train_test_split\n",
        "from sklearn.metrics import (\n",
        "    accuracy_score, f1_score, precision_score, recall_score,\n",
        "    confusion_matrix, classification_report, roc_auc_score, roc_curve\n",
        ")\n",
        "import itertools\n",
        "from itertools import permutations\n",
        "from transformers import (\n",
        "    AutoTokenizer,\n",
        "    AutoModel,\n",
        "    AutoModelForSequenceClassification,\n",
        "    Trainer,\n",
        "    TrainingArguments,\n",
        "    EarlyStoppingCallback\n",
        ")\n",
        "import os\n",
        "os.environ[\"WANDB_DISABLED\"] = \"true\"\n",
        "\n",
        "print(\"라이브러리 import 완료\")"
      ]
    },
    {
      "cell_type": "code",
      "source": [
        "# 환경 확인\n",
        "print(f\"PyTorch 버전: {torch.__version__}\")\n",
        "print(f\"CUDA 사용 가능: {torch.cuda.is_available()}\")\n",
        "if torch.cuda.is_available():\n",
        "    print(f\"CUDA 디바이스: {torch.cuda.get_device_name(0)}\")"
      ],
      "metadata": {
        "colab": {
          "base_uri": "https://localhost:8080/"
        },
        "id": "fB1etbRwEZOq",
        "outputId": "eff71521-4fb8-4489-8634-0cecf0fb3ae3"
      },
      "execution_count": 2,
      "outputs": [
        {
          "output_type": "stream",
          "name": "stdout",
          "text": [
            "PyTorch 버전: 2.6.0+cu124\n",
            "CUDA 사용 가능: True\n",
            "CUDA 디바이스: Tesla T4\n"
          ]
        }
      ]
    },
    {
      "cell_type": "code",
      "source": [
        "# Google Drive 마운트\n",
        "from google.colab import drive\n",
        "drive.mount('/content/drive')"
      ],
      "metadata": {
        "colab": {
          "base_uri": "https://localhost:8080/"
        },
        "id": "350SbU3YEcjH",
        "outputId": "66e53b06-08eb-4594-84c5-86a68be0b8f5"
      },
      "execution_count": 3,
      "outputs": [
        {
          "output_type": "stream",
          "name": "stdout",
          "text": [
            "Mounted at /content/drive\n"
          ]
        }
      ]
    },
    {
      "cell_type": "code",
      "source": [
        "# 데이터 로드\n",
        "train = pd.read_csv('/content/drive/MyDrive/data/daycon_sentence/train.csv')\n",
        "test = pd.read_csv('/content/drive/MyDrive/data/daycon_sentence/test.csv')\n",
        "submission = pd.read_csv('/content/drive/MyDrive/data/daycon_sentence/sample_submission.csv')"
      ],
      "metadata": {
        "id": "a9yKGS1wEeQe"
      },
      "execution_count": 4,
      "outputs": []
    },
    {
      "cell_type": "code",
      "source": [
        "# 실험용 데이터 크기 설정 (무료 GPU 실험용)\n",
        "TRAIN_SAMPLE_SIZE = 2000  # 학습 데이터 제한\n",
        "TEST_SAMPLE_SIZE = 1000   # 테스트 데이터 제한\n",
        "\n",
        "# 데이터 제한\n",
        "train = train.head(TRAIN_SAMPLE_SIZE).copy()\n",
        "test = test.head(TEST_SAMPLE_SIZE).copy()\n",
        "submission = submission.head(TEST_SAMPLE_SIZE).copy()\n",
        "\n",
        "print(\"=== 데이터 로드 완료 ===\")\n",
        "print(f\"Train 데이터: {len(train)} 샘플 (제한됨)\")\n",
        "print(f\"Test 데이터: {len(test)} 샘플 (제한됨)\")\n",
        "print(f\"Submission 형식: {submission.shape}\")\n",
        "print(f\"⚠️ Train 데이터를 {TRAIN_SAMPLE_SIZE}개로 제한했습니다 (무료 GPU 실험용)\")\n",
        "print(f\"⚠️ Test 데이터를 {TEST_SAMPLE_SIZE}개로 제한했습니다 (무료 GPU 실험용)\")"
      ],
      "metadata": {
        "colab": {
          "base_uri": "https://localhost:8080/"
        },
        "id": "To06uYztMtpn",
        "outputId": "ccf27d7e-0ef6-48ab-e14f-5943e233779b"
      },
      "execution_count": 5,
      "outputs": [
        {
          "output_type": "stream",
          "name": "stdout",
          "text": [
            "=== 데이터 로드 완료 ===\n",
            "Train 데이터: 2000 샘플 (제한됨)\n",
            "Test 데이터: 1000 샘플 (제한됨)\n",
            "Submission 형식: (1000, 5)\n",
            "⚠️ Train 데이터를 2000개로 제한했습니다 (무료 GPU 실험용)\n",
            "⚠️ Test 데이터를 1000개로 제한했습니다 (무료 GPU 실험용)\n"
          ]
        }
      ]
    },
    {
      "cell_type": "code",
      "source": [
        "# 데이터 기본 정보 확인\n",
        "print(\"=== Train 데이터 정보 ===\")\n",
        "train.info()\n",
        "print(\"\\n=== Test 데이터 정보 ===\")\n",
        "test.info()\n",
        "print(\"\\n=== Submission 형식 ===\")\n",
        "submission.info()"
      ],
      "metadata": {
        "colab": {
          "base_uri": "https://localhost:8080/"
        },
        "id": "6GBEv9O5GlVh",
        "outputId": "feebe007-dedd-4923-e95d-536892f6fc3e"
      },
      "execution_count": 6,
      "outputs": [
        {
          "output_type": "stream",
          "name": "stdout",
          "text": [
            "=== Train 데이터 정보 ===\n",
            "<class 'pandas.core.frame.DataFrame'>\n",
            "RangeIndex: 2000 entries, 0 to 1999\n",
            "Data columns (total 9 columns):\n",
            " #   Column      Non-Null Count  Dtype \n",
            "---  ------      --------------  ----- \n",
            " 0   ID          2000 non-null   object\n",
            " 1   sentence_0  2000 non-null   object\n",
            " 2   sentence_1  2000 non-null   object\n",
            " 3   sentence_2  2000 non-null   object\n",
            " 4   sentence_3  2000 non-null   object\n",
            " 5   answer_0    2000 non-null   int64 \n",
            " 6   answer_1    2000 non-null   int64 \n",
            " 7   answer_2    2000 non-null   int64 \n",
            " 8   answer_3    2000 non-null   int64 \n",
            "dtypes: int64(4), object(5)\n",
            "memory usage: 140.8+ KB\n",
            "\n",
            "=== Test 데이터 정보 ===\n",
            "<class 'pandas.core.frame.DataFrame'>\n",
            "RangeIndex: 1000 entries, 0 to 999\n",
            "Data columns (total 5 columns):\n",
            " #   Column      Non-Null Count  Dtype \n",
            "---  ------      --------------  ----- \n",
            " 0   ID          1000 non-null   object\n",
            " 1   sentence_0  1000 non-null   object\n",
            " 2   sentence_1  1000 non-null   object\n",
            " 3   sentence_2  1000 non-null   object\n",
            " 4   sentence_3  1000 non-null   object\n",
            "dtypes: object(5)\n",
            "memory usage: 39.2+ KB\n",
            "\n",
            "=== Submission 형식 ===\n",
            "<class 'pandas.core.frame.DataFrame'>\n",
            "RangeIndex: 1000 entries, 0 to 999\n",
            "Data columns (total 5 columns):\n",
            " #   Column    Non-Null Count  Dtype \n",
            "---  ------    --------------  ----- \n",
            " 0   ID        1000 non-null   object\n",
            " 1   answer_0  1000 non-null   int64 \n",
            " 2   answer_1  1000 non-null   int64 \n",
            " 3   answer_2  1000 non-null   int64 \n",
            " 4   answer_3  1000 non-null   int64 \n",
            "dtypes: int64(4), object(1)\n",
            "memory usage: 39.2+ KB\n"
          ]
        }
      ]
    },
    {
      "cell_type": "code",
      "source": [
        "# 텍스트 정제 함수\n",
        "def clean_text(text):\n",
        "    # 특수문자 제거\n",
        "    text = re.sub(r'[^\\w\\s]', '', text)\n",
        "    # 소문자 변환: 한글에는 무의미\n",
        "    text = text.lower()\n",
        "    # 불필요한 공백 제거\n",
        "    text = ' '.join(text.split())\n",
        "    return text"
      ],
      "metadata": {
        "id": "3XGMfIAmGoL3"
      },
      "execution_count": 7,
      "outputs": []
    },
    {
      "cell_type": "code",
      "source": [
        "# 텍스트 정제 적용\n",
        "for i in range(4):\n",
        "    train[f'sentence_{i}'] = train[f'sentence_{i}'].apply(clean_text)\n",
        "    test[f'sentence_{i}'] = test[f'sentence_{i}'].apply(clean_text)\n",
        "\n",
        "print(\"텍스트 정제 완료\")\n",
        "print(f\"정제 전후 비교:\")\n",
        "print(f\"정제 전: {train['sentence_0'].iloc[0]}\")\n",
        "print(f\"정제 후: {train['sentence_0'].iloc[0]}\")"
      ],
      "metadata": {
        "colab": {
          "base_uri": "https://localhost:8080/"
        },
        "id": "DCc_gQWTGriH",
        "outputId": "6bc61372-302e-4297-d6d8-de4296f99234"
      },
      "execution_count": 8,
      "outputs": [
        {
          "output_type": "stream",
          "name": "stdout",
          "text": [
            "텍스트 정제 완료\n",
            "정제 전후 비교:\n",
            "정제 전: 블록체인 기술은 투표 과정의 투명성을 크게 향상시킬 수 있다\n",
            "정제 후: 블록체인 기술은 투표 과정의 투명성을 크게 향상시킬 수 있다\n"
          ]
        }
      ]
    },
    {
      "cell_type": "code",
      "source": [
        "## ✅ Pairwise 전처리 함수\n",
        "def preprocess_pairwise(df):\n",
        "    \"\"\"\n",
        "    문장들을 pairwise 형태로 변환\n",
        "    각 문장 쌍에 대해 올바른 순서인지 여부를 레이블링\n",
        "    \"\"\"\n",
        "    data = []\n",
        "    for _, row in df.iterrows():\n",
        "        sentences = [row[f'sentence_{i}'] for i in range(4)]\n",
        "        answer = [row[f'answer_{i}'] for i in range(4)]\n",
        "\n",
        "        # 올바른 순서로 정렬된 문장들\n",
        "        ordered = [sentences[i] for i in answer]\n",
        "\n",
        "        # 올바른 순서의 쌍들 (연속된 3개 쌍)\n",
        "        positive_pairs = [(ordered[i], ordered[i+1]) for i in range(3)]\n",
        "\n",
        "        # 모든 가능한 쌍들 (6개)\n",
        "        all_pairs = list(itertools.permutations(sentences, 2))\n",
        "\n",
        "        # 각 쌍에 대해 레이블링\n",
        "        for s1, s2 in all_pairs:\n",
        "            label = 1 if (s1, s2) in positive_pairs else 0\n",
        "            data.append({'sentence1': s1, 'sentence2': s2, 'label': label})\n",
        "\n",
        "    return pd.DataFrame(data)"
      ],
      "metadata": {
        "id": "ba0ZNO50GvUd"
      },
      "execution_count": 9,
      "outputs": []
    },
    {
      "cell_type": "code",
      "source": [
        "# Pairwise 데이터 생성\n",
        "pairwise_df = preprocess_pairwise(train)\n",
        "\n",
        "print(\"=== Pairwise 데이터 정보 ===\")\n",
        "pairwise_df.info()\n",
        "print(f\"총 pairwise 샘플 수: {len(pairwise_df)}\")\n",
        "print(f\"원본 train 샘플 수: {len(train)}\")\n",
        "print(f\"pairwise 변환 비율: {len(pairwise_df)/len(train):.1f}배 (각 원본 샘플당 6개 쌍)\")\n",
        "\n",
        "# 클래스 불균형 확인\n",
        "num_zeros = pairwise_df['label'].value_counts()[0]\n",
        "num_ones = pairwise_df['label'].value_counts()[1]\n",
        "print(f\"\\n클래스 0 (잘못된 순서): {num_zeros}개\")\n",
        "print(f\"클래스 1 (올바른 순서): {num_ones}개\")\n",
        "print(f\"불균형 비율: {num_zeros/num_ones:.2f}:1\")\n",
        "\n",
        "# 클래스 불균형 해결을 위한 가중치 계산\n",
        "total = num_zeros + num_ones\n",
        "weight_for_0 = total / (2 * num_zeros)\n",
        "weight_for_1 = total / (2 * num_ones)\n",
        "\n",
        "class_weights = torch.tensor([weight_for_0, weight_for_1], dtype=torch.float)\n",
        "print(\"=== 클래스 가중치 ===\")\n",
        "print(f\"클래스 0 가중치: {weight_for_0:.4f}\")\n",
        "print(f\"클래스 1 가중치: {weight_for_1:.4f}\")\n",
        "print(f\"가중치 비율: {weight_for_1/weight_for_0:.2f}:1\")\n"
      ],
      "metadata": {
        "colab": {
          "base_uri": "https://localhost:8080/"
        },
        "id": "f5TUlw5bGyMB",
        "outputId": "9db7f9aa-df32-4e68-d509-19b373f4d126"
      },
      "execution_count": 10,
      "outputs": [
        {
          "output_type": "stream",
          "name": "stdout",
          "text": [
            "=== Pairwise 데이터 정보 ===\n",
            "<class 'pandas.core.frame.DataFrame'>\n",
            "RangeIndex: 24000 entries, 0 to 23999\n",
            "Data columns (total 3 columns):\n",
            " #   Column     Non-Null Count  Dtype \n",
            "---  ------     --------------  ----- \n",
            " 0   sentence1  24000 non-null  object\n",
            " 1   sentence2  24000 non-null  object\n",
            " 2   label      24000 non-null  int64 \n",
            "dtypes: int64(1), object(2)\n",
            "memory usage: 562.6+ KB\n",
            "총 pairwise 샘플 수: 24000\n",
            "원본 train 샘플 수: 2000\n",
            "pairwise 변환 비율: 12.0배 (각 원본 샘플당 6개 쌍)\n",
            "\n",
            "클래스 0 (잘못된 순서): 18000개\n",
            "클래스 1 (올바른 순서): 6000개\n",
            "불균형 비율: 3.00:1\n",
            "=== 클래스 가중치 ===\n",
            "클래스 0 가중치: 0.6667\n",
            "클래스 1 가중치: 2.0000\n",
            "가중치 비율: 3.00:1\n"
          ]
        }
      ]
    },
    {
      "cell_type": "code",
      "source": [
        "# 2. 데이터셋 구성\n",
        "MAX_TOKEN_LENGTH = 128\n",
        "\n",
        "# 데이터셋 클래스 정의\n",
        "class SentencePairDataset(Dataset):\n",
        "    \"\"\"\n",
        "    문장 쌍을 받아 BERT 입력 형식으로 변환하는 PyTorch Dataset 클래스\n",
        "    \"\"\"\n",
        "    def __init__(self, dataframe, tokenizer, max_length=MAX_TOKEN_LENGTH):\n",
        "        self.data = dataframe\n",
        "        self.tokenizer = tokenizer\n",
        "        self.max_length = max_length\n",
        "\n",
        "    def __len__(self):\n",
        "        return len(self.data)\n",
        "\n",
        "    def __getitem__(self, idx):\n",
        "        row = self.data.iloc[idx]\n",
        "        encoding = self.tokenizer(\n",
        "            row['sentence1'],\n",
        "            row['sentence2'],\n",
        "            padding='max_length',\n",
        "            truncation=True,\n",
        "            max_length=self.max_length,\n",
        "            return_tensors='pt'\n",
        "        )\n",
        "\n",
        "        item = {\n",
        "            'input_ids': encoding['input_ids'][0],\n",
        "            'attention_mask': encoding['attention_mask'][0],\n",
        "            'labels': torch.tensor(row['label'], dtype=torch.long)\n",
        "        }\n",
        "\n",
        "        if 'token_type_ids' in encoding:\n",
        "            item['token_type_ids'] = encoding['token_type_ids'][0]\n",
        "\n",
        "        return item"
      ],
      "metadata": {
        "id": "TfAEGmu2G-jk"
      },
      "execution_count": 11,
      "outputs": []
    },
    {
      "cell_type": "code",
      "source": [
        "# 3. 모델 아키텍처 (KLUE-BERT)\n",
        "class SentencePairModel(nn.Module):\n",
        "    def __init__(self, model_name, num_labels=2, class_weights=None):\n",
        "        super(SentencePairModel, self).__init__()\n",
        "        self.bert = AutoModel.from_pretrained(model_name)\n",
        "        self.dropout = nn.Dropout(0.1)\n",
        "        self.classifier = nn.Linear(self.bert.config.hidden_size, num_labels)\n",
        "\n",
        "        # 클래스 가중치 적용\n",
        "        if class_weights is not None:\n",
        "            self.loss_fn = nn.CrossEntropyLoss(weight=class_weights)\n",
        "        else:\n",
        "            self.loss_fn = nn.CrossEntropyLoss()\n",
        "\n",
        "    def forward(self, input_ids, attention_mask=None, token_type_ids=None, labels=None):\n",
        "        outputs = self.bert(\n",
        "            input_ids=input_ids,\n",
        "            attention_mask=attention_mask,\n",
        "            token_type_ids=token_type_ids,\n",
        "            output_hidden_states=True,\n",
        "            return_dict=True\n",
        "        )\n",
        "\n",
        "        # 마지막 4개 hidden layer 평균 (성능 향상)\n",
        "        hidden_states = outputs.hidden_states\n",
        "        last_four = torch.stack(hidden_states[-4:])\n",
        "        avg_hidden = torch.mean(last_four, dim=0)\n",
        "        cls_output = avg_hidden[:, 0]\n",
        "\n",
        "        cls_output = self.dropout(cls_output)\n",
        "        logits = self.classifier(cls_output)\n",
        "\n",
        "        loss = None\n",
        "        if labels is not None:\n",
        "            loss = self.loss_fn(logits, labels)\n",
        "\n",
        "        return {'loss': loss, 'logits': logits}\n"
      ],
      "metadata": {
        "id": "2_lGVj2uHDTE"
      },
      "execution_count": 12,
      "outputs": []
    },
    {
      "cell_type": "code",
      "source": [
        "# 4. 학습 설정\n",
        "# KLUE-BERT 토크나이저 초기화\n",
        "tokenizer = AutoTokenizer.from_pretrained('klue/bert-base')\n",
        "\n",
        "# 데이터 분할: 학습/검증 (8:2)\n",
        "train_df, val_df = train_test_split(\n",
        "    pairwise_df,\n",
        "    test_size=0.2,\n",
        "    stratify=pairwise_df['label'],\n",
        "    random_state=42\n",
        ")"
      ],
      "metadata": {
        "id": "DAvZ5zIMHL6J",
        "colab": {
          "base_uri": "https://localhost:8080/",
          "height": 304,
          "referenced_widgets": [
            "9a07a2a5665c49d4b5e35f066555dee6",
            "c3076f0f3f5f484bad8da42c36089d49",
            "88d7c37cb7134f53a5df7a8058209252",
            "b979d30a2ea448e8911e3ec6134b551f",
            "bbfe9debbec04516a37eec279d516b24",
            "65adcde258444d5aa764b5ad59987746",
            "5601291a4978496f876d8670b35bef58",
            "7e5aafdf51d8431db31f2df5d81bda40",
            "be09a390527043ccb7dd044b962f754d",
            "2d2e99619e144a96a20bcd8f7911da05",
            "c677ac5ac5c043c6a1627078f3fbbe3c",
            "4a27188d566142d882e37cc49db0f8a9",
            "8611bca097e343c2b1fcf27539fcd0ac",
            "37f90d3fb239483aafab47b7fd4cfe49",
            "7615e48dfdc54f359137cc7e3169eb12",
            "db3b4b2a68ec423c9046a3d63b808c29",
            "9ec88b885aad46e1888432869eca28e2",
            "fb79af93910147e79bd11b1cd9f99469",
            "ffeedf1d6fb543e591eaa763bd94cbfe",
            "28eb495b418046d48343007ec740ebf0",
            "c673315efd4240bead9a093f3b20d0c6",
            "d5747d1f3413484eaf4307c1bb9ae451",
            "05bf64b24ec942fdacccb221d0c37db0",
            "a21a488d96394819be1cb7c2adf74123",
            "08ef69dd79814de88cb0d902640e0442",
            "2cc0f3249b6444329617b92025d7973f",
            "110f0f329ce34ad5a8cecbec3e2acb63",
            "6477d26de0824f2cb89f1ec84c9d6e95",
            "6154a75e8768458ca321acab9538dd32",
            "a0ceca02184145c6a6982dad611ce0d6",
            "c1ba3ad2243e4961ac6d780cd17bdd43",
            "a985a5e6d1a24d209e67b90a31b38e6a",
            "3366f42e5394473d98641ef2c55e4722",
            "7dd221e41d7e4fa28a00323b3e179dee",
            "25f7e12857284b43afa403efc476ba51",
            "5f91b9b246634be6b8492f4478e92e38",
            "b9e1d736d75144dda3ea625e55c4688f",
            "0c13c607bcd94d3a86c7f973fbc051e6",
            "a688f37c89e148e18ec01e39909233b2",
            "7f707c98ed104806b9ec60cfff25f551",
            "ef3cb946c37140f9a6fa5bc3df40c206",
            "c70e9209db374315b98d8d170dbd8fcd",
            "0ced75481f2642dcb8410071db5006ac",
            "4c4ed2c5777544339ba00d6499523feb",
            "eb1e05afc6fc48ea9205bc73629a7252",
            "150043f69afb43aa9c0f4b998fe6b0fe",
            "a2e0c17e5ede4ae7a9d123605f310bba",
            "6ac9f56f8f014fff8e4d4141ae5d25af",
            "710e8e6d204d4e8ebb1a8c61c3a7980a",
            "ad1be78aa90a46688d2618f38db911a5",
            "42f3aea3a4af462aafb7ce2ee9302f54",
            "d70dfab1d19742fdb993e3f84e16382d",
            "f26fb45a9480422a9beb29199e6e422b",
            "37e599be829e4457a4130d2e4ee88798",
            "01247d5bb0be46a59ddf09a6073144db"
          ]
        },
        "outputId": "4d9cb392-f6e9-49d4-dc22-37f84a338335"
      },
      "execution_count": 13,
      "outputs": [
        {
          "output_type": "stream",
          "name": "stderr",
          "text": [
            "/usr/local/lib/python3.11/dist-packages/huggingface_hub/utils/_auth.py:94: UserWarning: \n",
            "The secret `HF_TOKEN` does not exist in your Colab secrets.\n",
            "To authenticate with the Hugging Face Hub, create a token in your settings tab (https://huggingface.co/settings/tokens), set it as secret in your Google Colab and restart your session.\n",
            "You will be able to reuse this secret in all of your notebooks.\n",
            "Please note that authentication is recommended but still optional to access public models or datasets.\n",
            "  warnings.warn(\n"
          ]
        },
        {
          "output_type": "display_data",
          "data": {
            "text/plain": [
              "tokenizer_config.json:   0%|          | 0.00/289 [00:00<?, ?B/s]"
            ],
            "application/vnd.jupyter.widget-view+json": {
              "version_major": 2,
              "version_minor": 0,
              "model_id": "9a07a2a5665c49d4b5e35f066555dee6"
            }
          },
          "metadata": {}
        },
        {
          "output_type": "display_data",
          "data": {
            "text/plain": [
              "config.json:   0%|          | 0.00/425 [00:00<?, ?B/s]"
            ],
            "application/vnd.jupyter.widget-view+json": {
              "version_major": 2,
              "version_minor": 0,
              "model_id": "4a27188d566142d882e37cc49db0f8a9"
            }
          },
          "metadata": {}
        },
        {
          "output_type": "display_data",
          "data": {
            "text/plain": [
              "vocab.txt: 0.00B [00:00, ?B/s]"
            ],
            "application/vnd.jupyter.widget-view+json": {
              "version_major": 2,
              "version_minor": 0,
              "model_id": "05bf64b24ec942fdacccb221d0c37db0"
            }
          },
          "metadata": {}
        },
        {
          "output_type": "display_data",
          "data": {
            "text/plain": [
              "tokenizer.json: 0.00B [00:00, ?B/s]"
            ],
            "application/vnd.jupyter.widget-view+json": {
              "version_major": 2,
              "version_minor": 0,
              "model_id": "7dd221e41d7e4fa28a00323b3e179dee"
            }
          },
          "metadata": {}
        },
        {
          "output_type": "display_data",
          "data": {
            "text/plain": [
              "special_tokens_map.json:   0%|          | 0.00/125 [00:00<?, ?B/s]"
            ],
            "application/vnd.jupyter.widget-view+json": {
              "version_major": 2,
              "version_minor": 0,
              "model_id": "eb1e05afc6fc48ea9205bc73629a7252"
            }
          },
          "metadata": {}
        }
      ]
    },
    {
      "cell_type": "code",
      "source": [
        "# dataset 생성\n",
        "train_dataset = SentencePairDataset(train_df, tokenizer, max_length=MAX_TOKEN_LENGTH)\n",
        "val_dataset = SentencePairDataset(val_df, tokenizer, max_length=MAX_TOKEN_LENGTH)\n",
        "\n",
        "print(f\"Train 데이터: {len(train_dataset)} 샘플\")\n",
        "print(f\"Validation 데이터: {len(val_dataset)} 샘플\")\n",
        "print(f\"Train 클래스 분포: {train_df['label'].value_counts().to_dict()}\")\n",
        "print(f\"Val 클래스 분포: {val_df['label'].value_counts().to_dict()}\")"
      ],
      "metadata": {
        "colab": {
          "base_uri": "https://localhost:8080/"
        },
        "id": "6TT_j97lHPFn",
        "outputId": "f1e0b125-4d5a-4cd6-f3a1-98944737eaba"
      },
      "execution_count": 14,
      "outputs": [
        {
          "output_type": "stream",
          "name": "stdout",
          "text": [
            "Train 데이터: 19200 샘플\n",
            "Validation 데이터: 4800 샘플\n",
            "Train 클래스 분포: {0: 14400, 1: 4800}\n",
            "Val 클래스 분포: {0: 3600, 1: 1200}\n"
          ]
        }
      ]
    },
    {
      "cell_type": "code",
      "source": [
        "# GPU 사용 여부 확인\n",
        "device = torch.device('cuda' if torch.cuda.is_available() else 'cpu')\n",
        "print(f\"사용 디바이스: {device}\")"
      ],
      "metadata": {
        "colab": {
          "base_uri": "https://localhost:8080/"
        },
        "id": "dI9VSTzcHVbB",
        "outputId": "97eb2371-65cf-47ba-bfc2-9362a7b9d2f9"
      },
      "execution_count": 15,
      "outputs": [
        {
          "output_type": "stream",
          "name": "stdout",
          "text": [
            "사용 디바이스: cuda\n"
          ]
        }
      ]
    },
    {
      "cell_type": "code",
      "source": [
        "# 클래스 가중치를 디바이스로 이동\n",
        "class_weights = class_weights.to(device)\n",
        "\n",
        "# KLUE-BERT 모델 인스턴스 생성\n",
        "model = SentencePairModel(\"klue/bert-base\", class_weights=class_weights).to(device)\n",
        "\n",
        "# 샘플 데이터로 테스트\n",
        "sample = train_dataset[0]\n",
        "print(\"\\n=== 샘플 데이터 확인 ===\")\n",
        "print(f\"Input IDs shape: {sample['input_ids'].shape}\")\n",
        "print(f\"Attention Mask shape: {sample['attention_mask'].shape}\")\n",
        "print(f\"Label: {sample['labels']}\")"
      ],
      "metadata": {
        "colab": {
          "base_uri": "https://localhost:8080/",
          "height": 138,
          "referenced_widgets": [
            "c831c50252ba448c92e64826cbfbefff",
            "7dc2e1149fce423dae1179021576c74e",
            "c5fed5cad6234537969e1ab378f37aa5",
            "3ed8f7557ada4b298535b2cecf528f10",
            "ec3df7dc45c9482ab26efd286d37c330",
            "c3009f6ca53248609dd431949accc94f",
            "e69feb2a910d4d6ca94553f77678446c",
            "429be1ef5c414f91bdac7bb0a85ee213",
            "af02bb387c7c4072908397bf4811fd82",
            "7db17bce447047f2bf1cf5dd250ea522",
            "41fa0374537844f5abc07a63241afeaf"
          ]
        },
        "id": "otifZykRHYMV",
        "outputId": "3df1edf1-d9e3-4436-e9d8-23571a1eaefa"
      },
      "execution_count": 16,
      "outputs": [
        {
          "output_type": "display_data",
          "data": {
            "text/plain": [
              "model.safetensors:   0%|          | 0.00/445M [00:00<?, ?B/s]"
            ],
            "application/vnd.jupyter.widget-view+json": {
              "version_major": 2,
              "version_minor": 0,
              "model_id": "c831c50252ba448c92e64826cbfbefff"
            }
          },
          "metadata": {}
        },
        {
          "output_type": "stream",
          "name": "stdout",
          "text": [
            "\n",
            "=== 샘플 데이터 확인 ===\n",
            "Input IDs shape: torch.Size([128])\n",
            "Attention Mask shape: torch.Size([128])\n",
            "Label: 0\n"
          ]
        }
      ]
    },
    {
      "cell_type": "code",
      "source": [
        "# 개선된 평가 지표 함수\n",
        "def compute_metrics(pred):\n",
        "    logits, labels = pred\n",
        "    preds = logits.argmax(axis=1)\n",
        "    probs = torch.softmax(torch.tensor(logits), dim=1)\n",
        "\n",
        "    # 기본 지표\n",
        "    accuracy = accuracy_score(labels, preds)\n",
        "    f1 = f1_score(labels, preds, zero_division=0)\n",
        "    precision = precision_score(labels, preds, zero_division=0)\n",
        "    recall = recall_score(labels, preds, zero_division=0)\n",
        "\n",
        "    # ROC-AUC (positive class 확률 사용)\n",
        "    try:\n",
        "        auc = roc_auc_score(labels, probs[:, 1])\n",
        "    except:\n",
        "        auc = 0.0\n",
        "\n",
        "    return {\n",
        "        'accuracy': accuracy,\n",
        "        'f1': f1,\n",
        "        'precision': precision,\n",
        "        'recall': recall,\n",
        "        'auc': auc\n",
        "    }"
      ],
      "metadata": {
        "id": "oGawY2V0HbO0"
      },
      "execution_count": 17,
      "outputs": []
    },
    {
      "cell_type": "code",
      "source": [
        "# 문장 순서 예측을 위한 추가 평가 지표들\n",
        "def compute_order_metrics(predictions, labels, original_data):\n",
        "    \"\"\"\n",
        "    문장 순서 예측을 위한 다양한 평가 지표 계산\n",
        "\n",
        "    Args:\n",
        "        predictions: 모델 예측 결과 (pairwise)\n",
        "        labels: 실제 레이블 (pairwise)\n",
        "        original_data: 원본 데이터 (4개 문장씩)\n",
        "    \"\"\"\n",
        "    metrics = {}\n",
        "\n",
        "    # 1. Sentence Accuracy (각 문장 쌍의 정확도)\n",
        "    sentence_accuracy = accuracy_score(labels, predictions)\n",
        "    metrics['sentence_accuracy'] = sentence_accuracy\n",
        "\n",
        "    # 2. Full Order Accuracy (전체 순서가 정확한 비율)\n",
        "    # 원본 데이터를 4개씩 그룹화하여 전체 순서 정확도 계산\n",
        "    full_order_correct = 0\n",
        "    total_groups = len(original_data) // 6  # 6개 쌍씩 그룹화\n",
        "\n",
        "    for i in range(total_groups):\n",
        "        start_idx = i * 6\n",
        "        end_idx = start_idx + 6\n",
        "\n",
        "        group_preds = predictions[start_idx:end_idx]\n",
        "        group_labels = labels[start_idx:end_idx]\n",
        "\n",
        "        # 4개 문장의 순서를 복원\n",
        "        pred_order = reconstruct_order_from_pairs(group_preds)\n",
        "        true_order = reconstruct_order_from_pairs(group_labels)\n",
        "\n",
        "        if np.array_equal(pred_order, true_order):\n",
        "            full_order_correct += 1\n",
        "\n",
        "    full_order_accuracy = full_order_correct / total_groups\n",
        "    metrics['full_order_accuracy'] = full_order_accuracy\n",
        "\n",
        "    # 3. Kendall's Tau (순서 상관관계)\n",
        "    kendall_taus = []\n",
        "    for i in range(total_groups):\n",
        "        start_idx = i * 6\n",
        "        end_idx = start_idx + 6\n",
        "\n",
        "        group_preds = predictions[start_idx:end_idx]\n",
        "        group_labels = labels[start_idx:end_idx]\n",
        "\n",
        "        pred_order = reconstruct_order_from_pairs(group_preds)\n",
        "        true_order = reconstruct_order_from_pairs(group_labels)\n",
        "\n",
        "        tau = calculate_kendall_tau(pred_order, true_order)\n",
        "        kendall_taus.append(tau)\n",
        "\n",
        "    avg_kendall_tau = np.mean(kendall_taus)\n",
        "    metrics['kendall_tau'] = avg_kendall_tau\n",
        "\n",
        "    # 4. Spearman's Rho (순위 상관관계)\n",
        "    spearman_rhos = []\n",
        "    for i in range(total_groups):\n",
        "        start_idx = i * 6\n",
        "        end_idx = start_idx + 6\n",
        "\n",
        "        group_preds = predictions[start_idx:end_idx]\n",
        "        group_labels = labels[start_idx:end_idx]\n",
        "\n",
        "        pred_order = reconstruct_order_from_pairs(group_preds)\n",
        "        true_order = reconstruct_order_from_pairs(group_labels)\n",
        "\n",
        "        rho = calculate_spearman_rho(pred_order, true_order)\n",
        "        spearman_rhos.append(rho)\n",
        "\n",
        "    avg_spearman_rho = np.mean(spearman_rhos)\n",
        "    metrics['spearman_rho'] = avg_spearman_rho\n",
        "\n",
        "    # 5. Position-wise Accuracy (각 위치별 정확도)\n",
        "    position_accuracies = []\n",
        "    for pos in range(4):\n",
        "        correct_pos = 0\n",
        "        total_pos = 0\n",
        "\n",
        "        for i in range(total_groups):\n",
        "            start_idx = i * 6\n",
        "            end_idx = start_idx + 6\n",
        "\n",
        "            group_preds = predictions[start_idx:end_idx]\n",
        "            group_labels = labels[start_idx:end_idx]\n",
        "\n",
        "            pred_order = reconstruct_order_from_pairs(group_preds)\n",
        "            true_order = reconstruct_order_from_pairs(group_labels)\n",
        "\n",
        "            if pred_order[pos] == true_order[pos]:\n",
        "                correct_pos += 1\n",
        "            total_pos += 1\n",
        "\n",
        "        pos_accuracy = correct_pos / total_pos\n",
        "        position_accuracies.append(pos_accuracy)\n",
        "\n",
        "    metrics['position_accuracy'] = position_accuracies\n",
        "\n",
        "    # 6. Adjacent Pair Accuracy (인접 쌍 정확도)\n",
        "    adjacent_correct = 0\n",
        "    total_adjacent = 0\n",
        "\n",
        "    for i in range(0, len(predictions), 6):\n",
        "        group_preds = predictions[i:i+6]\n",
        "        group_labels = labels[i:i+6]\n",
        "\n",
        "        # 인접 쌍만 추출 (0-1, 1-2, 2-3)\n",
        "        adjacent_preds = [group_preds[0], group_preds[2], group_preds[4]]  # 인덱스 확인 필요\n",
        "        adjacent_labels = [group_labels[0], group_labels[2], group_labels[4]]\n",
        "\n",
        "        for pred, label in zip(adjacent_preds, adjacent_labels):\n",
        "            if pred == label:\n",
        "                adjacent_correct += 1\n",
        "            total_adjacent += 1\n",
        "\n",
        "    adjacent_accuracy = adjacent_correct / total_adjacent\n",
        "    metrics['adjacent_pair_accuracy'] = adjacent_accuracy\n",
        "\n",
        "    # 7. Long-range Pair Accuracy (원거리 쌍 정확도)\n",
        "    long_range_correct = 0\n",
        "    total_long_range = 0\n",
        "\n",
        "    for i in range(0, len(predictions), 6):\n",
        "        group_preds = predictions[i:i+6]\n",
        "        group_labels = labels[i:i+6]\n",
        "\n",
        "        # 원거리 쌍 추출 (0-2, 0-3, 1-3)\n",
        "        long_range_preds = [group_preds[1], group_preds[3], group_preds[5]]  # 인덱스 확인 필요\n",
        "        long_range_labels = [group_labels[1], group_labels[3], group_labels[5]]\n",
        "\n",
        "        for pred, label in zip(long_range_preds, long_range_labels):\n",
        "            if pred == label:\n",
        "                long_range_correct += 1\n",
        "            total_long_range += 1\n",
        "\n",
        "    long_range_accuracy = long_range_correct / total_long_range\n",
        "    metrics['long_range_pair_accuracy'] = long_range_accuracy\n",
        "\n",
        "    return metrics\n"
      ],
      "metadata": {
        "id": "mI6ChGvvHeM4"
      },
      "execution_count": 18,
      "outputs": []
    },
    {
      "cell_type": "code",
      "source": [
        "def reconstruct_order_from_pairs(pair_predictions):\n",
        "    \"\"\"\n",
        "    pairwise 예측 결과로부터 전체 순서를 복원\n",
        "    \"\"\"\n",
        "    # 6개 쌍의 예측을 4개 문장의 순서로 변환\n",
        "    # (0,1), (0,2), (0,3), (1,2), (1,3), (2,3) 순서로 가정\n",
        "    scores = np.zeros(4)\n",
        "\n",
        "    # 각 문장의 점수 계산\n",
        "    # (0,1): 0이 1보다 앞에 있으면 0에 +1, 1에 -1\n",
        "    if pair_predictions[0] == 1:  # 0이 1보다 앞\n",
        "        scores[0] += 1\n",
        "        scores[1] -= 1\n",
        "    else:  # 1이 0보다 앞\n",
        "        scores[1] += 1\n",
        "        scores[0] -= 1\n",
        "\n",
        "    if pair_predictions[1] == 1:  # 0이 2보다 앞\n",
        "        scores[0] += 1\n",
        "        scores[2] -= 1\n",
        "    else:\n",
        "        scores[2] += 1\n",
        "        scores[0] -= 1\n",
        "\n",
        "    if pair_predictions[2] == 1:  # 0이 3보다 앞\n",
        "        scores[0] += 1\n",
        "        scores[3] -= 1\n",
        "    else:\n",
        "        scores[3] += 1\n",
        "        scores[0] -= 1\n",
        "\n",
        "    if pair_predictions[3] == 1:  # 1이 2보다 앞\n",
        "        scores[1] += 1\n",
        "        scores[2] -= 1\n",
        "    else:\n",
        "        scores[2] += 1\n",
        "        scores[1] -= 1\n",
        "\n",
        "    if pair_predictions[4] == 1:  # 1이 3보다 앞\n",
        "        scores[1] += 1\n",
        "        scores[3] -= 1\n",
        "    else:\n",
        "        scores[3] += 1\n",
        "        scores[1] -= 1\n",
        "\n",
        "    if pair_predictions[5] == 1:  # 2가 3보다 앞\n",
        "        scores[2] += 1\n",
        "        scores[3] -= 1\n",
        "    else:\n",
        "        scores[3] += 1\n",
        "        scores[2] -= 1\n",
        "\n",
        "    # 점수 기반으로 순서 결정\n",
        "    return np.argsort(scores)[::-1].tolist()  # 리스트로 변환하여 반환\n"
      ],
      "metadata": {
        "id": "NNJ995FaKbN6"
      },
      "execution_count": 19,
      "outputs": []
    },
    {
      "cell_type": "code",
      "source": [
        "def calculate_kendall_tau(pred_order, true_order):\n",
        "    \"\"\"\n",
        "    Kendall's Tau 계산\n",
        "    \"\"\"\n",
        "    # 리스트를 numpy 배열로 변환\n",
        "    pred_order = np.array(pred_order)\n",
        "    true_order = np.array(true_order)\n",
        "\n",
        "    n = len(pred_order)\n",
        "    concordant = 0\n",
        "    discordant = 0\n",
        "\n",
        "    for i in range(n):\n",
        "        for j in range(i+1, n):\n",
        "            pred_diff = pred_order[i] - pred_order[j]\n",
        "            true_diff = true_order[i] - true_order[j]\n",
        "\n",
        "            if (pred_diff * true_diff) > 0:\n",
        "                concordant += 1\n",
        "            elif (pred_diff * true_diff) < 0:\n",
        "                discordant += 1\n",
        "\n",
        "    if concordant + discordant == 0:\n",
        "        return 0.0\n",
        "\n",
        "    tau = (concordant - discordant) / (concordant + discordant)\n",
        "    return tau"
      ],
      "metadata": {
        "id": "LKUjLPOQKkG9"
      },
      "execution_count": 20,
      "outputs": []
    },
    {
      "cell_type": "code",
      "source": [
        "def calculate_spearman_rho(pred_order, true_order):\n",
        "    \"\"\"\n",
        "    Spearman's Rho 계산\n",
        "    \"\"\"\n",
        "    from scipy.stats import spearmanr\n",
        "    try:\n",
        "        # 리스트를 numpy 배열로 변환\n",
        "        pred_order = np.array(pred_order)\n",
        "        true_order = np.array(true_order)\n",
        "\n",
        "        rho, _ = spearmanr(pred_order, true_order)\n",
        "        return rho if not np.isnan(rho) else 0.0\n",
        "    except:\n",
        "        return 0.0"
      ],
      "metadata": {
        "id": "fytz3QBzKmk1"
      },
      "execution_count": 21,
      "outputs": []
    },
    {
      "cell_type": "code",
      "source": [
        "# 학습 인자 설정 (무료 GPU 실험용 - 빠른 테스트)\n",
        "training_args = TrainingArguments(\n",
        "    output_dir='./klue_bert_results_test',\n",
        "    num_train_epochs=3,  # 에포크 수 감소\n",
        "    per_device_train_batch_size=8,  # 배치 크기 감소\n",
        "    per_device_eval_batch_size=32,  # 평가 배치 크기 감소\n",
        "    warmup_steps=100,  # 워밍업 스텝 감소\n",
        "    weight_decay=0.01,\n",
        "    logging_dir='./klue_bert_logs_test',\n",
        "    logging_steps=50,  # 로깅 빈도 증가\n",
        "    save_strategy='epoch',\n",
        "    eval_strategy='epoch',\n",
        "    seed=42,\n",
        "    load_best_model_at_end=True,\n",
        "    metric_for_best_model='f1',\n",
        "    greater_is_better=True,\n",
        "    report_to='none'\n",
        ")\n",
        "\n",
        "# 트레이너 초기화\n",
        "trainer = Trainer(\n",
        "    model=model,\n",
        "    args=training_args,\n",
        "    train_dataset=train_dataset,\n",
        "    eval_dataset=val_dataset,\n",
        "    compute_metrics=compute_metrics,\n",
        "    callbacks=[EarlyStoppingCallback(early_stopping_patience=3)]\n",
        ")\n"
      ],
      "metadata": {
        "id": "Bee54iC_Kn1p"
      },
      "execution_count": 22,
      "outputs": []
    },
    {
      "cell_type": "code",
      "source": [
        "# 학습 실행\n",
        "print(\"KLUE-BERT 모델 학습 시작...\")\n",
        "trainer.train()"
      ],
      "metadata": {
        "colab": {
          "base_uri": "https://localhost:8080/",
          "height": 223
        },
        "id": "tRgawtEvKpCE",
        "outputId": "12b7d362-755f-4444-ff2f-858342b190ea"
      },
      "execution_count": 23,
      "outputs": [
        {
          "output_type": "stream",
          "name": "stdout",
          "text": [
            "KLUE-BERT 모델 학습 시작...\n"
          ]
        },
        {
          "output_type": "display_data",
          "data": {
            "text/plain": [
              "<IPython.core.display.HTML object>"
            ],
            "text/html": [
              "\n",
              "    <div>\n",
              "      \n",
              "      <progress value='7200' max='7200' style='width:300px; height:20px; vertical-align: middle;'></progress>\n",
              "      [7200/7200 26:52, Epoch 3/3]\n",
              "    </div>\n",
              "    <table border=\"1\" class=\"dataframe\">\n",
              "  <thead>\n",
              " <tr style=\"text-align: left;\">\n",
              "      <th>Epoch</th>\n",
              "      <th>Training Loss</th>\n",
              "      <th>Validation Loss</th>\n",
              "      <th>Accuracy</th>\n",
              "      <th>F1</th>\n",
              "      <th>Precision</th>\n",
              "      <th>Recall</th>\n",
              "      <th>Auc</th>\n",
              "    </tr>\n",
              "  </thead>\n",
              "  <tbody>\n",
              "    <tr>\n",
              "      <td>1</td>\n",
              "      <td>0.440300</td>\n",
              "      <td>0.490415</td>\n",
              "      <td>0.830833</td>\n",
              "      <td>0.651203</td>\n",
              "      <td>0.671986</td>\n",
              "      <td>0.631667</td>\n",
              "      <td>0.895138</td>\n",
              "    </tr>\n",
              "    <tr>\n",
              "      <td>2</td>\n",
              "      <td>0.387800</td>\n",
              "      <td>0.473252</td>\n",
              "      <td>0.872708</td>\n",
              "      <td>0.752130</td>\n",
              "      <td>0.732806</td>\n",
              "      <td>0.772500</td>\n",
              "      <td>0.937543</td>\n",
              "    </tr>\n",
              "    <tr>\n",
              "      <td>3</td>\n",
              "      <td>0.260500</td>\n",
              "      <td>0.740017</td>\n",
              "      <td>0.893542</td>\n",
              "      <td>0.776368</td>\n",
              "      <td>0.817512</td>\n",
              "      <td>0.739167</td>\n",
              "      <td>0.948623</td>\n",
              "    </tr>\n",
              "  </tbody>\n",
              "</table><p>"
            ]
          },
          "metadata": {}
        },
        {
          "output_type": "execute_result",
          "data": {
            "text/plain": [
              "TrainOutput(global_step=7200, training_loss=0.34735903633965387, metrics={'train_runtime': 1613.8895, 'train_samples_per_second': 35.69, 'train_steps_per_second': 4.461, 'total_flos': 0.0, 'train_loss': 0.34735903633965387, 'epoch': 3.0})"
            ]
          },
          "metadata": {},
          "execution_count": 23
        }
      ]
    },
    {
      "cell_type": "code",
      "source": [
        "# 최종 평가\n",
        "eval_results = trainer.evaluate()\n",
        "print(\"=== 최종 Validation 결과 ===\")\n",
        "for key, value in eval_results.items():\n",
        "    if key.startswith('eval_'):\n",
        "        print(f\"{key}: {value:.4f}\")"
      ],
      "metadata": {
        "colab": {
          "base_uri": "https://localhost:8080/",
          "height": 216
        },
        "id": "ALRrvB8FKuGZ",
        "outputId": "9d94f6e8-11ff-4fbe-b429-324f69f7500d"
      },
      "execution_count": 24,
      "outputs": [
        {
          "output_type": "display_data",
          "data": {
            "text/plain": [
              "<IPython.core.display.HTML object>"
            ],
            "text/html": [
              "\n",
              "    <div>\n",
              "      \n",
              "      <progress value='150' max='150' style='width:300px; height:20px; vertical-align: middle;'></progress>\n",
              "      [150/150 00:32]\n",
              "    </div>\n",
              "    "
            ]
          },
          "metadata": {}
        },
        {
          "output_type": "stream",
          "name": "stdout",
          "text": [
            "=== 최종 Validation 결과 ===\n",
            "eval_loss: 0.7400\n",
            "eval_accuracy: 0.8935\n",
            "eval_f1: 0.7764\n",
            "eval_precision: 0.8175\n",
            "eval_recall: 0.7392\n",
            "eval_auc: 0.9486\n",
            "eval_runtime: 33.0820\n",
            "eval_samples_per_second: 145.0940\n",
            "eval_steps_per_second: 4.5340\n"
          ]
        }
      ]
    },
    {
      "cell_type": "code",
      "source": [
        "# 5. 결과 분석 및 시각화\n",
        "# 예측 결과 분석\n",
        "predictions = trainer.predict(val_dataset)\n",
        "preds = predictions.predictions.argmax(axis=1)\n",
        "labels = predictions.label_ids\n",
        "probs = torch.softmax(torch.tensor(predictions.predictions), dim=1)\n",
        "\n",
        "# 문장 순서 예측을 위한 추가 평가 지표 계산\n",
        "print(\"=== 문장 순서 예측 평가 지표 ===\")\n",
        "order_metrics = compute_order_metrics(preds, labels, val_df)\n",
        "\n",
        "print(f\"Sentence Accuracy: {order_metrics['sentence_accuracy']:.4f}\")\n",
        "print(f\"Full Order Accuracy: {order_metrics['full_order_accuracy']:.4f}\")\n",
        "print(f\"Kendall's Tau: {order_metrics['kendall_tau']:.4f}\")\n",
        "print(f\"Spearman's Rho: {order_metrics['spearman_rho']:.4f}\")\n",
        "print(f\"Adjacent Pair Accuracy: {order_metrics['adjacent_pair_accuracy']:.4f}\")\n",
        "print(f\"Long-range Pair Accuracy: {order_metrics['long_range_pair_accuracy']:.4f}\")\n",
        "\n",
        "print(\"\\n=== Position-wise Accuracy ===\")\n",
        "for i, acc in enumerate(order_metrics['position_accuracy']):\n",
        "    print(f\"Position {i}: {acc:.4f}\")"
      ],
      "metadata": {
        "id": "x44II0uGKzl-",
        "colab": {
          "base_uri": "https://localhost:8080/",
          "height": 249
        },
        "outputId": "5356a4c7-14e1-4c12-d495-4f7358d178af"
      },
      "execution_count": 25,
      "outputs": [
        {
          "output_type": "display_data",
          "data": {
            "text/plain": [
              "<IPython.core.display.HTML object>"
            ],
            "text/html": []
          },
          "metadata": {}
        },
        {
          "output_type": "stream",
          "name": "stdout",
          "text": [
            "=== 문장 순서 예측 평가 지표 ===\n",
            "Sentence Accuracy: 0.8935\n",
            "Full Order Accuracy: 0.6162\n",
            "Kendall's Tau: 0.7508\n",
            "Spearman's Rho: 0.7895\n",
            "Adjacent Pair Accuracy: 0.8912\n",
            "Long-range Pair Accuracy: 0.8958\n",
            "\n",
            "=== Position-wise Accuracy ===\n",
            "Position 0: 0.8250\n",
            "Position 1: 0.7013\n",
            "Position 2: 0.7000\n",
            "Position 3: 0.8350\n"
          ]
        }
      ]
    },
    {
      "cell_type": "code",
      "source": [
        "# 평가 지표 시각화\n",
        "plt.figure(figsize=(15, 10))\n",
        "\n",
        "# 1. 기본 분류 지표\n",
        "plt.subplot(2, 3, 1)\n",
        "basic_metrics = ['accuracy', 'f1', 'precision', 'recall', 'auc']\n",
        "basic_values = [eval_results[f'eval_{m}'] for m in basic_metrics]\n",
        "plt.bar(basic_metrics, basic_values, color='skyblue')\n",
        "plt.title('Basic Classification Metrics')\n",
        "plt.ylabel('Score')\n",
        "plt.ylim(0, 1)"
      ],
      "metadata": {
        "id": "Ef7eFjceK7DT",
        "colab": {
          "base_uri": "https://localhost:8080/",
          "height": 451
        },
        "outputId": "b0e7f4fb-9836-4ca5-a565-901775a2e382"
      },
      "execution_count": 26,
      "outputs": [
        {
          "output_type": "execute_result",
          "data": {
            "text/plain": [
              "(0.0, 1.0)"
            ]
          },
          "metadata": {},
          "execution_count": 26
        },
        {
          "output_type": "display_data",
          "data": {
            "text/plain": [
              "<Figure size 1500x1000 with 1 Axes>"
            ],
            "image/png": "[encoded data removed]"
          },
          "metadata": {}
        }
      ]
    },
    {
      "cell_type": "code",
      "source": [
        "# 2. 순서 예측 지표\n",
        "plt.subplot(2, 3, 2)\n",
        "order_metric_names = ['Sentence Acc', 'Full Order Acc', 'Kendall Tau', 'Spearman Rho']\n",
        "order_metric_values = [\n",
        "    order_metrics['sentence_accuracy'],\n",
        "    order_metrics['full_order_accuracy'],\n",
        "    order_metrics['kendall_tau'],\n",
        "    order_metrics['spearman_rho']\n",
        "]\n",
        "plt.bar(order_metric_names, order_metric_values, color='lightgreen')\n",
        "plt.title('Order Prediction Metrics')\n",
        "plt.ylabel('Score')\n",
        "plt.ylim(-1, 1)"
      ],
      "metadata": {
        "id": "x7iZOk4gK7tC",
        "colab": {
          "base_uri": "https://localhost:8080/",
          "height": 269
        },
        "outputId": "1cd8fdb7-e255-4562-a042-293e5e34f16a"
      },
      "execution_count": 27,
      "outputs": [
        {
          "output_type": "execute_result",
          "data": {
            "text/plain": [
              "(-1.0, 1.0)"
            ]
          },
          "metadata": {},
          "execution_count": 27
        },
        {
          "output_type": "display_data",
          "data": {
            "text/plain": [
              "<Figure size 640x480 with 1 Axes>"
            ],
            "image/png": "[encoded data removed]"
          },
          "metadata": {}
        }
      ]
    },
    {
      "cell_type": "code",
      "source": [
        "# 3. 쌍별 정확도\n",
        "plt.subplot(2, 3, 3)\n",
        "pair_metrics = ['Adjacent', 'Long-range']\n",
        "pair_values = [\n",
        "    order_metrics['adjacent_pair_accuracy'],\n",
        "    order_metrics['long_range_pair_accuracy']\n",
        "]\n",
        "plt.bar(pair_metrics, pair_values, color='orange')\n",
        "plt.title('Pair-wise Accuracy')\n",
        "plt.ylabel('Accuracy')\n",
        "plt.ylim(0, 1)"
      ],
      "metadata": {
        "id": "d8DJB2KkK-lU",
        "colab": {
          "base_uri": "https://localhost:8080/",
          "height": 269
        },
        "outputId": "f236d01c-5eef-49dc-cbc6-f764fe2d942b"
      },
      "execution_count": 28,
      "outputs": [
        {
          "output_type": "execute_result",
          "data": {
            "text/plain": [
              "(0.0, 1.0)"
            ]
          },
          "metadata": {},
          "execution_count": 28
        },
        {
          "output_type": "display_data",
          "data": {
            "text/plain": [
              "<Figure size 640x480 with 1 Axes>"
            ],
            "image/png": "[encoded data removed]"
          },
          "metadata": {}
        }
      ]
    },
    {
      "cell_type": "code",
      "source": [
        "# 4. 위치별 정확도\n",
        "plt.subplot(2, 3, 4)\n",
        "positions = ['Pos 0', 'Pos 1', 'Pos 2', 'Pos 3']\n",
        "pos_values = order_metrics['position_accuracy']\n",
        "plt.bar(positions, pos_values, color='pink')\n",
        "plt.title('Position-wise Accuracy')\n",
        "plt.ylabel('Accuracy')\n",
        "plt.ylim(0, 1)"
      ],
      "metadata": {
        "id": "lnSMvGT5LB63",
        "colab": {
          "base_uri": "https://localhost:8080/",
          "height": 269
        },
        "outputId": "599c9f69-83b9-4502-e3aa-938f900a951a"
      },
      "execution_count": 29,
      "outputs": [
        {
          "output_type": "execute_result",
          "data": {
            "text/plain": [
              "(0.0, 1.0)"
            ]
          },
          "metadata": {},
          "execution_count": 29
        },
        {
          "output_type": "display_data",
          "data": {
            "text/plain": [
              "<Figure size 640x480 with 1 Axes>"
            ],
            "image/png": "[encoded data removed]"
          },
          "metadata": {}
        }
      ]
    },
    {
      "cell_type": "code",
      "source": [
        "# 5. Kendall's Tau 분포\n",
        "plt.subplot(2, 3, 5)\n",
        "# 실제 tau 값들을 계산하여 분포 시각화\n",
        "tau_values = []\n",
        "for i in range(0, len(preds), 6):\n",
        "    if i + 6 <= len(preds):\n",
        "        group_preds = preds[i:i+6]\n",
        "        group_labels = labels[i:i+6]\n",
        "        pred_order = reconstruct_order_from_pairs(group_preds)\n",
        "        true_order = reconstruct_order_from_pairs(group_labels)\n",
        "        tau = calculate_kendall_tau(pred_order, true_order)\n",
        "        tau_values.append(tau)\n",
        "\n",
        "plt.hist(tau_values, bins=20, alpha=0.7, color='purple')\n",
        "plt.title('Kendall\\'s Tau Distribution')\n",
        "plt.xlabel('Tau Value')\n",
        "plt.ylabel('Frequency')"
      ],
      "metadata": {
        "id": "kuJNvUuwLFAU",
        "colab": {
          "base_uri": "https://localhost:8080/",
          "height": 288
        },
        "outputId": "eec19d69-8c8b-49e5-cc35-a4e05579ccee"
      },
      "execution_count": 30,
      "outputs": [
        {
          "output_type": "execute_result",
          "data": {
            "text/plain": [
              "Text(0, 0.5, 'Frequency')"
            ]
          },
          "metadata": {},
          "execution_count": 30
        },
        {
          "output_type": "display_data",
          "data": {
            "text/plain": [
              "<Figure size 640x480 with 1 Axes>"
            ],
            "image/png": "[encoded data removed]"
          },
          "metadata": {}
        }
      ]
    },
    {
      "cell_type": "markdown",
      "source": [
        "## 전체 성능 요약"
      ],
      "metadata": {
        "id": "-9Er-8l6LMrF"
      }
    },
    {
      "cell_type": "code",
      "source": [
        "# 6. 전체 성능 요약\n",
        "plt.subplot(2, 3, 6)\n",
        "summary_metrics = ['Accuracy', 'F1', 'Full Order', 'Kendall Tau']\n",
        "summary_values = [\n",
        "    eval_results['eval_accuracy'],\n",
        "    eval_results['eval_f1'],\n",
        "    order_metrics['full_order_accuracy'],\n",
        "    order_metrics['kendall_tau']\n",
        "]\n",
        "colors = ['red', 'blue', 'green', 'purple']\n",
        "plt.bar(summary_metrics, summary_values, color=colors)\n",
        "plt.title('Overall Performance Summary')\n",
        "plt.ylabel('Score')\n",
        "plt.ylim(0, 1)\n",
        "\n",
        "plt.tight_layout()\n",
        "plt.show()"
      ],
      "metadata": {
        "id": "koJyXdkCLFfa",
        "colab": {
          "base_uri": "https://localhost:8080/",
          "height": 277
        },
        "outputId": "57a3a21b-92cd-40ef-bd6e-ca31f2f245d9"
      },
      "execution_count": 31,
      "outputs": [
        {
          "output_type": "display_data",
          "data": {
            "text/plain": [
              "<Figure size 640x480 with 1 Axes>"
            ],
            "image/png": "[encoded data removed]"
          },
          "metadata": {}
        }
      ]
    },
    {
      "cell_type": "code",
      "source": [
        "# Confusion Matrix\n",
        "cm = confusion_matrix(labels, preds)\n",
        "plt.figure(figsize=(8, 6))\n",
        "sns.heatmap(cm, annot=True, fmt='d', cmap='Blues')\n",
        "plt.title('Confusion Matrix')\n",
        "plt.ylabel('True Label')\n",
        "plt.xlabel('Predicted Label')\n",
        "plt.show()"
      ],
      "metadata": {
        "id": "MvWm-_ftLHTe",
        "colab": {
          "base_uri": "https://localhost:8080/",
          "height": 564
        },
        "outputId": "7c422324-0e08-443f-ea84-677a7fe77599"
      },
      "execution_count": 32,
      "outputs": [
        {
          "output_type": "display_data",
          "data": {
            "text/plain": [
              "<Figure size 800x600 with 2 Axes>"
            ],
            "image/png": "[encoded data removed]"
          },
          "metadata": {}
        }
      ]
    },
    {
      "cell_type": "code",
      "source": [
        "# Classification Report\n",
        "print(\"\\n=== Classification Report ===\")\n",
        "print(classification_report(labels, preds))\n",
        "\n",
        "# ROC Curve\n",
        "fpr, tpr, _ = roc_curve(labels, probs[:, 1])\n",
        "auc_score = roc_auc_score(labels, probs[:, 1])\n",
        "\n",
        "plt.figure(figsize=(8, 6))\n",
        "plt.plot(fpr, tpr, color='darkorange', lw=2, label=f'ROC curve (AUC = {auc_score:.3f})')\n",
        "plt.plot([0, 1], [0, 1], color='navy', lw=2, linestyle='--')\n",
        "plt.xlim([0.0, 1.0])\n",
        "plt.ylim([0.0, 1.05])\n",
        "plt.xlabel('False Positive Rate')\n",
        "plt.ylabel('True Positive Rate')\n",
        "plt.title('Receiver Operating Characteristic (ROC) Curve')\n",
        "plt.legend(loc=\"lower right\")\n",
        "plt.show()"
      ],
      "metadata": {
        "id": "S7VW5izhLOkK",
        "colab": {
          "base_uri": "https://localhost:8080/",
          "height": 760
        },
        "outputId": "75c415fb-f618-4474-ce0f-3794c5f4773c"
      },
      "execution_count": 33,
      "outputs": [
        {
          "output_type": "stream",
          "name": "stdout",
          "text": [
            "\n",
            "=== Classification Report ===\n",
            "              precision    recall  f1-score   support\n",
            "\n",
            "           0       0.92      0.94      0.93      3600\n",
            "           1       0.82      0.74      0.78      1200\n",
            "\n",
            "    accuracy                           0.89      4800\n",
            "   macro avg       0.87      0.84      0.85      4800\n",
            "weighted avg       0.89      0.89      0.89      4800\n",
            "\n"
          ]
        },
        {
          "output_type": "display_data",
          "data": {
            "text/plain": [
              "<Figure size 800x600 with 1 Axes>"
            ],
            "image/png": "[encoded data removed]"
          },
          "metadata": {}
        }
      ]
    },
    {
      "cell_type": "code",
      "source": [
        "# 클래스별 예측 분포 분석\n",
        "plt.figure(figsize=(12, 4))\n",
        "\n",
        "plt.subplot(1, 2, 1)\n",
        "plt.hist(probs[:, 0], bins=50, alpha=0.7, label='Class 0 (Wrong Order)', color='red')\n",
        "plt.hist(probs[:, 1], bins=50, alpha=0.7, label='Class 1 (Correct Order)', color='blue')\n",
        "plt.xlabel('Prediction Probability')\n",
        "plt.ylabel('Frequency')\n",
        "plt.title('Prediction Probability Distribution')\n",
        "plt.legend()\n",
        "\n",
        "plt.subplot(1, 2, 2)\n",
        "class_0_probs = probs[labels == 0, 1]\n",
        "class_1_probs = probs[labels == 1, 1]\n",
        "plt.hist(class_0_probs, bins=30, alpha=0.7, label='True Class 0', color='red')\n",
        "plt.hist(class_1_probs, bins=30, alpha=0.7, label='True Class 1', color='blue')\n",
        "plt.xlabel('Class 1 Probability')\n",
        "plt.ylabel('Frequency')\n",
        "plt.title('Probability Distribution by True Class')\n",
        "plt.legend()\n",
        "\n",
        "plt.tight_layout()\n",
        "plt.show()"
      ],
      "metadata": {
        "id": "fPK7q3QzLRp4",
        "colab": {
          "base_uri": "https://localhost:8080/",
          "height": 407
        },
        "outputId": "1131f095-4cf8-44e2-c9f7-d7cce20d8545"
      },
      "execution_count": 34,
      "outputs": [
        {
          "output_type": "display_data",
          "data": {
            "text/plain": [
              "<Figure size 1200x400 with 2 Axes>"
            ],
            "image/png": "[encoded data removed]"
          },
          "metadata": {}
        }
      ]
    },
    {
      "cell_type": "code",
      "source": [
        "# 6. 추론 및 예측\n",
        "# 개선된 예측 함수\n",
        "def predict_order(sent1, sent2, model, tokenizer, device='cpu'):\n",
        "    model.eval()\n",
        "    inputs = tokenizer(\n",
        "        sent1,\n",
        "        sent2,\n",
        "        return_tensors='pt',\n",
        "        padding=True,\n",
        "        truncation=True,\n",
        "        max_length=MAX_TOKEN_LENGTH\n",
        "    )\n",
        "    inputs = {k: v.to(device) for k, v in inputs.items()}\n",
        "\n",
        "    with torch.no_grad():\n",
        "        outputs = model(**inputs)\n",
        "        predictions = torch.softmax(outputs['logits'], dim=1)\n",
        "\n",
        "    return predictions, predictions.argmax().item()"
      ],
      "metadata": {
        "id": "XORCrNJxLUaq"
      },
      "execution_count": 35,
      "outputs": []
    },
    {
      "cell_type": "code",
      "source": [
        "# 페어와이즈 점수 계산 함수\n",
        "def pair_score(s1, s2):\n",
        "    probs, _ = predict_order(s1, s2, model, tokenizer, device)\n",
        "    return probs[0][1].item()  # label=1 확률"
      ],
      "metadata": {
        "id": "xglC7ww2LYbS"
      },
      "execution_count": 36,
      "outputs": []
    },
    {
      "cell_type": "code",
      "source": [
        "# 효율적인 순열 탐색 (Greedy 알고리즘)\n",
        "def find_best_order_greedy(sentences):\n",
        "    \"\"\"Greedy 알고리즘으로 최적 순서 찾기\"\"\"\n",
        "    n = len(sentences)\n",
        "    if n <= 1:\n",
        "        return list(range(n))\n",
        "\n",
        "    # 첫 번째 문장 선택 (가장 높은 점수를 받는 문장)\n",
        "    best_first = 0\n",
        "    best_score = -1\n",
        "\n",
        "    for i in range(n):\n",
        "        total_score = 0\n",
        "        for j in range(n):\n",
        "            if i != j:\n",
        "                total_score += pair_score(sentences[i], sentences[j])\n",
        "        if total_score > best_score:\n",
        "            best_score = total_score\n",
        "            best_first = i\n",
        "\n",
        "    # 나머지 문장들을 순차적으로 배치\n",
        "    remaining = list(range(n))\n",
        "    remaining.remove(best_first)\n",
        "\n",
        "    result = [best_first]\n",
        "    current = best_first\n",
        "\n",
        "    while remaining:\n",
        "        best_next = remaining[0]\n",
        "        best_score = pair_score(sentences[current], sentences[remaining[0]])\n",
        "\n",
        "        for next_idx in remaining[1:]:\n",
        "            score = pair_score(sentences[current], sentences[next_idx])\n",
        "            if score > best_score:\n",
        "                best_score = score\n",
        "                best_next = next_idx\n",
        "\n",
        "        result.append(best_next)\n",
        "        remaining.remove(best_next)\n",
        "        current = best_next\n",
        "\n",
        "    return result\n"
      ],
      "metadata": {
        "id": "9cBDivG8LaSe"
      },
      "execution_count": 37,
      "outputs": []
    },
    {
      "cell_type": "code",
      "source": [
        "# 테스트 데이터 예측 (제한된 데이터)\n",
        "pred_orders = []\n",
        "pred_scores = []\n",
        "\n",
        "print(f\"테스트 데이터 예측 시작... ({len(test)}개 샘플)\")\n",
        "for idx, (_, row) in enumerate(tqdm(test.iterrows(), total=len(test), desc=\"문장 순서 예측\")):\n",
        "    sents = [row[f'sentence_{i}'] for i in range(4)]\n",
        "\n",
        "    # Greedy 알고리즘 사용\n",
        "    best_perm = find_best_order_greedy(sents)\n",
        "\n",
        "    # 점수 계산\n",
        "    score = sum(pair_score(sents[best_perm[i]], sents[best_perm[i+1]]) for i in range(3))\n",
        "\n",
        "    pred_orders.append(best_perm)\n",
        "    pred_scores.append(score)\n",
        "\n",
        "    # 진행상황 출력 (더 자주)\n",
        "    if (idx + 1) % 50 == 0:\n",
        "        print(f\"[{idx+1}/{len(test)}] 완료, 현재 평균 점수: {np.mean(pred_scores):.4f}\")"
      ],
      "metadata": {
        "id": "8U_jly7WLiCX",
        "colab": {
          "base_uri": "https://localhost:8080/",
          "height": 424,
          "referenced_widgets": [
            "d43a86a29cb4480487b518befccd3738",
            "2ecf7435c88e45e5bb59bd943670310c",
            "9481d2975e194a3d9ca17fdc76c7ff1f",
            "4c7f4a77f0734c0e97e02656ea97da7d",
            "8573f2253ab34870b529810bad222fdc",
            "31353668345e49cf953ec0bcfb3ba30c",
            "8436acc31fea4c5287d66bc2f6feb5e6",
            "3dcd43064bd147c18da8f1756601f001",
            "d02f8b2361b44739b580bf258e6aada9",
            "8e9f357377e74109b86a9e786a40f512",
            "990d1d215da2439296408f5f88957ce8"
          ]
        },
        "outputId": "8e62e30d-68d5-4691-d47f-cdf23de57fb1"
      },
      "execution_count": 38,
      "outputs": [
        {
          "output_type": "stream",
          "name": "stdout",
          "text": [
            "테스트 데이터 예측 시작... (1000개 샘플)\n"
          ]
        },
        {
          "output_type": "display_data",
          "data": {
            "text/plain": [
              "문장 순서 예측:   0%|          | 0/1000 [00:00<?, ?it/s]"
            ],
            "application/vnd.jupyter.widget-view+json": {
              "version_major": 2,
              "version_minor": 0,
              "model_id": "d43a86a29cb4480487b518befccd3738"
            }
          },
          "metadata": {}
        },
        {
          "output_type": "stream",
          "name": "stdout",
          "text": [
            "[50/1000] 완료, 현재 평균 점수: 1.8667\n",
            "[100/1000] 완료, 현재 평균 점수: 1.8757\n",
            "[150/1000] 완료, 현재 평균 점수: 1.8311\n",
            "[200/1000] 완료, 현재 평균 점수: 1.8446\n",
            "[250/1000] 완료, 현재 평균 점수: 1.8658\n",
            "[300/1000] 완료, 현재 평균 점수: 1.8869\n",
            "[350/1000] 완료, 현재 평균 점수: 1.8828\n",
            "[400/1000] 완료, 현재 평균 점수: 1.8810\n",
            "[450/1000] 완료, 현재 평균 점수: 1.8696\n",
            "[500/1000] 완료, 현재 평균 점수: 1.8681\n",
            "[550/1000] 완료, 현재 평균 점수: 1.8617\n",
            "[600/1000] 완료, 현재 평균 점수: 1.8418\n",
            "[650/1000] 완료, 현재 평균 점수: 1.8328\n",
            "[700/1000] 완료, 현재 평균 점수: 1.8225\n",
            "[750/1000] 완료, 현재 평균 점수: 1.8188\n",
            "[800/1000] 완료, 현재 평균 점수: 1.8156\n",
            "[850/1000] 완료, 현재 평균 점수: 1.8250\n",
            "[900/1000] 완료, 현재 평균 점수: 1.8274\n",
            "[950/1000] 완료, 현재 평균 점수: 1.8253\n",
            "[1000/1000] 완료, 현재 평균 점수: 1.8106\n"
          ]
        }
      ]
    },
    {
      "cell_type": "code",
      "source": [
        "# Submission 파일 생성\n",
        "for idx, perm in enumerate(pred_orders):\n",
        "    for i, p in enumerate(perm):\n",
        "        submission.loc[idx, f'answer_{i}'] = p\n",
        "\n",
        "submission.to_csv('klue_bert_results_test/submission_test.csv', index=False)\n",
        "print(\"✅ submission_test.csv 파일이 생성되었습니다.\")\n",
        "print(f\"예측된 순서의 평균 점수: {np.mean(pred_scores):.4f}\")\n",
        "print(f\"예측된 순서 샘플: {pred_orders[:5]}\")"
      ],
      "metadata": {
        "id": "dX2bqg5eLlBQ",
        "colab": {
          "base_uri": "https://localhost:8080/"
        },
        "outputId": "402e21a7-a44f-48ee-b35f-61bc4cca2b93"
      },
      "execution_count": 39,
      "outputs": [
        {
          "output_type": "stream",
          "name": "stdout",
          "text": [
            "✅ submission_test.csv 파일이 생성되었습니다.\n",
            "예측된 순서의 평균 점수: 1.8106\n",
            "예측된 순서 샘플: [[1, 2, 3, 0], [0, 3, 1, 2], [0, 3, 2, 1], [3, 2, 0, 1], [0, 1, 2, 3]]\n"
          ]
        }
      ]
    },
    {
      "cell_type": "markdown",
      "source": [
        "## 추가 분석 및 인사이트"
      ],
      "metadata": {
        "id": "0ca-pGIKLoV6"
      }
    },
    {
      "cell_type": "code",
      "source": [
        "# 7. 추가 분석 및 인사이트\n",
        "# 예측 결과 분석\n",
        "print(\"=== 예측 결과 분석 ===\")\n",
        "print(f\"평균 예측 점수: {np.mean(pred_scores):.4f}\")\n",
        "print(f\"최고 예측 점수: {np.max(pred_scores):.4f}\")\n",
        "print(f\"최저 예측 점수: {np.min(pred_scores):.4f}\")\n",
        "print(f\"예측 점수 표준편차: {np.std(pred_scores):.4f}\")"
      ],
      "metadata": {
        "id": "hrt8kUUFLnq7",
        "colab": {
          "base_uri": "https://localhost:8080/"
        },
        "outputId": "66fc096e-08b3-4515-8356-bfe4bd3c6a93"
      },
      "execution_count": 40,
      "outputs": [
        {
          "output_type": "stream",
          "name": "stdout",
          "text": [
            "=== 예측 결과 분석 ===\n",
            "평균 예측 점수: 1.8106\n",
            "최고 예측 점수: 2.9993\n",
            "최저 예측 점수: 0.0098\n",
            "예측 점수 표준편차: 0.7032\n"
          ]
        }
      ]
    },
    {
      "cell_type": "code",
      "source": [
        "# 점수 분포 시각화\n",
        "plt.figure(figsize=(10, 6))\n",
        "plt.hist(pred_scores, bins=50, alpha=0.7, color='skyblue', edgecolor='black')\n",
        "plt.axvline(np.mean(pred_scores), color='red', linestyle='--', label=f'평균: {np.mean(pred_scores):.4f}')\n",
        "plt.xlabel('예측 점수')\n",
        "plt.ylabel('빈도')\n",
        "plt.title('테스트 데이터 예측 점수 분포')\n",
        "plt.legend()\n",
        "plt.show()"
      ],
      "metadata": {
        "id": "yo2Lap5lLqg9",
        "colab": {
          "base_uri": "https://localhost:8080/",
          "height": 1000
        },
        "outputId": "01b96283-558e-4c1f-9ef5-97c183c36600"
      },
      "execution_count": 41,
      "outputs": [
        {
          "output_type": "stream",
          "name": "stderr",
          "text": [
            "/usr/local/lib/python3.11/dist-packages/IPython/core/pylabtools.py:151: UserWarning: Glyph 48712 (\\N{HANGUL SYLLABLE BIN}) missing from font(s) DejaVu Sans.\n",
            "  fig.canvas.print_figure(bytes_io, **kw)\n",
            "/usr/local/lib/python3.11/dist-packages/IPython/core/pylabtools.py:151: UserWarning: Glyph 46020 (\\N{HANGUL SYLLABLE DO}) missing from font(s) DejaVu Sans.\n",
            "  fig.canvas.print_figure(bytes_io, **kw)\n",
            "/usr/local/lib/python3.11/dist-packages/IPython/core/pylabtools.py:151: UserWarning: Glyph 53580 (\\N{HANGUL SYLLABLE TE}) missing from font(s) DejaVu Sans.\n",
            "  fig.canvas.print_figure(bytes_io, **kw)\n",
            "/usr/local/lib/python3.11/dist-packages/IPython/core/pylabtools.py:151: UserWarning: Glyph 49828 (\\N{HANGUL SYLLABLE SEU}) missing from font(s) DejaVu Sans.\n",
            "  fig.canvas.print_figure(bytes_io, **kw)\n",
            "/usr/local/lib/python3.11/dist-packages/IPython/core/pylabtools.py:151: UserWarning: Glyph 53944 (\\N{HANGUL SYLLABLE TEU}) missing from font(s) DejaVu Sans.\n",
            "  fig.canvas.print_figure(bytes_io, **kw)\n",
            "/usr/local/lib/python3.11/dist-packages/IPython/core/pylabtools.py:151: UserWarning: Glyph 45936 (\\N{HANGUL SYLLABLE DE}) missing from font(s) DejaVu Sans.\n",
            "  fig.canvas.print_figure(bytes_io, **kw)\n",
            "/usr/local/lib/python3.11/dist-packages/IPython/core/pylabtools.py:151: UserWarning: Glyph 51060 (\\N{HANGUL SYLLABLE I}) missing from font(s) DejaVu Sans.\n",
            "  fig.canvas.print_figure(bytes_io, **kw)\n",
            "/usr/local/lib/python3.11/dist-packages/IPython/core/pylabtools.py:151: UserWarning: Glyph 53552 (\\N{HANGUL SYLLABLE TEO}) missing from font(s) DejaVu Sans.\n",
            "  fig.canvas.print_figure(bytes_io, **kw)\n",
            "/usr/local/lib/python3.11/dist-packages/IPython/core/pylabtools.py:151: UserWarning: Glyph 50696 (\\N{HANGUL SYLLABLE YE}) missing from font(s) DejaVu Sans.\n",
            "  fig.canvas.print_figure(bytes_io, **kw)\n",
            "/usr/local/lib/python3.11/dist-packages/IPython/core/pylabtools.py:151: UserWarning: Glyph 52769 (\\N{HANGUL SYLLABLE CEUG}) missing from font(s) DejaVu Sans.\n",
            "  fig.canvas.print_figure(bytes_io, **kw)\n",
            "/usr/local/lib/python3.11/dist-packages/IPython/core/pylabtools.py:151: UserWarning: Glyph 51216 (\\N{HANGUL SYLLABLE JEOM}) missing from font(s) DejaVu Sans.\n",
            "  fig.canvas.print_figure(bytes_io, **kw)\n",
            "/usr/local/lib/python3.11/dist-packages/IPython/core/pylabtools.py:151: UserWarning: Glyph 49688 (\\N{HANGUL SYLLABLE SU}) missing from font(s) DejaVu Sans.\n",
            "  fig.canvas.print_figure(bytes_io, **kw)\n",
            "/usr/local/lib/python3.11/dist-packages/IPython/core/pylabtools.py:151: UserWarning: Glyph 48516 (\\N{HANGUL SYLLABLE BUN}) missing from font(s) DejaVu Sans.\n",
            "  fig.canvas.print_figure(bytes_io, **kw)\n",
            "/usr/local/lib/python3.11/dist-packages/IPython/core/pylabtools.py:151: UserWarning: Glyph 54252 (\\N{HANGUL SYLLABLE PO}) missing from font(s) DejaVu Sans.\n",
            "  fig.canvas.print_figure(bytes_io, **kw)\n",
            "/usr/local/lib/python3.11/dist-packages/IPython/core/pylabtools.py:151: UserWarning: Glyph 54217 (\\N{HANGUL SYLLABLE PYEONG}) missing from font(s) DejaVu Sans.\n",
            "  fig.canvas.print_figure(bytes_io, **kw)\n",
            "/usr/local/lib/python3.11/dist-packages/IPython/core/pylabtools.py:151: UserWarning: Glyph 44512 (\\N{HANGUL SYLLABLE GYUN}) missing from font(s) DejaVu Sans.\n",
            "  fig.canvas.print_figure(bytes_io, **kw)\n"
          ]
        },
        {
          "output_type": "display_data",
          "data": {
            "text/plain": [
              "<Figure size 1000x600 with 1 Axes>"
            ],
            "image/png": "[encoded data removed]"
          },
          "metadata": {}
        }
      ]
    },
    {
      "cell_type": "code",
      "source": [
        "# 모델 성능 요약\n",
        "print(\"=== KLUE-BERT 모델 성능 요약 ===\")\n",
        "print(\"=== 기본 분류 지표 ===\")\n",
        "print(f\"Validation Accuracy: {eval_results['eval_accuracy']:.4f}\")\n",
        "print(f\"Validation F1 Score: {eval_results['eval_f1']:.4f}\")\n",
        "print(f\"Validation Precision: {eval_results['eval_precision']:.4f}\")\n",
        "print(f\"Validation Recall: {eval_results['eval_recall']:.4f}\")\n",
        "print(f\"Validation AUC: {eval_results['eval_auc']:.4f}\")\n",
        "\n",
        "print(\"\\n=== 문장 순서 예측 지표 ===\")\n",
        "print(f\"Sentence Accuracy: {order_metrics['sentence_accuracy']:.4f}\")\n",
        "print(f\"Full Order Accuracy: {order_metrics['full_order_accuracy']:.4f}\")\n",
        "print(f\"Kendall's Tau: {order_metrics['kendall_tau']:.4f}\")\n",
        "print(f\"Spearman's Rho: {order_metrics['spearman_rho']:.4f}\")\n",
        "print(f\"Adjacent Pair Accuracy: {order_metrics['adjacent_pair_accuracy']:.4f}\")\n",
        "print(f\"Long-range Pair Accuracy: {order_metrics['long_range_pair_accuracy']:.4f}\")\n",
        "\n",
        "print(\"\\n=== 위치별 정확도 ===\")\n",
        "for i, acc in enumerate(order_metrics['position_accuracy']):\n",
        "    print(f\"Position {i}: {acc:.4f}\")\n",
        "\n",
        "print(f\"\\n테스트 예측 평균 점수: {np.mean(pred_scores):.4f}\")"
      ],
      "metadata": {
        "id": "lqb4Y6hQLuKH",
        "colab": {
          "base_uri": "https://localhost:8080/"
        },
        "outputId": "5687efab-f5df-4423-fe2d-4e7f150d203a"
      },
      "execution_count": 42,
      "outputs": [
        {
          "output_type": "stream",
          "name": "stdout",
          "text": [
            "=== KLUE-BERT 모델 성능 요약 ===\n",
            "=== 기본 분류 지표 ===\n",
            "Validation Accuracy: 0.8935\n",
            "Validation F1 Score: 0.7764\n",
            "Validation Precision: 0.8175\n",
            "Validation Recall: 0.7392\n",
            "Validation AUC: 0.9486\n",
            "\n",
            "=== 문장 순서 예측 지표 ===\n",
            "Sentence Accuracy: 0.8935\n",
            "Full Order Accuracy: 0.6162\n",
            "Kendall's Tau: 0.7508\n",
            "Spearman's Rho: 0.7895\n",
            "Adjacent Pair Accuracy: 0.8912\n",
            "Long-range Pair Accuracy: 0.8958\n",
            "\n",
            "=== 위치별 정확도 ===\n",
            "Position 0: 0.8250\n",
            "Position 1: 0.7013\n",
            "Position 2: 0.7000\n",
            "Position 3: 0.8350\n",
            "\n",
            "테스트 예측 평균 점수: 1.8106\n"
          ]
        }
      ]
    },
    {
      "cell_type": "code",
      "source": [
        "# 예측 순서의 다양성 분석\n",
        "unique_orders = set()\n",
        "for pred in pred_orders:\n",
        "    unique_orders.add(tuple(pred))\n",
        "\n",
        "print(f\"\\n고유한 예측 순서 수: {len(unique_orders)}\")\n",
        "print(f\"예측 다양성 비율: {len(unique_orders)/len(pred_orders)*100:.2f}%\")"
      ],
      "metadata": {
        "id": "PT6vsdTWLy0k",
        "colab": {
          "base_uri": "https://localhost:8080/"
        },
        "outputId": "72477e08-e01b-423f-d0cc-5b607c302f68"
      },
      "execution_count": 43,
      "outputs": [
        {
          "output_type": "stream",
          "name": "stdout",
          "text": [
            "\n",
            "고유한 예측 순서 수: 24\n",
            "예측 다양성 비율: 2.40%\n"
          ]
        }
      ]
    },
    {
      "cell_type": "code",
      "source": [
        "# 파일 다운로드\n",
        "from google.colab import files\n",
        "files.download('klue_bert_results_test/submission_test.csv')\n",
        "\n",
        "print(\"✅ submission_test.csv 파일이 다운로드되었습니다.\")\n",
        "print(\"\\n=== 최종 결과 ===\")\n",
        "print(f\"모델: KLUE-BERT\")\n",
        "print(f\"방식: Pairwise\")\n",
        "print(f\"Validation F1: {eval_results['eval_f1']:.4f}\")\n",
        "print(f\"테스트 예측 완료: {len(pred_orders)} 샘플\")"
      ],
      "metadata": {
        "id": "PzDfpzkML1SN",
        "colab": {
          "base_uri": "https://localhost:8080/",
          "height": 142
        },
        "outputId": "117d0079-eaa4-4dbc-c092-abc6b7e935b4"
      },
      "execution_count": 44,
      "outputs": [
        {
          "output_type": "display_data",
          "data": {
            "text/plain": [
              "<IPython.core.display.Javascript object>"
            ],
            "application/javascript": [
              "\n",
              "    async function download(id, filename, size) {\n",
              "      if (!google.colab.kernel.accessAllowed) {\n",
              "        return;\n",
              "      }\n",
              "      const div = document.createElement('div');\n",
              "      const label = document.createElement('label');\n",
              "      label.textContent = `Downloading \"${filename}\": `;\n",
              "      div.appendChild(label);\n",
              "      const progress = document.createElement('progress');\n",
              "      progress.max = size;\n",
              "      div.appendChild(progress);\n",
              "      document.body.appendChild(div);\n",
              "\n",
              "      const buffers = [];\n",
              "      let downloaded = 0;\n",
              "\n",
              "      const channel = await google.colab.kernel.comms.open(id);\n",
              "      // Send a message to notify the kernel that we're ready.\n",
              "      channel.send({})\n",
              "\n",
              "      for await (const message of channel.messages) {\n",
              "        // Send a message to notify the kernel that we're ready.\n",
              "        channel.send({})\n",
              "        if (message.buffers) {\n",
              "          for (const buffer of message.buffers) {\n",
              "            buffers.push(buffer);\n",
              "            downloaded += buffer.byteLength;\n",
              "            progress.value = downloaded;\n",
              "          }\n",
              "        }\n",
              "      }\n",
              "      const blob = new Blob(buffers, {type: 'application/binary'});\n",
              "      const a = document.createElement('a');\n",
              "      a.href = window.URL.createObjectURL(blob);\n",
              "      a.download = filename;\n",
              "      div.appendChild(a);\n",
              "      a.click();\n",
              "      div.remove();\n",
              "    }\n",
              "  "
            ]
          },
          "metadata": {}
        },
        {
          "output_type": "display_data",
          "data": {
            "text/plain": [
              "<IPython.core.display.Javascript object>"
            ],
            "application/javascript": [
              "download(\"download_1a49ce6c-d307-4fe0-9fbb-24115605d88a\", \"submission_test.csv\", 18039)"
            ]
          },
          "metadata": {}
        },
        {
          "output_type": "stream",
          "name": "stdout",
          "text": [
            "✅ submission_test.csv 파일이 다운로드되었습니다.\n",
            "\n",
            "=== 최종 결과 ===\n",
            "모델: KLUE-BERT\n",
            "방식: Pairwise\n",
            "Validation F1: 0.7764\n",
            "테스트 예측 완료: 1000 샘플\n"
          ]
        }
      ]
    }
  ]
}
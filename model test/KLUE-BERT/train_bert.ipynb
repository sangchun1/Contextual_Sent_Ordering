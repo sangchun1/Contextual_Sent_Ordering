{
  "cells": [
    {
      "cell_type": "markdown",
      "metadata": {
        "id": "view-in-github",
        "colab_type": "text"
      },
      "source": [
        "<a href=\"https://colab.research.google.com/github/onewon1234/AI_DL_Project/blob/main/BERT_Code_revise_cleaned.ipynb\" target=\"_parent\"><img src=\"https://colab.research.google.com/assets/colab-badge.svg\" alt=\"Open In Colab\"/></a>"
      ]
    },
    {
      "cell_type": "code",
      "execution_count": null,
      "metadata": {
        "id": "61Rb7xR2whyc"
      },
      "outputs": [],
      "source": [
        "import pandas as pd\n",
        "import numpy as np\n",
        "import re\n",
        "from tqdm.auto import tqdm\n",
        "\n",
        "import torch\n",
        "from torch.utils.data import Dataset\n",
        "import torch.nn as nn"
      ]
    },
    {
      "cell_type": "code",
      "execution_count": null,
      "metadata": {
        "id": "qWmUqMbR3Q8D"
      },
      "outputs": [],
      "source": [
        "import transformers\n",
        "import torch"
      ]
    },
    {
      "cell_type": "code",
      "execution_count": null,
      "metadata": {
        "id": "FkmRrxKvwmKn"
      },
      "outputs": [],
      "source": [
        "from sklearn.model_selection import train_test_split\n",
        "from sklearn.metrics import accuracy_score, f1_score, precision_score, recall_score\n",
        "from transformers import AutoTokenizer, AutoModelForSequenceClassification, Trainer, TrainingArguments, EarlyStoppingCallback\n",
        "\n",
        "import itertools\n",
        "from itertools import permutations, combinations\n",
        "from transformers import (\n",
        "    AutoTokenizer,\n",
        "    AutoModel,\n",
        "    AutoModelForSequenceClassification,\n",
        "    Trainer,\n",
        "    TrainingArguments,\n",
        "    EarlyStoppingCallback\n",
        ")\n",
        "import os\n",
        "os.environ[\"WANDB_DISABLED\"] = \"true\"\n",
        "import matplotlib.pyplot as plt\n"
      ]
    },
    {
      "cell_type": "code",
      "execution_count": null,
      "metadata": {
        "colab": {
          "base_uri": "https://localhost:8080/"
        },
        "id": "g2k6Ajscwpsw",
        "outputId": "68c11539-6c78-4337-cc2e-9cacf80c2444"
      },
      "outputs": [
        {
          "name": "stdout",
          "output_type": "stream",
          "text": [
            "True\n"
          ]
        }
      ],
      "source": [
        "print(torch.cuda.is_available())"
      ]
    },
    {
      "cell_type": "code",
      "execution_count": null,
      "metadata": {
        "colab": {
          "base_uri": "https://localhost:8080/"
        },
        "id": "WayNsbuHwp5R",
        "outputId": "6c743a8b-b98c-40eb-8986-bd3e25773d1b"
      },
      "outputs": [
        {
          "name": "stdout",
          "output_type": "stream",
          "text": [
            "Mounted at /content/drive\n"
          ]
        }
      ],
      "source": [
        "from google.colab import drive\n",
        "drive.mount('/content/drive')"
      ]
    },
    {
      "cell_type": "code",
      "execution_count": null,
      "metadata": {
        "id": "lnB-9mkmxpbG"
      },
      "outputs": [],
      "source": [
        "train_path = '/content/drive/MyDrive/data/daycon_sentence/train.csv'\n",
        "test_path = '/content/drive/MyDrive/data/daycon_sentence/test.csv'"
      ]
    },
    {
      "cell_type": "code",
      "execution_count": null,
      "metadata": {
        "id": "jxL9CKjZzVle"
      },
      "outputs": [],
      "source": [
        "train = pd.read_csv(train_path)\n",
        "test = pd.read_csv(test_path)"
      ]
    },
    {
      "cell_type": "code",
      "execution_count": null,
      "metadata": {
        "colab": {
          "base_uri": "https://localhost:8080/",
          "height": 293
        },
        "id": "zfGjJZjkzGjD",
        "outputId": "8c2b5834-7c7e-4148-beee-8627033d9f02"
      },
      "outputs": [
        {
          "data": {
            "application/vnd.google.colaboratory.intrinsic+json": {
              "summary": "{\n  \"name\": \"train\",\n  \"rows\": 7351,\n  \"fields\": [\n    {\n      \"column\": \"ID\",\n      \"properties\": {\n        \"dtype\": \"string\",\n        \"num_unique_values\": 7351,\n        \"samples\": [\n          \"TRAIN_5955\",\n          \"TRAIN_1446\",\n          \"TRAIN_5994\"\n        ],\n        \"semantic_type\": \"\",\n        \"description\": \"\"\n      }\n    },\n    {\n      \"column\": \"sentence_0\",\n      \"properties\": {\n        \"dtype\": \"string\",\n        \"num_unique_values\": 7324,\n        \"samples\": [\n          \"\\uacb0\\uacfc\\uc801\\uc73c\\ub85c, \\uc804\\ud1b5 \\ubaa9\\uc695 \\uc758\\uc2dd\\uc740 \\uac1c\\uc778\\uc758 \\ub0b4\\uba74\\uc801 \\uc131\\uc7a5\\uacfc \\uc0ac\\ud68c\\uc801 \\uc5f0\\ub300\\uac10\\uc744 \\ub3d9\\uc2dc\\uc5d0 \\ucd09\\uc9c4\\ud558\\ub294 \\uc758\\ubbf8 \\uae4a\\uc740 \\uacfc\\uc815\\uc774\\ub2e4.\",\n          \"\\uacb0\\uacfc\\uc801\\uc73c\\ub85c, PCA\\ub294 \\ub370\\uc774\\ud130\\uc758 \\uc2dc\\uac01\\ud654\\uc640 \\ud574\\uc11d\\uc744 \\uc6a9\\uc774\\ud558\\uac8c \\ud55c\\ub2e4.\",\n          \"\\ud3ec\\uc7a5\\ub41c \\uc0c1\\ud0dc\\ub85c \\ubcf4\\uad00\\ud558\\uba74 \\uc218\\ubd84 \\uc190\\uc2e4\\uc744 \\uc904\\uc77c \\uc218 \\uc788\\ub2e4.\"\n        ],\n        \"semantic_type\": \"\",\n        \"description\": \"\"\n      }\n    },\n    {\n      \"column\": \"sentence_1\",\n      \"properties\": {\n        \"dtype\": \"string\",\n        \"num_unique_values\": 7338,\n        \"samples\": [\n          \"\\uc18c\\ud504\\ud2b8\\uc6e8\\uc5b4 \\uc815\\uc758 \\ub124\\ud2b8\\uc6cc\\ud0b9(SDN)\\uc740 \\ub124\\ud2b8\\uc6cc\\ud06c \\uad00\\ub9ac\\uc758 \\uc720\\uc5f0\\uc131\\uc744 \\uadf9\\ub300\\ud654\\ud558\\ub294 \\ud601\\uc2e0\\uc801\\uc778 \\uc811\\uadfc \\ubc29\\uc2dd\\uc774\\ub2e4.\",\n          \"\\uc774\\ub7ec\\ud55c \\ubc1c\\ud6a8 \\uacfc\\uc815\\uc740 \\uba54\\uc8fc\\uac00 \\ub41c\\uc7a5\\uc73c\\ub85c \\ubcc0\\ubaa8\\ud558\\ub294 \\ub370 \\ud544\\uc218\\uc801\\uc774\\uba70, \\uc774\\ub54c \\ub2e4\\uc591\\ud55c \\ud6a8\\uc18c\\uac00 \\uc0dd\\uc131\\ub41c\\ub2e4.\",\n          \"\\uacb0\\uacfc\\uc801\\uc73c\\ub85c, \\uc774\\ub7ec\\ud55c \\ud601\\uc2e0\\uc801\\uc778 \\uc124\\uacc4\\ub294 \\ub2e4\\uc591\\ud55c \\ud658\\uacbd\\uc5d0\\uc11c\\uc758 \\ube44\\ud589 \\uc131\\ub2a5\\uc744 \\uadf9\\ub300\\ud654\\ud558\\ub294 \\ub370 \\uae30\\uc5ec\\ud55c\\ub2e4.\"\n        ],\n        \"semantic_type\": \"\",\n        \"description\": \"\"\n      }\n    },\n    {\n      \"column\": \"sentence_2\",\n      \"properties\": {\n        \"dtype\": \"string\",\n        \"num_unique_values\": 7330,\n        \"samples\": [\n          \"\\uc801\\uc808\\ud55c \\uc7ac\\ub8cc \\uc120\\ud0dd\\uc740 \\uc5f4 \\ubc18\\uc0ac \\uc131\\ub2a5\\uc5d0 \\uc9c1\\uc811\\uc801\\uc778 \\uc601\\ud5a5\\uc744 \\ubbf8\\uce5c\\ub2e4.\",\n          \"\\uc790\\uc5f0 \\uac10\\uc0ac\\ub294 \\uc6b0\\ub9ac\\uac00 \\uc77c\\uc0c1\\uc5d0\\uc11c \\uc27d\\uac8c \\uac04\\uacfc\\ud558\\ub294 \\uc18c\\uc911\\ud55c \\uacbd\\ud5d8\\uc774\\ub2e4.\",\n          \"\\ud6a8\\uc728\\uc801\\uc778 \\uc5d0\\ub108\\uc9c0 \\ubd84\\ubc30\\ub97c \\ud1b5\\ud574 \\ube44\\uc6a9 \\uc808\\uac10\\uacfc \\ud658\\uacbd \\ubcf4\\ud638\\ub97c \\ub3d9\\uc2dc\\uc5d0 \\ucd94\\uad6c\\ud55c\\ub2e4.\"\n        ],\n        \"semantic_type\": \"\",\n        \"description\": \"\"\n      }\n    },\n    {\n      \"column\": \"sentence_3\",\n      \"properties\": {\n        \"dtype\": \"string\",\n        \"num_unique_values\": 7330,\n        \"samples\": [\n          \"\\uacb0\\uad6d \\uc778\\uc9c0 \\ud3b8\\ud5a5\\uc744 \\uc778\\uc2dd\\ud558\\uace0 \\uadf9\\ubcf5\\ud558\\ub294 \\ub178\\ub825\\uc774 \\ud544\\uc694\\ud558\\uba70, \\uc774\\ub294 \\ubcf4\\ub2e4 \\uac1d\\uad00\\uc801\\uc778 \\uc0ac\\uace0\\ub97c \\ucd09\\uc9c4\\ud560 \\uc218 \\uc788\\ub2e4.\",\n          \"\\ub530\\ub77c\\uc11c \\uc790\\uc5f0\\uc744 \\ubc14\\ub77c\\ubcf4\\uba70 \\uac10\\uc0ac\\ud558\\ub294 \\uc2dc\\uac04\\uc744 \\uac00\\uc9c0\\ub294 \\uac83\\uc740 \\ub9e4\\uc6b0 \\uc911\\uc694\\ud558\\ub2e4.\",\n          \"\\uacb0\\uacfc\\uc801\\uc73c\\ub85c, \\uc2a4\\ub9c8\\ud2b8 \\uadf8\\ub9ac\\ub4dc\\ub294 \\uc9c0\\uc18d \\uac00\\ub2a5\\ud55c \\uc5d0\\ub108\\uc9c0 \\ubbf8\\ub798\\ub97c \\uc704\\ud55c \\uc911\\uc694\\ud55c \\uae30\\ubc18\\uc774 \\ub41c\\ub2e4.\"\n        ],\n        \"semantic_type\": \"\",\n        \"description\": \"\"\n      }\n    },\n    {\n      \"column\": \"answer_0\",\n      \"properties\": {\n        \"dtype\": \"number\",\n        \"std\": 1,\n        \"min\": 0,\n        \"max\": 3,\n        \"num_unique_values\": 4,\n        \"samples\": [\n          3,\n          1,\n          0\n        ],\n        \"semantic_type\": \"\",\n        \"description\": \"\"\n      }\n    },\n    {\n      \"column\": \"answer_1\",\n      \"properties\": {\n        \"dtype\": \"number\",\n        \"std\": 1,\n        \"min\": 0,\n        \"max\": 3,\n        \"num_unique_values\": 4,\n        \"samples\": [\n          2,\n          1,\n          3\n        ],\n        \"semantic_type\": \"\",\n        \"description\": \"\"\n      }\n    },\n    {\n      \"column\": \"answer_2\",\n      \"properties\": {\n        \"dtype\": \"number\",\n        \"std\": 1,\n        \"min\": 0,\n        \"max\": 3,\n        \"num_unique_values\": 4,\n        \"samples\": [\n          2,\n          3,\n          1\n        ],\n        \"semantic_type\": \"\",\n        \"description\": \"\"\n      }\n    },\n    {\n      \"column\": \"answer_3\",\n      \"properties\": {\n        \"dtype\": \"number\",\n        \"std\": 1,\n        \"min\": 0,\n        \"max\": 3,\n        \"num_unique_values\": 4,\n        \"samples\": [\n          1,\n          3,\n          2\n        ],\n        \"semantic_type\": \"\",\n        \"description\": \"\"\n      }\n    }\n  ]\n}",
              "type": "dataframe",
              "variable_name": "train"
            },
            "text/html": [
              "\n",
              "  <div id=\"df-09db4913-8b6c-4c8f-91b3-2f6304a82e21\" class=\"colab-df-container\">\n",
              "    <div>\n",
              "<style scoped>\n",
              "    .dataframe tbody tr th:only-of-type {\n",
              "        vertical-align: middle;\n",
              "    }\n",
              "\n",
              "    .dataframe tbody tr th {\n",
              "        vertical-align: top;\n",
              "    }\n",
              "\n",
              "    .dataframe thead th {\n",
              "        text-align: right;\n",
              "    }\n",
              "</style>\n",
              "<table border=\"1\" class=\"dataframe\">\n",
              "  <thead>\n",
              "    <tr style=\"text-align: right;\">\n",
              "      <th></th>\n",
              "      <th>ID</th>\n",
              "      <th>sentence_0</th>\n",
              "      <th>sentence_1</th>\n",
              "      <th>sentence_2</th>\n",
              "      <th>sentence_3</th>\n",
              "      <th>answer_0</th>\n",
              "      <th>answer_1</th>\n",
              "      <th>answer_2</th>\n",
              "      <th>answer_3</th>\n",
              "    </tr>\n",
              "  </thead>\n",
              "  <tbody>\n",
              "    <tr>\n",
              "      <th>0</th>\n",
              "      <td>TRAIN_0000</td>\n",
              "      <td>블록체인 기술은 투표 과정의 투명성을 크게 향상시킬 수 있다.</td>\n",
              "      <td>이러한 특성은 유권자들에게 신뢰를 제공하며, 민주적 참여를 촉진하는 데 기여할 수 있다.</td>\n",
              "      <td>결과적으로 블록체인 기반의 투표 시스템은 공정하고 신뢰할 수 있는 선거 환경을 조성...</td>\n",
              "      <td>각 투표는 변경 불가능한 기록으로 저장되어 조작의 가능성을 원천적으로 차단한다.</td>\n",
              "      <td>0</td>\n",
              "      <td>3</td>\n",
              "      <td>1</td>\n",
              "      <td>2</td>\n",
              "    </tr>\n",
              "    <tr>\n",
              "      <th>1</th>\n",
              "      <td>TRAIN_0001</td>\n",
              "      <td>줄거리 자동 생성의 인공지능 알고리즘은 대량의 텍스트 데이터를 분석하여 핵심 정보를...</td>\n",
              "      <td>결과적으로, 이러한 기술은 사용자에게 신속하고 효율적인 정보 전달을 가능하게 한다.</td>\n",
              "      <td>생성된 줄거리는 원본 텍스트의 의미를 유지하면서도 간결하게 요약된 형태로 제공된다.</td>\n",
              "      <td>이 알고리즘은 자연어 처리 기술을 활용하여 문맥을 이해하고, 주요 사건과 등장인물을...</td>\n",
              "      <td>0</td>\n",
              "      <td>3</td>\n",
              "      <td>2</td>\n",
              "      <td>1</td>\n",
              "    </tr>\n",
              "    <tr>\n",
              "      <th>2</th>\n",
              "      <td>TRAIN_0002</td>\n",
              "      <td>마지막으로, 키친타올을 보관할 때는 쉽게 접근할 수 있는 곳에 두어 낭비를 방지하는...</td>\n",
              "      <td>재사용 가능한 천이나 스펀지를 활용하면 키친타올의 필요성을 줄일 수 있다.</td>\n",
              "      <td>물기를 제거할 때는 가볍게 눌러주어 과도한 사용을 피할 수 있다.</td>\n",
              "      <td>키친타올을 절약하는 첫걸음은 필요한 양만큼만 사용하는 것이다.</td>\n",
              "      <td>3</td>\n",
              "      <td>2</td>\n",
              "      <td>1</td>\n",
              "      <td>0</td>\n",
              "    </tr>\n",
              "    <tr>\n",
              "      <th>3</th>\n",
              "      <td>TRAIN_0003</td>\n",
              "      <td>책의 페이지가 손상되지 않도록 수직으로 세워 두거나 평평하게 눕혀 보관하는 것이 좋다.</td>\n",
              "      <td>정기적으로 먼지를 털어내고, 곰팡이나 해충의 발생 여부를 점검하는 것이 중요하다.</td>\n",
              "      <td>종이책은 직사광선이 닿지 않는 서늘하고 건조한 장소에 보관해야 한다.</td>\n",
              "      <td>필요할 경우, 책을 보호하기 위해 커버를 씌우거나 전용 보관함에 넣는 방법도 고려할...</td>\n",
              "      <td>2</td>\n",
              "      <td>0</td>\n",
              "      <td>1</td>\n",
              "      <td>3</td>\n",
              "    </tr>\n",
              "    <tr>\n",
              "      <th>4</th>\n",
              "      <td>TRAIN_0004</td>\n",
              "      <td>인공지능 모델은 반복적인 실험을 통해 지속적으로 학습하며, 이를 통해 발견의 정확성...</td>\n",
              "      <td>인공지능은 대량의 데이터를 분석하여 숨겨진 패턴과 상관관계를 발견하는 데 강력한 도...</td>\n",
              "      <td>결국, 인공지능의 지원은 과학적 발견의 속도와 효율성을 혁신적으로 변화시킬 수 있는...</td>\n",
              "      <td>이러한 분석 결과는 연구자들에게 새로운 가설을 제시하고 실험 설계를 개선하는 데 기...</td>\n",
              "      <td>1</td>\n",
              "      <td>3</td>\n",
              "      <td>0</td>\n",
              "      <td>2</td>\n",
              "    </tr>\n",
              "  </tbody>\n",
              "</table>\n",
              "</div>\n",
              "    <div class=\"colab-df-buttons\">\n",
              "\n",
              "  <div class=\"colab-df-container\">\n",
              "    <button class=\"colab-df-convert\" onclick=\"convertToInteractive('df-09db4913-8b6c-4c8f-91b3-2f6304a82e21')\"\n",
              "            title=\"Convert this dataframe to an interactive table.\"\n",
              "            style=\"display:none;\">\n",
              "\n",
              "  <svg xmlns=\"http://www.w3.org/2000/svg\" height=\"24px\" viewBox=\"0 -960 960 960\">\n",
              "    <path d=\"M120-120v-720h720v720H120Zm60-500h600v-160H180v160Zm220 220h160v-160H400v160Zm0 220h160v-160H400v160ZM180-400h160v-160H180v160Zm440 0h160v-160H620v160ZM180-180h160v-160H180v160Zm440 0h160v-160H620v160Z\"/>\n",
              "  </svg>\n",
              "    </button>\n",
              "\n",
              "  <style>\n",
              "    .colab-df-container {\n",
              "      display:flex;\n",
              "      gap: 12px;\n",
              "    }\n",
              "\n",
              "    .colab-df-convert {\n",
              "      background-color: #E8F0FE;\n",
              "      border: none;\n",
              "      border-radius: 50%;\n",
              "      cursor: pointer;\n",
              "      display: none;\n",
              "      fill: #1967D2;\n",
              "      height: 32px;\n",
              "      padding: 0 0 0 0;\n",
              "      width: 32px;\n",
              "    }\n",
              "\n",
              "    .colab-df-convert:hover {\n",
              "      background-color: #E2EBFA;\n",
              "      box-shadow: 0px 1px 2px rgba(60, 64, 67, 0.3), 0px 1px 3px 1px rgba(60, 64, 67, 0.15);\n",
              "      fill: #174EA6;\n",
              "    }\n",
              "\n",
              "    .colab-df-buttons div {\n",
              "      margin-bottom: 4px;\n",
              "    }\n",
              "\n",
              "    [theme=dark] .colab-df-convert {\n",
              "      background-color: #3B4455;\n",
              "      fill: #D2E3FC;\n",
              "    }\n",
              "\n",
              "    [theme=dark] .colab-df-convert:hover {\n",
              "      background-color: #434B5C;\n",
              "      box-shadow: 0px 1px 3px 1px rgba(0, 0, 0, 0.15);\n",
              "      filter: drop-shadow(0px 1px 2px rgba(0, 0, 0, 0.3));\n",
              "      fill: #FFFFFF;\n",
              "    }\n",
              "  </style>\n",
              "\n",
              "    <script>\n",
              "      const buttonEl =\n",
              "        document.querySelector('#df-09db4913-8b6c-4c8f-91b3-2f6304a82e21 button.colab-df-convert');\n",
              "      buttonEl.style.display =\n",
              "        google.colab.kernel.accessAllowed ? 'block' : 'none';\n",
              "\n",
              "      async function convertToInteractive(key) {\n",
              "        const element = document.querySelector('#df-09db4913-8b6c-4c8f-91b3-2f6304a82e21');\n",
              "        const dataTable =\n",
              "          await google.colab.kernel.invokeFunction('convertToInteractive',\n",
              "                                                    [key], {});\n",
              "        if (!dataTable) return;\n",
              "\n",
              "        const docLinkHtml = 'Like what you see? Visit the ' +\n",
              "          '<a target=\"_blank\" href=https://colab.research.google.com/notebooks/data_table.ipynb>data table notebook</a>'\n",
              "          + ' to learn more about interactive tables.';\n",
              "        element.innerHTML = '';\n",
              "        dataTable['output_type'] = 'display_data';\n",
              "        await google.colab.output.renderOutput(dataTable, element);\n",
              "        const docLink = document.createElement('div');\n",
              "        docLink.innerHTML = docLinkHtml;\n",
              "        element.appendChild(docLink);\n",
              "      }\n",
              "    </script>\n",
              "  </div>\n",
              "\n",
              "\n",
              "<div id=\"df-f4165630-248c-4bbb-a373-83855cdfffa3\">\n",
              "  <button class=\"colab-df-quickchart\" onclick=\"quickchart('df-f4165630-248c-4bbb-a373-83855cdfffa3')\"\n",
              "            title=\"Suggest charts\"\n",
              "            style=\"display:none;\">\n",
              "\n",
              "<svg xmlns=\"http://www.w3.org/2000/svg\" height=\"24px\"viewBox=\"0 0 24 24\"\n",
              "     width=\"24px\">\n",
              "    <g>\n",
              "        <path d=\"M19 3H5c-1.1 0-2 .9-2 2v14c0 1.1.9 2 2 2h14c1.1 0 2-.9 2-2V5c0-1.1-.9-2-2-2zM9 17H7v-7h2v7zm4 0h-2V7h2v10zm4 0h-2v-4h2v4z\"/>\n",
              "    </g>\n",
              "</svg>\n",
              "  </button>\n",
              "\n",
              "<style>\n",
              "  .colab-df-quickchart {\n",
              "      --bg-color: #E8F0FE;\n",
              "      --fill-color: #1967D2;\n",
              "      --hover-bg-color: #E2EBFA;\n",
              "      --hover-fill-color: #174EA6;\n",
              "      --disabled-fill-color: #AAA;\n",
              "      --disabled-bg-color: #DDD;\n",
              "  }\n",
              "\n",
              "  [theme=dark] .colab-df-quickchart {\n",
              "      --bg-color: #3B4455;\n",
              "      --fill-color: #D2E3FC;\n",
              "      --hover-bg-color: #434B5C;\n",
              "      --hover-fill-color: #FFFFFF;\n",
              "      --disabled-bg-color: #3B4455;\n",
              "      --disabled-fill-color: #666;\n",
              "  }\n",
              "\n",
              "  .colab-df-quickchart {\n",
              "    background-color: var(--bg-color);\n",
              "    border: none;\n",
              "    border-radius: 50%;\n",
              "    cursor: pointer;\n",
              "    display: none;\n",
              "    fill: var(--fill-color);\n",
              "    height: 32px;\n",
              "    padding: 0;\n",
              "    width: 32px;\n",
              "  }\n",
              "\n",
              "  .colab-df-quickchart:hover {\n",
              "    background-color: var(--hover-bg-color);\n",
              "    box-shadow: 0 1px 2px rgba(60, 64, 67, 0.3), 0 1px 3px 1px rgba(60, 64, 67, 0.15);\n",
              "    fill: var(--button-hover-fill-color);\n",
              "  }\n",
              "\n",
              "  .colab-df-quickchart-complete:disabled,\n",
              "  .colab-df-quickchart-complete:disabled:hover {\n",
              "    background-color: var(--disabled-bg-color);\n",
              "    fill: var(--disabled-fill-color);\n",
              "    box-shadow: none;\n",
              "  }\n",
              "\n",
              "  .colab-df-spinner {\n",
              "    border: 2px solid var(--fill-color);\n",
              "    border-color: transparent;\n",
              "    border-bottom-color: var(--fill-color);\n",
              "    animation:\n",
              "      spin 1s steps(1) infinite;\n",
              "  }\n",
              "\n",
              "  @keyframes spin {\n",
              "    0% {\n",
              "      border-color: transparent;\n",
              "      border-bottom-color: var(--fill-color);\n",
              "      border-left-color: var(--fill-color);\n",
              "    }\n",
              "    20% {\n",
              "      border-color: transparent;\n",
              "      border-left-color: var(--fill-color);\n",
              "      border-top-color: var(--fill-color);\n",
              "    }\n",
              "    30% {\n",
              "      border-color: transparent;\n",
              "      border-left-color: var(--fill-color);\n",
              "      border-top-color: var(--fill-color);\n",
              "      border-right-color: var(--fill-color);\n",
              "    }\n",
              "    40% {\n",
              "      border-color: transparent;\n",
              "      border-right-color: var(--fill-color);\n",
              "      border-top-color: var(--fill-color);\n",
              "    }\n",
              "    60% {\n",
              "      border-color: transparent;\n",
              "      border-right-color: var(--fill-color);\n",
              "    }\n",
              "    80% {\n",
              "      border-color: transparent;\n",
              "      border-right-color: var(--fill-color);\n",
              "      border-bottom-color: var(--fill-color);\n",
              "    }\n",
              "    90% {\n",
              "      border-color: transparent;\n",
              "      border-bottom-color: var(--fill-color);\n",
              "    }\n",
              "  }\n",
              "</style>\n",
              "\n",
              "  <script>\n",
              "    async function quickchart(key) {\n",
              "      const quickchartButtonEl =\n",
              "        document.querySelector('#' + key + ' button');\n",
              "      quickchartButtonEl.disabled = true;  // To prevent multiple clicks.\n",
              "      quickchartButtonEl.classList.add('colab-df-spinner');\n",
              "      try {\n",
              "        const charts = await google.colab.kernel.invokeFunction(\n",
              "            'suggestCharts', [key], {});\n",
              "      } catch (error) {\n",
              "        console.error('Error during call to suggestCharts:', error);\n",
              "      }\n",
              "      quickchartButtonEl.classList.remove('colab-df-spinner');\n",
              "      quickchartButtonEl.classList.add('colab-df-quickchart-complete');\n",
              "    }\n",
              "    (() => {\n",
              "      let quickchartButtonEl =\n",
              "        document.querySelector('#df-f4165630-248c-4bbb-a373-83855cdfffa3 button');\n",
              "      quickchartButtonEl.style.display =\n",
              "        google.colab.kernel.accessAllowed ? 'block' : 'none';\n",
              "    })();\n",
              "  </script>\n",
              "</div>\n",
              "\n",
              "    </div>\n",
              "  </div>\n"
            ],
            "text/plain": [
              "           ID                                         sentence_0  \\\n",
              "0  TRAIN_0000                 블록체인 기술은 투표 과정의 투명성을 크게 향상시킬 수 있다.   \n",
              "1  TRAIN_0001  줄거리 자동 생성의 인공지능 알고리즘은 대량의 텍스트 데이터를 분석하여 핵심 정보를...   \n",
              "2  TRAIN_0002  마지막으로, 키친타올을 보관할 때는 쉽게 접근할 수 있는 곳에 두어 낭비를 방지하는...   \n",
              "3  TRAIN_0003   책의 페이지가 손상되지 않도록 수직으로 세워 두거나 평평하게 눕혀 보관하는 것이 좋다.   \n",
              "4  TRAIN_0004  인공지능 모델은 반복적인 실험을 통해 지속적으로 학습하며, 이를 통해 발견의 정확성...   \n",
              "\n",
              "                                          sentence_1  \\\n",
              "0  이러한 특성은 유권자들에게 신뢰를 제공하며, 민주적 참여를 촉진하는 데 기여할 수 있다.   \n",
              "1     결과적으로, 이러한 기술은 사용자에게 신속하고 효율적인 정보 전달을 가능하게 한다.   \n",
              "2          재사용 가능한 천이나 스펀지를 활용하면 키친타올의 필요성을 줄일 수 있다.   \n",
              "3      정기적으로 먼지를 털어내고, 곰팡이나 해충의 발생 여부를 점검하는 것이 중요하다.   \n",
              "4  인공지능은 대량의 데이터를 분석하여 숨겨진 패턴과 상관관계를 발견하는 데 강력한 도...   \n",
              "\n",
              "                                          sentence_2  \\\n",
              "0  결과적으로 블록체인 기반의 투표 시스템은 공정하고 신뢰할 수 있는 선거 환경을 조성...   \n",
              "1     생성된 줄거리는 원본 텍스트의 의미를 유지하면서도 간결하게 요약된 형태로 제공된다.   \n",
              "2               물기를 제거할 때는 가볍게 눌러주어 과도한 사용을 피할 수 있다.   \n",
              "3             종이책은 직사광선이 닿지 않는 서늘하고 건조한 장소에 보관해야 한다.   \n",
              "4  결국, 인공지능의 지원은 과학적 발견의 속도와 효율성을 혁신적으로 변화시킬 수 있는...   \n",
              "\n",
              "                                          sentence_3  answer_0  answer_1  \\\n",
              "0       각 투표는 변경 불가능한 기록으로 저장되어 조작의 가능성을 원천적으로 차단한다.         0         3   \n",
              "1  이 알고리즘은 자연어 처리 기술을 활용하여 문맥을 이해하고, 주요 사건과 등장인물을...         0         3   \n",
              "2                 키친타올을 절약하는 첫걸음은 필요한 양만큼만 사용하는 것이다.         3         2   \n",
              "3  필요할 경우, 책을 보호하기 위해 커버를 씌우거나 전용 보관함에 넣는 방법도 고려할...         2         0   \n",
              "4  이러한 분석 결과는 연구자들에게 새로운 가설을 제시하고 실험 설계를 개선하는 데 기...         1         3   \n",
              "\n",
              "   answer_2  answer_3  \n",
              "0         1         2  \n",
              "1         2         1  \n",
              "2         1         0  \n",
              "3         1         3  \n",
              "4         0         2  "
            ]
          },
          "execution_count": 8,
          "metadata": {},
          "output_type": "execute_result"
        }
      ],
      "source": [
        "train.head()"
      ]
    },
    {
      "cell_type": "markdown",
      "metadata": {
        "id": "Js--0sGhygEU"
      },
      "source": [
        "## Pairwise 쌍 만들기"
      ]
    },
    {
      "cell_type": "code",
      "execution_count": null,
      "metadata": {
        "id": "V8D-irPTyfnW"
      },
      "outputs": [],
      "source": [
        "def create_pairwise_data(df):\n",
        "    pairs, labels = [], []\n",
        "    for _, row in df.iterrows():\n",
        "        sentences = [row[f'sentence_{i}'] for i in range(4)]\n",
        "        answers = [row[f'answer_{i}'] for i in range(4)]\n",
        "        for i, j in combinations(range(4), 2):\n",
        "            pairs.append((sentences[i], sentences[j]))\n",
        "            labels.append(1 if answers[i] < answers[j] else 0)\n",
        "    return pairs, labels\n"
      ]
    },
    {
      "cell_type": "markdown",
      "metadata": {
        "id": "_r49jZWmykct"
      },
      "source": [
        "## Dataset 클래스 정의"
      ]
    },
    {
      "cell_type": "code",
      "execution_count": null,
      "metadata": {
        "id": "JJ1OjmCGyJO2"
      },
      "outputs": [],
      "source": [
        "class SentencePairDataset(Dataset):\n",
        "    def __init__(self, pairs, labels, tokenizer, max_length=128):\n",
        "        self.encodings = tokenizer(\n",
        "            [p[0] for p in pairs], [p[1] for p in pairs],\n",
        "            truncation=True, padding='max_length', max_length=max_length,\n",
        "            return_tensors='pt'\n",
        "        )\n",
        "        self.labels = torch.tensor(labels, dtype=torch.long)\n",
        "\n",
        "    def __getitem__(self, idx):\n",
        "        return {\n",
        "            'input_ids': self.encodings['input_ids'][idx],\n",
        "            'attention_mask': self.encodings['attention_mask'][idx],\n",
        "            'token_type_ids': self.encodings.get('token_type_ids', torch.zeros_like(self.encodings['input_ids']))[idx],\n",
        "            'labels': self.labels[idx]\n",
        "        }\n",
        "\n",
        "    def __len__(self):\n",
        "        return len(self.labels)"
      ]
    },
    {
      "cell_type": "markdown",
      "metadata": {
        "id": "d_Jz-yXNypQL"
      },
      "source": [
        "## 문장 순서 예측 함수 (pairwise 결과 기반 순서 재구성)"
      ]
    },
    {
      "cell_type": "code",
      "execution_count": null,
      "metadata": {
        "id": "r8TG11rjyosC"
      },
      "outputs": [],
      "source": [
        "def predict_sentence_order(model, tokenizer, sentences):\n",
        "    \"\"\"\n",
        "    4개의 문장이 주어졌을 때, 가능한 문장쌍 (i, j)에 대해 모델이 i가 j보다 앞선다고 예측한 비율을 바탕으로 전체 순서를 추론합니다.\n",
        "    \"\"\"\n",
        "    model.eval()\n",
        "    device = next(model.parameters()).device\n",
        "    scores = np.zeros((4, 4))\n",
        "\n",
        "    for i, j in permutations(range(4), 2):\n",
        "        inputs = tokenizer(\n",
        "            sentences[i], sentences[j],\n",
        "            truncation=True, padding='max_length', max_length=128,\n",
        "            return_tensors='pt'\n",
        "        )\n",
        "        inputs = {k: v.to(device) for k, v in inputs.items()}\n",
        "        with torch.no_grad():\n",
        "            logits = model(**inputs).logits\n",
        "            pred = torch.argmax(logits, dim=1).item()\n",
        "            if pred == 1:\n",
        "                scores[i][j] += 1\n",
        "\n",
        "    order = sorted(range(4), key=lambda x: -sum(scores[x]))\n",
        "    return order"
      ]
    },
    {
      "cell_type": "markdown",
      "metadata": {
        "id": "t2U05OFvywuw"
      },
      "source": [
        "## 평가 메트릭 함수 정의"
      ]
    },
    {
      "cell_type": "code",
      "execution_count": null,
      "metadata": {
        "id": "FitSd9SPyuEv"
      },
      "outputs": [],
      "source": [
        "def compute_metrics(pred):\n",
        "    logits, labels = pred\n",
        "    preds = np.argmax(logits, axis=1)\n",
        "    return {\n",
        "        \"accuracy\": accuracy_score(labels, preds),\n",
        "        \"f1\": f1_score(labels, preds),\n",
        "        \"precision\": precision_score(labels, preds),\n",
        "        \"recall\": recall_score(labels, preds)\n",
        "    }"
      ]
    },
    {
      "cell_type": "markdown",
      "metadata": {
        "id": "6upcXBwdy7C3"
      },
      "source": [
        "## 학습 및 평가 실행"
      ]
    },
    {
      "cell_type": "code",
      "execution_count": null,
      "metadata": {
        "colab": {
          "base_uri": "https://localhost:8080/",
          "height": 281,
          "referenced_widgets": [
            "56cd1f4079ed46faa75df7fff04a35c5",
            "0ca1d0035b1749b3a277ff97c379cfb2",
            "2cf12e78e8d54b749f56f631302a4a62",
            "7464c05d953544c4b6450c9d55215927",
            "ad167acf36e9456c8871a0503a2bbdb6",
            "bd51a5385e344f1e88199aed686c198a",
            "78b8541ca81e455b98719224ba103018",
            "2bdb47e41db84acaae2150691360707e",
            "47708a29c64c4efc8f280ab9a6fd42c6",
            "a0b3d11f74654248a59c0c5dbc258054",
            "207eecd24bc641ecb01155ff67c4c9d9",
            "c99595eb68b148f9b876ac8a688e92d4",
            "a694dc84d49345e6b7ad63df2084e66e",
            "e3da5a6b424346f9860459193642327b",
            "a80a360cbbc543c0a6e86f180760a517",
            "4f4ef44672064f81811dff8915de25b5",
            "fa41e05300044b1ba42acf7ba76e50e2",
            "89ed4e42c41540b0b7d6a7ddb47e7fa2",
            "ec59740ab9344d8687cf3e9dca2fe445",
            "b2ddaed52aa24302a649b7692ae805eb",
            "4bfe4631ce41454ba3e01ae767734c2b",
            "ea3fad7c801d424890310cddefd6779c",
            "d87aa91f279440e78f95bd19b0bb7c73",
            "6836637ea656485e8b171fcfcd0c7eea",
            "f168bfdd31bd45649171ee3c7a2bb7ce",
            "53fda7c754814dc7ad87a04daff4f598",
            "bca8075da89e4b3b8a8b9abd9728a1f7",
            "56cd9050b76940dda4817bf4acf61e6e",
            "feb32c143ef8401c871fa8a937ee70cf",
            "d3b739b68a05483bac309c12f3e3c180",
            "97b962f2712f4b6abd9805a4a12dacd3",
            "161f020dfaa64befaad53a4809314788",
            "66cd7c45ab7941ceac7e5c0f3f3cc46f",
            "18d24d342b934f138dd75d8a214235eb",
            "f21505399ca84ec495513cdb69792592",
            "bf68dec8fc0a437a8939aa0fc15d9381",
            "92716178b88e4f849808cd8365f591ab",
            "3cdd9ae283fb4f55ba82c3f9b34f2547",
            "17d6160be02947d8b4f44e0b795515ea",
            "e99687782aed4d2da0b6dc24085767dc",
            "e70e0fbbf1c14d049b68602196b93af0",
            "8c5dc95e9cab4cf89ac9ad42dec7705a",
            "be36e7283bcd43bc88aee6aaa6421bdc",
            "9cbc70f6ee304344bdd4bc40ae45e8d9",
            "3d3bb35fd2e0499391638d13c3d86243",
            "b149c76e6f4745059bd1250449495eb1",
            "a20305c19a764ffda9687b29fff517b8",
            "fd82bc2ae887496e8c0588fd5ace85bd",
            "d0557905b51d409da88cfaed1cd93061",
            "d3b7906d90c54b0e96a0f24e5d5fb97d",
            "997399013dde485ca1246a3121fb509c",
            "1f2a09e32a114b3fb2c9d79bf1118347",
            "a17b8eb3f7bb410289063a508ddf4674",
            "6a7eafecbddb4a05ac292a9749692c21",
            "eaf206d168b44987ada40e7d799c9346"
          ]
        },
        "id": "tWmHC5VWy2NA",
        "outputId": "7bdc5828-ec95-45ec-c01a-8d736086e6d9"
      },
      "outputs": [
        {
          "name": "stderr",
          "output_type": "stream",
          "text": [
            "/usr/local/lib/python3.11/dist-packages/huggingface_hub/utils/_auth.py:94: UserWarning: \n",
            "The secret `HF_TOKEN` does not exist in your Colab secrets.\n",
            "To authenticate with the Hugging Face Hub, create a token in your settings tab (https://huggingface.co/settings/tokens), set it as secret in your Google Colab and restart your session.\n",
            "You will be able to reuse this secret in all of your notebooks.\n",
            "Please note that authentication is recommended but still optional to access public models or datasets.\n",
            "  warnings.warn(\n"
          ]
        },
        {
          "data": {
            "application/vnd.jupyter.widget-view+json": {
              "model_id": "56cd1f4079ed46faa75df7fff04a35c5",
              "version_major": 2,
              "version_minor": 0
            },
            "text/plain": [
              "tokenizer_config.json:   0%|          | 0.00/289 [00:00<?, ?B/s]"
            ]
          },
          "metadata": {},
          "output_type": "display_data"
        },
        {
          "data": {
            "application/vnd.jupyter.widget-view+json": {
              "model_id": "c99595eb68b148f9b876ac8a688e92d4",
              "version_major": 2,
              "version_minor": 0
            },
            "text/plain": [
              "config.json:   0%|          | 0.00/425 [00:00<?, ?B/s]"
            ]
          },
          "metadata": {},
          "output_type": "display_data"
        },
        {
          "data": {
            "application/vnd.jupyter.widget-view+json": {
              "model_id": "d87aa91f279440e78f95bd19b0bb7c73",
              "version_major": 2,
              "version_minor": 0
            },
            "text/plain": [
              "vocab.txt:   0%|          | 0.00/248k [00:00<?, ?B/s]"
            ]
          },
          "metadata": {},
          "output_type": "display_data"
        },
        {
          "data": {
            "application/vnd.jupyter.widget-view+json": {
              "model_id": "18d24d342b934f138dd75d8a214235eb",
              "version_major": 2,
              "version_minor": 0
            },
            "text/plain": [
              "tokenizer.json:   0%|          | 0.00/495k [00:00<?, ?B/s]"
            ]
          },
          "metadata": {},
          "output_type": "display_data"
        },
        {
          "data": {
            "application/vnd.jupyter.widget-view+json": {
              "model_id": "3d3bb35fd2e0499391638d13c3d86243",
              "version_major": 2,
              "version_minor": 0
            },
            "text/plain": [
              "special_tokens_map.json:   0%|          | 0.00/125 [00:00<?, ?B/s]"
            ]
          },
          "metadata": {},
          "output_type": "display_data"
        }
      ],
      "source": [
        "model_name = 'klue/bert-base'  # 또는 'klue/bert-base'\n",
        "tokenizer = AutoTokenizer.from_pretrained(model_name)"
      ]
    },
    {
      "cell_type": "markdown",
      "metadata": {
        "id": "gAWvlVBGzBSP"
      },
      "source": [
        "## 데이터 로드 및 전처리"
      ]
    },
    {
      "cell_type": "code",
      "execution_count": null,
      "metadata": {
        "id": "GR1pJlzezBHR"
      },
      "outputs": [],
      "source": [
        "train_df, val_df = train_test_split(train, test_size=0.2, random_state=42)\n",
        "\n",
        "train_pairs, train_labels = create_pairwise_data(train_df)\n",
        "val_pairs, val_labels = create_pairwise_data(val_df)\n",
        "\n",
        "train_dataset = SentencePairDataset(train_pairs, train_labels, tokenizer)\n",
        "val_dataset = SentencePairDataset(val_pairs, val_labels, tokenizer)"
      ]
    },
    {
      "cell_type": "code",
      "execution_count": null,
      "metadata": {
        "colab": {
          "base_uri": "https://localhost:8080/",
          "height": 136,
          "referenced_widgets": [
            "1f8bf51fe1394d7fad25431bbd331b6c",
            "7d3f52e920014191b387c8095f114a41",
            "a1bcddd45718493483fb6e60a773859b",
            "3f3fa0c7d845419eaaf62da2cea56a04",
            "701164bf577a4ba38f2955e13aa904a4",
            "0bcf11b07a524b5398ef4ae1fbcdbf92",
            "619f4ebbd28d4855916ea837138d02b0",
            "13f9c4f3acba4b7bbcc960a7ace108b9",
            "1c19c021764441bdbe85ad477b85c447",
            "9d26a9182a7c46cf9a6a95ba068b7c7e",
            "970e7fd5745c4465be34c10546404eb2"
          ]
        },
        "id": "TKUf_Tmby8Mz",
        "outputId": "c3981006-df67-45cf-9490-18dab2bd531f"
      },
      "outputs": [
        {
          "data": {
            "application/vnd.jupyter.widget-view+json": {
              "model_id": "1f8bf51fe1394d7fad25431bbd331b6c",
              "version_major": 2,
              "version_minor": 0
            },
            "text/plain": [
              "model.safetensors:   0%|          | 0.00/445M [00:00<?, ?B/s]"
            ]
          },
          "metadata": {},
          "output_type": "display_data"
        },
        {
          "name": "stderr",
          "output_type": "stream",
          "text": [
            "Some weights of BertForSequenceClassification were not initialized from the model checkpoint at klue/bert-base and are newly initialized: ['classifier.bias', 'classifier.weight']\n",
            "You should probably TRAIN this model on a down-stream task to be able to use it for predictions and inference.\n",
            "/usr/local/lib/python3.11/dist-packages/transformers/training_args.py:1575: FutureWarning: `evaluation_strategy` is deprecated and will be removed in version 4.46 of 🤗 Transformers. Use `eval_strategy` instead\n",
            "  warnings.warn(\n",
            "Using the `WANDB_DISABLED` environment variable is deprecated and will be removed in v5. Use the --report_to flag to control the integrations used for logging result (for instance --report_to none).\n"
          ]
        }
      ],
      "source": [
        "# 모델 및 학습 설정\n",
        "model = AutoModelForSequenceClassification.from_pretrained(model_name, num_labels=2)\n",
        "training_args = TrainingArguments(\n",
        "    output_dir='./results',\n",
        "    num_train_epochs=5,                     # 최대 에폭 수\n",
        "    per_device_train_batch_size=16,\n",
        "    per_device_eval_batch_size=16,\n",
        "    eval_strategy=\"epoch\",           # 에폭마다 평가\n",
        "    save_strategy=\"epoch\",                 # 에폭마다 저장\n",
        "    load_best_model_at_end=True,           # 가장 좋은 모델 복원\n",
        "    metric_for_best_model=\"eval_f1\",       # F1 기준\n",
        "    greater_is_better=True,\n",
        "    save_total_limit=1,                    # 디스크 공간 아끼기\n",
        "    learning_rate=2e-5,                    # 학습률 줄임 (기존 5e-5 → 2e-5)\n",
        "    weight_decay=0.01,                     # 정규화로 과적합 방지\n",
        "    logging_dir='./logs',                  # 로그 저장 폴더\n",
        "    logging_steps=100,                     # 몇 step마다 로깅할지\n",
        ")\n",
        "\n",
        "trainer = Trainer(\n",
        "    model=model,\n",
        "    args=training_args,\n",
        "    train_dataset=train_dataset,\n",
        "    eval_dataset=val_dataset,\n",
        "    tokenizer=tokenizer,\n",
        "    compute_metrics=compute_metrics,        # 정확도, f1 등 평가 함수\n",
        "    callbacks=[EarlyStoppingCallback(early_stopping_patience=1)]  # Early stopping\n",
        ")"
      ]
    },
    {
      "cell_type": "markdown",
      "metadata": {
        "id": "Yruk6jrM-3Wn"
      },
      "source": [
        "## 학습 및 평가"
      ]
    },
    {
      "cell_type": "code",
      "execution_count": null,
      "metadata": {
        "colab": {
          "base_uri": "https://localhost:8080/",
          "height": 438
        },
        "id": "uchIlHen8O1G",
        "outputId": "3c7f5b2f-1519-464d-caad-161b50f93cfa"
      },
      "outputs": [
        {
          "data": {
            "text/html": [
              "\n",
              "    <div>\n",
              "      \n",
              "      <progress value='1276' max='6615' style='width:300px; height:20px; vertical-align: middle;'></progress>\n",
              "      [1276/6615 12:38 < 53:00, 1.68 it/s, Epoch 0.58/3]\n",
              "    </div>\n",
              "    <table border=\"1\" class=\"dataframe\">\n",
              "  <thead>\n",
              " <tr style=\"text-align: left;\">\n",
              "      <th>Epoch</th>\n",
              "      <th>Training Loss</th>\n",
              "      <th>Validation Loss</th>\n",
              "    </tr>\n",
              "  </thead>\n",
              "  <tbody>\n",
              "  </tbody>\n",
              "</table><p>"
            ],
            "text/plain": [
              "<IPython.core.display.HTML object>"
            ]
          },
          "metadata": {},
          "output_type": "display_data"
        },
        {
          "data": {
            "text/html": [
              "\n",
              "    <div>\n",
              "      \n",
              "      <progress value='6615' max='6615' style='width:300px; height:20px; vertical-align: middle;'></progress>\n",
              "      [6615/6615 1:09:13, Epoch 3/3]\n",
              "    </div>\n",
              "    <table border=\"1\" class=\"dataframe\">\n",
              "  <thead>\n",
              " <tr style=\"text-align: left;\">\n",
              "      <th>Epoch</th>\n",
              "      <th>Training Loss</th>\n",
              "      <th>Validation Loss</th>\n",
              "      <th>Accuracy</th>\n",
              "      <th>F1</th>\n",
              "      <th>Precision</th>\n",
              "      <th>Recall</th>\n",
              "    </tr>\n",
              "  </thead>\n",
              "  <tbody>\n",
              "    <tr>\n",
              "      <td>1</td>\n",
              "      <td>0.642200</td>\n",
              "      <td>0.636921</td>\n",
              "      <td>0.645253</td>\n",
              "      <td>0.589700</td>\n",
              "      <td>0.710227</td>\n",
              "      <td>0.504145</td>\n",
              "    </tr>\n",
              "    <tr>\n",
              "      <td>2</td>\n",
              "      <td>0.579900</td>\n",
              "      <td>0.647973</td>\n",
              "      <td>0.658056</td>\n",
              "      <td>0.638129</td>\n",
              "      <td>0.686355</td>\n",
              "      <td>0.596236</td>\n",
              "    </tr>\n",
              "    <tr>\n",
              "      <td>3</td>\n",
              "      <td>0.475900</td>\n",
              "      <td>0.750168</td>\n",
              "      <td>0.636868</td>\n",
              "      <td>0.633672</td>\n",
              "      <td>0.646757</td>\n",
              "      <td>0.621107</td>\n",
              "    </tr>\n",
              "  </tbody>\n",
              "</table><p>"
            ],
            "text/plain": [
              "<IPython.core.display.HTML object>"
            ]
          },
          "metadata": {},
          "output_type": "display_data"
        },
        {
          "data": {
            "text/html": [
              "\n",
              "    <div>\n",
              "      \n",
              "      <progress value='552' max='552' style='width:300px; height:20px; vertical-align: middle;'></progress>\n",
              "      [552/552 01:06]\n",
              "    </div>\n",
              "    "
            ],
            "text/plain": [
              "<IPython.core.display.HTML object>"
            ]
          },
          "metadata": {},
          "output_type": "display_data"
        },
        {
          "name": "stdout",
          "output_type": "stream",
          "text": [
            "\n",
            "[Validation Metrics]\n",
            "eval_loss: 0.6369\n",
            "eval_accuracy: 0.6453\n",
            "eval_f1: 0.5897\n",
            "eval_precision: 0.7102\n",
            "eval_recall: 0.5041\n",
            "eval_runtime: 66.5604\n",
            "eval_samples_per_second: 132.6010\n",
            "eval_steps_per_second: 8.2930\n",
            "epoch: 3.0000\n"
          ]
        }
      ],
      "source": [
        "train_result = trainer.train()\n",
        "eval_result = trainer.evaluate()\n",
        "print(\"\\n[Validation Metrics]\")\n",
        "for k, v in eval_result.items():\n",
        "    print(f\"{k}: {v:.4f}\" if isinstance(v, float) else f\"{k}: {v}\")\n"
      ]
    },
    {
      "cell_type": "markdown",
      "metadata": {
        "id": "vGvQoVi-_hmF"
      },
      "source": [
        "## 시각화: 로그 히스토리 기반 loss 시각화"
      ]
    },
    {
      "cell_type": "code",
      "execution_count": null,
      "metadata": {
        "colab": {
          "base_uri": "https://localhost:8080/",
          "height": 507
        },
        "id": "RASNFqr0_fCx",
        "outputId": "e7fcf485-6086-4066-83a0-57238f6d08a0"
      },
      "outputs": [
        {
          "data": {
            "image/png": "[encoded data removed]",
            "text/plain": [
              "<Figure size 800x500 with 1 Axes>"
            ]
          },
          "metadata": {},
          "output_type": "display_data"
        }
      ],
      "source": [
        "train_log = trainer.state.log_history\n",
        "train_losses = [x['loss'] for x in train_log if 'loss' in x]\n",
        "eval_losses = [x['eval_loss'] for x in train_log if 'eval_loss' in x]\n",
        "\n",
        "plt.figure(figsize=(8, 5))\n",
        "plt.plot(train_losses, label='Train Loss')\n",
        "plt.plot(eval_losses, label='Validation Loss')\n",
        "plt.xlabel('Epoch')\n",
        "plt.ylabel('Loss')\n",
        "plt.title('Training vs Validation Loss')\n",
        "plt.legend()\n",
        "plt.grid(True)\n",
        "plt.tight_layout()\n",
        "plt.show()"
      ]
    },
    {
      "cell_type": "code",
      "execution_count": null,
      "metadata": {
        "colab": {
          "base_uri": "https://localhost:8080/"
        },
        "id": "S0DLR0Oy-2_a",
        "outputId": "802596a8-8c64-49e6-8725-bf8102b623a4"
      },
      "outputs": [
        {
          "name": "stdout",
          "output_type": "stream",
          "text": [
            "예측된 순서: [0, 1, 2, 3]\n"
          ]
        }
      ],
      "source": [
        "# 예측 예시\n",
        "example = [\n",
        "    \"문장 A입니다.\",\n",
        "    \"문장 B입니다.\",\n",
        "    \"문장 C입니다.\",\n",
        "    \"문장 D입니다.\"\n",
        "]\n",
        "predicted_order = predict_sentence_order(model, tokenizer, example)\n",
        "print(\"예측된 순서:\", predicted_order)\n"
      ]
    },
    {
      "cell_type": "code",
      "execution_count": null,
      "metadata": {
        "colab": {
          "base_uri": "https://localhost:8080/",
          "height": 210
        },
        "id": "BxKTQVmbi3cm",
        "outputId": "bb9a132c-13a6-4615-f37d-f5c3e0cd7ef5"
      },
      "outputs": [
        {
          "ename": "FileNotFoundError",
          "evalue": "[Errno 2] No such file or directory: 'path/to/original_notebook.ipynb'",
          "output_type": "error",
          "traceback": [
            "\u001b[0;31m---------------------------------------------------------------------------\u001b[0m",
            "\u001b[0;31mFileNotFoundError\u001b[0m                         Traceback (most recent call last)",
            "\u001b[0;32m<ipython-input-1-90f569c7436c>\u001b[0m in \u001b[0;36m<cell line: 0>\u001b[0;34m()\u001b[0m\n\u001b[1;32m      6\u001b[0m \u001b[0;34m\u001b[0m\u001b[0m\n\u001b[1;32m      7\u001b[0m \u001b[0;31m# 노트북 로드\u001b[0m\u001b[0;34m\u001b[0m\u001b[0;34m\u001b[0m\u001b[0m\n\u001b[0;32m----> 8\u001b[0;31m \u001b[0;32mwith\u001b[0m \u001b[0mopen\u001b[0m\u001b[0;34m(\u001b[0m\u001b[0minput_path\u001b[0m\u001b[0;34m,\u001b[0m \u001b[0;34m'r'\u001b[0m\u001b[0;34m,\u001b[0m \u001b[0mencoding\u001b[0m\u001b[0;34m=\u001b[0m\u001b[0;34m'utf-8'\u001b[0m\u001b[0;34m)\u001b[0m \u001b[0;32mas\u001b[0m \u001b[0mf\u001b[0m\u001b[0;34m:\u001b[0m\u001b[0;34m\u001b[0m\u001b[0;34m\u001b[0m\u001b[0m\n\u001b[0m\u001b[1;32m      9\u001b[0m     \u001b[0mnb\u001b[0m \u001b[0;34m=\u001b[0m \u001b[0mnbformat\u001b[0m\u001b[0;34m.\u001b[0m\u001b[0mread\u001b[0m\u001b[0;34m(\u001b[0m\u001b[0mf\u001b[0m\u001b[0;34m,\u001b[0m \u001b[0mas_version\u001b[0m\u001b[0;34m=\u001b[0m\u001b[0;36m4\u001b[0m\u001b[0;34m)\u001b[0m\u001b[0;34m\u001b[0m\u001b[0;34m\u001b[0m\u001b[0m\n\u001b[1;32m     10\u001b[0m \u001b[0;34m\u001b[0m\u001b[0m\n",
            "\u001b[0;31mFileNotFoundError\u001b[0m: [Errno 2] No such file or directory: 'path/to/original_notebook.ipynb'"
          ]
        }
      ],
      "source": [
        "import nbformat\n",
        "\n",
        "# 경로 설정\n",
        "input_path = 'path/to/original_notebook.ipynb'\n",
        "output_path = 'path/to/cleaned_notebook.ipynb'\n",
        "\n",
        "# 노트북 로드\n",
        "with open(input_path, 'r', encoding='utf-8') as f:\n",
        "    nb = nbformat.read(f, as_version=4)\n",
        "\n",
        "# 모든 셀에서 widgets 메타데이터 제거\n",
        "for cell in nb.cells:\n",
        "    if 'metadata' in cell and 'widgets' in cell['metadata']:\n",
        "        del cell['metadata']['widgets']\n",
        "\n",
        "# 전체 노트북 메타데이터에서 widgets 제거\n",
        "if 'widgets' in nb['metadata']:\n",
        "    del nb['metadata']['widgets']\n",
        "\n",
        "# 저장\n",
        "with open(output_path, 'w', encoding='utf-8') as f:\n",
        "    nbformat.write(nb, f)\n"
      ]
    }
  ],
  "metadata": {
    "accelerator": "GPU",
    "colab": {
      "gpuType": "T4",
      "provenance": [],
      "authorship_tag": "ABX9TyOQOfw7I7hiFd/Ear629vwp",
      "include_colab_link": true
    },
    "kernelspec": {
      "display_name": "Python 3",
      "name": "python3"
    },
    "language_info": {
      "name": "python"
    }
  },
  "nbformat": 4,
  "nbformat_minor": 0
}
